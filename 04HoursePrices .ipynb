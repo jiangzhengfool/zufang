{
 "cells": [
  {
   "cell_type": "markdown",
   "metadata": {
    "id": "7CF07215549B40428C1502369822CF62",
    "jupyter": {},
    "mdEditEnable": false,
    "slideshow": {
     "slide_type": "slide"
    },
    "tags": []
   },
   "source": [
    "# 数据导入与预处理"
   ]
  },
  {
   "cell_type": "markdown",
   "metadata": {
    "id": "73DAF943C0744AE790D58BA2E9B601D0",
    "jupyter": {},
    "mdEditEnable": false,
    "slideshow": {
     "slide_type": "slide"
    },
    "tags": []
   },
   "source": [
    "## 模块导入"
   ]
  },
  {
   "cell_type": "code",
   "execution_count": 1,
   "metadata": {
    "cell_type": "code",
    "id": "1F1C49CB0AF64F9C9818F92AAA8E9A17",
    "jupyter": {},
    "scrolled": false,
    "slideshow": {
     "slide_type": "slide"
    },
    "tags": []
   },
   "outputs": [],
   "source": [
    "import numpy as np\n",
    "import pandas as pd\n",
    "%matplotlib inline\n",
    "import matplotlib.pyplot as plt\n",
    "import seaborn as sns\n",
    "import warnings\n",
    "from scipy import stats\n",
    "from scipy.stats import norm, skew\n",
    "from scipy.special import boxcox1p\n",
    "\n",
    "from sklearn.preprocessing import LabelEncoder\n",
    "from sklearn.linear_model import ElasticNet, Lasso, BayesianRidge, LassoLarsIC\n",
    "from sklearn.ensemble import RandomForestRegressor, GradientBoostingRegressor\n",
    "from sklearn.kernel_ridge import KernelRidge\n",
    "from sklearn.pipeline import make_pipeline\n",
    "from sklearn.preprocessing import RobustScaler\n",
    "from sklearn.base import BaseEstimator, TransformerMixin, RegressorMixin, clone\n",
    "from sklearn.model_selection import KFold, cross_val_score, train_test_split\n",
    "from sklearn.metrics import mean_squared_error\n",
    "import xgboost as xgb\n",
    "import lightgbm as lgb\n",
    "import gc\n",
    "gc.enable()\n",
    "import warnings\n",
    "warnings.filterwarnings(\"ignore\")\n",
    "\n",
    "pd.set_option('max_columns', None)\n",
    "pd.set_option('max_rows', None)\n",
    "pd.set_option('max_colwidth', 200)\n",
    "\n",
    "import matplotlib.pyplot as plt\n",
    "plt.rcParams['font.sans-serif']=['SimHei'] #用来正常显示中文标签\n",
    "plt.rcParams['axes.unicode_minus']=False #用来正常显示负号"
   ]
  },
  {
   "cell_type": "markdown",
   "metadata": {
    "id": "4053E2B83B4641BE89E6E1DB3CF2C952",
    "jupyter": {},
    "mdEditEnable": false,
    "slideshow": {
     "slide_type": "slide"
    },
    "tags": []
   },
   "source": [
    "## 数据导入"
   ]
  },
  {
   "cell_type": "code",
   "execution_count": 2,
   "metadata": {
    "id": "9FF0857E65A241259A9DBD7E3AFED260",
    "jupyter": {},
    "scrolled": false,
    "slideshow": {
     "slide_type": "slide"
    },
    "tags": []
   },
   "outputs": [],
   "source": [
    "train = pd.read_csv('train.csv').sample(frac=1)\n",
    "test = pd.read_csv('test.csv')"
   ]
  },
  {
   "cell_type": "code",
   "execution_count": 3,
   "metadata": {
    "id": "A410EC20566545AFBC55CA232DC897DA",
    "jupyter": {},
    "scrolled": false,
    "slideshow": {
     "slide_type": "slide"
    },
    "tags": []
   },
   "outputs": [],
   "source": [
    "# train.head(5)"
   ]
  },
  {
   "cell_type": "code",
   "execution_count": 4,
   "metadata": {
    "id": "266BDE1C8A4041B2835026DAF7BFF620",
    "jupyter": {},
    "scrolled": false,
    "slideshow": {
     "slide_type": "slide"
    },
    "tags": []
   },
   "outputs": [],
   "source": [
    "# test.head(5)"
   ]
  },
  {
   "cell_type": "markdown",
   "metadata": {
    "id": "FE75B2054E8A4C8492A65B8F75D76367",
    "jupyter": {},
    "mdEditEnable": false,
    "slideshow": {
     "slide_type": "slide"
    },
    "tags": []
   },
   "source": [
    "## Id特征处理"
   ]
  },
  {
   "cell_type": "code",
   "execution_count": 5,
   "metadata": {
    "id": "20B324B2DD5F4DEC836C09F5C422FACD",
    "jupyter": {},
    "scrolled": false,
    "slideshow": {
     "slide_type": "slide"
    },
    "tags": []
   },
   "outputs": [
    {
     "name": "stdout",
     "output_type": "stream",
     "text": [
      "(59288, 26)\n",
      "(14823, 25)\n"
     ]
    }
   ],
   "source": [
    "# 处理前数据形状\n",
    "print(train.shape)\n",
    "print(test.shape)"
   ]
  },
  {
   "cell_type": "code",
   "execution_count": 6,
   "metadata": {
    "id": "14BC30F7C63945188D72F9CA1C3DA1BC",
    "jupyter": {},
    "scrolled": false,
    "slideshow": {
     "slide_type": "slide"
    },
    "tags": []
   },
   "outputs": [],
   "source": [
    "train_Id = train['数据ID']\n",
    "test_Id = test['数据ID']\n",
    "train.drop('数据ID', axis=1, inplace=True)\n",
    "test.drop('数据ID', axis=1, inplace=True)"
   ]
  },
  {
   "cell_type": "code",
   "execution_count": 7,
   "metadata": {
    "id": "48F1D90DF39B498D9F18E9655524BD37",
    "jupyter": {},
    "scrolled": false,
    "slideshow": {
     "slide_type": "slide"
    },
    "tags": []
   },
   "outputs": [
    {
     "name": "stdout",
     "output_type": "stream",
     "text": [
      "(59288, 25)\n",
      "(14823, 24)\n"
     ]
    }
   ],
   "source": [
    "# 处理后数据形状\n",
    "print(train.shape)\n",
    "print(test.shape)"
   ]
  },
  {
   "cell_type": "markdown",
   "metadata": {
    "id": "BA9F16009CBE4977856A31AE67AC0911",
    "jupyter": {},
    "mdEditEnable": false,
    "slideshow": {
     "slide_type": "slide"
    },
    "tags": []
   },
   "source": [
    "## 异常值处理"
   ]
  },
  {
   "cell_type": "code",
   "execution_count": 8,
   "metadata": {
    "id": "65287B5F621948148A20D4AD3D468E61",
    "jupyter": {},
    "scrolled": false,
    "slideshow": {
     "slide_type": "slide"
    },
    "tags": []
   },
   "outputs": [],
   "source": [
    "# 处理前数据分布\n",
    "# fig, ax = plt.subplots()\n",
    "# ax.scatter(x=train['GrLivArea'], y=train['SalePrice'])\n",
    "# plt.xlabel('GrLivArea', fontsize=13)\n",
    "# plt.ylabel('SalePrice', fontsize=13)\n",
    "# plt.show()"
   ]
  },
  {
   "cell_type": "code",
   "execution_count": 9,
   "metadata": {
    "id": "36B4C4A077F141ADA725440D5A6604FA",
    "jupyter": {},
    "scrolled": false,
    "slideshow": {
     "slide_type": "slide"
    },
    "tags": []
   },
   "outputs": [],
   "source": [
    "# 删除右下角两个异常值\n",
    "# train = train.drop(train[(train['GrLivArea']>4000) & (train['SalePrice']<300000)].index)"
   ]
  },
  {
   "cell_type": "code",
   "execution_count": 10,
   "metadata": {
    "id": "EADD79369D0C43E9857EC42AD8A5FEC6",
    "jupyter": {},
    "scrolled": false,
    "slideshow": {
     "slide_type": "slide"
    },
    "tags": []
   },
   "outputs": [],
   "source": [
    "# 处理后数据分布\n",
    "# fig, ax = plt.subplots()\n",
    "# ax.scatter(x=train['GrLivArea'], y=train['SalePrice'])\n",
    "# plt.xlabel('GrLivArea', fontsize=13)\n",
    "# plt.ylabel('SalePrice', fontsize=13)\n",
    "# plt.show()"
   ]
  },
  {
   "cell_type": "markdown",
   "metadata": {
    "id": "F5678F3A17E240439EF55E1E200713C4",
    "jupyter": {},
    "mdEditEnable": false,
    "slideshow": {
     "slide_type": "slide"
    },
    "tags": []
   },
   "source": [
    "## SalePrice特征处理"
   ]
  },
  {
   "cell_type": "code",
   "execution_count": 11,
   "metadata": {
    "id": "E7EEE80B2C484E4182E6B417F24AAAD0",
    "jupyter": {},
    "scrolled": false,
    "slideshow": {
     "slide_type": "slide"
    },
    "tags": []
   },
   "outputs": [
    {
     "name": "stdout",
     "output_type": "stream",
     "text": [
      "\n",
      " mu=68.97 and sigma=10.35 \n",
      "\n"
     ]
    },
    {
     "data": {
      "image/png": "[encoded data removed]",
      "text/plain": [
       "<Figure size 432x288 with 1 Axes>"
      ]
     },
     "metadata": {
      "needs_background": "light"
     },
     "output_type": "display_data"
    },
    {
     "data": {
      "image/png": "[encoded data removed]",
      "text/plain": [
       "<Figure size 432x288 with 1 Axes>"
      ]
     },
     "metadata": {
      "needs_background": "light"
     },
     "output_type": "display_data"
    }
   ],
   "source": [
    "# 处理前数据分布\n",
    "sns.distplot(train['价格'], fit=norm)\n",
    "\n",
    "(mu, sigma) = norm.fit(train['价格'])\n",
    "print('\\n mu={:.2f} and sigma={:.2f} \\n'.format(mu, sigma))\n",
    "\n",
    "plt.legend(['Normal dist.($\\mu=$ {:.2f} and $\\sigma=$ {:.2f})'.format(mu, sigma)], loc='best')\n",
    "plt.ylabel('Frequency')\n",
    "plt.title('价格 distribution')\n",
    "\n",
    "fig = plt.figure()\n",
    "stats.probplot(train['价格'], plot=plt)\n",
    "plt.show()"
   ]
  },
  {
   "cell_type": "code",
   "execution_count": 12,
   "metadata": {
    "id": "223360DA7D59403987A01FAB1861DFCF",
    "jupyter": {},
    "scrolled": false,
    "slideshow": {
     "slide_type": "slide"
    },
    "tags": []
   },
   "outputs": [],
   "source": [
    "# 数据偏度大，用log1p函数转化，使其更加服从高斯分布。\n",
    "# 最后需要将预测出的平滑数据进行还原，而还原过程就是log1p的逆运算expm1\n",
    "# train['价格'] = np.log1p(train['价格'])"
   ]
  },
  {
   "cell_type": "code",
   "execution_count": 13,
   "metadata": {
    "id": "37AE3D263272420DA2D6F59F4FD9BF52",
    "jupyter": {},
    "scrolled": false,
    "slideshow": {
     "slide_type": "slide"
    },
    "tags": []
   },
   "outputs": [],
   "source": [
    "# 处理后数据分布\n",
    "# sns.distplot(train['价格'], fit=norm)\n",
    "\n",
    "# (mu, sigma) = norm.fit(train['价格'])\n",
    "# print('\\n mu={:.2f} and sigma={:.2f} \\n'.format(mu, sigma))\n",
    "\n",
    "# plt.legend(['Normal dist.($\\mu=$ {:.2f} and $\\sigma=$ {:.2f})'.format(mu, sigma)], loc='best')\n",
    "# plt.ylabel('Frequency')\n",
    "# plt.title('价格 distribution')\n",
    "\n",
    "# fig = plt.figure()\n",
    "# stats.probplot(train['价格'], plot=plt)\n",
    "# plt.show()"
   ]
  },
  {
   "cell_type": "markdown",
   "metadata": {
    "id": "70F65315D6984292B00AABB8C6DD1FCC",
    "jupyter": {},
    "mdEditEnable": false,
    "slideshow": {
     "slide_type": "slide"
    },
    "tags": []
   },
   "source": [
    "# 特征工程"
   ]
  },
  {
   "cell_type": "markdown",
   "metadata": {
    "id": "2641180E44964323BB6C9F7BE0BCC1E4",
    "jupyter": {},
    "mdEditEnable": false,
    "slideshow": {
     "slide_type": "slide"
    },
    "tags": []
   },
   "source": [
    "## 数据集连接"
   ]
  },
  {
   "cell_type": "code",
   "execution_count": 14,
   "metadata": {
    "id": "9D9709B1B7664703876C9F6918FBF70B",
    "jupyter": {},
    "scrolled": false,
    "slideshow": {
     "slide_type": "slide"
    },
    "tags": []
   },
   "outputs": [
    {
     "name": "stdout",
     "output_type": "stream",
     "text": [
      "all_data size is (74111, 24)\n"
     ]
    }
   ],
   "source": [
    "ntrain = train.shape[0]\n",
    "ntest = test.shape[0]\n",
    "y_train = train.价格.values\n",
    "all_data = pd.concat((train, test)).reset_index(drop=True)\n",
    "all_data.drop(['价格'], axis=1, inplace=True)\n",
    "print('all_data size is {}'.format(all_data.shape))"
   ]
  },
  {
   "cell_type": "markdown",
   "metadata": {
    "id": "A2DB9DEA073449DCAD76C25D4D9928F8",
    "jupyter": {},
    "mdEditEnable": false,
    "slideshow": {
     "slide_type": "slide"
    },
    "tags": []
   },
   "source": [
    "## 缺失数据分析"
   ]
  },
  {
   "cell_type": "code",
   "execution_count": 15,
   "metadata": {
    "id": "AF41293446944FA4BF2BF80B812B3039",
    "jupyter": {},
    "scrolled": false,
    "slideshow": {
     "slide_type": "slide"
    },
    "tags": []
   },
   "outputs": [
    {
     "data": {
      "text/html": [
       "<div>\n",
       "<style scoped>\n",
       "    .dataframe tbody tr th:only-of-type {\n",
       "        vertical-align: middle;\n",
       "    }\n",
       "\n",
       "    .dataframe tbody tr th {\n",
       "        vertical-align: top;\n",
       "    }\n",
       "\n",
       "    .dataframe thead th {\n",
       "        text-align: right;\n",
       "    }\n",
       "</style>\n",
       "<table border=\"1\" class=\"dataframe\">\n",
       "  <thead>\n",
       "    <tr style=\"text-align: right;\">\n",
       "      <th></th>\n",
       "      <th>容纳人数</th>\n",
       "      <th>便利设施</th>\n",
       "      <th>洗手间数量</th>\n",
       "      <th>床的数量</th>\n",
       "      <th>床的类型</th>\n",
       "      <th>卧室数量</th>\n",
       "      <th>取消条款</th>\n",
       "      <th>所在城市</th>\n",
       "      <th>清洁费</th>\n",
       "      <th>首次评论日期</th>\n",
       "      <th>房主是否有个人资料图片</th>\n",
       "      <th>房主身份是否验证</th>\n",
       "      <th>房主回复率</th>\n",
       "      <th>何时成为房主</th>\n",
       "      <th>是否支持随即预订</th>\n",
       "      <th>最近评论日期</th>\n",
       "      <th>维度</th>\n",
       "      <th>经度</th>\n",
       "      <th>民宿周边</th>\n",
       "      <th>评论个数</th>\n",
       "      <th>房产类型</th>\n",
       "      <th>民宿评分</th>\n",
       "      <th>房型</th>\n",
       "      <th>邮编</th>\n",
       "    </tr>\n",
       "  </thead>\n",
       "  <tbody>\n",
       "    <tr>\n",
       "      <th>0</th>\n",
       "      <td>False</td>\n",
       "      <td>False</td>\n",
       "      <td>False</td>\n",
       "      <td>False</td>\n",
       "      <td>False</td>\n",
       "      <td>False</td>\n",
       "      <td>False</td>\n",
       "      <td>False</td>\n",
       "      <td>False</td>\n",
       "      <td>False</td>\n",
       "      <td>False</td>\n",
       "      <td>False</td>\n",
       "      <td>True</td>\n",
       "      <td>False</td>\n",
       "      <td>False</td>\n",
       "      <td>False</td>\n",
       "      <td>False</td>\n",
       "      <td>False</td>\n",
       "      <td>False</td>\n",
       "      <td>False</td>\n",
       "      <td>False</td>\n",
       "      <td>False</td>\n",
       "      <td>False</td>\n",
       "      <td>False</td>\n",
       "    </tr>\n",
       "    <tr>\n",
       "      <th>1</th>\n",
       "      <td>False</td>\n",
       "      <td>False</td>\n",
       "      <td>False</td>\n",
       "      <td>False</td>\n",
       "      <td>False</td>\n",
       "      <td>False</td>\n",
       "      <td>False</td>\n",
       "      <td>False</td>\n",
       "      <td>False</td>\n",
       "      <td>False</td>\n",
       "      <td>False</td>\n",
       "      <td>False</td>\n",
       "      <td>False</td>\n",
       "      <td>False</td>\n",
       "      <td>False</td>\n",
       "      <td>False</td>\n",
       "      <td>False</td>\n",
       "      <td>False</td>\n",
       "      <td>False</td>\n",
       "      <td>False</td>\n",
       "      <td>False</td>\n",
       "      <td>False</td>\n",
       "      <td>False</td>\n",
       "      <td>False</td>\n",
       "    </tr>\n",
       "    <tr>\n",
       "      <th>2</th>\n",
       "      <td>False</td>\n",
       "      <td>False</td>\n",
       "      <td>False</td>\n",
       "      <td>False</td>\n",
       "      <td>False</td>\n",
       "      <td>False</td>\n",
       "      <td>False</td>\n",
       "      <td>False</td>\n",
       "      <td>False</td>\n",
       "      <td>False</td>\n",
       "      <td>False</td>\n",
       "      <td>False</td>\n",
       "      <td>False</td>\n",
       "      <td>False</td>\n",
       "      <td>False</td>\n",
       "      <td>False</td>\n",
       "      <td>False</td>\n",
       "      <td>False</td>\n",
       "      <td>False</td>\n",
       "      <td>False</td>\n",
       "      <td>False</td>\n",
       "      <td>False</td>\n",
       "      <td>False</td>\n",
       "      <td>False</td>\n",
       "    </tr>\n",
       "    <tr>\n",
       "      <th>3</th>\n",
       "      <td>False</td>\n",
       "      <td>False</td>\n",
       "      <td>False</td>\n",
       "      <td>False</td>\n",
       "      <td>False</td>\n",
       "      <td>False</td>\n",
       "      <td>False</td>\n",
       "      <td>False</td>\n",
       "      <td>False</td>\n",
       "      <td>False</td>\n",
       "      <td>False</td>\n",
       "      <td>False</td>\n",
       "      <td>False</td>\n",
       "      <td>False</td>\n",
       "      <td>False</td>\n",
       "      <td>False</td>\n",
       "      <td>False</td>\n",
       "      <td>False</td>\n",
       "      <td>False</td>\n",
       "      <td>False</td>\n",
       "      <td>False</td>\n",
       "      <td>False</td>\n",
       "      <td>False</td>\n",
       "      <td>False</td>\n",
       "    </tr>\n",
       "    <tr>\n",
       "      <th>4</th>\n",
       "      <td>False</td>\n",
       "      <td>False</td>\n",
       "      <td>False</td>\n",
       "      <td>False</td>\n",
       "      <td>False</td>\n",
       "      <td>False</td>\n",
       "      <td>False</td>\n",
       "      <td>False</td>\n",
       "      <td>False</td>\n",
       "      <td>False</td>\n",
       "      <td>False</td>\n",
       "      <td>False</td>\n",
       "      <td>False</td>\n",
       "      <td>False</td>\n",
       "      <td>False</td>\n",
       "      <td>False</td>\n",
       "      <td>False</td>\n",
       "      <td>False</td>\n",
       "      <td>False</td>\n",
       "      <td>False</td>\n",
       "      <td>False</td>\n",
       "      <td>False</td>\n",
       "      <td>False</td>\n",
       "      <td>False</td>\n",
       "    </tr>\n",
       "  </tbody>\n",
       "</table>\n",
       "</div>"
      ],
      "text/plain": [
       "    容纳人数   便利设施  洗手间数量   床的数量   床的类型   卧室数量   取消条款   所在城市    清洁费  首次评论日期  \\\n",
       "0  False  False  False  False  False  False  False  False  False   False   \n",
       "1  False  False  False  False  False  False  False  False  False   False   \n",
       "2  False  False  False  False  False  False  False  False  False   False   \n",
       "3  False  False  False  False  False  False  False  False  False   False   \n",
       "4  False  False  False  False  False  False  False  False  False   False   \n",
       "\n",
       "   房主是否有个人资料图片  房主身份是否验证  房主回复率  何时成为房主  是否支持随即预订  最近评论日期     维度     经度  \\\n",
       "0        False     False   True   False     False   False  False  False   \n",
       "1        False     False  False   False     False   False  False  False   \n",
       "2        False     False  False   False     False   False  False  False   \n",
       "3        False     False  False   False     False   False  False  False   \n",
       "4        False     False  False   False     False   False  False  False   \n",
       "\n",
       "    民宿周边   评论个数   房产类型   民宿评分     房型     邮编  \n",
       "0  False  False  False  False  False  False  \n",
       "1  False  False  False  False  False  False  \n",
       "2  False  False  False  False  False  False  \n",
       "3  False  False  False  False  False  False  \n",
       "4  False  False  False  False  False  False  "
      ]
     },
     "execution_count": 15,
     "metadata": {},
     "output_type": "execute_result"
    }
   ],
   "source": [
    "all_data.isnull().head()"
   ]
  },
  {
   "cell_type": "code",
   "execution_count": 16,
   "metadata": {
    "id": "9156A1533B1141B69278B67AB17A7851",
    "jupyter": {},
    "scrolled": false,
    "slideshow": {
     "slide_type": "slide"
    },
    "tags": []
   },
   "outputs": [
    {
     "data": {
      "text/plain": [
       "容纳人数          0\n",
       "便利设施          0\n",
       "洗手间数量       200\n",
       "床的数量        131\n",
       "床的类型          0\n",
       "卧室数量         91\n",
       "取消条款          0\n",
       "所在城市          0\n",
       "清洁费           0\n",
       "首次评论日期    15864\n",
       "dtype: int64"
      ]
     },
     "execution_count": 16,
     "metadata": {},
     "output_type": "execute_result"
    }
   ],
   "source": [
    "all_data.isnull().sum().head(10)"
   ]
  },
  {
   "cell_type": "code",
   "execution_count": 17,
   "metadata": {
    "id": "9B81ADA7CEED44B4893F0ABCE63743DE",
    "jupyter": {},
    "scrolled": false,
    "slideshow": {
     "slide_type": "slide"
    },
    "tags": []
   },
   "outputs": [
    {
     "data": {
      "text/html": [
       "<div>\n",
       "<style scoped>\n",
       "    .dataframe tbody tr th:only-of-type {\n",
       "        vertical-align: middle;\n",
       "    }\n",
       "\n",
       "    .dataframe tbody tr th {\n",
       "        vertical-align: top;\n",
       "    }\n",
       "\n",
       "    .dataframe thead th {\n",
       "        text-align: right;\n",
       "    }\n",
       "</style>\n",
       "<table border=\"1\" class=\"dataframe\">\n",
       "  <thead>\n",
       "    <tr style=\"text-align: right;\">\n",
       "      <th></th>\n",
       "      <th>Missing Ratio</th>\n",
       "    </tr>\n",
       "  </thead>\n",
       "  <tbody>\n",
       "    <tr>\n",
       "      <th>房主回复率</th>\n",
       "      <td>24.691341</td>\n",
       "    </tr>\n",
       "    <tr>\n",
       "      <th>民宿评分</th>\n",
       "      <td>22.563452</td>\n",
       "    </tr>\n",
       "    <tr>\n",
       "      <th>首次评论日期</th>\n",
       "      <td>21.405729</td>\n",
       "    </tr>\n",
       "    <tr>\n",
       "      <th>最近评论日期</th>\n",
       "      <td>21.355804</td>\n",
       "    </tr>\n",
       "    <tr>\n",
       "      <th>民宿周边</th>\n",
       "      <td>9.272578</td>\n",
       "    </tr>\n",
       "    <tr>\n",
       "      <th>邮编</th>\n",
       "      <td>1.303450</td>\n",
       "    </tr>\n",
       "    <tr>\n",
       "      <th>洗手间数量</th>\n",
       "      <td>0.269865</td>\n",
       "    </tr>\n",
       "    <tr>\n",
       "      <th>何时成为房主</th>\n",
       "      <td>0.253674</td>\n",
       "    </tr>\n",
       "    <tr>\n",
       "      <th>房主身份是否验证</th>\n",
       "      <td>0.253674</td>\n",
       "    </tr>\n",
       "    <tr>\n",
       "      <th>房主是否有个人资料图片</th>\n",
       "      <td>0.253674</td>\n",
       "    </tr>\n",
       "    <tr>\n",
       "      <th>床的数量</th>\n",
       "      <td>0.176762</td>\n",
       "    </tr>\n",
       "    <tr>\n",
       "      <th>卧室数量</th>\n",
       "      <td>0.122789</td>\n",
       "    </tr>\n",
       "  </tbody>\n",
       "</table>\n",
       "</div>"
      ],
      "text/plain": [
       "             Missing Ratio\n",
       "房主回复率            24.691341\n",
       "民宿评分             22.563452\n",
       "首次评论日期           21.405729\n",
       "最近评论日期           21.355804\n",
       "民宿周边              9.272578\n",
       "邮编                1.303450\n",
       "洗手间数量             0.269865\n",
       "何时成为房主            0.253674\n",
       "房主身份是否验证          0.253674\n",
       "房主是否有个人资料图片       0.253674\n",
       "床的数量              0.176762\n",
       "卧室数量              0.122789"
      ]
     },
     "execution_count": 17,
     "metadata": {},
     "output_type": "execute_result"
    }
   ],
   "source": [
    "all_data_na = (all_data.isnull().sum()/len(all_data))*100\n",
    "all_data_na = all_data_na.drop(all_data_na[all_data_na == 0].index).sort_values(ascending=False)\n",
    "missing_data = pd.DataFrame({'Missing Ratio' : all_data_na})\n",
    "missing_data.head(20)"
   ]
  },
  {
   "cell_type": "code",
   "execution_count": 18,
   "metadata": {
    "id": "EABD2820B16F43C28B28AFEF75D9A113",
    "jupyter": {},
    "scrolled": false,
    "slideshow": {
     "slide_type": "slide"
    },
    "tags": []
   },
   "outputs": [
    {
     "data": {
      "text/plain": [
       "Text(0.5, 1.0, 'Percent missing data by feature')"
      ]
     },
     "execution_count": 18,
     "metadata": {},
     "output_type": "execute_result"
    },
    {
     "data": {
      "image/png": "[encoded data removed]",
      "text/plain": [
       "<Figure size 1080x864 with 1 Axes>"
      ]
     },
     "metadata": {
      "needs_background": "light"
     },
     "output_type": "display_data"
    }
   ],
   "source": [
    "# 含有缺失值的特征的缺失率\n",
    "f, axis = plt.subplots(figsize=(15,12))\n",
    "plt.xticks(rotation='90')\n",
    "sns.barplot(x=all_data_na.index, y=all_data_na)\n",
    "plt.xlabel('Features', fontsize=15)\n",
    "plt.ylabel('Percent of missing values', fontsize=15)\n",
    "plt.title('Percent missing data by feature', fontsize=15)"
   ]
  },
  {
   "cell_type": "markdown",
   "metadata": {
    "id": "08D062BDCF79434B9409C88F4CF4EE02",
    "jupyter": {},
    "mdEditEnable": false,
    "slideshow": {
     "slide_type": "slide"
    },
    "tags": []
   },
   "source": [
    "## 数据相关性"
   ]
  },
  {
   "cell_type": "code",
   "execution_count": 19,
   "metadata": {
    "id": "5EB83F4C1F484E1E9DE64AC1F76249DD",
    "jupyter": {},
    "scrolled": false,
    "slideshow": {
     "slide_type": "slide"
    },
    "tags": []
   },
   "outputs": [
    {
     "data": {
      "text/plain": [
       "<AxesSubplot:>"
      ]
     },
     "execution_count": 19,
     "metadata": {},
     "output_type": "execute_result"
    },
    {
     "data": {
      "image/png": "[encoded data removed]",
      "text/plain": [
       "<Figure size 1080x864 with 2 Axes>"
      ]
     },
     "metadata": {
      "needs_background": "light"
     },
     "output_type": "display_data"
    }
   ],
   "source": [
    "# 全部数值特征\n",
    "corrmat = train.corr()\n",
    "plt.subplots(figsize=(15,12))\n",
    "sns.heatmap(corrmat, vmax=0.9, square=True)"
   ]
  },
  {
   "cell_type": "code",
   "execution_count": 20,
   "metadata": {
    "id": "96CEC2DA14514DF28AC25A65FD6F8517",
    "jupyter": {},
    "scrolled": false,
    "slideshow": {
     "slide_type": "slide"
    },
    "tags": []
   },
   "outputs": [
    {
     "data": {
      "text/plain": [
       "<AxesSubplot:>"
      ]
     },
     "execution_count": 20,
     "metadata": {},
     "output_type": "execute_result"
    },
    {
     "data": {
      "image/png": "[encoded data removed]",
      "text/plain": [
       "<Figure size 720x576 with 2 Axes>"
      ]
     },
     "metadata": {
      "needs_background": "light"
     },
     "output_type": "display_data"
    }
   ],
   "source": [
    "# 相关性最大的10个特征\n",
    "corrmat = train.corr()\n",
    "plt.subplots(figsize=(10,8))\n",
    "k = 10\n",
    "cols = corrmat.nlargest(k, '价格')['价格'].index\n",
    "cm = np.corrcoef(train[cols].values.T)\n",
    "sns.heatmap(cm, cbar=True, annot=True, square=True, fmt='.2f', annot_kws={'size': 10}, yticklabels=cols.values, xticklabels=cols.values)"
   ]
  },
  {
   "cell_type": "markdown",
   "metadata": {
    "id": "14C1F01CBEF3472B8FEDECB9E30F06D7",
    "jupyter": {},
    "mdEditEnable": false,
    "slideshow": {
     "slide_type": "slide"
    },
    "tags": []
   },
   "source": [
    "## 缺失值填充"
   ]
  },
  {
   "cell_type": "code",
   "execution_count": 21,
   "metadata": {
    "id": "BB27A349192D4DB487F3FBDBDEC2A349",
    "jupyter": {},
    "scrolled": false,
    "slideshow": {
     "slide_type": "slide"
    },
    "tags": []
   },
   "outputs": [
    {
     "data": {
      "text/html": [
       "<div>\n",
       "<style scoped>\n",
       "    .dataframe tbody tr th:only-of-type {\n",
       "        vertical-align: middle;\n",
       "    }\n",
       "\n",
       "    .dataframe tbody tr th {\n",
       "        vertical-align: top;\n",
       "    }\n",
       "\n",
       "    .dataframe thead th {\n",
       "        text-align: right;\n",
       "    }\n",
       "</style>\n",
       "<table border=\"1\" class=\"dataframe\">\n",
       "  <thead>\n",
       "    <tr style=\"text-align: right;\">\n",
       "      <th></th>\n",
       "      <th>容纳人数</th>\n",
       "      <th>便利设施</th>\n",
       "      <th>洗手间数量</th>\n",
       "      <th>床的数量</th>\n",
       "      <th>床的类型</th>\n",
       "      <th>卧室数量</th>\n",
       "      <th>取消条款</th>\n",
       "      <th>所在城市</th>\n",
       "      <th>清洁费</th>\n",
       "      <th>首次评论日期</th>\n",
       "      <th>房主是否有个人资料图片</th>\n",
       "      <th>房主身份是否验证</th>\n",
       "      <th>房主回复率</th>\n",
       "      <th>何时成为房主</th>\n",
       "      <th>是否支持随即预订</th>\n",
       "      <th>最近评论日期</th>\n",
       "      <th>维度</th>\n",
       "      <th>经度</th>\n",
       "      <th>民宿周边</th>\n",
       "      <th>评论个数</th>\n",
       "      <th>房产类型</th>\n",
       "      <th>民宿评分</th>\n",
       "      <th>房型</th>\n",
       "      <th>邮编</th>\n",
       "    </tr>\n",
       "  </thead>\n",
       "  <tbody>\n",
       "    <tr>\n",
       "      <th>0</th>\n",
       "      <td>2</td>\n",
       "      <td>{TV,Internet,\"Wireless Internet\",\"Air conditioning\",Kitchen,Doorman,Elevator,Heating,Washer,Dryer,\"Smoke detector\",\"Fire extinguisher\",Essentials,Shampoo}</td>\n",
       "      <td>1.0</td>\n",
       "      <td>1.0</td>\n",
       "      <td>4</td>\n",
       "      <td>0.0</td>\n",
       "      <td>0</td>\n",
       "      <td>4</td>\n",
       "      <td>0</td>\n",
       "      <td>2015-07-01</td>\n",
       "      <td>t</td>\n",
       "      <td>t</td>\n",
       "      <td>NaN</td>\n",
       "      <td>2015-02-10</td>\n",
       "      <td>0</td>\n",
       "      <td>2015-08-25</td>\n",
       "      <td>40.811860</td>\n",
       "      <td>-73.940186</td>\n",
       "      <td>Harlem</td>\n",
       "      <td>2</td>\n",
       "      <td>0</td>\n",
       "      <td>90.0</td>\n",
       "      <td>0</td>\n",
       "      <td>10037</td>\n",
       "    </tr>\n",
       "    <tr>\n",
       "      <th>1</th>\n",
       "      <td>2</td>\n",
       "      <td>{TV,Internet,\"Wireless Internet\",\"Air conditioning\",Kitchen,\"Buzzer/wireless intercom\",Heating,\"Family/kid friendly\",\"Smoke detector\",\"Carbon monoxide detector\",\"First aid kit\",\"Safety card\",Essen...</td>\n",
       "      <td>1.0</td>\n",
       "      <td>1.0</td>\n",
       "      <td>4</td>\n",
       "      <td>1.0</td>\n",
       "      <td>1</td>\n",
       "      <td>4</td>\n",
       "      <td>1</td>\n",
       "      <td>2016-11-18</td>\n",
       "      <td>t</td>\n",
       "      <td>f</td>\n",
       "      <td>90%</td>\n",
       "      <td>2009-12-02</td>\n",
       "      <td>0</td>\n",
       "      <td>2017-09-19</td>\n",
       "      <td>40.784396</td>\n",
       "      <td>-73.948557</td>\n",
       "      <td>Upper East Side</td>\n",
       "      <td>21</td>\n",
       "      <td>0</td>\n",
       "      <td>98.0</td>\n",
       "      <td>1</td>\n",
       "      <td>10128</td>\n",
       "    </tr>\n",
       "    <tr>\n",
       "      <th>2</th>\n",
       "      <td>1</td>\n",
       "      <td>{TV,\"Wireless Internet\",Kitchen,Washer,Dryer,\"Smoke detector\",\"Carbon monoxide detector\",\"Lock on bedroom door\",Hangers,\"Laptop friendly workspace\",\"translation missing: en.hosting_amenity_49\",\"tr...</td>\n",
       "      <td>1.0</td>\n",
       "      <td>1.0</td>\n",
       "      <td>4</td>\n",
       "      <td>1.0</td>\n",
       "      <td>2</td>\n",
       "      <td>0</td>\n",
       "      <td>1</td>\n",
       "      <td>2016-06-19</td>\n",
       "      <td>t</td>\n",
       "      <td>t</td>\n",
       "      <td>96%</td>\n",
       "      <td>2015-12-29</td>\n",
       "      <td>0</td>\n",
       "      <td>2016-06-19</td>\n",
       "      <td>42.283933</td>\n",
       "      <td>-71.068835</td>\n",
       "      <td>Dorchester</td>\n",
       "      <td>1</td>\n",
       "      <td>0</td>\n",
       "      <td>20.0</td>\n",
       "      <td>1</td>\n",
       "      <td>02124</td>\n",
       "    </tr>\n",
       "    <tr>\n",
       "      <th>3</th>\n",
       "      <td>2</td>\n",
       "      <td>{TV,Internet,\"Wireless Internet\",Kitchen,\"Free parking on premises\",Heating,\"Family/kid friendly\"}</td>\n",
       "      <td>1.0</td>\n",
       "      <td>1.0</td>\n",
       "      <td>4</td>\n",
       "      <td>1.0</td>\n",
       "      <td>1</td>\n",
       "      <td>3</td>\n",
       "      <td>1</td>\n",
       "      <td>2012-04-12</td>\n",
       "      <td>t</td>\n",
       "      <td>t</td>\n",
       "      <td>100%</td>\n",
       "      <td>2012-04-02</td>\n",
       "      <td>0</td>\n",
       "      <td>2017-04-16</td>\n",
       "      <td>34.077372</td>\n",
       "      <td>-118.266653</td>\n",
       "      <td>Echo Park</td>\n",
       "      <td>317</td>\n",
       "      <td>5</td>\n",
       "      <td>98.0</td>\n",
       "      <td>0</td>\n",
       "      <td>90026</td>\n",
       "    </tr>\n",
       "    <tr>\n",
       "      <th>4</th>\n",
       "      <td>5</td>\n",
       "      <td>{TV,\"Cable TV\",Internet,\"Wireless Internet\",\"Air conditioning\",Kitchen,Heating,\"Family/kid friendly\",Washer,Dryer,\"First aid kit\",Essentials,Shampoo,\"Hair dryer\",Iron,\"Laptop friendly workspace\",\"...</td>\n",
       "      <td>1.0</td>\n",
       "      <td>3.0</td>\n",
       "      <td>4</td>\n",
       "      <td>1.0</td>\n",
       "      <td>1</td>\n",
       "      <td>3</td>\n",
       "      <td>1</td>\n",
       "      <td>2014-05-26</td>\n",
       "      <td>t</td>\n",
       "      <td>t</td>\n",
       "      <td>100%</td>\n",
       "      <td>2013-03-22</td>\n",
       "      <td>0</td>\n",
       "      <td>2017-04-17</td>\n",
       "      <td>34.112705</td>\n",
       "      <td>-118.255947</td>\n",
       "      <td>Atwater Village</td>\n",
       "      <td>91</td>\n",
       "      <td>0</td>\n",
       "      <td>93.0</td>\n",
       "      <td>0</td>\n",
       "      <td>90039</td>\n",
       "    </tr>\n",
       "  </tbody>\n",
       "</table>\n",
       "</div>"
      ],
      "text/plain": [
       "   容纳人数  \\\n",
       "0     2   \n",
       "1     2   \n",
       "2     1   \n",
       "3     2   \n",
       "4     5   \n",
       "\n",
       "                                                                                                                                                                                                      便利设施  \\\n",
       "0                                               {TV,Internet,\"Wireless Internet\",\"Air conditioning\",Kitchen,Doorman,Elevator,Heating,Washer,Dryer,\"Smoke detector\",\"Fire extinguisher\",Essentials,Shampoo}   \n",
       "1  {TV,Internet,\"Wireless Internet\",\"Air conditioning\",Kitchen,\"Buzzer/wireless intercom\",Heating,\"Family/kid friendly\",\"Smoke detector\",\"Carbon monoxide detector\",\"First aid kit\",\"Safety card\",Essen...   \n",
       "2  {TV,\"Wireless Internet\",Kitchen,Washer,Dryer,\"Smoke detector\",\"Carbon monoxide detector\",\"Lock on bedroom door\",Hangers,\"Laptop friendly workspace\",\"translation missing: en.hosting_amenity_49\",\"tr...   \n",
       "3                                                                                                       {TV,Internet,\"Wireless Internet\",Kitchen,\"Free parking on premises\",Heating,\"Family/kid friendly\"}   \n",
       "4  {TV,\"Cable TV\",Internet,\"Wireless Internet\",\"Air conditioning\",Kitchen,Heating,\"Family/kid friendly\",Washer,Dryer,\"First aid kit\",Essentials,Shampoo,\"Hair dryer\",Iron,\"Laptop friendly workspace\",\"...   \n",
       "\n",
       "   洗手间数量  床的数量  床的类型  卧室数量  取消条款  所在城市  清洁费      首次评论日期 房主是否有个人资料图片 房主身份是否验证  \\\n",
       "0    1.0   1.0     4   0.0     0     4    0  2015-07-01           t        t   \n",
       "1    1.0   1.0     4   1.0     1     4    1  2016-11-18           t        f   \n",
       "2    1.0   1.0     4   1.0     2     0    1  2016-06-19           t        t   \n",
       "3    1.0   1.0     4   1.0     1     3    1  2012-04-12           t        t   \n",
       "4    1.0   3.0     4   1.0     1     3    1  2014-05-26           t        t   \n",
       "\n",
       "  房主回复率      何时成为房主  是否支持随即预订      最近评论日期         维度          经度  \\\n",
       "0   NaN  2015-02-10         0  2015-08-25  40.811860  -73.940186   \n",
       "1   90%  2009-12-02         0  2017-09-19  40.784396  -73.948557   \n",
       "2   96%  2015-12-29         0  2016-06-19  42.283933  -71.068835   \n",
       "3  100%  2012-04-02         0  2017-04-16  34.077372 -118.266653   \n",
       "4  100%  2013-03-22         0  2017-04-17  34.112705 -118.255947   \n",
       "\n",
       "              民宿周边  评论个数  房产类型  民宿评分  房型     邮编  \n",
       "0           Harlem     2     0  90.0   0  10037  \n",
       "1  Upper East Side    21     0  98.0   1  10128  \n",
       "2       Dorchester     1     0  20.0   1  02124  \n",
       "3        Echo Park   317     5  98.0   0  90026  \n",
       "4  Atwater Village    91     0  93.0   0  90039  "
      ]
     },
     "execution_count": 21,
     "metadata": {},
     "output_type": "execute_result"
    }
   ],
   "source": [
    "all_data.head()"
   ]
  },
  {
   "cell_type": "code",
   "execution_count": null,
   "metadata": {
    "id": "2290BD1BC958432298EFD45F1F873BDC",
    "jupyter": {},
    "notebookId": "60672462cbb4020018e42d1c",
    "scrolled": false,
    "slideshow": {
     "slide_type": "slide"
    },
    "tags": []
   },
   "outputs": [],
   "source": []
  },
  {
   "cell_type": "code",
   "execution_count": 22,
   "metadata": {
    "id": "DF511B486411413EA10894B79C3DA92A",
    "jupyter": {},
    "scrolled": false,
    "slideshow": {
     "slide_type": "slide"
    },
    "tags": []
   },
   "outputs": [],
   "source": [
    "# 根据各特征的现实含义，填充合适的值\n",
    "feature1 = ['床的类型','邮编','房主回复率','首次评论日期','最近评论日期','何时成为房主','民宿周边','房主身份是否验证','房主是否有个人资料图片']\n",
    "for i in feature1:\n",
    "    all_data[i] = all_data[i].fillna('None')\n",
    "    \n",
    "feature2 = ['评论个数','洗手间数量']\n",
    "for i in feature2:\n",
    "    all_data[i] = all_data[i].fillna(0)\n",
    "\n",
    "## 数值型\n",
    "feature3 = ['民宿评分', '卧室数量', '取消条款', '床的数量','经度' ,'维度']\n",
    "for i in feature3:\n",
    "    all_data[i] = all_data[i].fillna(all_data[i].mode()[0])\n",
    "\n",
    "\n",
    "    \n",
    "# all_data['LotFrontage'] = all_data.groupby('Neighborhood')['LotFrontage'].transform(lambda x: x.fillna(x.median()))\n",
    "# all_data = all_data.drop(['Utilities'], axis=1)\n",
    "# all_data['Functional'] = all_data['Functional'].fillna('Typ')"
   ]
  },
  {
   "cell_type": "code",
   "execution_count": 23,
   "metadata": {
    "id": "9D5A81625A2E4BA0817DA850B0A4BBF1",
    "jupyter": {},
    "scrolled": false,
    "slideshow": {
     "slide_type": "slide"
    },
    "tags": []
   },
   "outputs": [
    {
     "data": {
      "text/html": [
       "<div>\n",
       "<style scoped>\n",
       "    .dataframe tbody tr th:only-of-type {\n",
       "        vertical-align: middle;\n",
       "    }\n",
       "\n",
       "    .dataframe tbody tr th {\n",
       "        vertical-align: top;\n",
       "    }\n",
       "\n",
       "    .dataframe thead th {\n",
       "        text-align: right;\n",
       "    }\n",
       "</style>\n",
       "<table border=\"1\" class=\"dataframe\">\n",
       "  <thead>\n",
       "    <tr style=\"text-align: right;\">\n",
       "      <th></th>\n",
       "      <th>Missing Ratio</th>\n",
       "    </tr>\n",
       "  </thead>\n",
       "  <tbody>\n",
       "  </tbody>\n",
       "</table>\n",
       "</div>"
      ],
      "text/plain": [
       "Empty DataFrame\n",
       "Columns: [Missing Ratio]\n",
       "Index: []"
      ]
     },
     "execution_count": 23,
     "metadata": {},
     "output_type": "execute_result"
    }
   ],
   "source": [
    "# 填充完成后，查看是否还有缺失值\n",
    "all_data_na = (all_data.isnull().sum()/len(all_data))*100\n",
    "all_data_na = all_data_na.drop(all_data_na[all_data_na == 0].index).sort_values(ascending=False)\n",
    "missing_data = pd.DataFrame({'Missing Ratio' : all_data_na})\n",
    "missing_data.head()"
   ]
  },
  {
   "cell_type": "code",
   "execution_count": 24,
   "metadata": {
    "id": "5E613948CDD443F793F99F353B9D82E6",
    "jupyter": {},
    "notebookId": "60672462cbb4020018e42d1c",
    "scrolled": false,
    "slideshow": {
     "slide_type": "slide"
    },
    "tags": []
   },
   "outputs": [
    {
     "data": {
      "text/html": [
       "<div>\n",
       "<style scoped>\n",
       "    .dataframe tbody tr th:only-of-type {\n",
       "        vertical-align: middle;\n",
       "    }\n",
       "\n",
       "    .dataframe tbody tr th {\n",
       "        vertical-align: top;\n",
       "    }\n",
       "\n",
       "    .dataframe thead th {\n",
       "        text-align: right;\n",
       "    }\n",
       "</style>\n",
       "<table border=\"1\" class=\"dataframe\">\n",
       "  <thead>\n",
       "    <tr style=\"text-align: right;\">\n",
       "      <th></th>\n",
       "      <th>容纳人数</th>\n",
       "      <th>便利设施</th>\n",
       "      <th>洗手间数量</th>\n",
       "      <th>床的数量</th>\n",
       "      <th>床的类型</th>\n",
       "      <th>卧室数量</th>\n",
       "      <th>取消条款</th>\n",
       "      <th>所在城市</th>\n",
       "      <th>清洁费</th>\n",
       "      <th>首次评论日期</th>\n",
       "      <th>房主是否有个人资料图片</th>\n",
       "      <th>房主身份是否验证</th>\n",
       "      <th>房主回复率</th>\n",
       "      <th>何时成为房主</th>\n",
       "      <th>是否支持随即预订</th>\n",
       "      <th>最近评论日期</th>\n",
       "      <th>维度</th>\n",
       "      <th>经度</th>\n",
       "      <th>民宿周边</th>\n",
       "      <th>评论个数</th>\n",
       "      <th>房产类型</th>\n",
       "      <th>民宿评分</th>\n",
       "      <th>房型</th>\n",
       "      <th>邮编</th>\n",
       "    </tr>\n",
       "  </thead>\n",
       "  <tbody>\n",
       "    <tr>\n",
       "      <th>0</th>\n",
       "      <td>2</td>\n",
       "      <td>{TV,Internet,\"Wireless Internet\",\"Air conditioning\",Kitchen,Doorman,Elevator,Heating,Washer,Dryer,\"Smoke detector\",\"Fire extinguisher\",Essentials,Shampoo}</td>\n",
       "      <td>1.0</td>\n",
       "      <td>1.0</td>\n",
       "      <td>4</td>\n",
       "      <td>0.0</td>\n",
       "      <td>0</td>\n",
       "      <td>4</td>\n",
       "      <td>0</td>\n",
       "      <td>2015-07-01</td>\n",
       "      <td>t</td>\n",
       "      <td>t</td>\n",
       "      <td>None</td>\n",
       "      <td>2015-02-10</td>\n",
       "      <td>0</td>\n",
       "      <td>2015-08-25</td>\n",
       "      <td>40.811860</td>\n",
       "      <td>-73.940186</td>\n",
       "      <td>Harlem</td>\n",
       "      <td>2</td>\n",
       "      <td>0</td>\n",
       "      <td>90.0</td>\n",
       "      <td>0</td>\n",
       "      <td>10037</td>\n",
       "    </tr>\n",
       "    <tr>\n",
       "      <th>1</th>\n",
       "      <td>2</td>\n",
       "      <td>{TV,Internet,\"Wireless Internet\",\"Air conditioning\",Kitchen,\"Buzzer/wireless intercom\",Heating,\"Family/kid friendly\",\"Smoke detector\",\"Carbon monoxide detector\",\"First aid kit\",\"Safety card\",Essen...</td>\n",
       "      <td>1.0</td>\n",
       "      <td>1.0</td>\n",
       "      <td>4</td>\n",
       "      <td>1.0</td>\n",
       "      <td>1</td>\n",
       "      <td>4</td>\n",
       "      <td>1</td>\n",
       "      <td>2016-11-18</td>\n",
       "      <td>t</td>\n",
       "      <td>f</td>\n",
       "      <td>90%</td>\n",
       "      <td>2009-12-02</td>\n",
       "      <td>0</td>\n",
       "      <td>2017-09-19</td>\n",
       "      <td>40.784396</td>\n",
       "      <td>-73.948557</td>\n",
       "      <td>Upper East Side</td>\n",
       "      <td>21</td>\n",
       "      <td>0</td>\n",
       "      <td>98.0</td>\n",
       "      <td>1</td>\n",
       "      <td>10128</td>\n",
       "    </tr>\n",
       "    <tr>\n",
       "      <th>2</th>\n",
       "      <td>1</td>\n",
       "      <td>{TV,\"Wireless Internet\",Kitchen,Washer,Dryer,\"Smoke detector\",\"Carbon monoxide detector\",\"Lock on bedroom door\",Hangers,\"Laptop friendly workspace\",\"translation missing: en.hosting_amenity_49\",\"tr...</td>\n",
       "      <td>1.0</td>\n",
       "      <td>1.0</td>\n",
       "      <td>4</td>\n",
       "      <td>1.0</td>\n",
       "      <td>2</td>\n",
       "      <td>0</td>\n",
       "      <td>1</td>\n",
       "      <td>2016-06-19</td>\n",
       "      <td>t</td>\n",
       "      <td>t</td>\n",
       "      <td>96%</td>\n",
       "      <td>2015-12-29</td>\n",
       "      <td>0</td>\n",
       "      <td>2016-06-19</td>\n",
       "      <td>42.283933</td>\n",
       "      <td>-71.068835</td>\n",
       "      <td>Dorchester</td>\n",
       "      <td>1</td>\n",
       "      <td>0</td>\n",
       "      <td>20.0</td>\n",
       "      <td>1</td>\n",
       "      <td>02124</td>\n",
       "    </tr>\n",
       "    <tr>\n",
       "      <th>3</th>\n",
       "      <td>2</td>\n",
       "      <td>{TV,Internet,\"Wireless Internet\",Kitchen,\"Free parking on premises\",Heating,\"Family/kid friendly\"}</td>\n",
       "      <td>1.0</td>\n",
       "      <td>1.0</td>\n",
       "      <td>4</td>\n",
       "      <td>1.0</td>\n",
       "      <td>1</td>\n",
       "      <td>3</td>\n",
       "      <td>1</td>\n",
       "      <td>2012-04-12</td>\n",
       "      <td>t</td>\n",
       "      <td>t</td>\n",
       "      <td>100%</td>\n",
       "      <td>2012-04-02</td>\n",
       "      <td>0</td>\n",
       "      <td>2017-04-16</td>\n",
       "      <td>34.077372</td>\n",
       "      <td>-118.266653</td>\n",
       "      <td>Echo Park</td>\n",
       "      <td>317</td>\n",
       "      <td>5</td>\n",
       "      <td>98.0</td>\n",
       "      <td>0</td>\n",
       "      <td>90026</td>\n",
       "    </tr>\n",
       "    <tr>\n",
       "      <th>4</th>\n",
       "      <td>5</td>\n",
       "      <td>{TV,\"Cable TV\",Internet,\"Wireless Internet\",\"Air conditioning\",Kitchen,Heating,\"Family/kid friendly\",Washer,Dryer,\"First aid kit\",Essentials,Shampoo,\"Hair dryer\",Iron,\"Laptop friendly workspace\",\"...</td>\n",
       "      <td>1.0</td>\n",
       "      <td>3.0</td>\n",
       "      <td>4</td>\n",
       "      <td>1.0</td>\n",
       "      <td>1</td>\n",
       "      <td>3</td>\n",
       "      <td>1</td>\n",
       "      <td>2014-05-26</td>\n",
       "      <td>t</td>\n",
       "      <td>t</td>\n",
       "      <td>100%</td>\n",
       "      <td>2013-03-22</td>\n",
       "      <td>0</td>\n",
       "      <td>2017-04-17</td>\n",
       "      <td>34.112705</td>\n",
       "      <td>-118.255947</td>\n",
       "      <td>Atwater Village</td>\n",
       "      <td>91</td>\n",
       "      <td>0</td>\n",
       "      <td>93.0</td>\n",
       "      <td>0</td>\n",
       "      <td>90039</td>\n",
       "    </tr>\n",
       "  </tbody>\n",
       "</table>\n",
       "</div>"
      ],
      "text/plain": [
       "   容纳人数  \\\n",
       "0     2   \n",
       "1     2   \n",
       "2     1   \n",
       "3     2   \n",
       "4     5   \n",
       "\n",
       "                                                                                                                                                                                                      便利设施  \\\n",
       "0                                               {TV,Internet,\"Wireless Internet\",\"Air conditioning\",Kitchen,Doorman,Elevator,Heating,Washer,Dryer,\"Smoke detector\",\"Fire extinguisher\",Essentials,Shampoo}   \n",
       "1  {TV,Internet,\"Wireless Internet\",\"Air conditioning\",Kitchen,\"Buzzer/wireless intercom\",Heating,\"Family/kid friendly\",\"Smoke detector\",\"Carbon monoxide detector\",\"First aid kit\",\"Safety card\",Essen...   \n",
       "2  {TV,\"Wireless Internet\",Kitchen,Washer,Dryer,\"Smoke detector\",\"Carbon monoxide detector\",\"Lock on bedroom door\",Hangers,\"Laptop friendly workspace\",\"translation missing: en.hosting_amenity_49\",\"tr...   \n",
       "3                                                                                                       {TV,Internet,\"Wireless Internet\",Kitchen,\"Free parking on premises\",Heating,\"Family/kid friendly\"}   \n",
       "4  {TV,\"Cable TV\",Internet,\"Wireless Internet\",\"Air conditioning\",Kitchen,Heating,\"Family/kid friendly\",Washer,Dryer,\"First aid kit\",Essentials,Shampoo,\"Hair dryer\",Iron,\"Laptop friendly workspace\",\"...   \n",
       "\n",
       "   洗手间数量  床的数量  床的类型  卧室数量  取消条款  所在城市  清洁费      首次评论日期 房主是否有个人资料图片 房主身份是否验证  \\\n",
       "0    1.0   1.0     4   0.0     0     4    0  2015-07-01           t        t   \n",
       "1    1.0   1.0     4   1.0     1     4    1  2016-11-18           t        f   \n",
       "2    1.0   1.0     4   1.0     2     0    1  2016-06-19           t        t   \n",
       "3    1.0   1.0     4   1.0     1     3    1  2012-04-12           t        t   \n",
       "4    1.0   3.0     4   1.0     1     3    1  2014-05-26           t        t   \n",
       "\n",
       "  房主回复率      何时成为房主  是否支持随即预订      最近评论日期         维度          经度  \\\n",
       "0  None  2015-02-10         0  2015-08-25  40.811860  -73.940186   \n",
       "1   90%  2009-12-02         0  2017-09-19  40.784396  -73.948557   \n",
       "2   96%  2015-12-29         0  2016-06-19  42.283933  -71.068835   \n",
       "3  100%  2012-04-02         0  2017-04-16  34.077372 -118.266653   \n",
       "4  100%  2013-03-22         0  2017-04-17  34.112705 -118.255947   \n",
       "\n",
       "              民宿周边  评论个数  房产类型  民宿评分  房型     邮编  \n",
       "0           Harlem     2     0  90.0   0  10037  \n",
       "1  Upper East Side    21     0  98.0   1  10128  \n",
       "2       Dorchester     1     0  20.0   1  02124  \n",
       "3        Echo Park   317     5  98.0   0  90026  \n",
       "4  Atwater Village    91     0  93.0   0  90039  "
      ]
     },
     "execution_count": 24,
     "metadata": {},
     "output_type": "execute_result"
    }
   ],
   "source": [
    "all_data.head()"
   ]
  },
  {
   "cell_type": "markdown",
   "metadata": {
    "id": "434B115DBC534F27BF1DC681BE26F1D6",
    "jupyter": {},
    "mdEditEnable": false,
    "slideshow": {
     "slide_type": "slide"
    },
    "tags": []
   },
   "source": [
    "## 标签编码"
   ]
  },
  {
   "cell_type": "code",
   "execution_count": 25,
   "metadata": {
    "id": "DE6E92C83EAC471C8328EB6287CFB222",
    "jupyter": {},
    "scrolled": false,
    "slideshow": {
     "slide_type": "slide"
    },
    "tags": []
   },
   "outputs": [
    {
     "data": {
      "text/html": [
       "<div>\n",
       "<style scoped>\n",
       "    .dataframe tbody tr th:only-of-type {\n",
       "        vertical-align: middle;\n",
       "    }\n",
       "\n",
       "    .dataframe tbody tr th {\n",
       "        vertical-align: top;\n",
       "    }\n",
       "\n",
       "    .dataframe thead th {\n",
       "        text-align: right;\n",
       "    }\n",
       "</style>\n",
       "<table border=\"1\" class=\"dataframe\">\n",
       "  <thead>\n",
       "    <tr style=\"text-align: right;\">\n",
       "      <th></th>\n",
       "      <th>便利设施</th>\n",
       "      <th>床的类型</th>\n",
       "      <th>邮编</th>\n",
       "      <th>房主回复率</th>\n",
       "      <th>首次评论日期</th>\n",
       "      <th>最近评论日期</th>\n",
       "      <th>何时成为房主</th>\n",
       "      <th>民宿周边</th>\n",
       "      <th>房主身份是否验证</th>\n",
       "      <th>房主是否有个人资料图片</th>\n",
       "    </tr>\n",
       "  </thead>\n",
       "  <tbody>\n",
       "    <tr>\n",
       "      <th>0</th>\n",
       "      <td>{TV,Internet,\"Wireless Internet\",\"Air conditioning\",Kitchen,Doorman,Elevator,Heating,Washer,Dryer,\"Smoke detector\",\"Fire extinguisher\",Essentials,Shampoo}</td>\n",
       "      <td>4</td>\n",
       "      <td>10037</td>\n",
       "      <td>None</td>\n",
       "      <td>2015-07-01</td>\n",
       "      <td>2015-08-25</td>\n",
       "      <td>2015-02-10</td>\n",
       "      <td>Harlem</td>\n",
       "      <td>t</td>\n",
       "      <td>t</td>\n",
       "    </tr>\n",
       "    <tr>\n",
       "      <th>1</th>\n",
       "      <td>{TV,Internet,\"Wireless Internet\",\"Air conditioning\",Kitchen,\"Buzzer/wireless intercom\",Heating,\"Family/kid friendly\",\"Smoke detector\",\"Carbon monoxide detector\",\"First aid kit\",\"Safety card\",Essen...</td>\n",
       "      <td>4</td>\n",
       "      <td>10128</td>\n",
       "      <td>90%</td>\n",
       "      <td>2016-11-18</td>\n",
       "      <td>2017-09-19</td>\n",
       "      <td>2009-12-02</td>\n",
       "      <td>Upper East Side</td>\n",
       "      <td>f</td>\n",
       "      <td>t</td>\n",
       "    </tr>\n",
       "    <tr>\n",
       "      <th>2</th>\n",
       "      <td>{TV,\"Wireless Internet\",Kitchen,Washer,Dryer,\"Smoke detector\",\"Carbon monoxide detector\",\"Lock on bedroom door\",Hangers,\"Laptop friendly workspace\",\"translation missing: en.hosting_amenity_49\",\"tr...</td>\n",
       "      <td>4</td>\n",
       "      <td>02124</td>\n",
       "      <td>96%</td>\n",
       "      <td>2016-06-19</td>\n",
       "      <td>2016-06-19</td>\n",
       "      <td>2015-12-29</td>\n",
       "      <td>Dorchester</td>\n",
       "      <td>t</td>\n",
       "      <td>t</td>\n",
       "    </tr>\n",
       "    <tr>\n",
       "      <th>3</th>\n",
       "      <td>{TV,Internet,\"Wireless Internet\",Kitchen,\"Free parking on premises\",Heating,\"Family/kid friendly\"}</td>\n",
       "      <td>4</td>\n",
       "      <td>90026</td>\n",
       "      <td>100%</td>\n",
       "      <td>2012-04-12</td>\n",
       "      <td>2017-04-16</td>\n",
       "      <td>2012-04-02</td>\n",
       "      <td>Echo Park</td>\n",
       "      <td>t</td>\n",
       "      <td>t</td>\n",
       "    </tr>\n",
       "    <tr>\n",
       "      <th>4</th>\n",
       "      <td>{TV,\"Cable TV\",Internet,\"Wireless Internet\",\"Air conditioning\",Kitchen,Heating,\"Family/kid friendly\",Washer,Dryer,\"First aid kit\",Essentials,Shampoo,\"Hair dryer\",Iron,\"Laptop friendly workspace\",\"...</td>\n",
       "      <td>4</td>\n",
       "      <td>90039</td>\n",
       "      <td>100%</td>\n",
       "      <td>2014-05-26</td>\n",
       "      <td>2017-04-17</td>\n",
       "      <td>2013-03-22</td>\n",
       "      <td>Atwater Village</td>\n",
       "      <td>t</td>\n",
       "      <td>t</td>\n",
       "    </tr>\n",
       "  </tbody>\n",
       "</table>\n",
       "</div>"
      ],
      "text/plain": [
       "                                                                                                                                                                                                      便利设施  \\\n",
       "0                                               {TV,Internet,\"Wireless Internet\",\"Air conditioning\",Kitchen,Doorman,Elevator,Heating,Washer,Dryer,\"Smoke detector\",\"Fire extinguisher\",Essentials,Shampoo}   \n",
       "1  {TV,Internet,\"Wireless Internet\",\"Air conditioning\",Kitchen,\"Buzzer/wireless intercom\",Heating,\"Family/kid friendly\",\"Smoke detector\",\"Carbon monoxide detector\",\"First aid kit\",\"Safety card\",Essen...   \n",
       "2  {TV,\"Wireless Internet\",Kitchen,Washer,Dryer,\"Smoke detector\",\"Carbon monoxide detector\",\"Lock on bedroom door\",Hangers,\"Laptop friendly workspace\",\"translation missing: en.hosting_amenity_49\",\"tr...   \n",
       "3                                                                                                       {TV,Internet,\"Wireless Internet\",Kitchen,\"Free parking on premises\",Heating,\"Family/kid friendly\"}   \n",
       "4  {TV,\"Cable TV\",Internet,\"Wireless Internet\",\"Air conditioning\",Kitchen,Heating,\"Family/kid friendly\",Washer,Dryer,\"First aid kit\",Essentials,Shampoo,\"Hair dryer\",Iron,\"Laptop friendly workspace\",\"...   \n",
       "\n",
       "   床的类型     邮编 房主回复率      首次评论日期      最近评论日期      何时成为房主             民宿周边  \\\n",
       "0     4  10037  None  2015-07-01  2015-08-25  2015-02-10           Harlem   \n",
       "1     4  10128   90%  2016-11-18  2017-09-19  2009-12-02  Upper East Side   \n",
       "2     4  02124   96%  2016-06-19  2016-06-19  2015-12-29       Dorchester   \n",
       "3     4  90026  100%  2012-04-12  2017-04-16  2012-04-02        Echo Park   \n",
       "4     4  90039  100%  2014-05-26  2017-04-17  2013-03-22  Atwater Village   \n",
       "\n",
       "  房主身份是否验证 房主是否有个人资料图片  \n",
       "0        t           t  \n",
       "1        f           t  \n",
       "2        t           t  \n",
       "3        t           t  \n",
       "4        t           t  "
      ]
     },
     "execution_count": 25,
     "metadata": {},
     "output_type": "execute_result"
    }
   ],
   "source": [
    "# 查看待编码特征情况\n",
    "cols = ['便利设施','床的类型','邮编','房主回复率','首次评论日期','最近评论日期','何时成为房主','民宿周边','房主身份是否验证','房主是否有个人资料图片']\n",
    "\n",
    "all_data[cols].head()"
   ]
  },
  {
   "cell_type": "code",
   "execution_count": 26,
   "metadata": {
    "id": "B9F673F975B1463581BEBD2EAB3EB294",
    "jupyter": {},
    "scrolled": false,
    "slideshow": {
     "slide_type": "slide"
    },
    "tags": []
   },
   "outputs": [],
   "source": [
    "# 将数值类型转化为字符串类型\n",
    "feature = ['床的类型', '房产类型', '房型', '所在城市','是否支持随即预订']\n",
    "for i in feature:\n",
    "    all_data[i] = all_data[i].astype(str)"
   ]
  },
  {
   "cell_type": "code",
   "execution_count": 27,
   "metadata": {
    "id": "68E85803B3C2435F8D06864A6A848213",
    "jupyter": {},
    "scrolled": false,
    "slideshow": {
     "slide_type": "slide"
    },
    "tags": []
   },
   "outputs": [],
   "source": [
    "# 标签编码对不连续的数字或者文本进行编号,转换成连续的数值型变量\n",
    "for c in cols:\n",
    "    le = LabelEncoder()\n",
    "    le.fit(list(all_data[c].values))\n",
    "    all_data[c] = le.transform(list(all_data[c].values))"
   ]
  },
  {
   "cell_type": "code",
   "execution_count": 28,
   "metadata": {
    "id": "4DD009AEF57C4776836318C6C1FBAD22",
    "jupyter": {},
    "scrolled": false,
    "slideshow": {
     "slide_type": "slide"
    },
    "tags": []
   },
   "outputs": [
    {
     "data": {
      "text/html": [
       "<div>\n",
       "<style scoped>\n",
       "    .dataframe tbody tr th:only-of-type {\n",
       "        vertical-align: middle;\n",
       "    }\n",
       "\n",
       "    .dataframe tbody tr th {\n",
       "        vertical-align: top;\n",
       "    }\n",
       "\n",
       "    .dataframe thead th {\n",
       "        text-align: right;\n",
       "    }\n",
       "</style>\n",
       "<table border=\"1\" class=\"dataframe\">\n",
       "  <thead>\n",
       "    <tr style=\"text-align: right;\">\n",
       "      <th></th>\n",
       "      <th>便利设施</th>\n",
       "      <th>床的类型</th>\n",
       "      <th>邮编</th>\n",
       "      <th>房主回复率</th>\n",
       "      <th>首次评论日期</th>\n",
       "      <th>最近评论日期</th>\n",
       "      <th>何时成为房主</th>\n",
       "      <th>民宿周边</th>\n",
       "      <th>房主身份是否验证</th>\n",
       "      <th>房主是否有个人资料图片</th>\n",
       "    </tr>\n",
       "  </thead>\n",
       "  <tbody>\n",
       "    <tr>\n",
       "      <th>0</th>\n",
       "      <td>60555</td>\n",
       "      <td>4</td>\n",
       "      <td>99</td>\n",
       "      <td>80</td>\n",
       "      <td>1726</td>\n",
       "      <td>599</td>\n",
       "      <td>2120</td>\n",
       "      <td>247</td>\n",
       "      <td>2</td>\n",
       "      <td>2</td>\n",
       "    </tr>\n",
       "    <tr>\n",
       "      <th>1</th>\n",
       "      <td>54527</td>\n",
       "      <td>4</td>\n",
       "      <td>114</td>\n",
       "      <td>70</td>\n",
       "      <td>2232</td>\n",
       "      <td>1354</td>\n",
       "      <td>253</td>\n",
       "      <td>556</td>\n",
       "      <td>1</td>\n",
       "      <td>2</td>\n",
       "    </tr>\n",
       "    <tr>\n",
       "      <th>2</th>\n",
       "      <td>52634</td>\n",
       "      <td>4</td>\n",
       "      <td>14</td>\n",
       "      <td>76</td>\n",
       "      <td>2080</td>\n",
       "      <td>897</td>\n",
       "      <td>2442</td>\n",
       "      <td>147</td>\n",
       "      <td>2</td>\n",
       "      <td>2</td>\n",
       "    </tr>\n",
       "    <tr>\n",
       "      <th>3</th>\n",
       "      <td>65161</td>\n",
       "      <td>4</td>\n",
       "      <td>453</td>\n",
       "      <td>2</td>\n",
       "      <td>575</td>\n",
       "      <td>1198</td>\n",
       "      <td>1076</td>\n",
       "      <td>173</td>\n",
       "      <td>2</td>\n",
       "      <td>2</td>\n",
       "    </tr>\n",
       "    <tr>\n",
       "      <th>4</th>\n",
       "      <td>34596</td>\n",
       "      <td>4</td>\n",
       "      <td>468</td>\n",
       "      <td>2</td>\n",
       "      <td>1326</td>\n",
       "      <td>1199</td>\n",
       "      <td>1430</td>\n",
       "      <td>24</td>\n",
       "      <td>2</td>\n",
       "      <td>2</td>\n",
       "    </tr>\n",
       "  </tbody>\n",
       "</table>\n",
       "</div>"
      ],
      "text/plain": [
       "    便利设施  床的类型   邮编  房主回复率  首次评论日期  最近评论日期  何时成为房主  民宿周边  房主身份是否验证  \\\n",
       "0  60555     4   99     80    1726     599    2120   247         2   \n",
       "1  54527     4  114     70    2232    1354     253   556         1   \n",
       "2  52634     4   14     76    2080     897    2442   147         2   \n",
       "3  65161     4  453      2     575    1198    1076   173         2   \n",
       "4  34596     4  468      2    1326    1199    1430    24         2   \n",
       "\n",
       "   房主是否有个人资料图片  \n",
       "0            2  \n",
       "1            2  \n",
       "2            2  \n",
       "3            2  \n",
       "4            2  "
      ]
     },
     "execution_count": 28,
     "metadata": {},
     "output_type": "execute_result"
    }
   ],
   "source": [
    "# 编码后特征情况\n",
    "all_data[cols].head()\n",
    "\n"
   ]
  },
  {
   "cell_type": "code",
   "execution_count": 29,
   "metadata": {
    "id": "F4EFB8CB66274A828E30EC70ADB2C5D9",
    "jupyter": {},
    "scrolled": false,
    "slideshow": {
     "slide_type": "slide"
    },
    "tags": []
   },
   "outputs": [
    {
     "data": {
      "text/html": [
       "<div>\n",
       "<style scoped>\n",
       "    .dataframe tbody tr th:only-of-type {\n",
       "        vertical-align: middle;\n",
       "    }\n",
       "\n",
       "    .dataframe tbody tr th {\n",
       "        vertical-align: top;\n",
       "    }\n",
       "\n",
       "    .dataframe thead th {\n",
       "        text-align: right;\n",
       "    }\n",
       "</style>\n",
       "<table border=\"1\" class=\"dataframe\">\n",
       "  <thead>\n",
       "    <tr style=\"text-align: right;\">\n",
       "      <th></th>\n",
       "      <th>容纳人数</th>\n",
       "      <th>便利设施</th>\n",
       "      <th>洗手间数量</th>\n",
       "      <th>床的数量</th>\n",
       "      <th>床的类型</th>\n",
       "      <th>卧室数量</th>\n",
       "      <th>取消条款</th>\n",
       "      <th>所在城市</th>\n",
       "      <th>清洁费</th>\n",
       "      <th>首次评论日期</th>\n",
       "      <th>房主是否有个人资料图片</th>\n",
       "      <th>房主身份是否验证</th>\n",
       "      <th>房主回复率</th>\n",
       "      <th>何时成为房主</th>\n",
       "      <th>是否支持随即预订</th>\n",
       "      <th>最近评论日期</th>\n",
       "      <th>维度</th>\n",
       "      <th>经度</th>\n",
       "      <th>民宿周边</th>\n",
       "      <th>评论个数</th>\n",
       "      <th>房产类型</th>\n",
       "      <th>民宿评分</th>\n",
       "      <th>房型</th>\n",
       "      <th>邮编</th>\n",
       "    </tr>\n",
       "  </thead>\n",
       "  <tbody>\n",
       "    <tr>\n",
       "      <th>0</th>\n",
       "      <td>2</td>\n",
       "      <td>60555</td>\n",
       "      <td>1.0</td>\n",
       "      <td>1.0</td>\n",
       "      <td>4</td>\n",
       "      <td>0.0</td>\n",
       "      <td>0</td>\n",
       "      <td>4</td>\n",
       "      <td>0</td>\n",
       "      <td>1726</td>\n",
       "      <td>2</td>\n",
       "      <td>2</td>\n",
       "      <td>80</td>\n",
       "      <td>2120</td>\n",
       "      <td>0</td>\n",
       "      <td>599</td>\n",
       "      <td>40.811860</td>\n",
       "      <td>-73.940186</td>\n",
       "      <td>247</td>\n",
       "      <td>2</td>\n",
       "      <td>0</td>\n",
       "      <td>90.0</td>\n",
       "      <td>0</td>\n",
       "      <td>99</td>\n",
       "    </tr>\n",
       "    <tr>\n",
       "      <th>1</th>\n",
       "      <td>2</td>\n",
       "      <td>54527</td>\n",
       "      <td>1.0</td>\n",
       "      <td>1.0</td>\n",
       "      <td>4</td>\n",
       "      <td>1.0</td>\n",
       "      <td>1</td>\n",
       "      <td>4</td>\n",
       "      <td>1</td>\n",
       "      <td>2232</td>\n",
       "      <td>2</td>\n",
       "      <td>1</td>\n",
       "      <td>70</td>\n",
       "      <td>253</td>\n",
       "      <td>0</td>\n",
       "      <td>1354</td>\n",
       "      <td>40.784396</td>\n",
       "      <td>-73.948557</td>\n",
       "      <td>556</td>\n",
       "      <td>21</td>\n",
       "      <td>0</td>\n",
       "      <td>98.0</td>\n",
       "      <td>1</td>\n",
       "      <td>114</td>\n",
       "    </tr>\n",
       "    <tr>\n",
       "      <th>2</th>\n",
       "      <td>1</td>\n",
       "      <td>52634</td>\n",
       "      <td>1.0</td>\n",
       "      <td>1.0</td>\n",
       "      <td>4</td>\n",
       "      <td>1.0</td>\n",
       "      <td>2</td>\n",
       "      <td>0</td>\n",
       "      <td>1</td>\n",
       "      <td>2080</td>\n",
       "      <td>2</td>\n",
       "      <td>2</td>\n",
       "      <td>76</td>\n",
       "      <td>2442</td>\n",
       "      <td>0</td>\n",
       "      <td>897</td>\n",
       "      <td>42.283933</td>\n",
       "      <td>-71.068835</td>\n",
       "      <td>147</td>\n",
       "      <td>1</td>\n",
       "      <td>0</td>\n",
       "      <td>20.0</td>\n",
       "      <td>1</td>\n",
       "      <td>14</td>\n",
       "    </tr>\n",
       "    <tr>\n",
       "      <th>3</th>\n",
       "      <td>2</td>\n",
       "      <td>65161</td>\n",
       "      <td>1.0</td>\n",
       "      <td>1.0</td>\n",
       "      <td>4</td>\n",
       "      <td>1.0</td>\n",
       "      <td>1</td>\n",
       "      <td>3</td>\n",
       "      <td>1</td>\n",
       "      <td>575</td>\n",
       "      <td>2</td>\n",
       "      <td>2</td>\n",
       "      <td>2</td>\n",
       "      <td>1076</td>\n",
       "      <td>0</td>\n",
       "      <td>1198</td>\n",
       "      <td>34.077372</td>\n",
       "      <td>-118.266653</td>\n",
       "      <td>173</td>\n",
       "      <td>317</td>\n",
       "      <td>5</td>\n",
       "      <td>98.0</td>\n",
       "      <td>0</td>\n",
       "      <td>453</td>\n",
       "    </tr>\n",
       "    <tr>\n",
       "      <th>4</th>\n",
       "      <td>5</td>\n",
       "      <td>34596</td>\n",
       "      <td>1.0</td>\n",
       "      <td>3.0</td>\n",
       "      <td>4</td>\n",
       "      <td>1.0</td>\n",
       "      <td>1</td>\n",
       "      <td>3</td>\n",
       "      <td>1</td>\n",
       "      <td>1326</td>\n",
       "      <td>2</td>\n",
       "      <td>2</td>\n",
       "      <td>2</td>\n",
       "      <td>1430</td>\n",
       "      <td>0</td>\n",
       "      <td>1199</td>\n",
       "      <td>34.112705</td>\n",
       "      <td>-118.255947</td>\n",
       "      <td>24</td>\n",
       "      <td>91</td>\n",
       "      <td>0</td>\n",
       "      <td>93.0</td>\n",
       "      <td>0</td>\n",
       "      <td>468</td>\n",
       "    </tr>\n",
       "  </tbody>\n",
       "</table>\n",
       "</div>"
      ],
      "text/plain": [
       "   容纳人数   便利设施  洗手间数量  床的数量  床的类型  卧室数量  取消条款 所在城市  清洁费  首次评论日期  房主是否有个人资料图片  \\\n",
       "0     2  60555    1.0   1.0     4   0.0     0    4    0    1726            2   \n",
       "1     2  54527    1.0   1.0     4   1.0     1    4    1    2232            2   \n",
       "2     1  52634    1.0   1.0     4   1.0     2    0    1    2080            2   \n",
       "3     2  65161    1.0   1.0     4   1.0     1    3    1     575            2   \n",
       "4     5  34596    1.0   3.0     4   1.0     1    3    1    1326            2   \n",
       "\n",
       "   房主身份是否验证  房主回复率  何时成为房主 是否支持随即预订  最近评论日期         维度          经度  民宿周边  \\\n",
       "0         2     80    2120        0     599  40.811860  -73.940186   247   \n",
       "1         1     70     253        0    1354  40.784396  -73.948557   556   \n",
       "2         2     76    2442        0     897  42.283933  -71.068835   147   \n",
       "3         2      2    1076        0    1198  34.077372 -118.266653   173   \n",
       "4         2      2    1430        0    1199  34.112705 -118.255947    24   \n",
       "\n",
       "   评论个数 房产类型  民宿评分 房型   邮编  \n",
       "0     2    0  90.0  0   99  \n",
       "1    21    0  98.0  1  114  \n",
       "2     1    0  20.0  1   14  \n",
       "3   317    5  98.0  0  453  \n",
       "4    91    0  93.0  0  468  "
      ]
     },
     "execution_count": 29,
     "metadata": {},
     "output_type": "execute_result"
    }
   ],
   "source": [
    "pd.set_option('max_columns', 80)\n",
    "all_data.head()"
   ]
  },
  {
   "cell_type": "markdown",
   "metadata": {
    "id": "C943372E5E464EC893CB2B738A10C753",
    "jupyter": {},
    "mdEditEnable": false,
    "slideshow": {
     "slide_type": "slide"
    },
    "tags": []
   },
   "source": [
    "## 增加特征"
   ]
  },
  {
   "cell_type": "code",
   "execution_count": 30,
   "metadata": {
    "id": "ACC414E1F41E4A3AA2D1EFDEB14F152C",
    "jupyter": {},
    "scrolled": false,
    "slideshow": {
     "slide_type": "slide"
    },
    "tags": []
   },
   "outputs": [],
   "source": [
    "# all_data['TotalSF'] = all_data['TotalBsmtSF'] + all_data['1stFlrSF'] + all_data['2ndFlrSF']"
   ]
  },
  {
   "cell_type": "markdown",
   "metadata": {
    "id": "475D076B42494F2D88A4F58927BF50B1",
    "jupyter": {},
    "mdEditEnable": false,
    "slideshow": {
     "slide_type": "slide"
    },
    "tags": []
   },
   "source": [
    "## 倾斜特征"
   ]
  },
  {
   "cell_type": "code",
   "execution_count": 31,
   "metadata": {
    "id": "0B9FE2AF1BD645AAAB1242965868230C",
    "jupyter": {},
    "scrolled": false,
    "slideshow": {
     "slide_type": "slide"
    },
    "tags": []
   },
   "outputs": [
    {
     "data": {
      "text/plain": [
       "容纳人数        int64\n",
       "便利设施        int64\n",
       "洗手间数量     float64\n",
       "床的数量      float64\n",
       "床的类型        int64\n",
       "卧室数量      float64\n",
       "取消条款        int64\n",
       "所在城市       object\n",
       "清洁费         int64\n",
       "首次评论日期      int64\n",
       "dtype: object"
      ]
     },
     "execution_count": 31,
     "metadata": {},
     "output_type": "execute_result"
    }
   ],
   "source": [
    "all_data.dtypes.head(10)"
   ]
  },
  {
   "cell_type": "code",
   "execution_count": 32,
   "metadata": {
    "id": "F7031F3595D345948ED21F99BC712E15",
    "jupyter": {},
    "scrolled": false,
    "slideshow": {
     "slide_type": "slide"
    },
    "tags": []
   },
   "outputs": [
    {
     "data": {
      "text/plain": [
       "Index(['容纳人数', '便利设施', '洗手间数量', '床的数量', '床的类型', '卧室数量', '取消条款', '清洁费',\n",
       "       '首次评论日期', '房主是否有个人资料图片', '房主身份是否验证', '房主回复率', '何时成为房主', '最近评论日期', '维度',\n",
       "       '经度', '民宿周边', '评论个数', '民宿评分', '邮编'],\n",
       "      dtype='object')"
      ]
     },
     "execution_count": 32,
     "metadata": {},
     "output_type": "execute_result"
    }
   ],
   "source": [
    "all_data.dtypes[all_data.dtypes != 'object'].index"
   ]
  },
  {
   "cell_type": "code",
   "execution_count": 33,
   "metadata": {
    "id": "A8EB82F6A7584777893B5D6404B1C7B2",
    "jupyter": {},
    "scrolled": false,
    "slideshow": {
     "slide_type": "slide"
    },
    "tags": []
   },
   "outputs": [
    {
     "data": {
      "text/html": [
       "<div>\n",
       "<style scoped>\n",
       "    .dataframe tbody tr th:only-of-type {\n",
       "        vertical-align: middle;\n",
       "    }\n",
       "\n",
       "    .dataframe tbody tr th {\n",
       "        vertical-align: top;\n",
       "    }\n",
       "\n",
       "    .dataframe thead th {\n",
       "        text-align: right;\n",
       "    }\n",
       "</style>\n",
       "<table border=\"1\" class=\"dataframe\">\n",
       "  <thead>\n",
       "    <tr style=\"text-align: right;\">\n",
       "      <th></th>\n",
       "      <th>Skew</th>\n",
       "    </tr>\n",
       "  </thead>\n",
       "  <tbody>\n",
       "    <tr>\n",
       "      <th>评论个数</th>\n",
       "      <td>3.702760</td>\n",
       "    </tr>\n",
       "    <tr>\n",
       "      <th>洗手间数量</th>\n",
       "      <td>3.621649</td>\n",
       "    </tr>\n",
       "    <tr>\n",
       "      <th>床的数量</th>\n",
       "      <td>3.360728</td>\n",
       "    </tr>\n",
       "    <tr>\n",
       "      <th>容纳人数</th>\n",
       "      <td>2.231515</td>\n",
       "    </tr>\n",
       "    <tr>\n",
       "      <th>卧室数量</th>\n",
       "      <td>1.991787</td>\n",
       "    </tr>\n",
       "    <tr>\n",
       "      <th>房主回复率</th>\n",
       "      <td>0.513749</td>\n",
       "    </tr>\n",
       "    <tr>\n",
       "      <th>邮编</th>\n",
       "      <td>0.292904</td>\n",
       "    </tr>\n",
       "    <tr>\n",
       "      <th>便利设施</th>\n",
       "      <td>0.003907</td>\n",
       "    </tr>\n",
       "    <tr>\n",
       "      <th>民宿周边</th>\n",
       "      <td>-0.050597</td>\n",
       "    </tr>\n",
       "    <tr>\n",
       "      <th>取消条款</th>\n",
       "      <td>-0.240908</td>\n",
       "    </tr>\n",
       "    <tr>\n",
       "      <th>经度</th>\n",
       "      <td>-0.407092</td>\n",
       "    </tr>\n",
       "    <tr>\n",
       "      <th>何时成为房主</th>\n",
       "      <td>-0.447978</td>\n",
       "    </tr>\n",
       "    <tr>\n",
       "      <th>维度</th>\n",
       "      <td>-0.534755</td>\n",
       "    </tr>\n",
       "    <tr>\n",
       "      <th>房主身份是否验证</th>\n",
       "      <td>-0.787375</td>\n",
       "    </tr>\n",
       "    <tr>\n",
       "      <th>清洁费</th>\n",
       "      <td>-1.059581</td>\n",
       "    </tr>\n",
       "    <tr>\n",
       "      <th>首次评论日期</th>\n",
       "      <td>-1.320922</td>\n",
       "    </tr>\n",
       "    <tr>\n",
       "      <th>最近评论日期</th>\n",
       "      <td>-2.066158</td>\n",
       "    </tr>\n",
       "    <tr>\n",
       "      <th>民宿评分</th>\n",
       "      <td>-3.635615</td>\n",
       "    </tr>\n",
       "    <tr>\n",
       "      <th>床的类型</th>\n",
       "      <td>-7.387244</td>\n",
       "    </tr>\n",
       "    <tr>\n",
       "      <th>房主是否有个人资料图片</th>\n",
       "      <td>-15.301721</td>\n",
       "    </tr>\n",
       "  </tbody>\n",
       "</table>\n",
       "</div>"
      ],
      "text/plain": [
       "                  Skew\n",
       "评论个数          3.702760\n",
       "洗手间数量         3.621649\n",
       "床的数量          3.360728\n",
       "容纳人数          2.231515\n",
       "卧室数量          1.991787\n",
       "房主回复率         0.513749\n",
       "邮编            0.292904\n",
       "便利设施          0.003907\n",
       "民宿周边         -0.050597\n",
       "取消条款         -0.240908\n",
       "经度           -0.407092\n",
       "何时成为房主       -0.447978\n",
       "维度           -0.534755\n",
       "房主身份是否验证     -0.787375\n",
       "清洁费          -1.059581\n",
       "首次评论日期       -1.320922\n",
       "最近评论日期       -2.066158\n",
       "民宿评分         -3.635615\n",
       "床的类型         -7.387244\n",
       "房主是否有个人资料图片 -15.301721"
      ]
     },
     "execution_count": 33,
     "metadata": {},
     "output_type": "execute_result"
    }
   ],
   "source": [
    "# 计算特征偏度\n",
    "numeric_feats = all_data.dtypes[all_data.dtypes != 'object'].index\n",
    "skewed_feats = all_data[numeric_feats].apply(lambda x: skew(x.dropna())).sort_values(ascending=False)\n",
    "skewness = pd.DataFrame({'Skew':skewed_feats})\n",
    "skewness"
   ]
  },
  {
   "cell_type": "code",
   "execution_count": 34,
   "metadata": {
    "id": "E3C3EA637E3749CEB2E59F5EE6B61E5E",
    "jupyter": {},
    "notebookId": "60672462cbb4020018e42d1c",
    "scrolled": false,
    "slideshow": {
     "slide_type": "slide"
    },
    "tags": []
   },
   "outputs": [
    {
     "data": {
      "text/plain": [
       "容纳人数           0\n",
       "便利设施           0\n",
       "洗手间数量          0\n",
       "床的数量           0\n",
       "床的类型           0\n",
       "卧室数量           0\n",
       "取消条款           0\n",
       "所在城市           0\n",
       "清洁费            0\n",
       "首次评论日期         0\n",
       "房主是否有个人资料图片    0\n",
       "房主身份是否验证       0\n",
       "房主回复率          0\n",
       "何时成为房主         0\n",
       "是否支持随即预订       0\n",
       "最近评论日期         0\n",
       "维度             0\n",
       "经度             0\n",
       "民宿周边           0\n",
       "评论个数           0\n",
       "房产类型           0\n",
       "民宿评分           0\n",
       "房型             0\n",
       "邮编             0\n",
       "dtype: int64"
      ]
     },
     "execution_count": 34,
     "metadata": {},
     "output_type": "execute_result"
    }
   ],
   "source": [
    "all_data.isnull().sum()"
   ]
  },
  {
   "cell_type": "code",
   "execution_count": 35,
   "metadata": {
    "id": "D729A4DAE24744528A4EF27A39959512",
    "jupyter": {},
    "scrolled": false,
    "slideshow": {
     "slide_type": "slide"
    },
    "tags": []
   },
   "outputs": [
    {
     "name": "stdout",
     "output_type": "stream",
     "text": [
      "There are 12 skewed numerical features to Box Cox transform\n",
      "评论个数\n",
      "洗手间数量\n",
      "床的数量\n",
      "容纳人数\n",
      "卧室数量\n",
      "房主身份是否验证\n",
      "清洁费\n",
      "首次评论日期\n",
      "最近评论日期\n",
      "民宿评分\n",
      "床的类型\n",
      "房主是否有个人资料图片\n"
     ]
    }
   ],
   "source": [
    "# 对偏态分布的数据进行标准化处理，使其更加服从正态分布\n",
    "skewness = skewness[abs(skewness.Skew) > 0.75]\n",
    "print('There are {} skewed numerical features to Box Cox transform'.format(skewness.shape[0]))\n",
    "# print(skewed_features)\n",
    "skewed_features = skewness.index\n",
    "lam = 0.15\n",
    "for feat in skewed_features:\n",
    "    print(feat)\n",
    "    all_data[feat] = boxcox1p(all_data[feat], lam)\n",
    "    \n",
    "# all_data[skewed_features] = np.log1p(all_data[skewed_features])"
   ]
  },
  {
   "cell_type": "code",
   "execution_count": 36,
   "metadata": {
    "id": "0BAE115798204FBA932A224C0FEDFD96",
    "jupyter": {},
    "notebookId": "60672462cbb4020018e42d1c",
    "scrolled": false,
    "slideshow": {
     "slide_type": "slide"
    },
    "tags": []
   },
   "outputs": [
    {
     "data": {
      "text/plain": [
       "容纳人数           0\n",
       "便利设施           0\n",
       "洗手间数量          0\n",
       "床的数量           0\n",
       "床的类型           0\n",
       "卧室数量           0\n",
       "取消条款           0\n",
       "所在城市           0\n",
       "清洁费            0\n",
       "首次评论日期         0\n",
       "房主是否有个人资料图片    0\n",
       "房主身份是否验证       0\n",
       "房主回复率          0\n",
       "何时成为房主         0\n",
       "是否支持随即预订       0\n",
       "最近评论日期         0\n",
       "维度             0\n",
       "经度             0\n",
       "民宿周边           0\n",
       "评论个数           0\n",
       "房产类型           0\n",
       "民宿评分           0\n",
       "房型             0\n",
       "邮编             0\n",
       "dtype: int64"
      ]
     },
     "execution_count": 36,
     "metadata": {},
     "output_type": "execute_result"
    }
   ],
   "source": [
    "all_data.isnull().sum()"
   ]
  },
  {
   "cell_type": "code",
   "execution_count": 37,
   "metadata": {
    "id": "6392FA3A7CAF454497E50AD6BA19A14E",
    "jupyter": {},
    "scrolled": false,
    "slideshow": {
     "slide_type": "slide"
    },
    "tags": []
   },
   "outputs": [
    {
     "data": {
      "text/html": [
       "<div>\n",
       "<style scoped>\n",
       "    .dataframe tbody tr th:only-of-type {\n",
       "        vertical-align: middle;\n",
       "    }\n",
       "\n",
       "    .dataframe tbody tr th {\n",
       "        vertical-align: top;\n",
       "    }\n",
       "\n",
       "    .dataframe thead th {\n",
       "        text-align: right;\n",
       "    }\n",
       "</style>\n",
       "<table border=\"1\" class=\"dataframe\">\n",
       "  <thead>\n",
       "    <tr style=\"text-align: right;\">\n",
       "      <th></th>\n",
       "      <th>容纳人数</th>\n",
       "      <th>便利设施</th>\n",
       "      <th>洗手间数量</th>\n",
       "      <th>床的数量</th>\n",
       "      <th>床的类型</th>\n",
       "      <th>卧室数量</th>\n",
       "      <th>取消条款</th>\n",
       "      <th>所在城市</th>\n",
       "      <th>清洁费</th>\n",
       "      <th>首次评论日期</th>\n",
       "      <th>房主是否有个人资料图片</th>\n",
       "      <th>房主身份是否验证</th>\n",
       "      <th>房主回复率</th>\n",
       "      <th>何时成为房主</th>\n",
       "      <th>是否支持随即预订</th>\n",
       "      <th>最近评论日期</th>\n",
       "      <th>维度</th>\n",
       "      <th>经度</th>\n",
       "      <th>民宿周边</th>\n",
       "      <th>评论个数</th>\n",
       "      <th>房产类型</th>\n",
       "      <th>民宿评分</th>\n",
       "      <th>房型</th>\n",
       "      <th>邮编</th>\n",
       "    </tr>\n",
       "  </thead>\n",
       "  <tbody>\n",
       "    <tr>\n",
       "      <th>0</th>\n",
       "      <td>1.194318</td>\n",
       "      <td>60555</td>\n",
       "      <td>0.730463</td>\n",
       "      <td>0.730463</td>\n",
       "      <td>1.820334</td>\n",
       "      <td>0.000000</td>\n",
       "      <td>0</td>\n",
       "      <td>4</td>\n",
       "      <td>0.000000</td>\n",
       "      <td>13.727342</td>\n",
       "      <td>1.194318</td>\n",
       "      <td>1.194318</td>\n",
       "      <td>80</td>\n",
       "      <td>2120</td>\n",
       "      <td>0</td>\n",
       "      <td>10.736626</td>\n",
       "      <td>40.811860</td>\n",
       "      <td>-73.940186</td>\n",
       "      <td>247</td>\n",
       "      <td>1.194318</td>\n",
       "      <td>0</td>\n",
       "      <td>6.448232</td>\n",
       "      <td>0</td>\n",
       "      <td>99</td>\n",
       "    </tr>\n",
       "    <tr>\n",
       "      <th>1</th>\n",
       "      <td>1.194318</td>\n",
       "      <td>54527</td>\n",
       "      <td>0.730463</td>\n",
       "      <td>0.730463</td>\n",
       "      <td>1.820334</td>\n",
       "      <td>0.730463</td>\n",
       "      <td>1</td>\n",
       "      <td>4</td>\n",
       "      <td>0.730463</td>\n",
       "      <td>14.528754</td>\n",
       "      <td>1.194318</td>\n",
       "      <td>0.730463</td>\n",
       "      <td>70</td>\n",
       "      <td>253</td>\n",
       "      <td>0</td>\n",
       "      <td>12.998591</td>\n",
       "      <td>40.784396</td>\n",
       "      <td>-73.948557</td>\n",
       "      <td>556</td>\n",
       "      <td>3.932510</td>\n",
       "      <td>0</td>\n",
       "      <td>6.615044</td>\n",
       "      <td>1</td>\n",
       "      <td>114</td>\n",
       "    </tr>\n",
       "    <tr>\n",
       "      <th>2</th>\n",
       "      <td>0.730463</td>\n",
       "      <td>52634</td>\n",
       "      <td>0.730463</td>\n",
       "      <td>0.730463</td>\n",
       "      <td>1.820334</td>\n",
       "      <td>0.730463</td>\n",
       "      <td>2</td>\n",
       "      <td>0</td>\n",
       "      <td>0.730463</td>\n",
       "      <td>14.305802</td>\n",
       "      <td>1.194318</td>\n",
       "      <td>1.194318</td>\n",
       "      <td>76</td>\n",
       "      <td>2442</td>\n",
       "      <td>0</td>\n",
       "      <td>11.821770</td>\n",
       "      <td>42.283933</td>\n",
       "      <td>-71.068835</td>\n",
       "      <td>147</td>\n",
       "      <td>0.730463</td>\n",
       "      <td>0</td>\n",
       "      <td>3.858807</td>\n",
       "      <td>1</td>\n",
       "      <td>14</td>\n",
       "    </tr>\n",
       "    <tr>\n",
       "      <th>3</th>\n",
       "      <td>1.194318</td>\n",
       "      <td>65161</td>\n",
       "      <td>0.730463</td>\n",
       "      <td>0.730463</td>\n",
       "      <td>1.820334</td>\n",
       "      <td>0.730463</td>\n",
       "      <td>1</td>\n",
       "      <td>3</td>\n",
       "      <td>0.730463</td>\n",
       "      <td>10.630386</td>\n",
       "      <td>1.194318</td>\n",
       "      <td>1.194318</td>\n",
       "      <td>2</td>\n",
       "      <td>1076</td>\n",
       "      <td>0</td>\n",
       "      <td>12.641081</td>\n",
       "      <td>34.077372</td>\n",
       "      <td>-118.266653</td>\n",
       "      <td>173</td>\n",
       "      <td>9.155750</td>\n",
       "      <td>5</td>\n",
       "      <td>6.615044</td>\n",
       "      <td>0</td>\n",
       "      <td>453</td>\n",
       "    </tr>\n",
       "    <tr>\n",
       "      <th>4</th>\n",
       "      <td>2.055642</td>\n",
       "      <td>34596</td>\n",
       "      <td>0.730463</td>\n",
       "      <td>1.540963</td>\n",
       "      <td>1.820334</td>\n",
       "      <td>0.730463</td>\n",
       "      <td>1</td>\n",
       "      <td>3</td>\n",
       "      <td>0.730463</td>\n",
       "      <td>12.937093</td>\n",
       "      <td>1.194318</td>\n",
       "      <td>1.194318</td>\n",
       "      <td>2</td>\n",
       "      <td>1430</td>\n",
       "      <td>0</td>\n",
       "      <td>12.643496</td>\n",
       "      <td>34.112705</td>\n",
       "      <td>-118.255947</td>\n",
       "      <td>24</td>\n",
       "      <td>6.469750</td>\n",
       "      <td>0</td>\n",
       "      <td>6.512196</td>\n",
       "      <td>0</td>\n",
       "      <td>468</td>\n",
       "    </tr>\n",
       "  </tbody>\n",
       "</table>\n",
       "</div>"
      ],
      "text/plain": [
       "       容纳人数   便利设施     洗手间数量      床的数量      床的类型      卧室数量  取消条款 所在城市  \\\n",
       "0  1.194318  60555  0.730463  0.730463  1.820334  0.000000     0    4   \n",
       "1  1.194318  54527  0.730463  0.730463  1.820334  0.730463     1    4   \n",
       "2  0.730463  52634  0.730463  0.730463  1.820334  0.730463     2    0   \n",
       "3  1.194318  65161  0.730463  0.730463  1.820334  0.730463     1    3   \n",
       "4  2.055642  34596  0.730463  1.540963  1.820334  0.730463     1    3   \n",
       "\n",
       "        清洁费     首次评论日期  房主是否有个人资料图片  房主身份是否验证  房主回复率  何时成为房主 是否支持随即预订  \\\n",
       "0  0.000000  13.727342     1.194318  1.194318     80    2120        0   \n",
       "1  0.730463  14.528754     1.194318  0.730463     70     253        0   \n",
       "2  0.730463  14.305802     1.194318  1.194318     76    2442        0   \n",
       "3  0.730463  10.630386     1.194318  1.194318      2    1076        0   \n",
       "4  0.730463  12.937093     1.194318  1.194318      2    1430        0   \n",
       "\n",
       "      最近评论日期         维度          经度  民宿周边      评论个数 房产类型      民宿评分 房型   邮编  \n",
       "0  10.736626  40.811860  -73.940186   247  1.194318    0  6.448232  0   99  \n",
       "1  12.998591  40.784396  -73.948557   556  3.932510    0  6.615044  1  114  \n",
       "2  11.821770  42.283933  -71.068835   147  0.730463    0  3.858807  1   14  \n",
       "3  12.641081  34.077372 -118.266653   173  9.155750    5  6.615044  0  453  \n",
       "4  12.643496  34.112705 -118.255947    24  6.469750    0  6.512196  0  468  "
      ]
     },
     "execution_count": 37,
     "metadata": {},
     "output_type": "execute_result"
    }
   ],
   "source": [
    "all_data.head()\n"
   ]
  },
  {
   "cell_type": "markdown",
   "metadata": {
    "id": "AE19CA5D680A4A3F9B83BBD6459DCA6E",
    "jupyter": {},
    "mdEditEnable": false,
    "slideshow": {
     "slide_type": "slide"
    },
    "tags": []
   },
   "source": [
    "## 独热编码"
   ]
  },
  {
   "cell_type": "code",
   "execution_count": 38,
   "metadata": {
    "id": "6B7090C9F3344CC587CBB9C2381EF974",
    "jupyter": {},
    "scrolled": false,
    "slideshow": {
     "slide_type": "slide"
    },
    "tags": []
   },
   "outputs": [
    {
     "data": {
      "text/html": [
       "<div>\n",
       "<style scoped>\n",
       "    .dataframe tbody tr th:only-of-type {\n",
       "        vertical-align: middle;\n",
       "    }\n",
       "\n",
       "    .dataframe tbody tr th {\n",
       "        vertical-align: top;\n",
       "    }\n",
       "\n",
       "    .dataframe thead th {\n",
       "        text-align: right;\n",
       "    }\n",
       "</style>\n",
       "<table border=\"1\" class=\"dataframe\">\n",
       "  <thead>\n",
       "    <tr style=\"text-align: right;\">\n",
       "      <th></th>\n",
       "      <th>容纳人数</th>\n",
       "      <th>便利设施</th>\n",
       "      <th>洗手间数量</th>\n",
       "      <th>床的数量</th>\n",
       "      <th>床的类型</th>\n",
       "      <th>卧室数量</th>\n",
       "      <th>取消条款</th>\n",
       "      <th>清洁费</th>\n",
       "      <th>首次评论日期</th>\n",
       "      <th>房主是否有个人资料图片</th>\n",
       "      <th>房主身份是否验证</th>\n",
       "      <th>房主回复率</th>\n",
       "      <th>何时成为房主</th>\n",
       "      <th>最近评论日期</th>\n",
       "      <th>维度</th>\n",
       "      <th>经度</th>\n",
       "      <th>民宿周边</th>\n",
       "      <th>评论个数</th>\n",
       "      <th>民宿评分</th>\n",
       "      <th>邮编</th>\n",
       "      <th>所在城市_0</th>\n",
       "      <th>所在城市_1</th>\n",
       "      <th>所在城市_2</th>\n",
       "      <th>所在城市_3</th>\n",
       "      <th>所在城市_4</th>\n",
       "      <th>所在城市_5</th>\n",
       "      <th>是否支持随即预订_0</th>\n",
       "      <th>是否支持随即预订_1</th>\n",
       "      <th>房产类型_0</th>\n",
       "      <th>房产类型_1</th>\n",
       "      <th>房产类型_10</th>\n",
       "      <th>房产类型_11</th>\n",
       "      <th>房产类型_12</th>\n",
       "      <th>房产类型_13</th>\n",
       "      <th>房产类型_14</th>\n",
       "      <th>房产类型_15</th>\n",
       "      <th>房产类型_16</th>\n",
       "      <th>房产类型_17</th>\n",
       "      <th>房产类型_18</th>\n",
       "      <th>房产类型_19</th>\n",
       "      <th>房产类型_2</th>\n",
       "      <th>房产类型_20</th>\n",
       "      <th>房产类型_21</th>\n",
       "      <th>房产类型_22</th>\n",
       "      <th>房产类型_23</th>\n",
       "      <th>房产类型_24</th>\n",
       "      <th>房产类型_25</th>\n",
       "      <th>房产类型_26</th>\n",
       "      <th>房产类型_27</th>\n",
       "      <th>房产类型_28</th>\n",
       "      <th>房产类型_29</th>\n",
       "      <th>房产类型_3</th>\n",
       "      <th>房产类型_30</th>\n",
       "      <th>房产类型_31</th>\n",
       "      <th>房产类型_32</th>\n",
       "      <th>房产类型_33</th>\n",
       "      <th>房产类型_34</th>\n",
       "      <th>房产类型_4</th>\n",
       "      <th>房产类型_5</th>\n",
       "      <th>房产类型_6</th>\n",
       "      <th>房产类型_7</th>\n",
       "      <th>房产类型_8</th>\n",
       "      <th>房产类型_9</th>\n",
       "      <th>房型_0</th>\n",
       "      <th>房型_1</th>\n",
       "      <th>房型_2</th>\n",
       "    </tr>\n",
       "  </thead>\n",
       "  <tbody>\n",
       "    <tr>\n",
       "      <th>0</th>\n",
       "      <td>1.194318</td>\n",
       "      <td>60555</td>\n",
       "      <td>0.730463</td>\n",
       "      <td>0.730463</td>\n",
       "      <td>1.820334</td>\n",
       "      <td>0.000000</td>\n",
       "      <td>0</td>\n",
       "      <td>0.000000</td>\n",
       "      <td>13.727342</td>\n",
       "      <td>1.194318</td>\n",
       "      <td>1.194318</td>\n",
       "      <td>80</td>\n",
       "      <td>2120</td>\n",
       "      <td>10.736626</td>\n",
       "      <td>40.811860</td>\n",
       "      <td>-73.940186</td>\n",
       "      <td>247</td>\n",
       "      <td>1.194318</td>\n",
       "      <td>6.448232</td>\n",
       "      <td>99</td>\n",
       "      <td>0</td>\n",
       "      <td>0</td>\n",
       "      <td>0</td>\n",
       "      <td>0</td>\n",
       "      <td>1</td>\n",
       "      <td>0</td>\n",
       "      <td>1</td>\n",
       "      <td>0</td>\n",
       "      <td>1</td>\n",
       "      <td>0</td>\n",
       "      <td>0</td>\n",
       "      <td>0</td>\n",
       "      <td>0</td>\n",
       "      <td>0</td>\n",
       "      <td>0</td>\n",
       "      <td>0</td>\n",
       "      <td>0</td>\n",
       "      <td>0</td>\n",
       "      <td>0</td>\n",
       "      <td>0</td>\n",
       "      <td>0</td>\n",
       "      <td>0</td>\n",
       "      <td>0</td>\n",
       "      <td>0</td>\n",
       "      <td>0</td>\n",
       "      <td>0</td>\n",
       "      <td>0</td>\n",
       "      <td>0</td>\n",
       "      <td>0</td>\n",
       "      <td>0</td>\n",
       "      <td>0</td>\n",
       "      <td>0</td>\n",
       "      <td>0</td>\n",
       "      <td>0</td>\n",
       "      <td>0</td>\n",
       "      <td>0</td>\n",
       "      <td>0</td>\n",
       "      <td>0</td>\n",
       "      <td>0</td>\n",
       "      <td>0</td>\n",
       "      <td>0</td>\n",
       "      <td>0</td>\n",
       "      <td>0</td>\n",
       "      <td>1</td>\n",
       "      <td>0</td>\n",
       "      <td>0</td>\n",
       "    </tr>\n",
       "    <tr>\n",
       "      <th>1</th>\n",
       "      <td>1.194318</td>\n",
       "      <td>54527</td>\n",
       "      <td>0.730463</td>\n",
       "      <td>0.730463</td>\n",
       "      <td>1.820334</td>\n",
       "      <td>0.730463</td>\n",
       "      <td>1</td>\n",
       "      <td>0.730463</td>\n",
       "      <td>14.528754</td>\n",
       "      <td>1.194318</td>\n",
       "      <td>0.730463</td>\n",
       "      <td>70</td>\n",
       "      <td>253</td>\n",
       "      <td>12.998591</td>\n",
       "      <td>40.784396</td>\n",
       "      <td>-73.948557</td>\n",
       "      <td>556</td>\n",
       "      <td>3.932510</td>\n",
       "      <td>6.615044</td>\n",
       "      <td>114</td>\n",
       "      <td>0</td>\n",
       "      <td>0</td>\n",
       "      <td>0</td>\n",
       "      <td>0</td>\n",
       "      <td>1</td>\n",
       "      <td>0</td>\n",
       "      <td>1</td>\n",
       "      <td>0</td>\n",
       "      <td>1</td>\n",
       "      <td>0</td>\n",
       "      <td>0</td>\n",
       "      <td>0</td>\n",
       "      <td>0</td>\n",
       "      <td>0</td>\n",
       "      <td>0</td>\n",
       "      <td>0</td>\n",
       "      <td>0</td>\n",
       "      <td>0</td>\n",
       "      <td>0</td>\n",
       "      <td>0</td>\n",
       "      <td>0</td>\n",
       "      <td>0</td>\n",
       "      <td>0</td>\n",
       "      <td>0</td>\n",
       "      <td>0</td>\n",
       "      <td>0</td>\n",
       "      <td>0</td>\n",
       "      <td>0</td>\n",
       "      <td>0</td>\n",
       "      <td>0</td>\n",
       "      <td>0</td>\n",
       "      <td>0</td>\n",
       "      <td>0</td>\n",
       "      <td>0</td>\n",
       "      <td>0</td>\n",
       "      <td>0</td>\n",
       "      <td>0</td>\n",
       "      <td>0</td>\n",
       "      <td>0</td>\n",
       "      <td>0</td>\n",
       "      <td>0</td>\n",
       "      <td>0</td>\n",
       "      <td>0</td>\n",
       "      <td>0</td>\n",
       "      <td>1</td>\n",
       "      <td>0</td>\n",
       "    </tr>\n",
       "    <tr>\n",
       "      <th>2</th>\n",
       "      <td>0.730463</td>\n",
       "      <td>52634</td>\n",
       "      <td>0.730463</td>\n",
       "      <td>0.730463</td>\n",
       "      <td>1.820334</td>\n",
       "      <td>0.730463</td>\n",
       "      <td>2</td>\n",
       "      <td>0.730463</td>\n",
       "      <td>14.305802</td>\n",
       "      <td>1.194318</td>\n",
       "      <td>1.194318</td>\n",
       "      <td>76</td>\n",
       "      <td>2442</td>\n",
       "      <td>11.821770</td>\n",
       "      <td>42.283933</td>\n",
       "      <td>-71.068835</td>\n",
       "      <td>147</td>\n",
       "      <td>0.730463</td>\n",
       "      <td>3.858807</td>\n",
       "      <td>14</td>\n",
       "      <td>1</td>\n",
       "      <td>0</td>\n",
       "      <td>0</td>\n",
       "      <td>0</td>\n",
       "      <td>0</td>\n",
       "      <td>0</td>\n",
       "      <td>1</td>\n",
       "      <td>0</td>\n",
       "      <td>1</td>\n",
       "      <td>0</td>\n",
       "      <td>0</td>\n",
       "      <td>0</td>\n",
       "      <td>0</td>\n",
       "      <td>0</td>\n",
       "      <td>0</td>\n",
       "      <td>0</td>\n",
       "      <td>0</td>\n",
       "      <td>0</td>\n",
       "      <td>0</td>\n",
       "      <td>0</td>\n",
       "      <td>0</td>\n",
       "      <td>0</td>\n",
       "      <td>0</td>\n",
       "      <td>0</td>\n",
       "      <td>0</td>\n",
       "      <td>0</td>\n",
       "      <td>0</td>\n",
       "      <td>0</td>\n",
       "      <td>0</td>\n",
       "      <td>0</td>\n",
       "      <td>0</td>\n",
       "      <td>0</td>\n",
       "      <td>0</td>\n",
       "      <td>0</td>\n",
       "      <td>0</td>\n",
       "      <td>0</td>\n",
       "      <td>0</td>\n",
       "      <td>0</td>\n",
       "      <td>0</td>\n",
       "      <td>0</td>\n",
       "      <td>0</td>\n",
       "      <td>0</td>\n",
       "      <td>0</td>\n",
       "      <td>0</td>\n",
       "      <td>1</td>\n",
       "      <td>0</td>\n",
       "    </tr>\n",
       "    <tr>\n",
       "      <th>3</th>\n",
       "      <td>1.194318</td>\n",
       "      <td>65161</td>\n",
       "      <td>0.730463</td>\n",
       "      <td>0.730463</td>\n",
       "      <td>1.820334</td>\n",
       "      <td>0.730463</td>\n",
       "      <td>1</td>\n",
       "      <td>0.730463</td>\n",
       "      <td>10.630386</td>\n",
       "      <td>1.194318</td>\n",
       "      <td>1.194318</td>\n",
       "      <td>2</td>\n",
       "      <td>1076</td>\n",
       "      <td>12.641081</td>\n",
       "      <td>34.077372</td>\n",
       "      <td>-118.266653</td>\n",
       "      <td>173</td>\n",
       "      <td>9.155750</td>\n",
       "      <td>6.615044</td>\n",
       "      <td>453</td>\n",
       "      <td>0</td>\n",
       "      <td>0</td>\n",
       "      <td>0</td>\n",
       "      <td>1</td>\n",
       "      <td>0</td>\n",
       "      <td>0</td>\n",
       "      <td>1</td>\n",
       "      <td>0</td>\n",
       "      <td>0</td>\n",
       "      <td>0</td>\n",
       "      <td>0</td>\n",
       "      <td>0</td>\n",
       "      <td>0</td>\n",
       "      <td>0</td>\n",
       "      <td>0</td>\n",
       "      <td>0</td>\n",
       "      <td>0</td>\n",
       "      <td>0</td>\n",
       "      <td>0</td>\n",
       "      <td>0</td>\n",
       "      <td>0</td>\n",
       "      <td>0</td>\n",
       "      <td>0</td>\n",
       "      <td>0</td>\n",
       "      <td>0</td>\n",
       "      <td>0</td>\n",
       "      <td>0</td>\n",
       "      <td>0</td>\n",
       "      <td>0</td>\n",
       "      <td>0</td>\n",
       "      <td>0</td>\n",
       "      <td>0</td>\n",
       "      <td>0</td>\n",
       "      <td>0</td>\n",
       "      <td>0</td>\n",
       "      <td>0</td>\n",
       "      <td>0</td>\n",
       "      <td>0</td>\n",
       "      <td>1</td>\n",
       "      <td>0</td>\n",
       "      <td>0</td>\n",
       "      <td>0</td>\n",
       "      <td>0</td>\n",
       "      <td>1</td>\n",
       "      <td>0</td>\n",
       "      <td>0</td>\n",
       "    </tr>\n",
       "    <tr>\n",
       "      <th>4</th>\n",
       "      <td>2.055642</td>\n",
       "      <td>34596</td>\n",
       "      <td>0.730463</td>\n",
       "      <td>1.540963</td>\n",
       "      <td>1.820334</td>\n",
       "      <td>0.730463</td>\n",
       "      <td>1</td>\n",
       "      <td>0.730463</td>\n",
       "      <td>12.937093</td>\n",
       "      <td>1.194318</td>\n",
       "      <td>1.194318</td>\n",
       "      <td>2</td>\n",
       "      <td>1430</td>\n",
       "      <td>12.643496</td>\n",
       "      <td>34.112705</td>\n",
       "      <td>-118.255947</td>\n",
       "      <td>24</td>\n",
       "      <td>6.469750</td>\n",
       "      <td>6.512196</td>\n",
       "      <td>468</td>\n",
       "      <td>0</td>\n",
       "      <td>0</td>\n",
       "      <td>0</td>\n",
       "      <td>1</td>\n",
       "      <td>0</td>\n",
       "      <td>0</td>\n",
       "      <td>1</td>\n",
       "      <td>0</td>\n",
       "      <td>1</td>\n",
       "      <td>0</td>\n",
       "      <td>0</td>\n",
       "      <td>0</td>\n",
       "      <td>0</td>\n",
       "      <td>0</td>\n",
       "      <td>0</td>\n",
       "      <td>0</td>\n",
       "      <td>0</td>\n",
       "      <td>0</td>\n",
       "      <td>0</td>\n",
       "      <td>0</td>\n",
       "      <td>0</td>\n",
       "      <td>0</td>\n",
       "      <td>0</td>\n",
       "      <td>0</td>\n",
       "      <td>0</td>\n",
       "      <td>0</td>\n",
       "      <td>0</td>\n",
       "      <td>0</td>\n",
       "      <td>0</td>\n",
       "      <td>0</td>\n",
       "      <td>0</td>\n",
       "      <td>0</td>\n",
       "      <td>0</td>\n",
       "      <td>0</td>\n",
       "      <td>0</td>\n",
       "      <td>0</td>\n",
       "      <td>0</td>\n",
       "      <td>0</td>\n",
       "      <td>0</td>\n",
       "      <td>0</td>\n",
       "      <td>0</td>\n",
       "      <td>0</td>\n",
       "      <td>0</td>\n",
       "      <td>1</td>\n",
       "      <td>0</td>\n",
       "      <td>0</td>\n",
       "    </tr>\n",
       "  </tbody>\n",
       "</table>\n",
       "</div>"
      ],
      "text/plain": [
       "       容纳人数   便利设施     洗手间数量      床的数量      床的类型      卧室数量  取消条款       清洁费  \\\n",
       "0  1.194318  60555  0.730463  0.730463  1.820334  0.000000     0  0.000000   \n",
       "1  1.194318  54527  0.730463  0.730463  1.820334  0.730463     1  0.730463   \n",
       "2  0.730463  52634  0.730463  0.730463  1.820334  0.730463     2  0.730463   \n",
       "3  1.194318  65161  0.730463  0.730463  1.820334  0.730463     1  0.730463   \n",
       "4  2.055642  34596  0.730463  1.540963  1.820334  0.730463     1  0.730463   \n",
       "\n",
       "      首次评论日期  房主是否有个人资料图片  房主身份是否验证  房主回复率  何时成为房主     最近评论日期         维度  \\\n",
       "0  13.727342     1.194318  1.194318     80    2120  10.736626  40.811860   \n",
       "1  14.528754     1.194318  0.730463     70     253  12.998591  40.784396   \n",
       "2  14.305802     1.194318  1.194318     76    2442  11.821770  42.283933   \n",
       "3  10.630386     1.194318  1.194318      2    1076  12.641081  34.077372   \n",
       "4  12.937093     1.194318  1.194318      2    1430  12.643496  34.112705   \n",
       "\n",
       "           经度  民宿周边      评论个数      民宿评分   邮编  所在城市_0  所在城市_1  所在城市_2  所在城市_3  \\\n",
       "0  -73.940186   247  1.194318  6.448232   99       0       0       0       0   \n",
       "1  -73.948557   556  3.932510  6.615044  114       0       0       0       0   \n",
       "2  -71.068835   147  0.730463  3.858807   14       1       0       0       0   \n",
       "3 -118.266653   173  9.155750  6.615044  453       0       0       0       1   \n",
       "4 -118.255947    24  6.469750  6.512196  468       0       0       0       1   \n",
       "\n",
       "   所在城市_4  所在城市_5  是否支持随即预订_0  是否支持随即预订_1  房产类型_0  房产类型_1  房产类型_10  房产类型_11  \\\n",
       "0       1       0           1           0       1       0        0        0   \n",
       "1       1       0           1           0       1       0        0        0   \n",
       "2       0       0           1           0       1       0        0        0   \n",
       "3       0       0           1           0       0       0        0        0   \n",
       "4       0       0           1           0       1       0        0        0   \n",
       "\n",
       "   房产类型_12  房产类型_13  房产类型_14  房产类型_15  房产类型_16  房产类型_17  房产类型_18  房产类型_19  \\\n",
       "0        0        0        0        0        0        0        0        0   \n",
       "1        0        0        0        0        0        0        0        0   \n",
       "2        0        0        0        0        0        0        0        0   \n",
       "3        0        0        0        0        0        0        0        0   \n",
       "4        0        0        0        0        0        0        0        0   \n",
       "\n",
       "   房产类型_2  房产类型_20  房产类型_21  房产类型_22  房产类型_23  房产类型_24  房产类型_25  房产类型_26  \\\n",
       "0       0        0        0        0        0        0        0        0   \n",
       "1       0        0        0        0        0        0        0        0   \n",
       "2       0        0        0        0        0        0        0        0   \n",
       "3       0        0        0        0        0        0        0        0   \n",
       "4       0        0        0        0        0        0        0        0   \n",
       "\n",
       "   房产类型_27  房产类型_28  房产类型_29  房产类型_3  房产类型_30  房产类型_31  房产类型_32  房产类型_33  \\\n",
       "0        0        0        0       0        0        0        0        0   \n",
       "1        0        0        0       0        0        0        0        0   \n",
       "2        0        0        0       0        0        0        0        0   \n",
       "3        0        0        0       0        0        0        0        0   \n",
       "4        0        0        0       0        0        0        0        0   \n",
       "\n",
       "   房产类型_34  房产类型_4  房产类型_5  房产类型_6  房产类型_7  房产类型_8  房产类型_9  房型_0  房型_1  房型_2  \n",
       "0        0       0       0       0       0       0       0     1     0     0  \n",
       "1        0       0       0       0       0       0       0     0     1     0  \n",
       "2        0       0       0       0       0       0       0     0     1     0  \n",
       "3        0       0       1       0       0       0       0     1     0     0  \n",
       "4        0       0       0       0       0       0       0     1     0     0  "
      ]
     },
     "execution_count": 38,
     "metadata": {},
     "output_type": "execute_result"
    }
   ],
   "source": [
    "# 独热编码用来解决类别型数据的离散值问题\n",
    "all_data = pd.get_dummies(all_data)\n",
    "all_data.head()"
   ]
  },
  {
   "cell_type": "code",
   "execution_count": 39,
   "metadata": {
    "id": "4FD5A60E40234EC98759E567641C5B2B",
    "jupyter": {},
    "notebookId": "60672462cbb4020018e42d1c",
    "scrolled": false,
    "slideshow": {
     "slide_type": "slide"
    },
    "tags": []
   },
   "outputs": [
    {
     "data": {
      "text/plain": [
       "容纳人数           0\n",
       "便利设施           0\n",
       "洗手间数量          0\n",
       "床的数量           0\n",
       "床的类型           0\n",
       "卧室数量           0\n",
       "取消条款           0\n",
       "清洁费            0\n",
       "首次评论日期         0\n",
       "房主是否有个人资料图片    0\n",
       "房主身份是否验证       0\n",
       "房主回复率          0\n",
       "何时成为房主         0\n",
       "最近评论日期         0\n",
       "维度             0\n",
       "经度             0\n",
       "民宿周边           0\n",
       "评论个数           0\n",
       "民宿评分           0\n",
       "邮编             0\n",
       "所在城市_0         0\n",
       "所在城市_1         0\n",
       "所在城市_2         0\n",
       "所在城市_3         0\n",
       "所在城市_4         0\n",
       "所在城市_5         0\n",
       "是否支持随即预订_0     0\n",
       "是否支持随即预订_1     0\n",
       "房产类型_0         0\n",
       "房产类型_1         0\n",
       "房产类型_10        0\n",
       "房产类型_11        0\n",
       "房产类型_12        0\n",
       "房产类型_13        0\n",
       "房产类型_14        0\n",
       "房产类型_15        0\n",
       "房产类型_16        0\n",
       "房产类型_17        0\n",
       "房产类型_18        0\n",
       "房产类型_19        0\n",
       "房产类型_2         0\n",
       "房产类型_20        0\n",
       "房产类型_21        0\n",
       "房产类型_22        0\n",
       "房产类型_23        0\n",
       "房产类型_24        0\n",
       "房产类型_25        0\n",
       "房产类型_26        0\n",
       "房产类型_27        0\n",
       "房产类型_28        0\n",
       "房产类型_29        0\n",
       "房产类型_3         0\n",
       "房产类型_30        0\n",
       "房产类型_31        0\n",
       "房产类型_32        0\n",
       "房产类型_33        0\n",
       "房产类型_34        0\n",
       "房产类型_4         0\n",
       "房产类型_5         0\n",
       "房产类型_6         0\n",
       "房产类型_7         0\n",
       "房产类型_8         0\n",
       "房产类型_9         0\n",
       "房型_0           0\n",
       "房型_1           0\n",
       "房型_2           0\n",
       "dtype: int64"
      ]
     },
     "execution_count": 39,
     "metadata": {},
     "output_type": "execute_result"
    }
   ],
   "source": [
    "all_data.isnull().sum()"
   ]
  },
  {
   "cell_type": "markdown",
   "metadata": {
    "id": "82587665A117420E9A99BBABDEEEA81E",
    "jupyter": {},
    "mdEditEnable": false,
    "slideshow": {
     "slide_type": "slide"
    },
    "tags": []
   },
   "source": [
    "## 重新划分数据集"
   ]
  },
  {
   "cell_type": "code",
   "execution_count": 40,
   "metadata": {
    "id": "284E300A643A4E7CA99315D81406149B",
    "jupyter": {},
    "scrolled": false,
    "slideshow": {
     "slide_type": "slide"
    },
    "tags": []
   },
   "outputs": [],
   "source": [
    "# 将处理好的数据重新划分成训练集和测试集，为模型训练与测试做准备\n",
    "train = all_data[:ntrain]\n",
    "test = all_data[ntrain:]"
   ]
  },
  {
   "cell_type": "markdown",
   "metadata": {
    "id": "72236ED57A65490A9CBB08E0E88A8C22",
    "jupyter": {},
    "mdEditEnable": false,
    "slideshow": {
     "slide_type": "slide"
    },
    "tags": []
   },
   "source": [
    "## 特征重要性检测"
   ]
  },
  {
   "cell_type": "code",
   "execution_count": 41,
   "metadata": {
    "id": "7BBA9F6EF809435D98B08BE20B644C62",
    "jupyter": {},
    "scrolled": false,
    "slideshow": {
     "slide_type": "slide"
    },
    "tags": []
   },
   "outputs": [
    {
     "data": {
      "text/plain": [
       "Lasso(alpha=0.001)"
      ]
     },
     "execution_count": 41,
     "metadata": {},
     "output_type": "execute_result"
    }
   ],
   "source": [
    "lasso=Lasso(alpha=0.001)\n",
    "lasso.fit(train,y_train)"
   ]
  },
  {
   "cell_type": "code",
   "execution_count": 42,
   "metadata": {
    "id": "10B43F782CD3486C8284D4297FBECF88",
    "jupyter": {},
    "scrolled": false,
    "slideshow": {
     "slide_type": "slide"
    },
    "tags": []
   },
   "outputs": [
    {
     "data": {
      "text/html": [
       "<div>\n",
       "<style scoped>\n",
       "    .dataframe tbody tr th:only-of-type {\n",
       "        vertical-align: middle;\n",
       "    }\n",
       "\n",
       "    .dataframe tbody tr th {\n",
       "        vertical-align: top;\n",
       "    }\n",
       "\n",
       "    .dataframe thead th {\n",
       "        text-align: right;\n",
       "    }\n",
       "</style>\n",
       "<table border=\"1\" class=\"dataframe\">\n",
       "  <thead>\n",
       "    <tr style=\"text-align: right;\">\n",
       "      <th></th>\n",
       "      <th>Feature Importance</th>\n",
       "    </tr>\n",
       "  </thead>\n",
       "  <tbody>\n",
       "    <tr>\n",
       "      <th>房型_0</th>\n",
       "      <td>7.987517</td>\n",
       "    </tr>\n",
       "    <tr>\n",
       "      <th>洗手间数量</th>\n",
       "      <td>5.546336</td>\n",
       "    </tr>\n",
       "    <tr>\n",
       "      <th>容纳人数</th>\n",
       "      <td>5.368039</td>\n",
       "    </tr>\n",
       "    <tr>\n",
       "      <th>房产类型_27</th>\n",
       "      <td>4.684516</td>\n",
       "    </tr>\n",
       "    <tr>\n",
       "      <th>所在城市_2</th>\n",
       "      <td>3.960528</td>\n",
       "    </tr>\n",
       "    <tr>\n",
       "      <th>民宿评分</th>\n",
       "      <td>3.828400</td>\n",
       "    </tr>\n",
       "    <tr>\n",
       "      <th>房产类型_3</th>\n",
       "      <td>3.698826</td>\n",
       "    </tr>\n",
       "    <tr>\n",
       "      <th>卧室数量</th>\n",
       "      <td>3.463261</td>\n",
       "    </tr>\n",
       "    <tr>\n",
       "      <th>所在城市_5</th>\n",
       "      <td>3.019976</td>\n",
       "    </tr>\n",
       "    <tr>\n",
       "      <th>房产类型_33</th>\n",
       "      <td>2.160054</td>\n",
       "    </tr>\n",
       "    <tr>\n",
       "      <th>房产类型_2</th>\n",
       "      <td>1.963974</td>\n",
       "    </tr>\n",
       "    <tr>\n",
       "      <th>房产类型_23</th>\n",
       "      <td>1.459520</td>\n",
       "    </tr>\n",
       "    <tr>\n",
       "      <th>房产类型_22</th>\n",
       "      <td>1.337065</td>\n",
       "    </tr>\n",
       "    <tr>\n",
       "      <th>所在城市_4</th>\n",
       "      <td>1.160195</td>\n",
       "    </tr>\n",
       "    <tr>\n",
       "      <th>房产类型_1</th>\n",
       "      <td>1.057994</td>\n",
       "    </tr>\n",
       "    <tr>\n",
       "      <th>房产类型_11</th>\n",
       "      <td>0.583798</td>\n",
       "    </tr>\n",
       "    <tr>\n",
       "      <th>是否支持随即预订_0</th>\n",
       "      <td>0.484927</td>\n",
       "    </tr>\n",
       "    <tr>\n",
       "      <th>最近评论日期</th>\n",
       "      <td>0.340998</td>\n",
       "    </tr>\n",
       "    <tr>\n",
       "      <th>维度</th>\n",
       "      <td>0.222065</td>\n",
       "    </tr>\n",
       "    <tr>\n",
       "      <th>取消条款</th>\n",
       "      <td>0.159553</td>\n",
       "    </tr>\n",
       "    <tr>\n",
       "      <th>房主回复率</th>\n",
       "      <td>0.005139</td>\n",
       "    </tr>\n",
       "    <tr>\n",
       "      <th>民宿周边</th>\n",
       "      <td>0.003330</td>\n",
       "    </tr>\n",
       "    <tr>\n",
       "      <th>便利设施</th>\n",
       "      <td>0.000017</td>\n",
       "    </tr>\n",
       "    <tr>\n",
       "      <th>房产类型_8</th>\n",
       "      <td>0.000000</td>\n",
       "    </tr>\n",
       "    <tr>\n",
       "      <th>房产类型_24</th>\n",
       "      <td>0.000000</td>\n",
       "    </tr>\n",
       "    <tr>\n",
       "      <th>房产类型_20</th>\n",
       "      <td>0.000000</td>\n",
       "    </tr>\n",
       "    <tr>\n",
       "      <th>房产类型_21</th>\n",
       "      <td>0.000000</td>\n",
       "    </tr>\n",
       "    <tr>\n",
       "      <th>房产类型_5</th>\n",
       "      <td>-0.000000</td>\n",
       "    </tr>\n",
       "    <tr>\n",
       "      <th>房产类型_32</th>\n",
       "      <td>0.000000</td>\n",
       "    </tr>\n",
       "    <tr>\n",
       "      <th>房产类型_7</th>\n",
       "      <td>0.000000</td>\n",
       "    </tr>\n",
       "    <tr>\n",
       "      <th>房产类型_9</th>\n",
       "      <td>0.000000</td>\n",
       "    </tr>\n",
       "    <tr>\n",
       "      <th>房产类型_25</th>\n",
       "      <td>0.000000</td>\n",
       "    </tr>\n",
       "    <tr>\n",
       "      <th>房型_1</th>\n",
       "      <td>-0.000000</td>\n",
       "    </tr>\n",
       "    <tr>\n",
       "      <th>房产类型_18</th>\n",
       "      <td>-0.000000</td>\n",
       "    </tr>\n",
       "    <tr>\n",
       "      <th>房产类型_30</th>\n",
       "      <td>0.000000</td>\n",
       "    </tr>\n",
       "    <tr>\n",
       "      <th>房产类型_34</th>\n",
       "      <td>0.000000</td>\n",
       "    </tr>\n",
       "    <tr>\n",
       "      <th>房产类型_28</th>\n",
       "      <td>0.000000</td>\n",
       "    </tr>\n",
       "    <tr>\n",
       "      <th>房产类型_31</th>\n",
       "      <td>-0.000000</td>\n",
       "    </tr>\n",
       "    <tr>\n",
       "      <th>房产类型_13</th>\n",
       "      <td>0.000000</td>\n",
       "    </tr>\n",
       "    <tr>\n",
       "      <th>所在城市_0</th>\n",
       "      <td>-0.000000</td>\n",
       "    </tr>\n",
       "    <tr>\n",
       "      <th>是否支持随即预订_1</th>\n",
       "      <td>-0.000000</td>\n",
       "    </tr>\n",
       "    <tr>\n",
       "      <th>房产类型_10</th>\n",
       "      <td>0.000000</td>\n",
       "    </tr>\n",
       "    <tr>\n",
       "      <th>何时成为房主</th>\n",
       "      <td>-0.000515</td>\n",
       "    </tr>\n",
       "    <tr>\n",
       "      <th>邮编</th>\n",
       "      <td>-0.014735</td>\n",
       "    </tr>\n",
       "    <tr>\n",
       "      <th>床的类型</th>\n",
       "      <td>-0.078511</td>\n",
       "    </tr>\n",
       "    <tr>\n",
       "      <th>经度</th>\n",
       "      <td>-0.237842</td>\n",
       "    </tr>\n",
       "    <tr>\n",
       "      <th>首次评论日期</th>\n",
       "      <td>-0.433057</td>\n",
       "    </tr>\n",
       "    <tr>\n",
       "      <th>房主是否有个人资料图片</th>\n",
       "      <td>-0.530862</td>\n",
       "    </tr>\n",
       "    <tr>\n",
       "      <th>评论个数</th>\n",
       "      <td>-0.549192</td>\n",
       "    </tr>\n",
       "    <tr>\n",
       "      <th>房产类型_4</th>\n",
       "      <td>-0.606435</td>\n",
       "    </tr>\n",
       "    <tr>\n",
       "      <th>房产类型_6</th>\n",
       "      <td>-0.619571</td>\n",
       "    </tr>\n",
       "    <tr>\n",
       "      <th>床的数量</th>\n",
       "      <td>-0.655503</td>\n",
       "    </tr>\n",
       "    <tr>\n",
       "      <th>房产类型_26</th>\n",
       "      <td>-0.656711</td>\n",
       "    </tr>\n",
       "    <tr>\n",
       "      <th>房产类型_29</th>\n",
       "      <td>-0.782922</td>\n",
       "    </tr>\n",
       "    <tr>\n",
       "      <th>房产类型_15</th>\n",
       "      <td>-0.791782</td>\n",
       "    </tr>\n",
       "    <tr>\n",
       "      <th>房主身份是否验证</th>\n",
       "      <td>-0.797559</td>\n",
       "    </tr>\n",
       "    <tr>\n",
       "      <th>房产类型_14</th>\n",
       "      <td>-0.892837</td>\n",
       "    </tr>\n",
       "    <tr>\n",
       "      <th>清洁费</th>\n",
       "      <td>-0.957773</td>\n",
       "    </tr>\n",
       "    <tr>\n",
       "      <th>房产类型_17</th>\n",
       "      <td>-0.987180</td>\n",
       "    </tr>\n",
       "    <tr>\n",
       "      <th>房产类型_0</th>\n",
       "      <td>-1.235483</td>\n",
       "    </tr>\n",
       "    <tr>\n",
       "      <th>所在城市_1</th>\n",
       "      <td>-3.064451</td>\n",
       "    </tr>\n",
       "    <tr>\n",
       "      <th>房产类型_19</th>\n",
       "      <td>-3.494221</td>\n",
       "    </tr>\n",
       "    <tr>\n",
       "      <th>所在城市_3</th>\n",
       "      <td>-4.812505</td>\n",
       "    </tr>\n",
       "    <tr>\n",
       "      <th>房型_2</th>\n",
       "      <td>-5.987341</td>\n",
       "    </tr>\n",
       "    <tr>\n",
       "      <th>房产类型_12</th>\n",
       "      <td>-7.386821</td>\n",
       "    </tr>\n",
       "    <tr>\n",
       "      <th>房产类型_16</th>\n",
       "      <td>-9.976157</td>\n",
       "    </tr>\n",
       "  </tbody>\n",
       "</table>\n",
       "</div>"
      ],
      "text/plain": [
       "             Feature Importance\n",
       "房型_0                   7.987517\n",
       "洗手间数量                  5.546336\n",
       "容纳人数                   5.368039\n",
       "房产类型_27                4.684516\n",
       "所在城市_2                 3.960528\n",
       "民宿评分                   3.828400\n",
       "房产类型_3                 3.698826\n",
       "卧室数量                   3.463261\n",
       "所在城市_5                 3.019976\n",
       "房产类型_33                2.160054\n",
       "房产类型_2                 1.963974\n",
       "房产类型_23                1.459520\n",
       "房产类型_22                1.337065\n",
       "所在城市_4                 1.160195\n",
       "房产类型_1                 1.057994\n",
       "房产类型_11                0.583798\n",
       "是否支持随即预订_0             0.484927\n",
       "最近评论日期                 0.340998\n",
       "维度                     0.222065\n",
       "取消条款                   0.159553\n",
       "房主回复率                  0.005139\n",
       "民宿周边                   0.003330\n",
       "便利设施                   0.000017\n",
       "房产类型_8                 0.000000\n",
       "房产类型_24                0.000000\n",
       "房产类型_20                0.000000\n",
       "房产类型_21                0.000000\n",
       "房产类型_5                -0.000000\n",
       "房产类型_32                0.000000\n",
       "房产类型_7                 0.000000\n",
       "房产类型_9                 0.000000\n",
       "房产类型_25                0.000000\n",
       "房型_1                  -0.000000\n",
       "房产类型_18               -0.000000\n",
       "房产类型_30                0.000000\n",
       "房产类型_34                0.000000\n",
       "房产类型_28                0.000000\n",
       "房产类型_31               -0.000000\n",
       "房产类型_13                0.000000\n",
       "所在城市_0                -0.000000\n",
       "是否支持随即预订_1            -0.000000\n",
       "房产类型_10                0.000000\n",
       "何时成为房主                -0.000515\n",
       "邮编                    -0.014735\n",
       "床的类型                  -0.078511\n",
       "经度                    -0.237842\n",
       "首次评论日期                -0.433057\n",
       "房主是否有个人资料图片           -0.530862\n",
       "评论个数                  -0.549192\n",
       "房产类型_4                -0.606435\n",
       "房产类型_6                -0.619571\n",
       "床的数量                  -0.655503\n",
       "房产类型_26               -0.656711\n",
       "房产类型_29               -0.782922\n",
       "房产类型_15               -0.791782\n",
       "房主身份是否验证              -0.797559\n",
       "房产类型_14               -0.892837\n",
       "清洁费                   -0.957773\n",
       "房产类型_17               -0.987180\n",
       "房产类型_0                -1.235483\n",
       "所在城市_1                -3.064451\n",
       "房产类型_19               -3.494221\n",
       "所在城市_3                -4.812505\n",
       "房型_2                  -5.987341\n",
       "房产类型_12               -7.386821\n",
       "房产类型_16               -9.976157"
      ]
     },
     "execution_count": 42,
     "metadata": {},
     "output_type": "execute_result"
    }
   ],
   "source": [
    "FI_lasso = pd.DataFrame({\"Feature Importance\":lasso.coef_}, index=train.columns)\n",
    "FI_lasso.sort_values(\"Feature Importance\",ascending=False)"
   ]
  },
  {
   "cell_type": "code",
   "execution_count": 43,
   "metadata": {
    "id": "73FBF694C00F44848C61FB37AA01736D",
    "jupyter": {},
    "scrolled": false,
    "slideshow": {
     "slide_type": "slide"
    },
    "tags": []
   },
   "outputs": [],
   "source": [
    "# FI_lasso[FI_lasso[\"Feature Importance\"]!=0].sort_values(\"Feature Importance\").plot(kind=\"barh\",figsize=(15,25))\n",
    "# plt.xticks(rotation=90)\n",
    "# plt.show()"
   ]
  },
  {
   "cell_type": "markdown",
   "metadata": {
    "id": "CE37763199B440E88C039316652667F6",
    "jupyter": {},
    "mdEditEnable": false,
    "slideshow": {
     "slide_type": "slide"
    },
    "tags": []
   },
   "source": [
    "# 基础模型"
   ]
  },
  {
   "cell_type": "markdown",
   "metadata": {
    "id": "B43EEF690EEC4ABBAD2278335C871E86",
    "jupyter": {},
    "mdEditEnable": false,
    "slideshow": {
     "slide_type": "slide"
    },
    "tags": []
   },
   "source": [
    "## 定义交叉验证策略"
   ]
  },
  {
   "cell_type": "code",
   "execution_count": 44,
   "metadata": {
    "id": "9B204C1078B347C0BE526B6392A6CAE6",
    "jupyter": {},
    "scrolled": false,
    "slideshow": {
     "slide_type": "slide"
    },
    "tags": []
   },
   "outputs": [],
   "source": [
    "# cross_val_score默认使用K折交叉验证策略。此处先使用KFold的shuffle参数混洗数据\n",
    "# neg_mean_squared_error：负均方误差，是损失函数，优化目标是使其最小化\n",
    "n_splits = 5\n",
    "def nmse_cv(model):\n",
    "    kf = KFold(n_splits, shuffle=True, random_state=42).get_n_splits(train.values)\n",
    "    nmse = np.sqrt(-cross_val_score(model, train.values, y_train, scoring='neg_mean_squared_error', cv=kf,verbose=50))\n",
    "    return(nmse)"
   ]
  },
  {
   "cell_type": "markdown",
   "metadata": {
    "id": "B1F525EFBBA04DC785EF9C5C07BBD086",
    "jupyter": {},
    "mdEditEnable": false,
    "slideshow": {
     "slide_type": "slide"
    },
    "tags": []
   },
   "source": [
    "## 建立基础模型"
   ]
  },
  {
   "cell_type": "code",
   "execution_count": 45,
   "metadata": {
    "id": "AB63B46FABA44A45897A553600FD9EF8",
    "jupyter": {},
    "scrolled": false,
    "slideshow": {
     "slide_type": "slide"
    },
    "tags": []
   },
   "outputs": [],
   "source": [
    "# lasso/ElasticNet模型对异常值敏感，使用RobustScaler缩放有离群值的数据\n",
    "lasso = make_pipeline(RobustScaler(), Lasso(alpha=0.0005, random_state=1))\n",
    "ENet = make_pipeline(RobustScaler(), ElasticNet(alpha=0.0005, l1_ratio=.9, random_state=3))\n",
    "KRR = KernelRidge(alpha=0.6, kernel='polynomial', degree=2, coef0=0.25)\n",
    "GBoost = GradientBoostingRegressor(n_estimators=3000, learning_rate=0.2,\n",
    "                                   max_depth=4, max_features='sqrt',\n",
    "                                   min_samples_leaf=15, min_samples_split=10, \n",
    "                                   loss='huber', random_state =5)\n",
    "model_xgb = xgb.XGBRegressor(colsample_bytree=0.4603, gamma=0.0468, \n",
    "                             learning_rate=0.2, max_depth=3, \n",
    "                             min_child_weight=1.7817, n_estimators=2200,\n",
    "                             reg_alpha=0.4640, reg_lambda=0.8571,\n",
    "                             subsample=0.5213, \n",
    "                             random_state =7, nthread = -1)\n",
    "model_lgb = lgb.LGBMRegressor(objective='regression',num_leaves=5,\n",
    "                              learning_rate=0.2, n_estimators=720,\n",
    "                              max_bin = 55, bagging_fraction = 0.8,\n",
    "                              bagging_freq = 5, feature_fraction = 0.2319,\n",
    "                              feature_fraction_seed=9, bagging_seed=9,\n",
    "                              min_data_in_leaf =6, min_sum_hessian_in_leaf = 11)"
   ]
  },
  {
   "cell_type": "markdown",
   "metadata": {
    "id": "08886559AB454D9A9F3E3A997D6562D9",
    "jupyter": {},
    "mdEditEnable": false,
    "slideshow": {
     "slide_type": "slide"
    },
    "tags": []
   },
   "source": [
    "## 基础模型分数"
   ]
  },
  {
   "cell_type": "code",
   "execution_count": 46,
   "metadata": {
    "id": "E0FEFC0B56D54B09801692C4343D7610",
    "jupyter": {},
    "scrolled": false,
    "slideshow": {
     "slide_type": "slide"
    },
    "tags": []
   },
   "outputs": [
    {
     "name": "stdout",
     "output_type": "stream",
     "text": [
      "[Parallel(n_jobs=1)]: Using backend SequentialBackend with 1 concurrent workers.\n",
      "[CV]  ................................................................\n",
      "[CV] .................................. , score=-43.229, total=  10.9s\n",
      "[Parallel(n_jobs=1)]: Done   1 out of   1 | elapsed:   10.8s remaining:    0.0s\n",
      "[CV]  ................................................................\n",
      "[CV] .................................. , score=-45.838, total=  10.2s\n",
      "[Parallel(n_jobs=1)]: Done   2 out of   2 | elapsed:   21.1s remaining:    0.0s\n",
      "[CV]  ................................................................\n",
      "[CV] .................................. , score=-44.498, total=  10.7s\n",
      "[Parallel(n_jobs=1)]: Done   3 out of   3 | elapsed:   31.7s remaining:    0.0s\n",
      "[CV]  ................................................................\n",
      "[CV] .................................. , score=-43.896, total=  10.4s\n",
      "[Parallel(n_jobs=1)]: Done   4 out of   4 | elapsed:   42.2s remaining:    0.0s\n",
      "[CV]  ................................................................\n",
      "[CV] .................................. , score=-44.888, total=  10.7s\n",
      "[Parallel(n_jobs=1)]: Done   5 out of   5 | elapsed:   52.8s remaining:    0.0s\n",
      "[Parallel(n_jobs=1)]: Done   5 out of   5 | elapsed:   52.8s finished\n",
      "Lasso score:6.6682 (0.0663) \n",
      "\n",
      "[Parallel(n_jobs=1)]: Using backend SequentialBackend with 1 concurrent workers.\n",
      "[CV]  ................................................................\n",
      "[CV] .................................. , score=-43.217, total=  11.0s\n",
      "[Parallel(n_jobs=1)]: Done   1 out of   1 | elapsed:   10.9s remaining:    0.0s\n",
      "[CV]  ................................................................\n",
      "[CV] .................................. , score=-45.834, total=  10.6s\n",
      "[Parallel(n_jobs=1)]: Done   2 out of   2 | elapsed:   21.5s remaining:    0.0s\n",
      "[CV]  ................................................................\n",
      "[CV] .................................. , score=-44.503, total=  11.0s\n",
      "[Parallel(n_jobs=1)]: Done   3 out of   3 | elapsed:   32.5s remaining:    0.0s\n",
      "[CV]  ................................................................\n",
      "[CV] .................................. , score=-43.898, total=  10.6s\n",
      "[Parallel(n_jobs=1)]: Done   4 out of   4 | elapsed:   43.1s remaining:    0.0s\n",
      "[CV]  ................................................................\n",
      "[CV] .................................. , score=-44.892, total=  10.8s\n",
      "[Parallel(n_jobs=1)]: Done   5 out of   5 | elapsed:   53.9s remaining:    0.0s\n",
      "[Parallel(n_jobs=1)]: Done   5 out of   5 | elapsed:   53.9s finished\n",
      "ELasticNet score:6.6682 (0.0665) \n",
      "\n",
      "[Parallel(n_jobs=1)]: Using backend SequentialBackend with 1 concurrent workers.\n",
      "[CV]  ................................................................\n",
      "[CV] .................................. , score=-29.248, total= 4.0min\n",
      "[Parallel(n_jobs=1)]: Done   1 out of   1 | elapsed:  4.0min remaining:    0.0s\n",
      "[CV]  ................................................................\n",
      "[CV] .................................. , score=-30.735, total= 3.9min\n",
      "[Parallel(n_jobs=1)]: Done   2 out of   2 | elapsed:  8.0min remaining:    0.0s\n",
      "[CV]  ................................................................\n",
      "[CV] .................................. , score=-29.768, total= 4.0min\n",
      "[Parallel(n_jobs=1)]: Done   3 out of   3 | elapsed: 11.9min remaining:    0.0s\n",
      "[CV]  ................................................................\n",
      "[CV] .................................. , score=-29.515, total= 4.0min\n",
      "[Parallel(n_jobs=1)]: Done   4 out of   4 | elapsed: 16.0min remaining:    0.0s\n",
      "[CV]  ................................................................\n",
      "[CV] .................................. , score=-29.052, total= 4.3min\n",
      "[Parallel(n_jobs=1)]: Done   5 out of   5 | elapsed: 20.3min remaining:    0.0s\n",
      "[Parallel(n_jobs=1)]: Done   5 out of   5 | elapsed: 20.3min finished\n",
      "GradientBoosting score:5.4462 (0.0537) \n",
      "\n",
      "[Parallel(n_jobs=1)]: Using backend SequentialBackend with 1 concurrent workers.\n",
      "[CV]  ................................................................\n",
      "[CV] .................................. , score=-30.038, total= 1.5min\n",
      "[Parallel(n_jobs=1)]: Done   1 out of   1 | elapsed:  1.5min remaining:    0.0s\n",
      "[CV]  ................................................................\n",
      "[CV] .................................. , score=-31.169, total= 1.5min\n",
      "[Parallel(n_jobs=1)]: Done   2 out of   2 | elapsed:  3.0min remaining:    0.0s\n",
      "[CV]  ................................................................\n",
      "[CV] .................................. , score=-30.769, total= 1.5min\n",
      "[Parallel(n_jobs=1)]: Done   3 out of   3 | elapsed:  4.5min remaining:    0.0s\n",
      "[CV]  ................................................................\n",
      "[CV] .................................. , score=-29.886, total= 1.7min\n",
      "[Parallel(n_jobs=1)]: Done   4 out of   4 | elapsed:  6.2min remaining:    0.0s\n",
      "[CV]  ................................................................\n",
      "[CV] .................................. , score=-30.057, total= 1.5min\n",
      "[Parallel(n_jobs=1)]: Done   5 out of   5 | elapsed:  7.7min remaining:    0.0s\n",
      "[Parallel(n_jobs=1)]: Done   5 out of   5 | elapsed:  7.7min finished\n",
      "Xgboost score:5.5119 (0.0451) \n",
      "\n",
      "[Parallel(n_jobs=1)]: Using backend SequentialBackend with 1 concurrent workers.\n",
      "[CV]  ................................................................\n",
      "[LightGBM] [Warning] feature_fraction is set=0.2319, colsample_bytree=1.0 will be ignored. Current value: feature_fraction=0.2319\n",
      "[LightGBM] [Warning] min_data_in_leaf is set=6, min_child_samples=20 will be ignored. Current value: min_data_in_leaf=6\n",
      "[LightGBM] [Warning] min_sum_hessian_in_leaf is set=11, min_child_weight=0.001 will be ignored. Current value: min_sum_hessian_in_leaf=11\n",
      "[LightGBM] [Warning] bagging_fraction is set=0.8, subsample=1.0 will be ignored. Current value: bagging_fraction=0.8\n",
      "[LightGBM] [Warning] bagging_freq is set=5, subsample_freq=0 will be ignored. Current value: bagging_freq=5\n",
      "[CV] .................................. , score=-30.329, total=   2.7s\n",
      "[Parallel(n_jobs=1)]: Done   1 out of   1 | elapsed:    2.6s remaining:    0.0s\n",
      "[CV]  ................................................................\n",
      "[LightGBM] [Warning] feature_fraction is set=0.2319, colsample_bytree=1.0 will be ignored. Current value: feature_fraction=0.2319\n",
      "[LightGBM] [Warning] min_data_in_leaf is set=6, min_child_samples=20 will be ignored. Current value: min_data_in_leaf=6\n",
      "[LightGBM] [Warning] min_sum_hessian_in_leaf is set=11, min_child_weight=0.001 will be ignored. Current value: min_sum_hessian_in_leaf=11\n",
      "[LightGBM] [Warning] bagging_fraction is set=0.8, subsample=1.0 will be ignored. Current value: bagging_fraction=0.8\n",
      "[LightGBM] [Warning] bagging_freq is set=5, subsample_freq=0 will be ignored. Current value: bagging_freq=5\n",
      "[CV] .................................. , score=-31.914, total=   2.5s\n",
      "[Parallel(n_jobs=1)]: Done   2 out of   2 | elapsed:    5.0s remaining:    0.0s\n",
      "[CV]  ................................................................\n",
      "[LightGBM] [Warning] feature_fraction is set=0.2319, colsample_bytree=1.0 will be ignored. Current value: feature_fraction=0.2319\n",
      "[LightGBM] [Warning] min_data_in_leaf is set=6, min_child_samples=20 will be ignored. Current value: min_data_in_leaf=6\n",
      "[LightGBM] [Warning] min_sum_hessian_in_leaf is set=11, min_child_weight=0.001 will be ignored. Current value: min_sum_hessian_in_leaf=11\n",
      "[LightGBM] [Warning] bagging_fraction is set=0.8, subsample=1.0 will be ignored. Current value: bagging_fraction=0.8\n",
      "[LightGBM] [Warning] bagging_freq is set=5, subsample_freq=0 will be ignored. Current value: bagging_freq=5\n",
      "[CV] .................................. , score=-31.143, total=   2.7s\n",
      "[Parallel(n_jobs=1)]: Done   3 out of   3 | elapsed:    7.8s remaining:    0.0s\n",
      "[CV]  ................................................................\n",
      "[LightGBM] [Warning] feature_fraction is set=0.2319, colsample_bytree=1.0 will be ignored. Current value: feature_fraction=0.2319\n",
      "[LightGBM] [Warning] min_data_in_leaf is set=6, min_child_samples=20 will be ignored. Current value: min_data_in_leaf=6\n",
      "[LightGBM] [Warning] min_sum_hessian_in_leaf is set=11, min_child_weight=0.001 will be ignored. Current value: min_sum_hessian_in_leaf=11\n",
      "[LightGBM] [Warning] bagging_fraction is set=0.8, subsample=1.0 will be ignored. Current value: bagging_fraction=0.8\n",
      "[LightGBM] [Warning] bagging_freq is set=5, subsample_freq=0 will be ignored. Current value: bagging_freq=5\n"
     ]
    },
    {
     "name": "stdout",
     "output_type": "stream",
     "text": [
      "[CV] .................................. , score=-30.071, total=   2.7s\n",
      "[Parallel(n_jobs=1)]: Done   4 out of   4 | elapsed:   10.5s remaining:    0.0s\n",
      "[CV]  ................................................................\n",
      "[LightGBM] [Warning] feature_fraction is set=0.2319, colsample_bytree=1.0 will be ignored. Current value: feature_fraction=0.2319\n",
      "[LightGBM] [Warning] min_data_in_leaf is set=6, min_child_samples=20 will be ignored. Current value: min_data_in_leaf=6\n",
      "[LightGBM] [Warning] min_sum_hessian_in_leaf is set=11, min_child_weight=0.001 will be ignored. Current value: min_sum_hessian_in_leaf=11\n",
      "[LightGBM] [Warning] bagging_fraction is set=0.8, subsample=1.0 will be ignored. Current value: bagging_fraction=0.8\n",
      "[LightGBM] [Warning] bagging_freq is set=5, subsample_freq=0 will be ignored. Current value: bagging_freq=5\n",
      "[CV] .................................. , score=-30.386, total=   2.5s\n",
      "[Parallel(n_jobs=1)]: Done   5 out of   5 | elapsed:   13.0s remaining:    0.0s\n",
      "[Parallel(n_jobs=1)]: Done   5 out of   5 | elapsed:   13.0s finished\n",
      "LGBM score:5.5466 (0.0606) \n",
      "\n"
     ]
    }
   ],
   "source": [
    "models = [lasso, ENet, GBoost, model_xgb, model_lgb]\n",
    "names = ['Lasso', 'ELasticNet',  'GradientBoosting', 'Xgboost', 'LGBM']\n",
    "for model, name in zip(models, names):\n",
    "    score = nmse_cv(model)\n",
    "    # 验证结果返回5个分数，求均值和标准差\n",
    "    print('{} score:{:.4f} ({:.4f}) \\n'.format(name, score.mean(), score.std()))"
   ]
  },
  {
   "cell_type": "markdown",
   "metadata": {
    "id": "4B6E13076F2E40008341FA518BD295B9",
    "jupyter": {},
    "mdEditEnable": false,
    "slideshow": {
     "slide_type": "slide"
    },
    "tags": []
   },
   "source": [
    "# 模型融合"
   ]
  },
  {
   "cell_type": "markdown",
   "metadata": {
    "id": "845AA0D537894F5B9F4473F24F458D01",
    "jupyter": {},
    "mdEditEnable": false,
    "slideshow": {
     "slide_type": "slide"
    },
    "tags": []
   },
   "source": [
    "## 方法一：模型平均"
   ]
  },
  {
   "cell_type": "markdown",
   "metadata": {
    "id": "27A5888C4E364B49A8ACB6462DC0AFC0",
    "jupyter": {},
    "mdEditEnable": false,
    "slideshow": {
     "slide_type": "slide"
    },
    "tags": []
   },
   "source": [
    "### 模型平均类"
   ]
  },
  {
   "cell_type": "code",
   "execution_count": 47,
   "metadata": {
    "id": "1AA1B5F971B444418C93083555DA87EB",
    "jupyter": {},
    "scrolled": false,
    "slideshow": {
     "slide_type": "slide"
    },
    "tags": []
   },
   "outputs": [],
   "source": [
    "class AveragingModels(BaseEstimator, RegressorMixin, TransformerMixin):\n",
    "    \n",
    "    def __init__(self, models):\n",
    "        self.models = models\n",
    "        \n",
    "    def fit(self, X, y):\n",
    "        self.clone_models = [clone(x) for x in self.models]\n",
    "        for model in self.clone_models:\n",
    "            model.fit(X, y)\n",
    "        return self\n",
    "    \n",
    "    def predict(self, X):\n",
    "        predictions = np.column_stack([model.predict(X) for model in self.clone_models])\n",
    "        return np.mean(predictions, axis=1)"
   ]
  },
  {
   "cell_type": "markdown",
   "metadata": {
    "id": "00919427F56B40588C4EE3B9F34FE6AD",
    "jupyter": {},
    "mdEditEnable": false,
    "slideshow": {
     "slide_type": "slide"
    },
    "tags": []
   },
   "source": [
    "### 模型平均分数"
   ]
  },
  {
   "cell_type": "code",
   "execution_count": 48,
   "metadata": {
    "id": "265BB8B7DCCB4C0889DF7D852F14D4D7",
    "jupyter": {},
    "scrolled": false,
    "slideshow": {
     "slide_type": "slide"
    },
    "tags": []
   },
   "outputs": [],
   "source": [
    "# averaged_models = AveragingModels(models = [ENet, GBoost, KRR, lasso])\n",
    "# score = nmse_cv(averaged_models)\n",
    "# print('Averaged base models score: {:.4f} ({:.4f}) \\n'.format(score.mean(), score.std()))"
   ]
  },
  {
   "cell_type": "code",
   "execution_count": null,
   "metadata": {
    "id": "51AD3FB663474B50962A0DB542DECD3B",
    "jupyter": {},
    "scrolled": false,
    "slideshow": {
     "slide_type": "slide"
    },
    "tags": []
   },
   "outputs": [
    {
     "name": "stdout",
     "output_type": "stream",
     "text": [
      "[Parallel(n_jobs=1)]: Using backend SequentialBackend with 1 concurrent workers.\n",
      "[CV]  ................................................................\n"
     ]
    }
   ],
   "source": [
    "averaged_models = AveragingModels(models = [lasso, ENet, KRR, GBoost, model_xgb, model_lgb])\n",
    "score = nmse_cv(averaged_models)\n",
    "print('Averaged base models score: {:.4f} ({:.4f}) \\n'.format(score.mean(), score.std()))"
   ]
  },
  {
   "cell_type": "markdown",
   "metadata": {
    "id": "4F37C899CA8F4B488EB32EDBB7F10371",
    "jupyter": {},
    "mdEditEnable": false,
    "slideshow": {
     "slide_type": "slide"
    },
    "tags": []
   },
   "source": [
    "## 方法二：模型叠加"
   ]
  },
  {
   "cell_type": "markdown",
   "metadata": {
    "id": "625CEFAE2C9F419894EAA475F370DF10",
    "jupyter": {},
    "mdEditEnable": false,
    "slideshow": {
     "slide_type": "slide"
    },
    "tags": []
   },
   "source": [
    "### 模型叠加类"
   ]
  },
  {
   "cell_type": "code",
   "execution_count": null,
   "metadata": {
    "id": "2F1F401F19EB46D0BAD4E3916B41616E",
    "jupyter": {},
    "scrolled": false,
    "slideshow": {
     "slide_type": "slide"
    },
    "tags": []
   },
   "outputs": [],
   "source": [
    "class StackingAveragedModels(BaseEstimator, RegressorMixin, TransformerMixin):\n",
    "    \n",
    "    def __init__(self, base_models, meta_model, n_folds=5):\n",
    "        self.base_models = base_models\n",
    "        self.meta_model = meta_model\n",
    "        self.n_folds = n_folds\n",
    "        \n",
    "    # 将原来的模型clone出来，并且实现fit功能    \n",
    "    def fit(self, X, y):\n",
    "        self.clone_base_models = [list() for x in self.base_models]\n",
    "        self.clone_meta_model = clone(self.meta_model)\n",
    "        kfold = KFold(n_splits=self.n_folds, shuffle=True, random_state=156)\n",
    "        out_of_fold_predictions = np.zeros((X.shape[0], len(self.base_models)))\n",
    "        \n",
    "        # 使用K-fold的方法来进行交叉验证，将每次验证的结果作为新的特征来进行处理\n",
    "        for i, model in enumerate(self.base_models):\n",
    "            for train_index, test_index in kfold.split(X, y):\n",
    "                instance = clone(model)\n",
    "                self.clone_base_models[i].append(instance)\n",
    "                instance.fit(X[train_index], y[train_index])\n",
    "                y_pred = instance.predict(X[test_index])\n",
    "                out_of_fold_predictions[test_index, i] = y_pred\n",
    "                \n",
    "        # 将交叉验证预测出的结果(标签)和训练集中的标签值用元模型进行训练\n",
    "        self.clone_meta_model.fit(out_of_fold_predictions, y)\n",
    "        return self\n",
    "        \n",
    "    def predict(self, X):\n",
    "        # 得到各模型预测结果平均值的二维数组\n",
    "        meta_features = np.column_stack([\n",
    "            np.column_stack([model.predict(X) for model in base_models]).mean(axis=1)\n",
    "            for base_models in self.clone_base_models\n",
    "        ])\n",
    "        return self.clone_meta_model.predict(meta_features)"
   ]
  },
  {
   "cell_type": "code",
   "execution_count": null,
   "metadata": {
    "id": "C4CCAFFE49B94CBC829C683A3FC50220",
    "jupyter": {},
    "scrolled": false,
    "slideshow": {
     "slide_type": "slide"
    },
    "tags": []
   },
   "outputs": [],
   "source": [
    "# 额外补充：举例理解column_stack\n",
    "\n",
    "# a,b代表各个模型预测结果\n",
    "a = np.array([1,2,3])\n",
    "b = np.array([4,5,6])\n",
    "# 将列排成二维数组，即将各个模型对每一个样本的预测结果分别组成一个数组，3行2列\n",
    "np.column_stack((a,b))"
   ]
  },
  {
   "cell_type": "code",
   "execution_count": null,
   "metadata": {
    "id": "74C99F6D6D2F4F248BD3B7296F3B17A4",
    "jupyter": {},
    "scrolled": false,
    "slideshow": {
     "slide_type": "slide"
    },
    "tags": []
   },
   "outputs": [],
   "source": [
    "# 按列取平均值，即各样本预测结果的平均值，得到一维数组\n",
    "np.column_stack([a,b]).mean(axis=1)"
   ]
  },
  {
   "cell_type": "code",
   "execution_count": null,
   "metadata": {
    "id": "1D2A1187467349B78DF849ED58420179",
    "jupyter": {},
    "scrolled": false,
    "slideshow": {
     "slide_type": "slide"
    },
    "tags": []
   },
   "outputs": [],
   "source": [
    "# 将一维数组转化为二维数组，3行1列\n",
    "np.column_stack([np.column_stack([a,b]).mean(axis=1)])"
   ]
  },
  {
   "cell_type": "markdown",
   "metadata": {
    "id": "FF086F83CF25479DB2E794D071C0AF4F",
    "jupyter": {},
    "mdEditEnable": false,
    "slideshow": {
     "slide_type": "slide"
    },
    "tags": []
   },
   "source": [
    "### 模型叠加分数"
   ]
  },
  {
   "cell_type": "code",
   "execution_count": null,
   "metadata": {
    "id": "18D8E168B6F54A618CACF70589284FF3",
    "jupyter": {},
    "scrolled": false,
    "slideshow": {
     "slide_type": "slide"
    },
    "tags": []
   },
   "outputs": [],
   "source": [
    "stacked_averaged_models = StackingAveragedModels(base_models=(ENet, model_lgb, KRR,model_lgb), meta_model=lasso)\n",
    "# score = nmse_cv(stacked_averaged_models)\n",
    "# print('Stacking Averaged models score: {:.4f} ({:.4f})'.format(score.mean(), score.std()))\n",
    "# 结果模型叠加分数比模型平均分数更低，模型效果更好"
   ]
  },
  {
   "cell_type": "markdown",
   "metadata": {
    "id": "C56EC456D98747E79B2633796EF2D04D",
    "jupyter": {},
    "mdEditEnable": false,
    "slideshow": {
     "slide_type": "slide"
    },
    "tags": []
   },
   "source": [
    "# 模型训练与预测"
   ]
  },
  {
   "cell_type": "markdown",
   "metadata": {
    "id": "84134EABC1DF43F88E426911C3508AC5",
    "jupyter": {},
    "mdEditEnable": false,
    "slideshow": {
     "slide_type": "slide"
    },
    "tags": []
   },
   "source": [
    "## 定义评估函数"
   ]
  },
  {
   "cell_type": "code",
   "execution_count": null,
   "metadata": {
    "id": "507018A538F0449F8C7E656998F6B0DB",
    "jupyter": {},
    "scrolled": false,
    "slideshow": {
     "slide_type": "slide"
    },
    "tags": []
   },
   "outputs": [],
   "source": [
    "# 均方差：MSE的值越小，预测模型具有更好的精确度\n",
    "def mse(y, y_pred):\n",
    "    return np.sqrt(mean_squared_error(y, y_pred))"
   ]
  },
  {
   "cell_type": "markdown",
   "metadata": {
    "id": "87A05A2AF9C34D77B341A004BA5B25C3",
    "jupyter": {},
    "mdEditEnable": false,
    "slideshow": {
     "slide_type": "slide"
    },
    "tags": []
   },
   "source": [
    "## 模型训练、预测、评估"
   ]
  },
  {
   "cell_type": "code",
   "execution_count": null,
   "metadata": {
    "id": "F955363DFF0349EB86F15899BEF3B292",
    "jupyter": {},
    "scrolled": false,
    "slideshow": {
     "slide_type": "slide"
    },
    "tags": []
   },
   "outputs": [],
   "source": [
    "stacked_averaged_models.fit(train.values, y_train)\n",
    "stacked_train_pred = stacked_averaged_models.predict(train.values)\n",
    "# 前面用log1p函数转化使标签更加服从高斯分布，现用expm1将预测出的平滑数据进行还原\n",
    "# stacked_pred = np.expm1(stacked_averaged_models.predict(test.values))\n",
    "stacked_pred = (stacked_averaged_models.predict(test.values))\n",
    "print(mse(y_train, stacked_train_pred))"
   ]
  },
  {
   "cell_type": "code",
   "execution_count": null,
   "metadata": {
    "id": "525C30818C074ED8B3E17262D9CA31B1",
    "jupyter": {},
    "scrolled": false,
    "slideshow": {
     "slide_type": "slide"
    },
    "tags": []
   },
   "outputs": [],
   "source": [
    "model_xgb.fit(train, y_train)\n",
    "xgb_train_pred = model_xgb.predict(train)\n",
    "# xgb_pred = np.expm1(model_xgb.predict(test))\n",
    "xgb_pred = (model_xgb.predict(test))\n",
    "print(mse(y_train, xgb_train_pred))"
   ]
  },
  {
   "cell_type": "code",
   "execution_count": null,
   "metadata": {
    "id": "43D7854F0B9D4B7885ED9349D011EDC3",
    "jupyter": {},
    "scrolled": false,
    "slideshow": {
     "slide_type": "slide"
    },
    "tags": []
   },
   "outputs": [],
   "source": [
    "# model_lgb = lgb.LGBMRegressor(objective='regression',num_leaves=5,\n",
    "#                               learning_rate=0.2, n_estimators=720,\n",
    "#                               max_bin = 55, )\n",
    "model_lgb.fit(train, y_train)\n",
    "lgb_train_pred = model_lgb.predict(train)\n",
    "# lgb_pred = np.expm1(model_lgb.predict(test))\n",
    "lgb_pred = (model_lgb.predict(test))\n",
    "\n",
    "print(mse(y_train, lgb_train_pred))"
   ]
  },
  {
   "cell_type": "code",
   "execution_count": null,
   "metadata": {},
   "outputs": [],
   "source": []
  },
  {
   "cell_type": "code",
   "execution_count": null,
   "metadata": {
    "id": "5C6B5DF1049243D1B536355FDFFE6DB6",
    "jupyter": {},
    "scrolled": false,
    "slideshow": {
     "slide_type": "slide"
    },
    "tags": []
   },
   "outputs": [],
   "source": [
    "# 基于交叉验证分数给出权重\n",
    "# Xgboost score:0.1161 (0.0079) \n",
    "# LGBM score:0.1167 (0.0072) \n",
    "# Stacking Averaged models score: 0.1084 (0.0073)\n",
    "print('MSE score on train data:')\n",
    "print(mse(y_train, stacked_train_pred*0.40 + xgb_train_pred*0.4 + lgb_train_pred*0.2))"
   ]
  },
  {
   "cell_type": "markdown",
   "metadata": {
    "id": "94B635B857FF469C9EAAB40A71556A0D",
    "jupyter": {},
    "mdEditEnable": false,
    "slideshow": {
     "slide_type": "slide"
    },
    "tags": []
   },
   "source": [
    "## 集成预测"
   ]
  },
  {
   "cell_type": "code",
   "execution_count": null,
   "metadata": {
    "id": "EA0D006A0795403AB8E3A01F8CDDFBCF",
    "jupyter": {},
    "scrolled": false,
    "slideshow": {
     "slide_type": "slide"
    },
    "tags": []
   },
   "outputs": [],
   "source": [
    "ensemble = stacked_pred*0.40 + xgb_pred*0.4 + lgb_pred*0.2\n",
    "ensemble"
   ]
  },
  {
   "cell_type": "markdown",
   "metadata": {
    "id": "7D13209207004ADB9F281B51F0E927B4",
    "jupyter": {},
    "mdEditEnable": false,
    "slideshow": {
     "slide_type": "slide"
    },
    "tags": []
   },
   "source": [
    "## 生成结果文件"
   ]
  },
  {
   "cell_type": "code",
   "execution_count": null,
   "metadata": {
    "id": "340C3EE343C44A8C8FCA92C7137836EB",
    "jupyter": {},
    "scrolled": false,
    "slideshow": {
     "slide_type": "slide"
    },
    "tags": []
   },
   "outputs": [],
   "source": [
    "sub = pd.DataFrame()\n",
    "sub['数据ID'] = test_Id\n",
    "sub['价格'] = ensemble\n",
    "sub.to_csv('submit.csv', index=False)"
   ]
  },
  {
   "cell_type": "code",
   "execution_count": null,
   "metadata": {
    "id": "95C6B360AD69482A997A9AFD9796AE7B",
    "jupyter": {},
    "notebookId": "6067fefa5fa89c001738da71",
    "scrolled": false,
    "slideshow": {
     "slide_type": "slide"
    },
    "tags": []
   },
   "outputs": [],
   "source": []
  },
  {
   "cell_type": "code",
   "execution_count": null,
   "metadata": {
    "id": "E9D409E83EF64185A0BA121B5595747D",
    "jupyter": {},
    "notebookId": "6067fefa5fa89c001738da71",
    "scrolled": false,
    "slideshow": {
     "slide_type": "slide"
    },
    "tags": []
   },
   "outputs": [],
   "source": []
  },
  {
   "cell_type": "code",
   "execution_count": null,
   "metadata": {
    "id": "3E2CBBDE0C0D47B3B0E74B72CA4E7DA8",
    "jupyter": {},
    "notebookId": "6067fefa5fa89c001738da71",
    "scrolled": false,
    "slideshow": {
     "slide_type": "slide"
    },
    "tags": []
   },
   "outputs": [],
   "source": []
  },
  {
   "cell_type": "code",
   "execution_count": null,
   "metadata": {
    "id": "0C478DF8D10349EB9EE2C9792E97D884",
    "jupyter": {},
    "notebookId": "6067fefa5fa89c001738da71",
    "scrolled": false,
    "slideshow": {
     "slide_type": "slide"
    },
    "tags": []
   },
   "outputs": [],
   "source": []
  },
  {
   "cell_type": "code",
   "execution_count": null,
   "metadata": {
    "id": "701BC23A1A2D492CBE369ED8B8974624",
    "jupyter": {},
    "notebookId": "6067fefa5fa89c001738da71",
    "scrolled": false,
    "slideshow": {
     "slide_type": "slide"
    },
    "tags": []
   },
   "outputs": [],
   "source": []
  },
  {
   "cell_type": "code",
   "execution_count": null,
   "metadata": {
    "id": "1C8FDCE6FBA644B682696E4D113CA4FB",
    "jupyter": {},
    "notebookId": "6067fefa5fa89c001738da71",
    "scrolled": false,
    "slideshow": {
     "slide_type": "slide"
    },
    "tags": []
   },
   "outputs": [],
   "source": []
  },
  {
   "cell_type": "code",
   "execution_count": null,
   "metadata": {
    "id": "479D7DC4D2FD4B2398AC507152AE4FE2",
    "jupyter": {},
    "notebookId": "6067fefa5fa89c001738da71",
    "scrolled": false,
    "slideshow": {
     "slide_type": "slide"
    },
    "tags": []
   },
   "outputs": [],
   "source": []
  },
  {
   "cell_type": "code",
   "execution_count": null,
   "metadata": {
    "id": "7BB96AF339D246E5B2EDF8FF26F62AAC",
    "jupyter": {},
    "notebookId": "6067fefa5fa89c001738da71",
    "slideshow": {
     "slide_type": "slide"
    },
    "tags": []
   },
   "outputs": [],
   "source": []
  }
 ],
 "metadata": {
  "kernelspec": {
   "display_name": "Python 3",
   "language": "python",
   "name": "python3"
  },
  "language_info": {
   "codemirror_mode": {
    "name": "ipython",
    "version": 3
   },
   "file_extension": ".py",
   "mimetype": "text/x-python",
   "name": "python",
   "nbconvert_exporter": "python",
   "pygments_lexer": "ipython3",
   "version": "3.8.5"
  }
 },
 "nbformat": 4,
 "nbformat_minor": 1
}
