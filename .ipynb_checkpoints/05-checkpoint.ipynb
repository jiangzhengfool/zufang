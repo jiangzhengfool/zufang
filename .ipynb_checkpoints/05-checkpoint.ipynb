{
 "cells": [
  {
   "cell_type": "markdown",
   "metadata": {
    "id": "A2CDEEBA926B488A8156EFBE9F5A23B7",
    "jupyter": {},
    "slideshow": {
     "slide_type": "slide"
    },
    "tags": []
   },
   "source": [
    "## 导入需要的包"
   ]
  },
  {
   "cell_type": "code",
   "execution_count": 1,
   "metadata": {
    "collapsed": false,
    "id": "D80DC174E9C84F1E8514BB44E3B1C237",
    "jupyter": {},
    "scrolled": false,
    "slideshow": {
     "slide_type": "slide"
    },
    "tags": []
   },
   "outputs": [],
   "source": [
    "import time\n",
    "import lightgbm as lgb\n",
    "import matplotlib.pyplot as plt\n",
    "import numpy as np\n",
    "import pandas as pd\n",
    "import seaborn as sns\n",
    "from sklearn import metrics\n",
    "from sklearn.model_selection import KFold\n",
    "from sklearn.preprocessing import LabelEncoder"
   ]
  },
  {
   "cell_type": "code",
   "execution_count": 2,
   "metadata": {
    "collapsed": false,
    "id": "5A24E1F029D241568B55178EEE9B3669",
    "jupyter": {},
    "mdEditEnable": false,
    "scrolled": false,
    "slideshow": {
     "slide_type": "slide"
    },
    "tags": []
   },
   "outputs": [],
   "source": [
    "## 加载数据"
   ]
  },
  {
   "cell_type": "code",
   "execution_count": 3,
   "metadata": {
    "collapsed": false,
    "id": "75F408E1C9114D4D9AA9E444B7C6EE13",
    "jupyter": {},
    "scrolled": false,
    "slideshow": {
     "slide_type": "slide"
    },
    "tags": []
   },
   "outputs": [],
   "source": [
    "train = pd.read_csv('/home/mw/input/homestayprice/训练集.csv')\n",
    "test = pd.read_csv('/home/mw/input/homestayprice/测试集.csv')"
   ]
  },
  {
   "cell_type": "code",
   "execution_count": 4,
   "metadata": {
    "collapsed": false,
    "id": "2C042180B13C4AC58AFB92D058155895",
    "jupyter": {},
    "scrolled": false,
    "slideshow": {
     "slide_type": "slide"
    },
    "tags": []
   },
   "outputs": [
    {
     "data": {
      "text/plain": [
       "Index(['数据ID', '容纳人数', '便利设施', '洗手间数量', '床的数量', '床的类型', '卧室数量', '取消条款', '所在城市',\n",
       "       '清洁费', '首次评论日期', '房主是否有个人资料图片', '房主身份是否验证', '房主回复率', '何时成为房主',\n",
       "       '是否支持随即预订', '最近评论日期', '维度', '经度', '民宿周边', '评论个数', '房产类型', '民宿评分', '房型',\n",
       "       '邮编', '价格'],\n",
       "      dtype='object')"
      ]
     },
     "execution_count": 4,
     "metadata": {},
     "output_type": "execute_result",
     "transient": {}
    }
   ],
   "source": [
    "# 查看列名\n",
    "train.columns"
   ]
  },
  {
   "cell_type": "code",
   "execution_count": 5,
   "metadata": {
    "collapsed": false,
    "id": "7930749EA37948578CC0A832E26A4A5E",
    "jupyter": {},
    "scrolled": false,
    "slideshow": {
     "slide_type": "slide"
    },
    "tags": []
   },
   "outputs": [
    {
     "name": "stdout",
     "output_type": "stream",
     "text": [
      "(59288, 26) (14823, 25)\n"
     ]
    }
   ],
   "source": [
    "#打印数据大小\n",
    "print(train.shape,test.shape)"
   ]
  },
  {
   "cell_type": "code",
   "execution_count": 6,
   "metadata": {
    "collapsed": false,
    "id": "2CAAA1ADB9254995B755D131638B1137",
    "jupyter": {},
    "scrolled": false,
    "slideshow": {
     "slide_type": "slide"
    },
    "tags": []
   },
   "outputs": [
    {
     "data": {
      "text/plain": [
       "数据ID               0\n",
       "容纳人数               0\n",
       "便利设施               0\n",
       "洗手间数量            160\n",
       "床的数量             104\n",
       "床的类型               0\n",
       "卧室数量              78\n",
       "取消条款               0\n",
       "所在城市               0\n",
       "清洁费                0\n",
       "首次评论日期         12702\n",
       "房主是否有个人资料图片      160\n",
       "房主身份是否验证         160\n",
       "房主回复率          14641\n",
       "何时成为房主           160\n",
       "是否支持随即预订           0\n",
       "最近评论日期         12672\n",
       "维度                 0\n",
       "经度                 0\n",
       "民宿周边            5509\n",
       "评论个数               0\n",
       "房产类型               0\n",
       "民宿评分           13395\n",
       "房型                 0\n",
       "邮编               761\n",
       "价格                 0\n",
       "dtype: int64"
      ]
     },
     "execution_count": 6,
     "metadata": {},
     "output_type": "execute_result",
     "transient": {}
    }
   ],
   "source": [
    "# 查看数据集缺失值\n",
    "train.shape[0]-train.count()"
   ]
  },
  {
   "cell_type": "code",
   "execution_count": 7,
   "metadata": {
    "collapsed": false,
    "id": "D06C108D5F084CEF8DA4B0F049132CDC",
    "jupyter": {},
    "scrolled": false,
    "slideshow": {
     "slide_type": "slide"
    },
    "tags": []
   },
   "outputs": [
    {
     "data": {
      "text/plain": [
       "数据ID            object\n",
       "容纳人数             int64\n",
       "便利设施            object\n",
       "洗手间数量          float64\n",
       "床的数量           float64\n",
       "床的类型             int64\n",
       "卧室数量           float64\n",
       "取消条款             int64\n",
       "所在城市             int64\n",
       "清洁费              int64\n",
       "首次评论日期          object\n",
       "房主是否有个人资料图片     object\n",
       "房主身份是否验证        object\n",
       "房主回复率           object\n",
       "何时成为房主          object\n",
       "是否支持随即预订         int64\n",
       "最近评论日期          object\n",
       "维度             float64\n",
       "经度             float64\n",
       "民宿周边            object\n",
       "评论个数             int64\n",
       "房产类型             int64\n",
       "民宿评分           float64\n",
       "房型               int64\n",
       "邮编              object\n",
       "价格             float64\n",
       "dtype: object"
      ]
     },
     "execution_count": 7,
     "metadata": {},
     "output_type": "execute_result",
     "transient": {}
    }
   ],
   "source": [
    "# 查看数据类型\n",
    "train.dtypes"
   ]
  },
  {
   "cell_type": "code",
   "execution_count": 8,
   "metadata": {
    "collapsed": false,
    "id": "08F8DF26AB494E768081ED03CD53EA73",
    "jupyter": {},
    "scrolled": false,
    "slideshow": {
     "slide_type": "slide"
    },
    "tags": []
   },
   "outputs": [
    {
     "data": {
      "text/plain": [
       "<matplotlib.axes._subplots.AxesSubplot at 0x7f619053f748>"
      ]
     },
     "execution_count": 8,
     "metadata": {},
     "output_type": "execute_result",
     "transient": {}
    },
    {
     "data": {
      "text/html": [
       "<img src=\"https://cdn.kesci.com/upload/rt/08F8DF26AB494E768081ED03CD53EA73/qqw17jbop.png\">"
      ],
      "text/plain": [
       "<Figure size 432x288 with 1 Axes>"
      ]
     },
     "metadata": {
      "needs_background": "light"
     },
     "output_type": "display_data",
     "transient": {}
    }
   ],
   "source": [
    "# 价格密度分布\n",
    "train['价格'].plot.kde()"
   ]
  },
  {
   "cell_type": "markdown",
   "metadata": {
    "id": "01547436948642228C10D49E1A44CB0F",
    "jupyter": {},
    "mdEditEnable": false,
    "slideshow": {
     "slide_type": "slide"
    },
    "tags": []
   },
   "source": [
    "## 数据预处理 "
   ]
  },
  {
   "cell_type": "markdown",
   "metadata": {
    "id": "E930587FF35E43F38700ABB8CB95A0A0",
    "jupyter": {},
    "mdEditEnable": false,
    "slideshow": {
     "slide_type": "slide"
    },
    "tags": []
   },
   "source": [
    "### 类别变量数据预处理"
   ]
  },
  {
   "cell_type": "code",
   "execution_count": 9,
   "metadata": {
    "collapsed": false,
    "id": "AB57A4EC6916403D8C2B51153A80CD6C",
    "jupyter": {},
    "scrolled": false,
    "slideshow": {
     "slide_type": "slide"
    },
    "tags": []
   },
   "outputs": [
    {
     "data": {
      "text/plain": [
       "Index(['数据ID', '便利设施', '首次评论日期', '房主是否有个人资料图片', '房主身份是否验证', '房主回复率', '何时成为房主',\n",
       "       '最近评论日期', '民宿周边', '邮编'],\n",
       "      dtype='object')"
      ]
     },
     "execution_count": 9,
     "metadata": {},
     "output_type": "execute_result",
     "transient": {}
    }
   ],
   "source": [
    "train.select_dtypes(include=['object']).columns"
   ]
  },
  {
   "cell_type": "code",
   "execution_count": 10,
   "metadata": {
    "collapsed": false,
    "id": "6F99155846714B97AF6A828040B97477",
    "jupyter": {},
    "scrolled": false,
    "slideshow": {
     "slide_type": "slide"
    },
    "tags": []
   },
   "outputs": [
    {
     "data": {
      "text/plain": [
       "0    17\n",
       "1    18\n",
       "2    11\n",
       "3     1\n",
       "4    13\n",
       "Name: 便利设施数量, dtype: int64"
      ]
     },
     "execution_count": 10,
     "metadata": {},
     "output_type": "execute_result",
     "transient": {}
    }
   ],
   "source": [
    "train['便利设施数量']=train['便利设施'].apply(lambda x:len(x.lstrip('{').rstrip('}').split(',')))\n",
    "test['便利设施数量']=test['便利设施'].apply(lambda x:len(x.lstrip('{').rstrip('}').split(',')))\n",
    "\n",
    "train['便利设施数量'].head()"
   ]
  },
  {
   "cell_type": "code",
   "execution_count": 11,
   "metadata": {
    "collapsed": false,
    "id": "514F912ED72E48EDBB0E8CD174C6F9A2",
    "jupyter": {},
    "scrolled": false,
    "slideshow": {
     "slide_type": "slide"
    },
    "tags": []
   },
   "outputs": [],
   "source": [
    "no_features = ['数据ID', '价格','便利设施']"
   ]
  },
  {
   "cell_type": "code",
   "execution_count": 12,
   "metadata": {
    "collapsed": false,
    "id": "92CF10F5D3934209834DB3A8DF6CF241",
    "jupyter": {},
    "scrolled": false,
    "slideshow": {
     "slide_type": "slide"
    },
    "tags": []
   },
   "outputs": [
    {
     "name": "stderr",
     "output_type": "stream",
     "text": [
      "/opt/conda/lib/python3.6/site-packages/ipykernel_launcher.py:2: FutureWarning: Sorting because non-concatenation axis is not aligned. A future version\n",
      "of pandas will change to not sort by default.\n",
      "\n",
      "To accept the future behavior, pass 'sort=False'.\n",
      "\n",
      "To retain the current behavior and silence the warning, pass 'sort=True'.\n",
      "\n",
      "  \n"
     ]
    }
   ],
   "source": [
    "# 其他类别变量，暂时先直接简单的类别编码\n",
    "data = pd.concat([train, test], axis=0)\n",
    "for col in train.select_dtypes(include=['object']).columns:\n",
    "    if col not in no_features:\n",
    "        lb = LabelEncoder()\n",
    "        lb.fit(data[col].astype(str))\n",
    "        train[col] = lb.transform(train[col].astype(str))\n",
    "        test[col] = lb.transform(test[col].astype(str))"
   ]
  },
  {
   "cell_type": "code",
   "execution_count": 13,
   "metadata": {
    "collapsed": false,
    "id": "BDEA0D07E57248C8BBBD14CC398CE858",
    "jupyter": {},
    "scrolled": false,
    "slideshow": {
     "slide_type": "slide"
    },
    "tags": []
   },
   "outputs": [
    {
     "data": {
      "text/html": [
       "<div>\n",
       "<style scoped>\n",
       "    .dataframe tbody tr th:only-of-type {\n",
       "        vertical-align: middle;\n",
       "    }\n",
       "\n",
       "    .dataframe tbody tr th {\n",
       "        vertical-align: top;\n",
       "    }\n",
       "\n",
       "    .dataframe thead th {\n",
       "        text-align: right;\n",
       "    }\n",
       "</style>\n",
       "<table border=\"1\" class=\"dataframe\">\n",
       "  <thead>\n",
       "    <tr style=\"text-align: right;\">\n",
       "      <th></th>\n",
       "      <th>数据ID</th>\n",
       "      <th>容纳人数</th>\n",
       "      <th>便利设施</th>\n",
       "      <th>洗手间数量</th>\n",
       "      <th>床的数量</th>\n",
       "      <th>床的类型</th>\n",
       "      <th>卧室数量</th>\n",
       "      <th>取消条款</th>\n",
       "      <th>所在城市</th>\n",
       "      <th>清洁费</th>\n",
       "      <th>...</th>\n",
       "      <th>维度</th>\n",
       "      <th>经度</th>\n",
       "      <th>民宿周边</th>\n",
       "      <th>评论个数</th>\n",
       "      <th>房产类型</th>\n",
       "      <th>民宿评分</th>\n",
       "      <th>房型</th>\n",
       "      <th>邮编</th>\n",
       "      <th>价格</th>\n",
       "      <th>便利设施数量</th>\n",
       "    </tr>\n",
       "  </thead>\n",
       "  <tbody>\n",
       "    <tr>\n",
       "      <th>0</th>\n",
       "      <td>train_0</td>\n",
       "      <td>4</td>\n",
       "      <td>{TV,\"Cable TV\",Internet,\"Wireless Internet\",\"A...</td>\n",
       "      <td>1.5</td>\n",
       "      <td>3.0</td>\n",
       "      <td>4</td>\n",
       "      <td>2.0</td>\n",
       "      <td>0</td>\n",
       "      <td>3</td>\n",
       "      <td>0</td>\n",
       "      <td>...</td>\n",
       "      <td>34.109039</td>\n",
       "      <td>-118.273390</td>\n",
       "      <td>323</td>\n",
       "      <td>12</td>\n",
       "      <td>17</td>\n",
       "      <td>97.0</td>\n",
       "      <td>0</td>\n",
       "      <td>454</td>\n",
       "      <td>64.918531</td>\n",
       "      <td>17</td>\n",
       "    </tr>\n",
       "    <tr>\n",
       "      <th>1</th>\n",
       "      <td>train_1</td>\n",
       "      <td>2</td>\n",
       "      <td>{TV,\"Wireless Internet\",Kitchen,\"Free parking ...</td>\n",
       "      <td>1.0</td>\n",
       "      <td>1.0</td>\n",
       "      <td>4</td>\n",
       "      <td>1.0</td>\n",
       "      <td>2</td>\n",
       "      <td>4</td>\n",
       "      <td>1</td>\n",
       "      <td>...</td>\n",
       "      <td>40.812897</td>\n",
       "      <td>-73.919163</td>\n",
       "      <td>371</td>\n",
       "      <td>6</td>\n",
       "      <td>0</td>\n",
       "      <td>87.0</td>\n",
       "      <td>0</td>\n",
       "      <td>150</td>\n",
       "      <td>54.918531</td>\n",
       "      <td>18</td>\n",
       "    </tr>\n",
       "  </tbody>\n",
       "</table>\n",
       "<p>2 rows × 27 columns</p>\n",
       "</div>"
      ],
      "text/plain": [
       "      数据ID  容纳人数                                               便利设施  洗手间数量  \\\n",
       "0  train_0     4  {TV,\"Cable TV\",Internet,\"Wireless Internet\",\"A...    1.5   \n",
       "1  train_1     2  {TV,\"Wireless Internet\",Kitchen,\"Free parking ...    1.0   \n",
       "\n",
       "   床的数量  床的类型  卧室数量  取消条款  所在城市  清洁费  ...         维度          经度  民宿周边  评论个数  \\\n",
       "0   3.0     4   2.0     0     3    0  ...  34.109039 -118.273390   323    12   \n",
       "1   1.0     4   1.0     2     4    1  ...  40.812897  -73.919163   371     6   \n",
       "\n",
       "   房产类型  民宿评分  房型   邮编         价格  便利设施数量  \n",
       "0    17  97.0   0  454  64.918531      17  \n",
       "1     0  87.0   0  150  54.918531      18  \n",
       "\n",
       "[2 rows x 27 columns]"
      ]
     },
     "execution_count": 13,
     "metadata": {},
     "output_type": "execute_result",
     "transient": {}
    }
   ],
   "source": [
    "train.head(2)"
   ]
  },
  {
   "cell_type": "code",
   "execution_count": 14,
   "metadata": {
    "collapsed": false,
    "id": "04EEA91FC5624D6E961D2A0B682A0BC6",
    "jupyter": {},
    "scrolled": false,
    "slideshow": {
     "slide_type": "slide"
    },
    "tags": []
   },
   "outputs": [
    {
     "data": {
      "text/plain": [
       "['容纳人数',\n",
       " '洗手间数量',\n",
       " '床的数量',\n",
       " '床的类型',\n",
       " '卧室数量',\n",
       " '取消条款',\n",
       " '所在城市',\n",
       " '清洁费',\n",
       " '首次评论日期',\n",
       " '房主是否有个人资料图片',\n",
       " '房主身份是否验证',\n",
       " '房主回复率',\n",
       " '何时成为房主',\n",
       " '是否支持随即预订',\n",
       " '最近评论日期',\n",
       " '维度',\n",
       " '经度',\n",
       " '民宿周边',\n",
       " '评论个数',\n",
       " '房产类型',\n",
       " '民宿评分',\n",
       " '房型',\n",
       " '邮编',\n",
       " '便利设施数量']"
      ]
     },
     "execution_count": 14,
     "metadata": {},
     "output_type": "execute_result",
     "transient": {}
    }
   ],
   "source": [
    "# 输入特征列\n",
    "features = [col for col in train.columns if col not in no_features]\n",
    "features"
   ]
  },
  {
   "cell_type": "code",
   "execution_count": 15,
   "metadata": {
    "collapsed": false,
    "id": "8C57A37FE44D47578828F337AF0FEB4B",
    "jupyter": {},
    "scrolled": false,
    "slideshow": {
     "slide_type": "slide"
    },
    "tags": []
   },
   "outputs": [],
   "source": [
    "X = train[features] # 训练集输入\n",
    "y = train['价格'] # 训练集标签\n",
    "X_test = test[features] # 测试集输入"
   ]
  },
  {
   "cell_type": "markdown",
   "metadata": {
    "id": "5B3582541C0D4B7F8E740D05D549B6EA",
    "jupyter": {},
    "mdEditEnable": false,
    "slideshow": {
     "slide_type": "slide"
    },
    "tags": []
   },
   "source": [
    "## 模型训练\n",
    "\n",
    "- 定义一个LightGBM回归模型\n",
    "- 进行5折交叉验证训练\n"
   ]
  },
  {
   "cell_type": "code",
   "execution_count": 16,
   "metadata": {
    "collapsed": false,
    "id": "2E043C19361644AC94EBDF48FC8D013D",
    "jupyter": {},
    "scrolled": false,
    "slideshow": {
     "slide_type": "slide"
    },
    "tags": []
   },
   "outputs": [],
   "source": [
    "n_fold = 5\n",
    "folds = KFold(n_splits=n_fold, shuffle=True,random_state=1314)"
   ]
  },
  {
   "cell_type": "code",
   "execution_count": 17,
   "metadata": {
    "collapsed": false,
    "id": "2445FD67D0D7466590D15D0BC3AD3FC5",
    "jupyter": {},
    "scrolled": false,
    "slideshow": {
     "slide_type": "slide"
    },
    "tags": []
   },
   "outputs": [],
   "source": [
    "# 祖传参数\n",
    "params = {\n",
    "    'learning_rate': 0.1,\n",
    "    'boosting_type': 'gbdt',\n",
    "    'objective': 'regression',\n",
    "    'metric': 'mae',\n",
    "    'feature_fraction': 0.6,\n",
    "    'bagging_fraction': 0.8,\n",
    "    'bagging_freq': 5,\n",
    "    'num_leaves': 1000,\n",
    "    'verbose': -1,\n",
    "    'max_depth': -1,\n",
    "    'seed': 2019,\n",
    "    # 'n_jobs': -1,\n",
    "    # 'device': 'gpu',\n",
    "    # 'gpu_device_id': 0,\n",
    "}\n",
    "\n"
   ]
  },
  {
   "cell_type": "code",
   "execution_count": 27,
   "metadata": {
    "collapsed": false,
    "id": "2B6F7BB758154FC78E06C3743BF08A00",
    "jupyter": {},
    "scrolled": false,
    "slideshow": {
     "slide_type": "slide"
    },
    "tags": []
   },
   "outputs": [],
   "source": [
    "oof = np.zeros(len(X))\n",
    "prediction = np.zeros(len(X_test))\n",
    "for fold_n, (train_index, valid_index) in enumerate(folds.split(X)):\n",
    "    X_train, X_valid = X[features].iloc[train_index], X[features].iloc[valid_index]\n",
    "    y_train, y_valid = y[train_index], y[valid_index]\n",
    "    model = lgb.LGBMRegressor(**params, n_estimators=50000, n_jobs=-1)\n",
    "    model.fit(X_train, y_train,\n",
    "              eval_set=[(X_train, y_train), (X_valid, y_valid)],\n",
    "              eval_metric='rmse',\n",
    "              verbose=50, early_stopping_rounds=200)\n",
    "    y_pred_valid = model.predict(X_valid)\n",
    "    y_pred = model.predict(X_test, num_iteration=model.best_iteration_)\n",
    "    oof[valid_index] = y_pred_valid.reshape(-1, )\n",
    "    prediction += y_pred\n",
    "prediction /= n_fold"
   ]
  },
  {
   "cell_type": "code",
   "execution_count": 20,
   "metadata": {
    "collapsed": false,
    "id": "B73A31DBB2644B3FA086947D331E4751",
    "jupyter": {},
    "scrolled": false,
    "slideshow": {
     "slide_type": "slide"
    },
    "tags": []
   },
   "outputs": [],
   "source": [
    "# 验证集评估"
   ]
  },
  {
   "cell_type": "code",
   "execution_count": 21,
   "metadata": {
    "collapsed": false,
    "id": "8D08CFFE28BF474AB84132488EE19369",
    "jupyter": {},
    "scrolled": false,
    "slideshow": {
     "slide_type": "slide"
    },
    "tags": []
   },
   "outputs": [],
   "source": [
    "from sklearn.metrics import mean_squared_error\n",
    "score=mean_squared_error(oof,train['价格'].values,squared=False)\n",
    "score"
   ]
  },
  {
   "cell_type": "markdown",
   "metadata": {
    "id": "57EB2C5AF4B54A7693CB7ADD2FBE8E0B",
    "jupyter": {},
    "mdEditEnable": false,
    "slideshow": {
     "slide_type": "slide"
    },
    "tags": []
   },
   "source": [
    "## 提交结果"
   ]
  },
  {
   "cell_type": "code",
   "execution_count": 24,
   "metadata": {
    "collapsed": false,
    "id": "B2B5923358F040DF92AF523F1B1FA5B1",
    "jupyter": {},
    "scrolled": false,
    "slideshow": {
     "slide_type": "slide"
    },
    "tags": []
   },
   "outputs": [],
   "source": [
    "test['价格'] = prediction\n",
    "test[['数据ID', '价格']].to_csv('result/sub.csv'.format(score), index=None)"
   ]
  },
  {
   "cell_type": "code",
   "execution_count": 25,
   "metadata": {
    "collapsed": false,
    "id": "E897618FCC504F99859A1ACA1AAAA491",
    "jupyter": {},
    "scrolled": false,
    "slideshow": {
     "slide_type": "slide"
    },
    "tags": []
   },
   "outputs": [],
   "source": [
    "test[['数据ID', '价格']].head()"
   ]
  },
  {
   "cell_type": "markdown",
   "metadata": {
    "id": "AA8EBF2081C943709BAD4825B9A559A8",
    "jupyter": {},
    "mdEditEnable": false,
    "slideshow": {
     "slide_type": "slide"
    },
    "tags": []
   },
   "source": [
    "## TODO\n",
    "- 可以做更细粒度的特征\n",
    "- 尝试不同的模型\n",
    "- 模型融合\n",
    "- ..."
   ]
  },
  {
   "cell_type": "code",
   "execution_count": null,
   "metadata": {
    "id": "0AA02EF5A8514E94A2DD197C3AF46B4F",
    "jupyter": {},
    "notebookId": "6065b0eead50140017676782",
    "slideshow": {
     "slide_type": "slide"
    },
    "tags": []
   },
   "outputs": [],
   "source": []
  }
 ],
 "metadata": {
  "kernelspec": {
   "display_name": "Python 3",
   "language": "python",
   "name": "python3"
  },
  "language_info": {
   "codemirror_mode": {
    "name": "ipython",
    "version": 3
   },
   "file_extension": ".py",
   "mimetype": "text/x-python",
   "name": "python",
   "nbconvert_exporter": "python",
   "pygments_lexer": "ipython3",
   "version": "3.5.2"
  }
 },
 "nbformat": 4,
 "nbformat_minor": 1
}
