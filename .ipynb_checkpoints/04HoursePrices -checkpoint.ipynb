{
 "cells": [
  {
   "cell_type": "markdown",
   "metadata": {
    "id": "7CF07215549B40428C1502369822CF62",
    "jupyter": {},
    "mdEditEnable": false,
    "slideshow": {
     "slide_type": "slide"
    },
    "tags": []
   },
   "source": [
    "# 数据导入与预处理"
   ]
  },
  {
   "cell_type": "markdown",
   "metadata": {
    "id": "73DAF943C0744AE790D58BA2E9B601D0",
    "jupyter": {},
    "mdEditEnable": false,
    "slideshow": {
     "slide_type": "slide"
    },
    "tags": []
   },
   "source": [
    "## 模块导入"
   ]
  },
  {
   "cell_type": "code",
   "execution_count": 2,
   "metadata": {
    "cell_type": "code",
    "id": "1F1C49CB0AF64F9C9818F92AAA8E9A17",
    "jupyter": {},
    "scrolled": false,
    "slideshow": {
     "slide_type": "slide"
    },
    "tags": []
   },
   "outputs": [],
   "source": [
    "import numpy as np\n",
    "import pandas as pd\n",
    "%matplotlib inline\n",
    "import matplotlib.pyplot as plt\n",
    "import seaborn as sns\n",
    "import warnings\n",
    "from scipy import stats\n",
    "from scipy.stats import norm, skew\n",
    "from scipy.special import boxcox1p\n",
    "\n",
    "from sklearn.preprocessing import LabelEncoder\n",
    "from sklearn.linear_model import ElasticNet, Lasso, BayesianRidge, LassoLarsIC\n",
    "from sklearn.ensemble import RandomForestRegressor, GradientBoostingRegressor\n",
    "from sklearn.kernel_ridge import KernelRidge\n",
    "from sklearn.pipeline import make_pipeline\n",
    "from sklearn.preprocessing import RobustScaler\n",
    "from sklearn.base import BaseEstimator, TransformerMixin, RegressorMixin, clone\n",
    "from sklearn.model_selection import KFold, cross_val_score, train_test_split\n",
    "from sklearn.metrics import mean_squared_error\n",
    "import xgboost as xgb\n",
    "import lightgbm as lgb\n",
    "import gc\n",
    "gc.enable()\n",
    "pd.set_option('max_columns', None)\n",
    "pd.set_option('max_rows', None)\n",
    "pd.set_option('max_colwidth', 200)"
   ]
  },
  {
   "cell_type": "markdown",
   "metadata": {
    "id": "4053E2B83B4641BE89E6E1DB3CF2C952",
    "jupyter": {},
    "mdEditEnable": false,
    "slideshow": {
     "slide_type": "slide"
    },
    "tags": []
   },
   "source": [
    "## 数据导入"
   ]
  },
  {
   "cell_type": "code",
   "execution_count": 3,
   "metadata": {
    "id": "9FF0857E65A241259A9DBD7E3AFED260",
    "jupyter": {},
    "scrolled": false,
    "slideshow": {
     "slide_type": "slide"
    },
    "tags": []
   },
   "outputs": [],
   "source": [
    "train = pd.read_csv('train.csv')\n",
    "test = pd.read_csv('test.csv')"
   ]
  },
  {
   "cell_type": "code",
   "execution_count": 4,
   "metadata": {
    "id": "A410EC20566545AFBC55CA232DC897DA",
    "jupyter": {},
    "scrolled": false,
    "slideshow": {
     "slide_type": "slide"
    },
    "tags": []
   },
   "outputs": [
    {
     "data": {
      "text/html": [
       "<div>\n",
       "<style scoped>\n",
       "    .dataframe tbody tr th:only-of-type {\n",
       "        vertical-align: middle;\n",
       "    }\n",
       "\n",
       "    .dataframe tbody tr th {\n",
       "        vertical-align: top;\n",
       "    }\n",
       "\n",
       "    .dataframe thead th {\n",
       "        text-align: right;\n",
       "    }\n",
       "</style>\n",
       "<table border=\"1\" class=\"dataframe\">\n",
       "  <thead>\n",
       "    <tr style=\"text-align: right;\">\n",
       "      <th></th>\n",
       "      <th>数据ID</th>\n",
       "      <th>容纳人数</th>\n",
       "      <th>便利设施</th>\n",
       "      <th>洗手间数量</th>\n",
       "      <th>床的数量</th>\n",
       "      <th>床的类型</th>\n",
       "      <th>卧室数量</th>\n",
       "      <th>取消条款</th>\n",
       "      <th>所在城市</th>\n",
       "      <th>清洁费</th>\n",
       "      <th>首次评论日期</th>\n",
       "      <th>房主是否有个人资料图片</th>\n",
       "      <th>房主身份是否验证</th>\n",
       "      <th>房主回复率</th>\n",
       "      <th>何时成为房主</th>\n",
       "      <th>是否支持随即预订</th>\n",
       "      <th>最近评论日期</th>\n",
       "      <th>维度</th>\n",
       "      <th>经度</th>\n",
       "      <th>民宿周边</th>\n",
       "      <th>评论个数</th>\n",
       "      <th>房产类型</th>\n",
       "      <th>民宿评分</th>\n",
       "      <th>房型</th>\n",
       "      <th>邮编</th>\n",
       "      <th>价格</th>\n",
       "    </tr>\n",
       "  </thead>\n",
       "  <tbody>\n",
       "    <tr>\n",
       "      <th>0</th>\n",
       "      <td>train_0</td>\n",
       "      <td>4</td>\n",
       "      <td>{TV,\"Cable TV\",Internet,\"Wireless Internet\",\"Air conditioning\",Kitchen,\"Pets live on this property\",Dog(s),\"Hot tub\",Heating,Washer,Dryer,\"Smoke detector\",\"Fire extinguisher\",Essentials,\"translati...</td>\n",
       "      <td>1.5</td>\n",
       "      <td>3.0</td>\n",
       "      <td>4</td>\n",
       "      <td>2.0</td>\n",
       "      <td>0</td>\n",
       "      <td>3</td>\n",
       "      <td>0</td>\n",
       "      <td>2015-05-07</td>\n",
       "      <td>t</td>\n",
       "      <td>t</td>\n",
       "      <td>NaN</td>\n",
       "      <td>2015-02-25</td>\n",
       "      <td>0</td>\n",
       "      <td>2016-06-26</td>\n",
       "      <td>34.109039</td>\n",
       "      <td>-118.273390</td>\n",
       "      <td>Los Feliz</td>\n",
       "      <td>12</td>\n",
       "      <td>17</td>\n",
       "      <td>97.0</td>\n",
       "      <td>0</td>\n",
       "      <td>90027</td>\n",
       "      <td>64.918531</td>\n",
       "    </tr>\n",
       "    <tr>\n",
       "      <th>1</th>\n",
       "      <td>train_1</td>\n",
       "      <td>2</td>\n",
       "      <td>{TV,\"Wireless Internet\",Kitchen,\"Free parking on premises\",\"Pets allowed\",Heating,\"Family/kid friendly\",Washer,Dryer,\"Smoke detector\",\"Carbon monoxide detector\",\"First aid kit\",\"Fire extinguisher\"...</td>\n",
       "      <td>1.0</td>\n",
       "      <td>1.0</td>\n",
       "      <td>4</td>\n",
       "      <td>1.0</td>\n",
       "      <td>2</td>\n",
       "      <td>4</td>\n",
       "      <td>1</td>\n",
       "      <td>2016-07-02</td>\n",
       "      <td>t</td>\n",
       "      <td>t</td>\n",
       "      <td>NaN</td>\n",
       "      <td>2009-10-27</td>\n",
       "      <td>1</td>\n",
       "      <td>2016-07-31</td>\n",
       "      <td>40.812897</td>\n",
       "      <td>-73.919163</td>\n",
       "      <td>Mott Haven</td>\n",
       "      <td>6</td>\n",
       "      <td>0</td>\n",
       "      <td>87.0</td>\n",
       "      <td>0</td>\n",
       "      <td>10454</td>\n",
       "      <td>54.918531</td>\n",
       "    </tr>\n",
       "    <tr>\n",
       "      <th>2</th>\n",
       "      <td>train_2</td>\n",
       "      <td>4</td>\n",
       "      <td>{TV,\"Air conditioning\",Kitchen,Heating,\"Smoke detector\",\"Carbon monoxide detector\",\"First aid kit\",\"Safety card\",Essentials,Shampoo,\"Hair dryer\"}</td>\n",
       "      <td>1.0</td>\n",
       "      <td>2.0</td>\n",
       "      <td>4</td>\n",
       "      <td>0.0</td>\n",
       "      <td>2</td>\n",
       "      <td>4</td>\n",
       "      <td>1</td>\n",
       "      <td>2017-07-01</td>\n",
       "      <td>t</td>\n",
       "      <td>f</td>\n",
       "      <td>100%</td>\n",
       "      <td>2017-06-29</td>\n",
       "      <td>1</td>\n",
       "      <td>2017-07-31</td>\n",
       "      <td>40.737643</td>\n",
       "      <td>-73.953309</td>\n",
       "      <td>Greenpoint</td>\n",
       "      <td>4</td>\n",
       "      <td>0</td>\n",
       "      <td>80.0</td>\n",
       "      <td>0</td>\n",
       "      <td>11222</td>\n",
       "      <td>73.219281</td>\n",
       "    </tr>\n",
       "    <tr>\n",
       "      <th>3</th>\n",
       "      <td>train_3</td>\n",
       "      <td>2</td>\n",
       "      <td>{}</td>\n",
       "      <td>1.0</td>\n",
       "      <td>1.0</td>\n",
       "      <td>4</td>\n",
       "      <td>1.0</td>\n",
       "      <td>0</td>\n",
       "      <td>5</td>\n",
       "      <td>1</td>\n",
       "      <td>NaN</td>\n",
       "      <td>t</td>\n",
       "      <td>t</td>\n",
       "      <td>NaN</td>\n",
       "      <td>2013-03-19</td>\n",
       "      <td>0</td>\n",
       "      <td>NaN</td>\n",
       "      <td>37.759935</td>\n",
       "      <td>-122.420558</td>\n",
       "      <td>Mission District</td>\n",
       "      <td>0</td>\n",
       "      <td>0</td>\n",
       "      <td>NaN</td>\n",
       "      <td>1</td>\n",
       "      <td>94110</td>\n",
       "      <td>64.093909</td>\n",
       "    </tr>\n",
       "    <tr>\n",
       "      <th>4</th>\n",
       "      <td>train_4</td>\n",
       "      <td>3</td>\n",
       "      <td>{Internet,\"Wireless Internet\",\"Air conditioning\",Kitchen,\"Free parking on premises\",\"Pets live on this property\",Cat(s),\"Buzzer/wireless intercom\",Heating,Essentials,Shampoo,\"translation missing: ...</td>\n",
       "      <td>1.0</td>\n",
       "      <td>1.0</td>\n",
       "      <td>4</td>\n",
       "      <td>1.0</td>\n",
       "      <td>1</td>\n",
       "      <td>4</td>\n",
       "      <td>1</td>\n",
       "      <td>2014-04-30</td>\n",
       "      <td>t</td>\n",
       "      <td>t</td>\n",
       "      <td>100%</td>\n",
       "      <td>2011-07-30</td>\n",
       "      <td>0</td>\n",
       "      <td>2016-05-22</td>\n",
       "      <td>40.683363</td>\n",
       "      <td>-73.949490</td>\n",
       "      <td>Bedford-Stuyvesant</td>\n",
       "      <td>16</td>\n",
       "      <td>0</td>\n",
       "      <td>99.0</td>\n",
       "      <td>0</td>\n",
       "      <td>11216</td>\n",
       "      <td>68.454901</td>\n",
       "    </tr>\n",
       "  </tbody>\n",
       "</table>\n",
       "</div>"
      ],
      "text/plain": [
       "      数据ID  容纳人数  \\\n",
       "0  train_0     4   \n",
       "1  train_1     2   \n",
       "2  train_2     4   \n",
       "3  train_3     2   \n",
       "4  train_4     3   \n",
       "\n",
       "                                                                                                                                                                                                      便利设施  \\\n",
       "0  {TV,\"Cable TV\",Internet,\"Wireless Internet\",\"Air conditioning\",Kitchen,\"Pets live on this property\",Dog(s),\"Hot tub\",Heating,Washer,Dryer,\"Smoke detector\",\"Fire extinguisher\",Essentials,\"translati...   \n",
       "1  {TV,\"Wireless Internet\",Kitchen,\"Free parking on premises\",\"Pets allowed\",Heating,\"Family/kid friendly\",Washer,Dryer,\"Smoke detector\",\"Carbon monoxide detector\",\"First aid kit\",\"Fire extinguisher\"...   \n",
       "2                                                        {TV,\"Air conditioning\",Kitchen,Heating,\"Smoke detector\",\"Carbon monoxide detector\",\"First aid kit\",\"Safety card\",Essentials,Shampoo,\"Hair dryer\"}   \n",
       "3                                                                                                                                                                                                       {}   \n",
       "4  {Internet,\"Wireless Internet\",\"Air conditioning\",Kitchen,\"Free parking on premises\",\"Pets live on this property\",Cat(s),\"Buzzer/wireless intercom\",Heating,Essentials,Shampoo,\"translation missing: ...   \n",
       "\n",
       "   洗手间数量  床的数量  床的类型  卧室数量  取消条款  所在城市  清洁费      首次评论日期 房主是否有个人资料图片 房主身份是否验证  \\\n",
       "0    1.5   3.0     4   2.0     0     3    0  2015-05-07           t        t   \n",
       "1    1.0   1.0     4   1.0     2     4    1  2016-07-02           t        t   \n",
       "2    1.0   2.0     4   0.0     2     4    1  2017-07-01           t        f   \n",
       "3    1.0   1.0     4   1.0     0     5    1         NaN           t        t   \n",
       "4    1.0   1.0     4   1.0     1     4    1  2014-04-30           t        t   \n",
       "\n",
       "  房主回复率      何时成为房主  是否支持随即预订      最近评论日期         维度          经度  \\\n",
       "0   NaN  2015-02-25         0  2016-06-26  34.109039 -118.273390   \n",
       "1   NaN  2009-10-27         1  2016-07-31  40.812897  -73.919163   \n",
       "2  100%  2017-06-29         1  2017-07-31  40.737643  -73.953309   \n",
       "3   NaN  2013-03-19         0         NaN  37.759935 -122.420558   \n",
       "4  100%  2011-07-30         0  2016-05-22  40.683363  -73.949490   \n",
       "\n",
       "                 民宿周边  评论个数  房产类型  民宿评分  房型     邮编         价格  \n",
       "0           Los Feliz    12    17  97.0   0  90027  64.918531  \n",
       "1          Mott Haven     6     0  87.0   0  10454  54.918531  \n",
       "2          Greenpoint     4     0  80.0   0  11222  73.219281  \n",
       "3    Mission District     0     0   NaN   1  94110  64.093909  \n",
       "4  Bedford-Stuyvesant    16     0  99.0   0  11216  68.454901  "
      ]
     },
     "execution_count": 4,
     "metadata": {},
     "output_type": "execute_result"
    }
   ],
   "source": [
    "train.head(5)"
   ]
  },
  {
   "cell_type": "code",
   "execution_count": 5,
   "metadata": {
    "id": "266BDE1C8A4041B2835026DAF7BFF620",
    "jupyter": {},
    "scrolled": false,
    "slideshow": {
     "slide_type": "slide"
    },
    "tags": []
   },
   "outputs": [
    {
     "data": {
      "text/html": [
       "<div>\n",
       "<style scoped>\n",
       "    .dataframe tbody tr th:only-of-type {\n",
       "        vertical-align: middle;\n",
       "    }\n",
       "\n",
       "    .dataframe tbody tr th {\n",
       "        vertical-align: top;\n",
       "    }\n",
       "\n",
       "    .dataframe thead th {\n",
       "        text-align: right;\n",
       "    }\n",
       "</style>\n",
       "<table border=\"1\" class=\"dataframe\">\n",
       "  <thead>\n",
       "    <tr style=\"text-align: right;\">\n",
       "      <th></th>\n",
       "      <th>数据ID</th>\n",
       "      <th>容纳人数</th>\n",
       "      <th>便利设施</th>\n",
       "      <th>洗手间数量</th>\n",
       "      <th>床的数量</th>\n",
       "      <th>床的类型</th>\n",
       "      <th>卧室数量</th>\n",
       "      <th>取消条款</th>\n",
       "      <th>所在城市</th>\n",
       "      <th>清洁费</th>\n",
       "      <th>首次评论日期</th>\n",
       "      <th>房主是否有个人资料图片</th>\n",
       "      <th>房主身份是否验证</th>\n",
       "      <th>房主回复率</th>\n",
       "      <th>何时成为房主</th>\n",
       "      <th>是否支持随即预订</th>\n",
       "      <th>最近评论日期</th>\n",
       "      <th>维度</th>\n",
       "      <th>经度</th>\n",
       "      <th>民宿周边</th>\n",
       "      <th>评论个数</th>\n",
       "      <th>房产类型</th>\n",
       "      <th>民宿评分</th>\n",
       "      <th>房型</th>\n",
       "      <th>邮编</th>\n",
       "    </tr>\n",
       "  </thead>\n",
       "  <tbody>\n",
       "    <tr>\n",
       "      <th>0</th>\n",
       "      <td>test_0</td>\n",
       "      <td>2</td>\n",
       "      <td>{TV,Internet,\"Wireless Internet\",\"Air conditioning\",Kitchen,Gym,Breakfast,\"Indoor fireplace\",Heating,\"Family/kid friendly\",\"Suitable for events\",Washer,Dryer,\"Smoke detector\",\"Carbon monoxide dete...</td>\n",
       "      <td>1.5</td>\n",
       "      <td>1.0</td>\n",
       "      <td>4</td>\n",
       "      <td>1.0</td>\n",
       "      <td>2</td>\n",
       "      <td>1</td>\n",
       "      <td>1</td>\n",
       "      <td>2015-05-25</td>\n",
       "      <td>t</td>\n",
       "      <td>t</td>\n",
       "      <td>100%</td>\n",
       "      <td>2015-05-20</td>\n",
       "      <td>1</td>\n",
       "      <td>2017-01-01</td>\n",
       "      <td>41.849684</td>\n",
       "      <td>-87.676270</td>\n",
       "      <td>Pilsen</td>\n",
       "      <td>17</td>\n",
       "      <td>17</td>\n",
       "      <td>97.0</td>\n",
       "      <td>1</td>\n",
       "      <td>60608</td>\n",
       "    </tr>\n",
       "    <tr>\n",
       "      <th>1</th>\n",
       "      <td>test_1</td>\n",
       "      <td>2</td>\n",
       "      <td>{TV,Internet,\"Wireless Internet\",\"Air conditioning\",Kitchen,Heating,\"Family/kid friendly\",Washer,Dryer,\"Smoke detector\",\"Carbon monoxide detector\",Essentials}</td>\n",
       "      <td>2.0</td>\n",
       "      <td>1.0</td>\n",
       "      <td>4</td>\n",
       "      <td>1.0</td>\n",
       "      <td>2</td>\n",
       "      <td>3</td>\n",
       "      <td>1</td>\n",
       "      <td>2015-11-09</td>\n",
       "      <td>t</td>\n",
       "      <td>t</td>\n",
       "      <td>100%</td>\n",
       "      <td>2015-09-08</td>\n",
       "      <td>0</td>\n",
       "      <td>2015-11-15</td>\n",
       "      <td>34.068613</td>\n",
       "      <td>-118.246455</td>\n",
       "      <td>Echo Park</td>\n",
       "      <td>2</td>\n",
       "      <td>0</td>\n",
       "      <td>100.0</td>\n",
       "      <td>0</td>\n",
       "      <td>90012</td>\n",
       "    </tr>\n",
       "    <tr>\n",
       "      <th>2</th>\n",
       "      <td>test_2</td>\n",
       "      <td>5</td>\n",
       "      <td>{TV,\"Cable TV\",\"Wireless Internet\",\"Air conditioning\",Kitchen,\"Pets allowed\",Heating,\"Family/kid friendly\",\"Suitable for events\",\"Smoke detector\",\"Carbon monoxide detector\",\"First aid kit\",Essenti...</td>\n",
       "      <td>1.0</td>\n",
       "      <td>3.0</td>\n",
       "      <td>4</td>\n",
       "      <td>2.0</td>\n",
       "      <td>1</td>\n",
       "      <td>4</td>\n",
       "      <td>1</td>\n",
       "      <td>2017-05-15</td>\n",
       "      <td>t</td>\n",
       "      <td>t</td>\n",
       "      <td>100%</td>\n",
       "      <td>2017-05-06</td>\n",
       "      <td>1</td>\n",
       "      <td>2017-09-25</td>\n",
       "      <td>40.701958</td>\n",
       "      <td>-73.917352</td>\n",
       "      <td>Bushwick</td>\n",
       "      <td>25</td>\n",
       "      <td>0</td>\n",
       "      <td>88.0</td>\n",
       "      <td>0</td>\n",
       "      <td>11237</td>\n",
       "    </tr>\n",
       "    <tr>\n",
       "      <th>3</th>\n",
       "      <td>test_3</td>\n",
       "      <td>6</td>\n",
       "      <td>{\"Cable TV\",Internet,\"Wireless Internet\",\"Air conditioning\",Kitchen,Elevator,\"Buzzer/wireless intercom\",Heating,\"Family/kid friendly\"}</td>\n",
       "      <td>1.0</td>\n",
       "      <td>3.0</td>\n",
       "      <td>4</td>\n",
       "      <td>1.0</td>\n",
       "      <td>2</td>\n",
       "      <td>4</td>\n",
       "      <td>1</td>\n",
       "      <td>2012-11-12</td>\n",
       "      <td>t</td>\n",
       "      <td>t</td>\n",
       "      <td>70%</td>\n",
       "      <td>2009-02-06</td>\n",
       "      <td>0</td>\n",
       "      <td>2017-07-29</td>\n",
       "      <td>40.742959</td>\n",
       "      <td>-73.990820</td>\n",
       "      <td>Flatiron District</td>\n",
       "      <td>12</td>\n",
       "      <td>0</td>\n",
       "      <td>82.0</td>\n",
       "      <td>0</td>\n",
       "      <td>10010</td>\n",
       "    </tr>\n",
       "    <tr>\n",
       "      <th>4</th>\n",
       "      <td>test_4</td>\n",
       "      <td>2</td>\n",
       "      <td>{Internet,\"Wireless Internet\",\"Air conditioning\",\"Free parking on premises\",\"Hot tub\",Heating,\"Family/kid friendly\",\"Smoke detector\",\"Carbon monoxide detector\",\"Fire extinguisher\",Essentials,Shamp...</td>\n",
       "      <td>1.0</td>\n",
       "      <td>1.0</td>\n",
       "      <td>4</td>\n",
       "      <td>1.0</td>\n",
       "      <td>0</td>\n",
       "      <td>3</td>\n",
       "      <td>1</td>\n",
       "      <td>2017-02-17</td>\n",
       "      <td>t</td>\n",
       "      <td>t</td>\n",
       "      <td>100%</td>\n",
       "      <td>2015-10-20</td>\n",
       "      <td>0</td>\n",
       "      <td>2017-03-25</td>\n",
       "      <td>34.046473</td>\n",
       "      <td>-117.734095</td>\n",
       "      <td>NaN</td>\n",
       "      <td>2</td>\n",
       "      <td>17</td>\n",
       "      <td>100.0</td>\n",
       "      <td>1</td>\n",
       "      <td>91766</td>\n",
       "    </tr>\n",
       "  </tbody>\n",
       "</table>\n",
       "</div>"
      ],
      "text/plain": [
       "     数据ID  容纳人数  \\\n",
       "0  test_0     2   \n",
       "1  test_1     2   \n",
       "2  test_2     5   \n",
       "3  test_3     6   \n",
       "4  test_4     2   \n",
       "\n",
       "                                                                                                                                                                                                      便利设施  \\\n",
       "0  {TV,Internet,\"Wireless Internet\",\"Air conditioning\",Kitchen,Gym,Breakfast,\"Indoor fireplace\",Heating,\"Family/kid friendly\",\"Suitable for events\",Washer,Dryer,\"Smoke detector\",\"Carbon monoxide dete...   \n",
       "1                                           {TV,Internet,\"Wireless Internet\",\"Air conditioning\",Kitchen,Heating,\"Family/kid friendly\",Washer,Dryer,\"Smoke detector\",\"Carbon monoxide detector\",Essentials}   \n",
       "2  {TV,\"Cable TV\",\"Wireless Internet\",\"Air conditioning\",Kitchen,\"Pets allowed\",Heating,\"Family/kid friendly\",\"Suitable for events\",\"Smoke detector\",\"Carbon monoxide detector\",\"First aid kit\",Essenti...   \n",
       "3                                                                   {\"Cable TV\",Internet,\"Wireless Internet\",\"Air conditioning\",Kitchen,Elevator,\"Buzzer/wireless intercom\",Heating,\"Family/kid friendly\"}   \n",
       "4  {Internet,\"Wireless Internet\",\"Air conditioning\",\"Free parking on premises\",\"Hot tub\",Heating,\"Family/kid friendly\",\"Smoke detector\",\"Carbon monoxide detector\",\"Fire extinguisher\",Essentials,Shamp...   \n",
       "\n",
       "   洗手间数量  床的数量  床的类型  卧室数量  取消条款  所在城市  清洁费      首次评论日期 房主是否有个人资料图片 房主身份是否验证  \\\n",
       "0    1.5   1.0     4   1.0     2     1    1  2015-05-25           t        t   \n",
       "1    2.0   1.0     4   1.0     2     3    1  2015-11-09           t        t   \n",
       "2    1.0   3.0     4   2.0     1     4    1  2017-05-15           t        t   \n",
       "3    1.0   3.0     4   1.0     2     4    1  2012-11-12           t        t   \n",
       "4    1.0   1.0     4   1.0     0     3    1  2017-02-17           t        t   \n",
       "\n",
       "  房主回复率      何时成为房主  是否支持随即预订      最近评论日期         维度          经度  \\\n",
       "0  100%  2015-05-20         1  2017-01-01  41.849684  -87.676270   \n",
       "1  100%  2015-09-08         0  2015-11-15  34.068613 -118.246455   \n",
       "2  100%  2017-05-06         1  2017-09-25  40.701958  -73.917352   \n",
       "3   70%  2009-02-06         0  2017-07-29  40.742959  -73.990820   \n",
       "4  100%  2015-10-20         0  2017-03-25  34.046473 -117.734095   \n",
       "\n",
       "                民宿周边  评论个数  房产类型   民宿评分  房型     邮编  \n",
       "0             Pilsen    17    17   97.0   1  60608  \n",
       "1          Echo Park     2     0  100.0   0  90012  \n",
       "2           Bushwick    25     0   88.0   0  11237  \n",
       "3  Flatiron District    12     0   82.0   0  10010  \n",
       "4                NaN     2    17  100.0   1  91766  "
      ]
     },
     "execution_count": 5,
     "metadata": {},
     "output_type": "execute_result"
    }
   ],
   "source": [
    "test.head(5)"
   ]
  },
  {
   "cell_type": "markdown",
   "metadata": {
    "id": "FE75B2054E8A4C8492A65B8F75D76367",
    "jupyter": {},
    "mdEditEnable": false,
    "slideshow": {
     "slide_type": "slide"
    },
    "tags": []
   },
   "source": [
    "## Id特征处理"
   ]
  },
  {
   "cell_type": "code",
   "execution_count": 6,
   "metadata": {
    "id": "20B324B2DD5F4DEC836C09F5C422FACD",
    "jupyter": {},
    "scrolled": false,
    "slideshow": {
     "slide_type": "slide"
    },
    "tags": []
   },
   "outputs": [
    {
     "name": "stdout",
     "output_type": "stream",
     "text": [
      "(59288, 26)\n",
      "(14823, 25)\n"
     ]
    }
   ],
   "source": [
    "# 处理前数据形状\n",
    "print(train.shape)\n",
    "print(test.shape)"
   ]
  },
  {
   "cell_type": "code",
   "execution_count": 6,
   "metadata": {
    "id": "14BC30F7C63945188D72F9CA1C3DA1BC",
    "jupyter": {},
    "scrolled": false,
    "slideshow": {
     "slide_type": "slide"
    },
    "tags": []
   },
   "outputs": [],
   "source": [
    "train_Id = train['数据ID']\n",
    "test_Id = test['数据ID']\n",
    "train.drop('数据ID', axis=1, inplace=True)\n",
    "test.drop('数据ID', axis=1, inplace=True)"
   ]
  },
  {
   "cell_type": "code",
   "execution_count": 7,
   "metadata": {
    "id": "48F1D90DF39B498D9F18E9655524BD37",
    "jupyter": {},
    "scrolled": false,
    "slideshow": {
     "slide_type": "slide"
    },
    "tags": []
   },
   "outputs": [
    {
     "name": "stdout",
     "output_type": "stream",
     "text": [
      "(59288, 25)\n",
      "(14823, 24)\n"
     ]
    }
   ],
   "source": [
    "# 处理后数据形状\n",
    "print(train.shape)\n",
    "print(test.shape)"
   ]
  },
  {
   "cell_type": "markdown",
   "metadata": {
    "id": "BA9F16009CBE4977856A31AE67AC0911",
    "jupyter": {},
    "mdEditEnable": false,
    "slideshow": {
     "slide_type": "slide"
    },
    "tags": []
   },
   "source": [
    "## 异常值处理"
   ]
  },
  {
   "cell_type": "code",
   "execution_count": 8,
   "metadata": {
    "id": "65287B5F621948148A20D4AD3D468E61",
    "jupyter": {},
    "scrolled": false,
    "slideshow": {
     "slide_type": "slide"
    },
    "tags": []
   },
   "outputs": [],
   "source": [
    "# 处理前数据分布\n",
    "# fig, ax = plt.subplots()\n",
    "# ax.scatter(x=train['GrLivArea'], y=train['SalePrice'])\n",
    "# plt.xlabel('GrLivArea', fontsize=13)\n",
    "# plt.ylabel('SalePrice', fontsize=13)\n",
    "# plt.show()"
   ]
  },
  {
   "cell_type": "code",
   "execution_count": 9,
   "metadata": {
    "id": "36B4C4A077F141ADA725440D5A6604FA",
    "jupyter": {},
    "scrolled": false,
    "slideshow": {
     "slide_type": "slide"
    },
    "tags": []
   },
   "outputs": [],
   "source": [
    "# 删除右下角两个异常值\n",
    "# train = train.drop(train[(train['GrLivArea']>4000) & (train['SalePrice']<300000)].index)"
   ]
  },
  {
   "cell_type": "code",
   "execution_count": 10,
   "metadata": {
    "id": "EADD79369D0C43E9857EC42AD8A5FEC6",
    "jupyter": {},
    "scrolled": false,
    "slideshow": {
     "slide_type": "slide"
    },
    "tags": []
   },
   "outputs": [],
   "source": [
    "# 处理后数据分布\n",
    "# fig, ax = plt.subplots()\n",
    "# ax.scatter(x=train['GrLivArea'], y=train['SalePrice'])\n",
    "# plt.xlabel('GrLivArea', fontsize=13)\n",
    "# plt.ylabel('SalePrice', fontsize=13)\n",
    "# plt.show()"
   ]
  },
  {
   "cell_type": "markdown",
   "metadata": {
    "id": "F5678F3A17E240439EF55E1E200713C4",
    "jupyter": {},
    "mdEditEnable": false,
    "slideshow": {
     "slide_type": "slide"
    },
    "tags": []
   },
   "source": [
    "## SalePrice特征处理"
   ]
  },
  {
   "cell_type": "code",
   "execution_count": 11,
   "metadata": {
    "id": "E7EEE80B2C484E4182E6B417F24AAAD0",
    "jupyter": {},
    "scrolled": false,
    "slideshow": {
     "slide_type": "slide"
    },
    "tags": []
   },
   "outputs": [
    {
     "name": "stdout",
     "output_type": "stream",
     "text": [
      "\n",
      " mu=68.97 and sigma=10.35 \n",
      "\n"
     ]
    },
    {
     "data": {
      "text/html": [
       "<img src=\"https://cdn.kesci.com/upload/rt/E7EEE80B2C484E4182E6B417F24AAAD0/qqzczo23z7.png\">"
      ],
      "text/plain": [
       "<Figure size 432x288 with 1 Axes>"
      ]
     },
     "metadata": {
      "needs_background": "light"
     },
     "output_type": "display_data"
    },
    {
     "data": {
      "text/html": [
       "<img src=\"https://cdn.kesci.com/upload/rt/E7EEE80B2C484E4182E6B417F24AAAD0/qqzczoo0fc.png\">"
      ],
      "text/plain": [
       "<Figure size 432x288 with 1 Axes>"
      ]
     },
     "metadata": {
      "needs_background": "light"
     },
     "output_type": "display_data"
    }
   ],
   "source": [
    "# 处理前数据分布\n",
    "sns.distplot(train['价格'], fit=norm)\n",
    "\n",
    "(mu, sigma) = norm.fit(train['价格'])\n",
    "print('\\n mu={:.2f} and sigma={:.2f} \\n'.format(mu, sigma))\n",
    "\n",
    "plt.legend(['Normal dist.($\\mu=$ {:.2f} and $\\sigma=$ {:.2f})'.format(mu, sigma)], loc='best')\n",
    "plt.ylabel('Frequency')\n",
    "plt.title('价格 distribution')\n",
    "\n",
    "fig = plt.figure()\n",
    "stats.probplot(train['价格'], plot=plt)\n",
    "plt.show()"
   ]
  },
  {
   "cell_type": "code",
   "execution_count": 12,
   "metadata": {
    "id": "223360DA7D59403987A01FAB1861DFCF",
    "jupyter": {},
    "scrolled": false,
    "slideshow": {
     "slide_type": "slide"
    },
    "tags": []
   },
   "outputs": [],
   "source": [
    "# 数据偏度大，用log1p函数转化，使其更加服从高斯分布。\n",
    "# 最后需要将预测出的平滑数据进行还原，而还原过程就是log1p的逆运算expm1\n",
    "train['价格'] = np.log1p(train['价格'])"
   ]
  },
  {
   "cell_type": "code",
   "execution_count": 13,
   "metadata": {
    "id": "37AE3D263272420DA2D6F59F4FD9BF52",
    "jupyter": {},
    "scrolled": false,
    "slideshow": {
     "slide_type": "slide"
    },
    "tags": []
   },
   "outputs": [
    {
     "name": "stdout",
     "output_type": "stream",
     "text": [
      "\n",
      " mu=4.24 and sigma=0.15 \n",
      "\n"
     ]
    },
    {
     "data": {
      "text/html": [
       "<img src=\"https://cdn.kesci.com/upload/rt/37AE3D263272420DA2D6F59F4FD9BF52/qqzczo9f1.png\">"
      ],
      "text/plain": [
       "<Figure size 432x288 with 1 Axes>"
      ]
     },
     "metadata": {
      "needs_background": "light"
     },
     "output_type": "display_data"
    },
    {
     "data": {
      "text/html": [
       "<img src=\"https://cdn.kesci.com/upload/rt/37AE3D263272420DA2D6F59F4FD9BF52/qqzczo7aja.png\">"
      ],
      "text/plain": [
       "<Figure size 432x288 with 1 Axes>"
      ]
     },
     "metadata": {
      "needs_background": "light"
     },
     "output_type": "display_data"
    }
   ],
   "source": [
    "# 处理后数据分布\n",
    "sns.distplot(train['价格'], fit=norm)\n",
    "\n",
    "(mu, sigma) = norm.fit(train['价格'])\n",
    "print('\\n mu={:.2f} and sigma={:.2f} \\n'.format(mu, sigma))\n",
    "\n",
    "plt.legend(['Normal dist.($\\mu=$ {:.2f} and $\\sigma=$ {:.2f})'.format(mu, sigma)], loc='best')\n",
    "plt.ylabel('Frequency')\n",
    "plt.title('价格 distribution')\n",
    "\n",
    "fig = plt.figure()\n",
    "stats.probplot(train['价格'], plot=plt)\n",
    "plt.show()"
   ]
  },
  {
   "cell_type": "markdown",
   "metadata": {
    "id": "70F65315D6984292B00AABB8C6DD1FCC",
    "jupyter": {},
    "mdEditEnable": false,
    "slideshow": {
     "slide_type": "slide"
    },
    "tags": []
   },
   "source": [
    "# 特征工程"
   ]
  },
  {
   "cell_type": "markdown",
   "metadata": {
    "id": "2641180E44964323BB6C9F7BE0BCC1E4",
    "jupyter": {},
    "mdEditEnable": false,
    "slideshow": {
     "slide_type": "slide"
    },
    "tags": []
   },
   "source": [
    "## 数据集连接"
   ]
  },
  {
   "cell_type": "code",
   "execution_count": 14,
   "metadata": {
    "id": "9D9709B1B7664703876C9F6918FBF70B",
    "jupyter": {},
    "scrolled": false,
    "slideshow": {
     "slide_type": "slide"
    },
    "tags": []
   },
   "outputs": [
    {
     "name": "stdout",
     "output_type": "stream",
     "text": [
      "all_data size is (74111, 24)\n"
     ]
    },
    {
     "name": "stderr",
     "output_type": "stream",
     "text": [
      "/opt/conda/lib/python3.6/site-packages/ipykernel_launcher.py:4: FutureWarning: Sorting because non-concatenation axis is not aligned. A future version\n",
      "of pandas will change to not sort by default.\n",
      "\n",
      "To accept the future behavior, pass 'sort=False'.\n",
      "\n",
      "To retain the current behavior and silence the warning, pass 'sort=True'.\n",
      "\n",
      "  after removing the cwd from sys.path.\n"
     ]
    }
   ],
   "source": [
    "ntrain = train.shape[0]\n",
    "ntest = test.shape[0]\n",
    "y_train = train.价格.values\n",
    "all_data = pd.concat((train, test)).reset_index(drop=True)\n",
    "all_data.drop(['价格'], axis=1, inplace=True)\n",
    "print('all_data size is {}'.format(all_data.shape))"
   ]
  },
  {
   "cell_type": "markdown",
   "metadata": {
    "id": "A2DB9DEA073449DCAD76C25D4D9928F8",
    "jupyter": {},
    "mdEditEnable": false,
    "slideshow": {
     "slide_type": "slide"
    },
    "tags": []
   },
   "source": [
    "## 缺失数据分析"
   ]
  },
  {
   "cell_type": "code",
   "execution_count": 15,
   "metadata": {
    "id": "AF41293446944FA4BF2BF80B812B3039",
    "jupyter": {},
    "scrolled": false,
    "slideshow": {
     "slide_type": "slide"
    },
    "tags": []
   },
   "outputs": [
    {
     "data": {
      "text/html": [
       "<div>\n",
       "<style scoped>\n",
       "    .dataframe tbody tr th:only-of-type {\n",
       "        vertical-align: middle;\n",
       "    }\n",
       "\n",
       "    .dataframe tbody tr th {\n",
       "        vertical-align: top;\n",
       "    }\n",
       "\n",
       "    .dataframe thead th {\n",
       "        text-align: right;\n",
       "    }\n",
       "</style>\n",
       "<table border=\"1\" class=\"dataframe\">\n",
       "  <thead>\n",
       "    <tr style=\"text-align: right;\">\n",
       "      <th></th>\n",
       "      <th>何时成为房主</th>\n",
       "      <th>便利设施</th>\n",
       "      <th>卧室数量</th>\n",
       "      <th>取消条款</th>\n",
       "      <th>容纳人数</th>\n",
       "      <th>床的数量</th>\n",
       "      <th>床的类型</th>\n",
       "      <th>房主回复率</th>\n",
       "      <th>房主是否有个人资料图片</th>\n",
       "      <th>房主身份是否验证</th>\n",
       "      <th>房产类型</th>\n",
       "      <th>房型</th>\n",
       "      <th>所在城市</th>\n",
       "      <th>是否支持随即预订</th>\n",
       "      <th>最近评论日期</th>\n",
       "      <th>民宿周边</th>\n",
       "      <th>民宿评分</th>\n",
       "      <th>洗手间数量</th>\n",
       "      <th>清洁费</th>\n",
       "      <th>经度</th>\n",
       "      <th>维度</th>\n",
       "      <th>评论个数</th>\n",
       "      <th>邮编</th>\n",
       "      <th>首次评论日期</th>\n",
       "    </tr>\n",
       "  </thead>\n",
       "  <tbody>\n",
       "    <tr>\n",
       "      <th>0</th>\n",
       "      <td>False</td>\n",
       "      <td>False</td>\n",
       "      <td>False</td>\n",
       "      <td>False</td>\n",
       "      <td>False</td>\n",
       "      <td>False</td>\n",
       "      <td>False</td>\n",
       "      <td>True</td>\n",
       "      <td>False</td>\n",
       "      <td>False</td>\n",
       "      <td>False</td>\n",
       "      <td>False</td>\n",
       "      <td>False</td>\n",
       "      <td>False</td>\n",
       "      <td>False</td>\n",
       "      <td>False</td>\n",
       "      <td>False</td>\n",
       "      <td>False</td>\n",
       "      <td>False</td>\n",
       "      <td>False</td>\n",
       "      <td>False</td>\n",
       "      <td>False</td>\n",
       "      <td>False</td>\n",
       "      <td>False</td>\n",
       "    </tr>\n",
       "    <tr>\n",
       "      <th>1</th>\n",
       "      <td>False</td>\n",
       "      <td>False</td>\n",
       "      <td>False</td>\n",
       "      <td>False</td>\n",
       "      <td>False</td>\n",
       "      <td>False</td>\n",
       "      <td>False</td>\n",
       "      <td>True</td>\n",
       "      <td>False</td>\n",
       "      <td>False</td>\n",
       "      <td>False</td>\n",
       "      <td>False</td>\n",
       "      <td>False</td>\n",
       "      <td>False</td>\n",
       "      <td>False</td>\n",
       "      <td>False</td>\n",
       "      <td>False</td>\n",
       "      <td>False</td>\n",
       "      <td>False</td>\n",
       "      <td>False</td>\n",
       "      <td>False</td>\n",
       "      <td>False</td>\n",
       "      <td>False</td>\n",
       "      <td>False</td>\n",
       "    </tr>\n",
       "    <tr>\n",
       "      <th>2</th>\n",
       "      <td>False</td>\n",
       "      <td>False</td>\n",
       "      <td>False</td>\n",
       "      <td>False</td>\n",
       "      <td>False</td>\n",
       "      <td>False</td>\n",
       "      <td>False</td>\n",
       "      <td>False</td>\n",
       "      <td>False</td>\n",
       "      <td>False</td>\n",
       "      <td>False</td>\n",
       "      <td>False</td>\n",
       "      <td>False</td>\n",
       "      <td>False</td>\n",
       "      <td>False</td>\n",
       "      <td>False</td>\n",
       "      <td>False</td>\n",
       "      <td>False</td>\n",
       "      <td>False</td>\n",
       "      <td>False</td>\n",
       "      <td>False</td>\n",
       "      <td>False</td>\n",
       "      <td>False</td>\n",
       "      <td>False</td>\n",
       "    </tr>\n",
       "    <tr>\n",
       "      <th>3</th>\n",
       "      <td>False</td>\n",
       "      <td>False</td>\n",
       "      <td>False</td>\n",
       "      <td>False</td>\n",
       "      <td>False</td>\n",
       "      <td>False</td>\n",
       "      <td>False</td>\n",
       "      <td>True</td>\n",
       "      <td>False</td>\n",
       "      <td>False</td>\n",
       "      <td>False</td>\n",
       "      <td>False</td>\n",
       "      <td>False</td>\n",
       "      <td>False</td>\n",
       "      <td>True</td>\n",
       "      <td>False</td>\n",
       "      <td>True</td>\n",
       "      <td>False</td>\n",
       "      <td>False</td>\n",
       "      <td>False</td>\n",
       "      <td>False</td>\n",
       "      <td>False</td>\n",
       "      <td>False</td>\n",
       "      <td>True</td>\n",
       "    </tr>\n",
       "    <tr>\n",
       "      <th>4</th>\n",
       "      <td>False</td>\n",
       "      <td>False</td>\n",
       "      <td>False</td>\n",
       "      <td>False</td>\n",
       "      <td>False</td>\n",
       "      <td>False</td>\n",
       "      <td>False</td>\n",
       "      <td>False</td>\n",
       "      <td>False</td>\n",
       "      <td>False</td>\n",
       "      <td>False</td>\n",
       "      <td>False</td>\n",
       "      <td>False</td>\n",
       "      <td>False</td>\n",
       "      <td>False</td>\n",
       "      <td>False</td>\n",
       "      <td>False</td>\n",
       "      <td>False</td>\n",
       "      <td>False</td>\n",
       "      <td>False</td>\n",
       "      <td>False</td>\n",
       "      <td>False</td>\n",
       "      <td>False</td>\n",
       "      <td>False</td>\n",
       "    </tr>\n",
       "  </tbody>\n",
       "</table>\n",
       "</div>"
      ],
      "text/plain": [
       "   何时成为房主   便利设施   卧室数量   取消条款   容纳人数   床的数量   床的类型  房主回复率  房主是否有个人资料图片  \\\n",
       "0   False  False  False  False  False  False  False   True        False   \n",
       "1   False  False  False  False  False  False  False   True        False   \n",
       "2   False  False  False  False  False  False  False  False        False   \n",
       "3   False  False  False  False  False  False  False   True        False   \n",
       "4   False  False  False  False  False  False  False  False        False   \n",
       "\n",
       "   房主身份是否验证   房产类型     房型   所在城市  是否支持随即预订  最近评论日期   民宿周边   民宿评分  洗手间数量  \\\n",
       "0     False  False  False  False     False   False  False  False  False   \n",
       "1     False  False  False  False     False   False  False  False  False   \n",
       "2     False  False  False  False     False   False  False  False  False   \n",
       "3     False  False  False  False     False    True  False   True  False   \n",
       "4     False  False  False  False     False   False  False  False  False   \n",
       "\n",
       "     清洁费     经度     维度   评论个数     邮编  首次评论日期  \n",
       "0  False  False  False  False  False   False  \n",
       "1  False  False  False  False  False   False  \n",
       "2  False  False  False  False  False   False  \n",
       "3  False  False  False  False  False    True  \n",
       "4  False  False  False  False  False   False  "
      ]
     },
     "execution_count": 15,
     "metadata": {},
     "output_type": "execute_result"
    }
   ],
   "source": [
    "all_data.isnull().head()"
   ]
  },
  {
   "cell_type": "code",
   "execution_count": 16,
   "metadata": {
    "id": "9156A1533B1141B69278B67AB17A7851",
    "jupyter": {},
    "scrolled": false,
    "slideshow": {
     "slide_type": "slide"
    },
    "tags": []
   },
   "outputs": [
    {
     "data": {
      "text/plain": [
       "何时成为房主           188\n",
       "便利设施               0\n",
       "卧室数量              91\n",
       "取消条款               0\n",
       "容纳人数               0\n",
       "床的数量             131\n",
       "床的类型               0\n",
       "房主回复率          18299\n",
       "房主是否有个人资料图片      188\n",
       "房主身份是否验证         188\n",
       "dtype: int64"
      ]
     },
     "execution_count": 16,
     "metadata": {},
     "output_type": "execute_result"
    }
   ],
   "source": [
    "all_data.isnull().sum().head(10)"
   ]
  },
  {
   "cell_type": "code",
   "execution_count": 17,
   "metadata": {
    "id": "9B81ADA7CEED44B4893F0ABCE63743DE",
    "jupyter": {},
    "scrolled": false,
    "slideshow": {
     "slide_type": "slide"
    },
    "tags": []
   },
   "outputs": [
    {
     "data": {
      "text/html": [
       "<div>\n",
       "<style scoped>\n",
       "    .dataframe tbody tr th:only-of-type {\n",
       "        vertical-align: middle;\n",
       "    }\n",
       "\n",
       "    .dataframe tbody tr th {\n",
       "        vertical-align: top;\n",
       "    }\n",
       "\n",
       "    .dataframe thead th {\n",
       "        text-align: right;\n",
       "    }\n",
       "</style>\n",
       "<table border=\"1\" class=\"dataframe\">\n",
       "  <thead>\n",
       "    <tr style=\"text-align: right;\">\n",
       "      <th></th>\n",
       "      <th>Missing Ratio</th>\n",
       "    </tr>\n",
       "  </thead>\n",
       "  <tbody>\n",
       "    <tr>\n",
       "      <th>房主回复率</th>\n",
       "      <td>24.691341</td>\n",
       "    </tr>\n",
       "    <tr>\n",
       "      <th>民宿评分</th>\n",
       "      <td>22.563452</td>\n",
       "    </tr>\n",
       "    <tr>\n",
       "      <th>首次评论日期</th>\n",
       "      <td>21.405729</td>\n",
       "    </tr>\n",
       "    <tr>\n",
       "      <th>最近评论日期</th>\n",
       "      <td>21.355804</td>\n",
       "    </tr>\n",
       "    <tr>\n",
       "      <th>民宿周边</th>\n",
       "      <td>9.272578</td>\n",
       "    </tr>\n",
       "    <tr>\n",
       "      <th>邮编</th>\n",
       "      <td>1.303450</td>\n",
       "    </tr>\n",
       "    <tr>\n",
       "      <th>洗手间数量</th>\n",
       "      <td>0.269865</td>\n",
       "    </tr>\n",
       "    <tr>\n",
       "      <th>房主身份是否验证</th>\n",
       "      <td>0.253674</td>\n",
       "    </tr>\n",
       "    <tr>\n",
       "      <th>房主是否有个人资料图片</th>\n",
       "      <td>0.253674</td>\n",
       "    </tr>\n",
       "    <tr>\n",
       "      <th>何时成为房主</th>\n",
       "      <td>0.253674</td>\n",
       "    </tr>\n",
       "    <tr>\n",
       "      <th>床的数量</th>\n",
       "      <td>0.176762</td>\n",
       "    </tr>\n",
       "    <tr>\n",
       "      <th>卧室数量</th>\n",
       "      <td>0.122789</td>\n",
       "    </tr>\n",
       "  </tbody>\n",
       "</table>\n",
       "</div>"
      ],
      "text/plain": [
       "             Missing Ratio\n",
       "房主回复率            24.691341\n",
       "民宿评分             22.563452\n",
       "首次评论日期           21.405729\n",
       "最近评论日期           21.355804\n",
       "民宿周边              9.272578\n",
       "邮编                1.303450\n",
       "洗手间数量             0.269865\n",
       "房主身份是否验证          0.253674\n",
       "房主是否有个人资料图片       0.253674\n",
       "何时成为房主            0.253674\n",
       "床的数量              0.176762\n",
       "卧室数量              0.122789"
      ]
     },
     "execution_count": 17,
     "metadata": {},
     "output_type": "execute_result"
    }
   ],
   "source": [
    "all_data_na = (all_data.isnull().sum()/len(all_data))*100\n",
    "all_data_na = all_data_na.drop(all_data_na[all_data_na == 0].index).sort_values(ascending=False)\n",
    "missing_data = pd.DataFrame({'Missing Ratio' : all_data_na})\n",
    "missing_data.head(20)"
   ]
  },
  {
   "cell_type": "code",
   "execution_count": 18,
   "metadata": {
    "id": "EABD2820B16F43C28B28AFEF75D9A113",
    "jupyter": {},
    "scrolled": false,
    "slideshow": {
     "slide_type": "slide"
    },
    "tags": []
   },
   "outputs": [
    {
     "data": {
      "text/plain": [
       "Text(0.5, 1.0, 'Percent missing data by feature')"
      ]
     },
     "execution_count": 18,
     "metadata": {},
     "output_type": "execute_result"
    },
    {
     "data": {
      "text/html": [
       "<img src=\"https://cdn.kesci.com/upload/rt/EABD2820B16F43C28B28AFEF75D9A113/qqzczpaisa.png\">"
      ],
      "text/plain": [
       "<Figure size 1080x864 with 1 Axes>"
      ]
     },
     "metadata": {
      "needs_background": "light"
     },
     "output_type": "display_data"
    }
   ],
   "source": [
    "# 含有缺失值的特征的缺失率\n",
    "f, axis = plt.subplots(figsize=(15,12))\n",
    "plt.xticks(rotation='90')\n",
    "sns.barplot(x=all_data_na.index, y=all_data_na)\n",
    "plt.xlabel('Features', fontsize=15)\n",
    "plt.ylabel('Percent of missing values', fontsize=15)\n",
    "plt.title('Percent missing data by feature', fontsize=15)"
   ]
  },
  {
   "cell_type": "markdown",
   "metadata": {
    "id": "08D062BDCF79434B9409C88F4CF4EE02",
    "jupyter": {},
    "mdEditEnable": false,
    "slideshow": {
     "slide_type": "slide"
    },
    "tags": []
   },
   "source": [
    "## 数据相关性"
   ]
  },
  {
   "cell_type": "code",
   "execution_count": 19,
   "metadata": {
    "id": "5EB83F4C1F484E1E9DE64AC1F76249DD",
    "jupyter": {},
    "scrolled": false,
    "slideshow": {
     "slide_type": "slide"
    },
    "tags": []
   },
   "outputs": [
    {
     "data": {
      "text/plain": [
       "<matplotlib.axes._subplots.AxesSubplot at 0x7f371661e240>"
      ]
     },
     "execution_count": 19,
     "metadata": {},
     "output_type": "execute_result"
    },
    {
     "data": {
      "text/html": [
       "<img src=\"https://cdn.kesci.com/upload/rt/5EB83F4C1F484E1E9DE64AC1F76249DD/qqzczq8lgk.png\">"
      ],
      "text/plain": [
       "<Figure size 1080x864 with 2 Axes>"
      ]
     },
     "metadata": {
      "needs_background": "light"
     },
     "output_type": "display_data"
    }
   ],
   "source": [
    "# 全部数值特征\n",
    "corrmat = train.corr()\n",
    "plt.subplots(figsize=(15,12))\n",
    "sns.heatmap(corrmat, vmax=0.9, square=True)"
   ]
  },
  {
   "cell_type": "code",
   "execution_count": 20,
   "metadata": {
    "id": "96CEC2DA14514DF28AC25A65FD6F8517",
    "jupyter": {},
    "scrolled": false,
    "slideshow": {
     "slide_type": "slide"
    },
    "tags": []
   },
   "outputs": [
    {
     "data": {
      "text/plain": [
       "<matplotlib.axes._subplots.AxesSubplot at 0x7f3710e9b240>"
      ]
     },
     "execution_count": 20,
     "metadata": {},
     "output_type": "execute_result"
    },
    {
     "data": {
      "text/html": [
       "<img src=\"https://cdn.kesci.com/upload/rt/96CEC2DA14514DF28AC25A65FD6F8517/qqzczqf18p.png\">"
      ],
      "text/plain": [
       "<Figure size 720x576 with 2 Axes>"
      ]
     },
     "metadata": {
      "needs_background": "light"
     },
     "output_type": "display_data"
    }
   ],
   "source": [
    "# 相关性最大的10个特征\n",
    "corrmat = train.corr()\n",
    "plt.subplots(figsize=(10,8))\n",
    "k = 10\n",
    "cols = corrmat.nlargest(k, '价格')['价格'].index\n",
    "cm = np.corrcoef(train[cols].values.T)\n",
    "sns.heatmap(cm, cbar=True, annot=True, square=True, fmt='.2f', annot_kws={'size': 10}, yticklabels=cols.values, xticklabels=cols.values)"
   ]
  },
  {
   "cell_type": "markdown",
   "metadata": {
    "id": "14C1F01CBEF3472B8FEDECB9E30F06D7",
    "jupyter": {},
    "mdEditEnable": false,
    "slideshow": {
     "slide_type": "slide"
    },
    "tags": []
   },
   "source": [
    "## 缺失值填充"
   ]
  },
  {
   "cell_type": "code",
   "execution_count": 21,
   "metadata": {
    "id": "BB27A349192D4DB487F3FBDBDEC2A349",
    "jupyter": {},
    "scrolled": false,
    "slideshow": {
     "slide_type": "slide"
    },
    "tags": []
   },
   "outputs": [
    {
     "data": {
      "text/html": [
       "<div>\n",
       "<style scoped>\n",
       "    .dataframe tbody tr th:only-of-type {\n",
       "        vertical-align: middle;\n",
       "    }\n",
       "\n",
       "    .dataframe tbody tr th {\n",
       "        vertical-align: top;\n",
       "    }\n",
       "\n",
       "    .dataframe thead th {\n",
       "        text-align: right;\n",
       "    }\n",
       "</style>\n",
       "<table border=\"1\" class=\"dataframe\">\n",
       "  <thead>\n",
       "    <tr style=\"text-align: right;\">\n",
       "      <th></th>\n",
       "      <th>何时成为房主</th>\n",
       "      <th>便利设施</th>\n",
       "      <th>卧室数量</th>\n",
       "      <th>取消条款</th>\n",
       "      <th>容纳人数</th>\n",
       "      <th>床的数量</th>\n",
       "      <th>床的类型</th>\n",
       "      <th>房主回复率</th>\n",
       "      <th>房主是否有个人资料图片</th>\n",
       "      <th>房主身份是否验证</th>\n",
       "      <th>房产类型</th>\n",
       "      <th>房型</th>\n",
       "      <th>所在城市</th>\n",
       "      <th>是否支持随即预订</th>\n",
       "      <th>最近评论日期</th>\n",
       "      <th>民宿周边</th>\n",
       "      <th>民宿评分</th>\n",
       "      <th>洗手间数量</th>\n",
       "      <th>清洁费</th>\n",
       "      <th>经度</th>\n",
       "      <th>维度</th>\n",
       "      <th>评论个数</th>\n",
       "      <th>邮编</th>\n",
       "      <th>首次评论日期</th>\n",
       "    </tr>\n",
       "  </thead>\n",
       "  <tbody>\n",
       "    <tr>\n",
       "      <th>0</th>\n",
       "      <td>2015-02-25</td>\n",
       "      <td>{TV,\"Cable TV\",Internet,\"Wireless Internet\",\"Air conditioning\",Kitchen,\"Pets live on this property\",Dog(s),\"Hot tub\",Heating,Washer,Dryer,\"Smoke detector\",\"Fire extinguisher\",Essentials,\"translati...</td>\n",
       "      <td>2.0</td>\n",
       "      <td>0</td>\n",
       "      <td>4</td>\n",
       "      <td>3.0</td>\n",
       "      <td>4</td>\n",
       "      <td>NaN</td>\n",
       "      <td>t</td>\n",
       "      <td>t</td>\n",
       "      <td>17</td>\n",
       "      <td>0</td>\n",
       "      <td>3</td>\n",
       "      <td>0</td>\n",
       "      <td>2016-06-26</td>\n",
       "      <td>Los Feliz</td>\n",
       "      <td>97.0</td>\n",
       "      <td>1.5</td>\n",
       "      <td>0</td>\n",
       "      <td>-118.273390</td>\n",
       "      <td>34.109039</td>\n",
       "      <td>12</td>\n",
       "      <td>90027</td>\n",
       "      <td>2015-05-07</td>\n",
       "    </tr>\n",
       "    <tr>\n",
       "      <th>1</th>\n",
       "      <td>2009-10-27</td>\n",
       "      <td>{TV,\"Wireless Internet\",Kitchen,\"Free parking on premises\",\"Pets allowed\",Heating,\"Family/kid friendly\",Washer,Dryer,\"Smoke detector\",\"Carbon monoxide detector\",\"First aid kit\",\"Fire extinguisher\"...</td>\n",
       "      <td>1.0</td>\n",
       "      <td>2</td>\n",
       "      <td>2</td>\n",
       "      <td>1.0</td>\n",
       "      <td>4</td>\n",
       "      <td>NaN</td>\n",
       "      <td>t</td>\n",
       "      <td>t</td>\n",
       "      <td>0</td>\n",
       "      <td>0</td>\n",
       "      <td>4</td>\n",
       "      <td>1</td>\n",
       "      <td>2016-07-31</td>\n",
       "      <td>Mott Haven</td>\n",
       "      <td>87.0</td>\n",
       "      <td>1.0</td>\n",
       "      <td>1</td>\n",
       "      <td>-73.919163</td>\n",
       "      <td>40.812897</td>\n",
       "      <td>6</td>\n",
       "      <td>10454</td>\n",
       "      <td>2016-07-02</td>\n",
       "    </tr>\n",
       "    <tr>\n",
       "      <th>2</th>\n",
       "      <td>2017-06-29</td>\n",
       "      <td>{TV,\"Air conditioning\",Kitchen,Heating,\"Smoke detector\",\"Carbon monoxide detector\",\"First aid kit\",\"Safety card\",Essentials,Shampoo,\"Hair dryer\"}</td>\n",
       "      <td>0.0</td>\n",
       "      <td>2</td>\n",
       "      <td>4</td>\n",
       "      <td>2.0</td>\n",
       "      <td>4</td>\n",
       "      <td>100%</td>\n",
       "      <td>t</td>\n",
       "      <td>f</td>\n",
       "      <td>0</td>\n",
       "      <td>0</td>\n",
       "      <td>4</td>\n",
       "      <td>1</td>\n",
       "      <td>2017-07-31</td>\n",
       "      <td>Greenpoint</td>\n",
       "      <td>80.0</td>\n",
       "      <td>1.0</td>\n",
       "      <td>1</td>\n",
       "      <td>-73.953309</td>\n",
       "      <td>40.737643</td>\n",
       "      <td>4</td>\n",
       "      <td>11222</td>\n",
       "      <td>2017-07-01</td>\n",
       "    </tr>\n",
       "    <tr>\n",
       "      <th>3</th>\n",
       "      <td>2013-03-19</td>\n",
       "      <td>{}</td>\n",
       "      <td>1.0</td>\n",
       "      <td>0</td>\n",
       "      <td>2</td>\n",
       "      <td>1.0</td>\n",
       "      <td>4</td>\n",
       "      <td>NaN</td>\n",
       "      <td>t</td>\n",
       "      <td>t</td>\n",
       "      <td>0</td>\n",
       "      <td>1</td>\n",
       "      <td>5</td>\n",
       "      <td>0</td>\n",
       "      <td>NaN</td>\n",
       "      <td>Mission District</td>\n",
       "      <td>NaN</td>\n",
       "      <td>1.0</td>\n",
       "      <td>1</td>\n",
       "      <td>-122.420558</td>\n",
       "      <td>37.759935</td>\n",
       "      <td>0</td>\n",
       "      <td>94110</td>\n",
       "      <td>NaN</td>\n",
       "    </tr>\n",
       "    <tr>\n",
       "      <th>4</th>\n",
       "      <td>2011-07-30</td>\n",
       "      <td>{Internet,\"Wireless Internet\",\"Air conditioning\",Kitchen,\"Free parking on premises\",\"Pets live on this property\",Cat(s),\"Buzzer/wireless intercom\",Heating,Essentials,Shampoo,\"translation missing: ...</td>\n",
       "      <td>1.0</td>\n",
       "      <td>1</td>\n",
       "      <td>3</td>\n",
       "      <td>1.0</td>\n",
       "      <td>4</td>\n",
       "      <td>100%</td>\n",
       "      <td>t</td>\n",
       "      <td>t</td>\n",
       "      <td>0</td>\n",
       "      <td>0</td>\n",
       "      <td>4</td>\n",
       "      <td>0</td>\n",
       "      <td>2016-05-22</td>\n",
       "      <td>Bedford-Stuyvesant</td>\n",
       "      <td>99.0</td>\n",
       "      <td>1.0</td>\n",
       "      <td>1</td>\n",
       "      <td>-73.949490</td>\n",
       "      <td>40.683363</td>\n",
       "      <td>16</td>\n",
       "      <td>11216</td>\n",
       "      <td>2014-04-30</td>\n",
       "    </tr>\n",
       "  </tbody>\n",
       "</table>\n",
       "</div>"
      ],
      "text/plain": [
       "       何时成为房主  \\\n",
       "0  2015-02-25   \n",
       "1  2009-10-27   \n",
       "2  2017-06-29   \n",
       "3  2013-03-19   \n",
       "4  2011-07-30   \n",
       "\n",
       "                                                                                                                                                                                                      便利设施  \\\n",
       "0  {TV,\"Cable TV\",Internet,\"Wireless Internet\",\"Air conditioning\",Kitchen,\"Pets live on this property\",Dog(s),\"Hot tub\",Heating,Washer,Dryer,\"Smoke detector\",\"Fire extinguisher\",Essentials,\"translati...   \n",
       "1  {TV,\"Wireless Internet\",Kitchen,\"Free parking on premises\",\"Pets allowed\",Heating,\"Family/kid friendly\",Washer,Dryer,\"Smoke detector\",\"Carbon monoxide detector\",\"First aid kit\",\"Fire extinguisher\"...   \n",
       "2                                                        {TV,\"Air conditioning\",Kitchen,Heating,\"Smoke detector\",\"Carbon monoxide detector\",\"First aid kit\",\"Safety card\",Essentials,Shampoo,\"Hair dryer\"}   \n",
       "3                                                                                                                                                                                                       {}   \n",
       "4  {Internet,\"Wireless Internet\",\"Air conditioning\",Kitchen,\"Free parking on premises\",\"Pets live on this property\",Cat(s),\"Buzzer/wireless intercom\",Heating,Essentials,Shampoo,\"translation missing: ...   \n",
       "\n",
       "   卧室数量  取消条款  容纳人数  床的数量  床的类型 房主回复率 房主是否有个人资料图片 房主身份是否验证  房产类型  房型  所在城市  \\\n",
       "0   2.0     0     4   3.0     4   NaN           t        t    17   0     3   \n",
       "1   1.0     2     2   1.0     4   NaN           t        t     0   0     4   \n",
       "2   0.0     2     4   2.0     4  100%           t        f     0   0     4   \n",
       "3   1.0     0     2   1.0     4   NaN           t        t     0   1     5   \n",
       "4   1.0     1     3   1.0     4  100%           t        t     0   0     4   \n",
       "\n",
       "   是否支持随即预订      最近评论日期                民宿周边  民宿评分  洗手间数量  清洁费          经度  \\\n",
       "0         0  2016-06-26           Los Feliz  97.0    1.5    0 -118.273390   \n",
       "1         1  2016-07-31          Mott Haven  87.0    1.0    1  -73.919163   \n",
       "2         1  2017-07-31          Greenpoint  80.0    1.0    1  -73.953309   \n",
       "3         0         NaN    Mission District   NaN    1.0    1 -122.420558   \n",
       "4         0  2016-05-22  Bedford-Stuyvesant  99.0    1.0    1  -73.949490   \n",
       "\n",
       "          维度  评论个数     邮编      首次评论日期  \n",
       "0  34.109039    12  90027  2015-05-07  \n",
       "1  40.812897     6  10454  2016-07-02  \n",
       "2  40.737643     4  11222  2017-07-01  \n",
       "3  37.759935     0  94110         NaN  \n",
       "4  40.683363    16  11216  2014-04-30  "
      ]
     },
     "execution_count": 21,
     "metadata": {},
     "output_type": "execute_result"
    }
   ],
   "source": [
    "all_data.head()"
   ]
  },
  {
   "cell_type": "code",
   "execution_count": null,
   "metadata": {
    "id": "2290BD1BC958432298EFD45F1F873BDC",
    "jupyter": {},
    "notebookId": "60672462cbb4020018e42d1c",
    "scrolled": false,
    "slideshow": {
     "slide_type": "slide"
    },
    "tags": []
   },
   "outputs": [],
   "source": []
  },
  {
   "cell_type": "code",
   "execution_count": 22,
   "metadata": {
    "id": "DF511B486411413EA10894B79C3DA92A",
    "jupyter": {},
    "scrolled": false,
    "slideshow": {
     "slide_type": "slide"
    },
    "tags": []
   },
   "outputs": [],
   "source": [
    "# 根据各特征的现实含义，填充合适的值\n",
    "feature1 = ['床的类型','邮编','房主回复率','首次评论日期','最近评论日期','何时成为房主','民宿周边','房主身份是否验证','房主是否有个人资料图片']\n",
    "for i in feature1:\n",
    "    all_data[i] = all_data[i].fillna('None')\n",
    "    \n",
    "feature2 = ['评论个数','洗手间数量']\n",
    "for i in feature2:\n",
    "    all_data[i] = all_data[i].fillna(0)\n",
    "\n",
    "## 数值型\n",
    "feature3 = ['民宿评分', '卧室数量', '取消条款', '床的数量','经度' ,'维度']\n",
    "for i in feature3:\n",
    "    all_data[i] = all_data[i].fillna(all_data[i].mode()[0])\n",
    "\n",
    "\n",
    "    \n",
    "# all_data['LotFrontage'] = all_data.groupby('Neighborhood')['LotFrontage'].transform(lambda x: x.fillna(x.median()))\n",
    "# all_data = all_data.drop(['Utilities'], axis=1)\n",
    "# all_data['Functional'] = all_data['Functional'].fillna('Typ')"
   ]
  },
  {
   "cell_type": "code",
   "execution_count": 23,
   "metadata": {
    "id": "9D5A81625A2E4BA0817DA850B0A4BBF1",
    "jupyter": {},
    "scrolled": false,
    "slideshow": {
     "slide_type": "slide"
    },
    "tags": []
   },
   "outputs": [
    {
     "data": {
      "text/html": [
       "<div>\n",
       "<style scoped>\n",
       "    .dataframe tbody tr th:only-of-type {\n",
       "        vertical-align: middle;\n",
       "    }\n",
       "\n",
       "    .dataframe tbody tr th {\n",
       "        vertical-align: top;\n",
       "    }\n",
       "\n",
       "    .dataframe thead th {\n",
       "        text-align: right;\n",
       "    }\n",
       "</style>\n",
       "<table border=\"1\" class=\"dataframe\">\n",
       "  <thead>\n",
       "    <tr style=\"text-align: right;\">\n",
       "      <th></th>\n",
       "      <th>Missing Ratio</th>\n",
       "    </tr>\n",
       "  </thead>\n",
       "  <tbody>\n",
       "  </tbody>\n",
       "</table>\n",
       "</div>"
      ],
      "text/plain": [
       "Empty DataFrame\n",
       "Columns: [Missing Ratio]\n",
       "Index: []"
      ]
     },
     "execution_count": 23,
     "metadata": {},
     "output_type": "execute_result"
    }
   ],
   "source": [
    "# 填充完成后，查看是否还有缺失值\n",
    "all_data_na = (all_data.isnull().sum()/len(all_data))*100\n",
    "all_data_na = all_data_na.drop(all_data_na[all_data_na == 0].index).sort_values(ascending=False)\n",
    "missing_data = pd.DataFrame({'Missing Ratio' : all_data_na})\n",
    "missing_data.head()"
   ]
  },
  {
   "cell_type": "code",
   "execution_count": 24,
   "metadata": {
    "id": "5E613948CDD443F793F99F353B9D82E6",
    "jupyter": {},
    "notebookId": "60672462cbb4020018e42d1c",
    "scrolled": false,
    "slideshow": {
     "slide_type": "slide"
    },
    "tags": []
   },
   "outputs": [
    {
     "data": {
      "text/html": [
       "<div>\n",
       "<style scoped>\n",
       "    .dataframe tbody tr th:only-of-type {\n",
       "        vertical-align: middle;\n",
       "    }\n",
       "\n",
       "    .dataframe tbody tr th {\n",
       "        vertical-align: top;\n",
       "    }\n",
       "\n",
       "    .dataframe thead th {\n",
       "        text-align: right;\n",
       "    }\n",
       "</style>\n",
       "<table border=\"1\" class=\"dataframe\">\n",
       "  <thead>\n",
       "    <tr style=\"text-align: right;\">\n",
       "      <th></th>\n",
       "      <th>何时成为房主</th>\n",
       "      <th>便利设施</th>\n",
       "      <th>卧室数量</th>\n",
       "      <th>取消条款</th>\n",
       "      <th>容纳人数</th>\n",
       "      <th>床的数量</th>\n",
       "      <th>床的类型</th>\n",
       "      <th>房主回复率</th>\n",
       "      <th>房主是否有个人资料图片</th>\n",
       "      <th>房主身份是否验证</th>\n",
       "      <th>房产类型</th>\n",
       "      <th>房型</th>\n",
       "      <th>所在城市</th>\n",
       "      <th>是否支持随即预订</th>\n",
       "      <th>最近评论日期</th>\n",
       "      <th>民宿周边</th>\n",
       "      <th>民宿评分</th>\n",
       "      <th>洗手间数量</th>\n",
       "      <th>清洁费</th>\n",
       "      <th>经度</th>\n",
       "      <th>维度</th>\n",
       "      <th>评论个数</th>\n",
       "      <th>邮编</th>\n",
       "      <th>首次评论日期</th>\n",
       "    </tr>\n",
       "  </thead>\n",
       "  <tbody>\n",
       "    <tr>\n",
       "      <th>0</th>\n",
       "      <td>2015-02-25</td>\n",
       "      <td>{TV,\"Cable TV\",Internet,\"Wireless Internet\",\"Air conditioning\",Kitchen,\"Pets live on this property\",Dog(s),\"Hot tub\",Heating,Washer,Dryer,\"Smoke detector\",\"Fire extinguisher\",Essentials,\"translati...</td>\n",
       "      <td>2.0</td>\n",
       "      <td>0</td>\n",
       "      <td>4</td>\n",
       "      <td>3.0</td>\n",
       "      <td>4</td>\n",
       "      <td>None</td>\n",
       "      <td>t</td>\n",
       "      <td>t</td>\n",
       "      <td>17</td>\n",
       "      <td>0</td>\n",
       "      <td>3</td>\n",
       "      <td>0</td>\n",
       "      <td>2016-06-26</td>\n",
       "      <td>Los Feliz</td>\n",
       "      <td>97.0</td>\n",
       "      <td>1.5</td>\n",
       "      <td>0</td>\n",
       "      <td>-118.273390</td>\n",
       "      <td>34.109039</td>\n",
       "      <td>12</td>\n",
       "      <td>90027</td>\n",
       "      <td>2015-05-07</td>\n",
       "    </tr>\n",
       "    <tr>\n",
       "      <th>1</th>\n",
       "      <td>2009-10-27</td>\n",
       "      <td>{TV,\"Wireless Internet\",Kitchen,\"Free parking on premises\",\"Pets allowed\",Heating,\"Family/kid friendly\",Washer,Dryer,\"Smoke detector\",\"Carbon monoxide detector\",\"First aid kit\",\"Fire extinguisher\"...</td>\n",
       "      <td>1.0</td>\n",
       "      <td>2</td>\n",
       "      <td>2</td>\n",
       "      <td>1.0</td>\n",
       "      <td>4</td>\n",
       "      <td>None</td>\n",
       "      <td>t</td>\n",
       "      <td>t</td>\n",
       "      <td>0</td>\n",
       "      <td>0</td>\n",
       "      <td>4</td>\n",
       "      <td>1</td>\n",
       "      <td>2016-07-31</td>\n",
       "      <td>Mott Haven</td>\n",
       "      <td>87.0</td>\n",
       "      <td>1.0</td>\n",
       "      <td>1</td>\n",
       "      <td>-73.919163</td>\n",
       "      <td>40.812897</td>\n",
       "      <td>6</td>\n",
       "      <td>10454</td>\n",
       "      <td>2016-07-02</td>\n",
       "    </tr>\n",
       "    <tr>\n",
       "      <th>2</th>\n",
       "      <td>2017-06-29</td>\n",
       "      <td>{TV,\"Air conditioning\",Kitchen,Heating,\"Smoke detector\",\"Carbon monoxide detector\",\"First aid kit\",\"Safety card\",Essentials,Shampoo,\"Hair dryer\"}</td>\n",
       "      <td>0.0</td>\n",
       "      <td>2</td>\n",
       "      <td>4</td>\n",
       "      <td>2.0</td>\n",
       "      <td>4</td>\n",
       "      <td>100%</td>\n",
       "      <td>t</td>\n",
       "      <td>f</td>\n",
       "      <td>0</td>\n",
       "      <td>0</td>\n",
       "      <td>4</td>\n",
       "      <td>1</td>\n",
       "      <td>2017-07-31</td>\n",
       "      <td>Greenpoint</td>\n",
       "      <td>80.0</td>\n",
       "      <td>1.0</td>\n",
       "      <td>1</td>\n",
       "      <td>-73.953309</td>\n",
       "      <td>40.737643</td>\n",
       "      <td>4</td>\n",
       "      <td>11222</td>\n",
       "      <td>2017-07-01</td>\n",
       "    </tr>\n",
       "    <tr>\n",
       "      <th>3</th>\n",
       "      <td>2013-03-19</td>\n",
       "      <td>{}</td>\n",
       "      <td>1.0</td>\n",
       "      <td>0</td>\n",
       "      <td>2</td>\n",
       "      <td>1.0</td>\n",
       "      <td>4</td>\n",
       "      <td>None</td>\n",
       "      <td>t</td>\n",
       "      <td>t</td>\n",
       "      <td>0</td>\n",
       "      <td>1</td>\n",
       "      <td>5</td>\n",
       "      <td>0</td>\n",
       "      <td>None</td>\n",
       "      <td>Mission District</td>\n",
       "      <td>100.0</td>\n",
       "      <td>1.0</td>\n",
       "      <td>1</td>\n",
       "      <td>-122.420558</td>\n",
       "      <td>37.759935</td>\n",
       "      <td>0</td>\n",
       "      <td>94110</td>\n",
       "      <td>None</td>\n",
       "    </tr>\n",
       "    <tr>\n",
       "      <th>4</th>\n",
       "      <td>2011-07-30</td>\n",
       "      <td>{Internet,\"Wireless Internet\",\"Air conditioning\",Kitchen,\"Free parking on premises\",\"Pets live on this property\",Cat(s),\"Buzzer/wireless intercom\",Heating,Essentials,Shampoo,\"translation missing: ...</td>\n",
       "      <td>1.0</td>\n",
       "      <td>1</td>\n",
       "      <td>3</td>\n",
       "      <td>1.0</td>\n",
       "      <td>4</td>\n",
       "      <td>100%</td>\n",
       "      <td>t</td>\n",
       "      <td>t</td>\n",
       "      <td>0</td>\n",
       "      <td>0</td>\n",
       "      <td>4</td>\n",
       "      <td>0</td>\n",
       "      <td>2016-05-22</td>\n",
       "      <td>Bedford-Stuyvesant</td>\n",
       "      <td>99.0</td>\n",
       "      <td>1.0</td>\n",
       "      <td>1</td>\n",
       "      <td>-73.949490</td>\n",
       "      <td>40.683363</td>\n",
       "      <td>16</td>\n",
       "      <td>11216</td>\n",
       "      <td>2014-04-30</td>\n",
       "    </tr>\n",
       "  </tbody>\n",
       "</table>\n",
       "</div>"
      ],
      "text/plain": [
       "       何时成为房主  \\\n",
       "0  2015-02-25   \n",
       "1  2009-10-27   \n",
       "2  2017-06-29   \n",
       "3  2013-03-19   \n",
       "4  2011-07-30   \n",
       "\n",
       "                                                                                                                                                                                                      便利设施  \\\n",
       "0  {TV,\"Cable TV\",Internet,\"Wireless Internet\",\"Air conditioning\",Kitchen,\"Pets live on this property\",Dog(s),\"Hot tub\",Heating,Washer,Dryer,\"Smoke detector\",\"Fire extinguisher\",Essentials,\"translati...   \n",
       "1  {TV,\"Wireless Internet\",Kitchen,\"Free parking on premises\",\"Pets allowed\",Heating,\"Family/kid friendly\",Washer,Dryer,\"Smoke detector\",\"Carbon monoxide detector\",\"First aid kit\",\"Fire extinguisher\"...   \n",
       "2                                                        {TV,\"Air conditioning\",Kitchen,Heating,\"Smoke detector\",\"Carbon monoxide detector\",\"First aid kit\",\"Safety card\",Essentials,Shampoo,\"Hair dryer\"}   \n",
       "3                                                                                                                                                                                                       {}   \n",
       "4  {Internet,\"Wireless Internet\",\"Air conditioning\",Kitchen,\"Free parking on premises\",\"Pets live on this property\",Cat(s),\"Buzzer/wireless intercom\",Heating,Essentials,Shampoo,\"translation missing: ...   \n",
       "\n",
       "   卧室数量  取消条款  容纳人数  床的数量  床的类型 房主回复率 房主是否有个人资料图片 房主身份是否验证  房产类型  房型  所在城市  \\\n",
       "0   2.0     0     4   3.0     4  None           t        t    17   0     3   \n",
       "1   1.0     2     2   1.0     4  None           t        t     0   0     4   \n",
       "2   0.0     2     4   2.0     4  100%           t        f     0   0     4   \n",
       "3   1.0     0     2   1.0     4  None           t        t     0   1     5   \n",
       "4   1.0     1     3   1.0     4  100%           t        t     0   0     4   \n",
       "\n",
       "   是否支持随即预订      最近评论日期                民宿周边   民宿评分  洗手间数量  清洁费          经度  \\\n",
       "0         0  2016-06-26           Los Feliz   97.0    1.5    0 -118.273390   \n",
       "1         1  2016-07-31          Mott Haven   87.0    1.0    1  -73.919163   \n",
       "2         1  2017-07-31          Greenpoint   80.0    1.0    1  -73.953309   \n",
       "3         0        None    Mission District  100.0    1.0    1 -122.420558   \n",
       "4         0  2016-05-22  Bedford-Stuyvesant   99.0    1.0    1  -73.949490   \n",
       "\n",
       "          维度  评论个数     邮编      首次评论日期  \n",
       "0  34.109039    12  90027  2015-05-07  \n",
       "1  40.812897     6  10454  2016-07-02  \n",
       "2  40.737643     4  11222  2017-07-01  \n",
       "3  37.759935     0  94110        None  \n",
       "4  40.683363    16  11216  2014-04-30  "
      ]
     },
     "execution_count": 24,
     "metadata": {},
     "output_type": "execute_result"
    }
   ],
   "source": [
    "all_data.head()"
   ]
  },
  {
   "cell_type": "markdown",
   "metadata": {
    "id": "434B115DBC534F27BF1DC681BE26F1D6",
    "jupyter": {},
    "mdEditEnable": false,
    "slideshow": {
     "slide_type": "slide"
    },
    "tags": []
   },
   "source": [
    "## 标签编码"
   ]
  },
  {
   "cell_type": "code",
   "execution_count": 25,
   "metadata": {
    "id": "DE6E92C83EAC471C8328EB6287CFB222",
    "jupyter": {},
    "scrolled": false,
    "slideshow": {
     "slide_type": "slide"
    },
    "tags": []
   },
   "outputs": [
    {
     "data": {
      "text/html": [
       "<div>\n",
       "<style scoped>\n",
       "    .dataframe tbody tr th:only-of-type {\n",
       "        vertical-align: middle;\n",
       "    }\n",
       "\n",
       "    .dataframe tbody tr th {\n",
       "        vertical-align: top;\n",
       "    }\n",
       "\n",
       "    .dataframe thead th {\n",
       "        text-align: right;\n",
       "    }\n",
       "</style>\n",
       "<table border=\"1\" class=\"dataframe\">\n",
       "  <thead>\n",
       "    <tr style=\"text-align: right;\">\n",
       "      <th></th>\n",
       "      <th>便利设施</th>\n",
       "      <th>床的类型</th>\n",
       "      <th>邮编</th>\n",
       "      <th>房主回复率</th>\n",
       "      <th>首次评论日期</th>\n",
       "      <th>最近评论日期</th>\n",
       "      <th>何时成为房主</th>\n",
       "      <th>民宿周边</th>\n",
       "      <th>房主身份是否验证</th>\n",
       "      <th>房主是否有个人资料图片</th>\n",
       "    </tr>\n",
       "  </thead>\n",
       "  <tbody>\n",
       "    <tr>\n",
       "      <th>0</th>\n",
       "      <td>{TV,\"Cable TV\",Internet,\"Wireless Internet\",\"Air conditioning\",Kitchen,\"Pets live on this property\",Dog(s),\"Hot tub\",Heating,Washer,Dryer,\"Smoke detector\",\"Fire extinguisher\",Essentials,\"translati...</td>\n",
       "      <td>4</td>\n",
       "      <td>90027</td>\n",
       "      <td>None</td>\n",
       "      <td>2015-05-07</td>\n",
       "      <td>2016-06-26</td>\n",
       "      <td>2015-02-25</td>\n",
       "      <td>Los Feliz</td>\n",
       "      <td>t</td>\n",
       "      <td>t</td>\n",
       "    </tr>\n",
       "    <tr>\n",
       "      <th>1</th>\n",
       "      <td>{TV,\"Wireless Internet\",Kitchen,\"Free parking on premises\",\"Pets allowed\",Heating,\"Family/kid friendly\",Washer,Dryer,\"Smoke detector\",\"Carbon monoxide detector\",\"First aid kit\",\"Fire extinguisher\"...</td>\n",
       "      <td>4</td>\n",
       "      <td>10454</td>\n",
       "      <td>None</td>\n",
       "      <td>2016-07-02</td>\n",
       "      <td>2016-07-31</td>\n",
       "      <td>2009-10-27</td>\n",
       "      <td>Mott Haven</td>\n",
       "      <td>t</td>\n",
       "      <td>t</td>\n",
       "    </tr>\n",
       "    <tr>\n",
       "      <th>2</th>\n",
       "      <td>{TV,\"Air conditioning\",Kitchen,Heating,\"Smoke detector\",\"Carbon monoxide detector\",\"First aid kit\",\"Safety card\",Essentials,Shampoo,\"Hair dryer\"}</td>\n",
       "      <td>4</td>\n",
       "      <td>11222</td>\n",
       "      <td>100%</td>\n",
       "      <td>2017-07-01</td>\n",
       "      <td>2017-07-31</td>\n",
       "      <td>2017-06-29</td>\n",
       "      <td>Greenpoint</td>\n",
       "      <td>f</td>\n",
       "      <td>t</td>\n",
       "    </tr>\n",
       "    <tr>\n",
       "      <th>3</th>\n",
       "      <td>{}</td>\n",
       "      <td>4</td>\n",
       "      <td>94110</td>\n",
       "      <td>None</td>\n",
       "      <td>None</td>\n",
       "      <td>None</td>\n",
       "      <td>2013-03-19</td>\n",
       "      <td>Mission District</td>\n",
       "      <td>t</td>\n",
       "      <td>t</td>\n",
       "    </tr>\n",
       "    <tr>\n",
       "      <th>4</th>\n",
       "      <td>{Internet,\"Wireless Internet\",\"Air conditioning\",Kitchen,\"Free parking on premises\",\"Pets live on this property\",Cat(s),\"Buzzer/wireless intercom\",Heating,Essentials,Shampoo,\"translation missing: ...</td>\n",
       "      <td>4</td>\n",
       "      <td>11216</td>\n",
       "      <td>100%</td>\n",
       "      <td>2014-04-30</td>\n",
       "      <td>2016-05-22</td>\n",
       "      <td>2011-07-30</td>\n",
       "      <td>Bedford-Stuyvesant</td>\n",
       "      <td>t</td>\n",
       "      <td>t</td>\n",
       "    </tr>\n",
       "  </tbody>\n",
       "</table>\n",
       "</div>"
      ],
      "text/plain": [
       "                                                                                                                                                                                                      便利设施  \\\n",
       "0  {TV,\"Cable TV\",Internet,\"Wireless Internet\",\"Air conditioning\",Kitchen,\"Pets live on this property\",Dog(s),\"Hot tub\",Heating,Washer,Dryer,\"Smoke detector\",\"Fire extinguisher\",Essentials,\"translati...   \n",
       "1  {TV,\"Wireless Internet\",Kitchen,\"Free parking on premises\",\"Pets allowed\",Heating,\"Family/kid friendly\",Washer,Dryer,\"Smoke detector\",\"Carbon monoxide detector\",\"First aid kit\",\"Fire extinguisher\"...   \n",
       "2                                                        {TV,\"Air conditioning\",Kitchen,Heating,\"Smoke detector\",\"Carbon monoxide detector\",\"First aid kit\",\"Safety card\",Essentials,Shampoo,\"Hair dryer\"}   \n",
       "3                                                                                                                                                                                                       {}   \n",
       "4  {Internet,\"Wireless Internet\",\"Air conditioning\",Kitchen,\"Free parking on premises\",\"Pets live on this property\",Cat(s),\"Buzzer/wireless intercom\",Heating,Essentials,Shampoo,\"translation missing: ...   \n",
       "\n",
       "   床的类型     邮编 房主回复率      首次评论日期      最近评论日期      何时成为房主                民宿周边  \\\n",
       "0     4  90027  None  2015-05-07  2016-06-26  2015-02-25           Los Feliz   \n",
       "1     4  10454  None  2016-07-02  2016-07-31  2009-10-27          Mott Haven   \n",
       "2     4  11222  100%  2017-07-01  2017-07-31  2017-06-29          Greenpoint   \n",
       "3     4  94110  None        None        None  2013-03-19    Mission District   \n",
       "4     4  11216  100%  2014-04-30  2016-05-22  2011-07-30  Bedford-Stuyvesant   \n",
       "\n",
       "  房主身份是否验证 房主是否有个人资料图片  \n",
       "0        t           t  \n",
       "1        t           t  \n",
       "2        f           t  \n",
       "3        t           t  \n",
       "4        t           t  "
      ]
     },
     "execution_count": 25,
     "metadata": {},
     "output_type": "execute_result"
    }
   ],
   "source": [
    "# 查看待编码特征情况\n",
    "cols = ['便利设施','床的类型','邮编','房主回复率','首次评论日期','最近评论日期','何时成为房主','民宿周边','房主身份是否验证','房主是否有个人资料图片']\n",
    "\n",
    "all_data[cols].head()"
   ]
  },
  {
   "cell_type": "code",
   "execution_count": 26,
   "metadata": {
    "id": "B9F673F975B1463581BEBD2EAB3EB294",
    "jupyter": {},
    "scrolled": false,
    "slideshow": {
     "slide_type": "slide"
    },
    "tags": []
   },
   "outputs": [],
   "source": [
    "# 将数值类型转化为字符串类型\n",
    "feature = ['床的类型', '房产类型', '房型', '所在城市','是否支持随即预订']\n",
    "for i in feature:\n",
    "    all_data[i] = all_data[i].astype(str)"
   ]
  },
  {
   "cell_type": "code",
   "execution_count": 27,
   "metadata": {
    "id": "68E85803B3C2435F8D06864A6A848213",
    "jupyter": {},
    "scrolled": false,
    "slideshow": {
     "slide_type": "slide"
    },
    "tags": []
   },
   "outputs": [],
   "source": [
    "# 标签编码对不连续的数字或者文本进行编号,转换成连续的数值型变量\n",
    "for c in cols:\n",
    "    le = LabelEncoder()\n",
    "    le.fit(list(all_data[c].values))\n",
    "    all_data[c] = le.transform(list(all_data[c].values))"
   ]
  },
  {
   "cell_type": "code",
   "execution_count": 28,
   "metadata": {
    "id": "4DD009AEF57C4776836318C6C1FBAD22",
    "jupyter": {},
    "scrolled": false,
    "slideshow": {
     "slide_type": "slide"
    },
    "tags": []
   },
   "outputs": [
    {
     "data": {
      "text/html": [
       "<div>\n",
       "<style scoped>\n",
       "    .dataframe tbody tr th:only-of-type {\n",
       "        vertical-align: middle;\n",
       "    }\n",
       "\n",
       "    .dataframe tbody tr th {\n",
       "        vertical-align: top;\n",
       "    }\n",
       "\n",
       "    .dataframe thead th {\n",
       "        text-align: right;\n",
       "    }\n",
       "</style>\n",
       "<table border=\"1\" class=\"dataframe\">\n",
       "  <thead>\n",
       "    <tr style=\"text-align: right;\">\n",
       "      <th></th>\n",
       "      <th>便利设施</th>\n",
       "      <th>床的类型</th>\n",
       "      <th>邮编</th>\n",
       "      <th>房主回复率</th>\n",
       "      <th>首次评论日期</th>\n",
       "      <th>最近评论日期</th>\n",
       "      <th>何时成为房主</th>\n",
       "      <th>民宿周边</th>\n",
       "      <th>房主身份是否验证</th>\n",
       "      <th>房主是否有个人资料图片</th>\n",
       "    </tr>\n",
       "  </thead>\n",
       "  <tbody>\n",
       "    <tr>\n",
       "      <th>0</th>\n",
       "      <td>32053</td>\n",
       "      <td>4</td>\n",
       "      <td>454</td>\n",
       "      <td>80</td>\n",
       "      <td>1671</td>\n",
       "      <td>904</td>\n",
       "      <td>2135</td>\n",
       "      <td>323</td>\n",
       "      <td>2</td>\n",
       "      <td>2</td>\n",
       "    </tr>\n",
       "    <tr>\n",
       "      <th>1</th>\n",
       "      <td>50507</td>\n",
       "      <td>4</td>\n",
       "      <td>150</td>\n",
       "      <td>80</td>\n",
       "      <td>2093</td>\n",
       "      <td>939</td>\n",
       "      <td>222</td>\n",
       "      <td>371</td>\n",
       "      <td>2</td>\n",
       "      <td>2</td>\n",
       "    </tr>\n",
       "    <tr>\n",
       "      <th>2</th>\n",
       "      <td>19694</td>\n",
       "      <td>4</td>\n",
       "      <td>231</td>\n",
       "      <td>2</td>\n",
       "      <td>2457</td>\n",
       "      <td>1304</td>\n",
       "      <td>2990</td>\n",
       "      <td>238</td>\n",
       "      <td>1</td>\n",
       "      <td>2</td>\n",
       "    </tr>\n",
       "    <tr>\n",
       "      <th>3</th>\n",
       "      <td>67121</td>\n",
       "      <td>4</td>\n",
       "      <td>739</td>\n",
       "      <td>80</td>\n",
       "      <td>2554</td>\n",
       "      <td>1371</td>\n",
       "      <td>1427</td>\n",
       "      <td>356</td>\n",
       "      <td>2</td>\n",
       "      <td>2</td>\n",
       "    </tr>\n",
       "    <tr>\n",
       "      <th>4</th>\n",
       "      <td>12765</td>\n",
       "      <td>4</td>\n",
       "      <td>220</td>\n",
       "      <td>2</td>\n",
       "      <td>1300</td>\n",
       "      <td>869</td>\n",
       "      <td>829</td>\n",
       "      <td>44</td>\n",
       "      <td>2</td>\n",
       "      <td>2</td>\n",
       "    </tr>\n",
       "  </tbody>\n",
       "</table>\n",
       "</div>"
      ],
      "text/plain": [
       "    便利设施  床的类型   邮编  房主回复率  首次评论日期  最近评论日期  何时成为房主  民宿周边  房主身份是否验证  \\\n",
       "0  32053     4  454     80    1671     904    2135   323         2   \n",
       "1  50507     4  150     80    2093     939     222   371         2   \n",
       "2  19694     4  231      2    2457    1304    2990   238         1   \n",
       "3  67121     4  739     80    2554    1371    1427   356         2   \n",
       "4  12765     4  220      2    1300     869     829    44         2   \n",
       "\n",
       "   房主是否有个人资料图片  \n",
       "0            2  \n",
       "1            2  \n",
       "2            2  \n",
       "3            2  \n",
       "4            2  "
      ]
     },
     "execution_count": 28,
     "metadata": {},
     "output_type": "execute_result"
    }
   ],
   "source": [
    "# 编码后特征情况\n",
    "all_data[cols].head()\n",
    "\n"
   ]
  },
  {
   "cell_type": "code",
   "execution_count": 29,
   "metadata": {
    "id": "F4EFB8CB66274A828E30EC70ADB2C5D9",
    "jupyter": {},
    "scrolled": false,
    "slideshow": {
     "slide_type": "slide"
    },
    "tags": []
   },
   "outputs": [
    {
     "data": {
      "text/html": [
       "<div>\n",
       "<style scoped>\n",
       "    .dataframe tbody tr th:only-of-type {\n",
       "        vertical-align: middle;\n",
       "    }\n",
       "\n",
       "    .dataframe tbody tr th {\n",
       "        vertical-align: top;\n",
       "    }\n",
       "\n",
       "    .dataframe thead th {\n",
       "        text-align: right;\n",
       "    }\n",
       "</style>\n",
       "<table border=\"1\" class=\"dataframe\">\n",
       "  <thead>\n",
       "    <tr style=\"text-align: right;\">\n",
       "      <th></th>\n",
       "      <th>何时成为房主</th>\n",
       "      <th>便利设施</th>\n",
       "      <th>卧室数量</th>\n",
       "      <th>取消条款</th>\n",
       "      <th>容纳人数</th>\n",
       "      <th>床的数量</th>\n",
       "      <th>床的类型</th>\n",
       "      <th>房主回复率</th>\n",
       "      <th>房主是否有个人资料图片</th>\n",
       "      <th>房主身份是否验证</th>\n",
       "      <th>房产类型</th>\n",
       "      <th>房型</th>\n",
       "      <th>所在城市</th>\n",
       "      <th>是否支持随即预订</th>\n",
       "      <th>最近评论日期</th>\n",
       "      <th>民宿周边</th>\n",
       "      <th>民宿评分</th>\n",
       "      <th>洗手间数量</th>\n",
       "      <th>清洁费</th>\n",
       "      <th>经度</th>\n",
       "      <th>维度</th>\n",
       "      <th>评论个数</th>\n",
       "      <th>邮编</th>\n",
       "      <th>首次评论日期</th>\n",
       "    </tr>\n",
       "  </thead>\n",
       "  <tbody>\n",
       "    <tr>\n",
       "      <th>0</th>\n",
       "      <td>2135</td>\n",
       "      <td>32053</td>\n",
       "      <td>2.0</td>\n",
       "      <td>0</td>\n",
       "      <td>4</td>\n",
       "      <td>3.0</td>\n",
       "      <td>4</td>\n",
       "      <td>80</td>\n",
       "      <td>2</td>\n",
       "      <td>2</td>\n",
       "      <td>17</td>\n",
       "      <td>0</td>\n",
       "      <td>3</td>\n",
       "      <td>0</td>\n",
       "      <td>904</td>\n",
       "      <td>323</td>\n",
       "      <td>97.0</td>\n",
       "      <td>1.5</td>\n",
       "      <td>0</td>\n",
       "      <td>-118.273390</td>\n",
       "      <td>34.109039</td>\n",
       "      <td>12</td>\n",
       "      <td>454</td>\n",
       "      <td>1671</td>\n",
       "    </tr>\n",
       "    <tr>\n",
       "      <th>1</th>\n",
       "      <td>222</td>\n",
       "      <td>50507</td>\n",
       "      <td>1.0</td>\n",
       "      <td>2</td>\n",
       "      <td>2</td>\n",
       "      <td>1.0</td>\n",
       "      <td>4</td>\n",
       "      <td>80</td>\n",
       "      <td>2</td>\n",
       "      <td>2</td>\n",
       "      <td>0</td>\n",
       "      <td>0</td>\n",
       "      <td>4</td>\n",
       "      <td>1</td>\n",
       "      <td>939</td>\n",
       "      <td>371</td>\n",
       "      <td>87.0</td>\n",
       "      <td>1.0</td>\n",
       "      <td>1</td>\n",
       "      <td>-73.919163</td>\n",
       "      <td>40.812897</td>\n",
       "      <td>6</td>\n",
       "      <td>150</td>\n",
       "      <td>2093</td>\n",
       "    </tr>\n",
       "    <tr>\n",
       "      <th>2</th>\n",
       "      <td>2990</td>\n",
       "      <td>19694</td>\n",
       "      <td>0.0</td>\n",
       "      <td>2</td>\n",
       "      <td>4</td>\n",
       "      <td>2.0</td>\n",
       "      <td>4</td>\n",
       "      <td>2</td>\n",
       "      <td>2</td>\n",
       "      <td>1</td>\n",
       "      <td>0</td>\n",
       "      <td>0</td>\n",
       "      <td>4</td>\n",
       "      <td>1</td>\n",
       "      <td>1304</td>\n",
       "      <td>238</td>\n",
       "      <td>80.0</td>\n",
       "      <td>1.0</td>\n",
       "      <td>1</td>\n",
       "      <td>-73.953309</td>\n",
       "      <td>40.737643</td>\n",
       "      <td>4</td>\n",
       "      <td>231</td>\n",
       "      <td>2457</td>\n",
       "    </tr>\n",
       "    <tr>\n",
       "      <th>3</th>\n",
       "      <td>1427</td>\n",
       "      <td>67121</td>\n",
       "      <td>1.0</td>\n",
       "      <td>0</td>\n",
       "      <td>2</td>\n",
       "      <td>1.0</td>\n",
       "      <td>4</td>\n",
       "      <td>80</td>\n",
       "      <td>2</td>\n",
       "      <td>2</td>\n",
       "      <td>0</td>\n",
       "      <td>1</td>\n",
       "      <td>5</td>\n",
       "      <td>0</td>\n",
       "      <td>1371</td>\n",
       "      <td>356</td>\n",
       "      <td>100.0</td>\n",
       "      <td>1.0</td>\n",
       "      <td>1</td>\n",
       "      <td>-122.420558</td>\n",
       "      <td>37.759935</td>\n",
       "      <td>0</td>\n",
       "      <td>739</td>\n",
       "      <td>2554</td>\n",
       "    </tr>\n",
       "    <tr>\n",
       "      <th>4</th>\n",
       "      <td>829</td>\n",
       "      <td>12765</td>\n",
       "      <td>1.0</td>\n",
       "      <td>1</td>\n",
       "      <td>3</td>\n",
       "      <td>1.0</td>\n",
       "      <td>4</td>\n",
       "      <td>2</td>\n",
       "      <td>2</td>\n",
       "      <td>2</td>\n",
       "      <td>0</td>\n",
       "      <td>0</td>\n",
       "      <td>4</td>\n",
       "      <td>0</td>\n",
       "      <td>869</td>\n",
       "      <td>44</td>\n",
       "      <td>99.0</td>\n",
       "      <td>1.0</td>\n",
       "      <td>1</td>\n",
       "      <td>-73.949490</td>\n",
       "      <td>40.683363</td>\n",
       "      <td>16</td>\n",
       "      <td>220</td>\n",
       "      <td>1300</td>\n",
       "    </tr>\n",
       "  </tbody>\n",
       "</table>\n",
       "</div>"
      ],
      "text/plain": [
       "   何时成为房主   便利设施  卧室数量  取消条款  容纳人数  床的数量  床的类型  房主回复率  房主是否有个人资料图片  房主身份是否验证  \\\n",
       "0    2135  32053   2.0     0     4   3.0     4     80            2         2   \n",
       "1     222  50507   1.0     2     2   1.0     4     80            2         2   \n",
       "2    2990  19694   0.0     2     4   2.0     4      2            2         1   \n",
       "3    1427  67121   1.0     0     2   1.0     4     80            2         2   \n",
       "4     829  12765   1.0     1     3   1.0     4      2            2         2   \n",
       "\n",
       "  房产类型 房型 所在城市 是否支持随即预订  最近评论日期  民宿周边   民宿评分  洗手间数量  清洁费          经度  \\\n",
       "0   17  0    3        0     904   323   97.0    1.5    0 -118.273390   \n",
       "1    0  0    4        1     939   371   87.0    1.0    1  -73.919163   \n",
       "2    0  0    4        1    1304   238   80.0    1.0    1  -73.953309   \n",
       "3    0  1    5        0    1371   356  100.0    1.0    1 -122.420558   \n",
       "4    0  0    4        0     869    44   99.0    1.0    1  -73.949490   \n",
       "\n",
       "          维度  评论个数   邮编  首次评论日期  \n",
       "0  34.109039    12  454    1671  \n",
       "1  40.812897     6  150    2093  \n",
       "2  40.737643     4  231    2457  \n",
       "3  37.759935     0  739    2554  \n",
       "4  40.683363    16  220    1300  "
      ]
     },
     "execution_count": 29,
     "metadata": {},
     "output_type": "execute_result"
    }
   ],
   "source": [
    "pd.set_option('max_columns', 80)\n",
    "all_data.head()"
   ]
  },
  {
   "cell_type": "markdown",
   "metadata": {
    "id": "C943372E5E464EC893CB2B738A10C753",
    "jupyter": {},
    "mdEditEnable": false,
    "slideshow": {
     "slide_type": "slide"
    },
    "tags": []
   },
   "source": [
    "## 增加特征"
   ]
  },
  {
   "cell_type": "code",
   "execution_count": 30,
   "metadata": {
    "id": "ACC414E1F41E4A3AA2D1EFDEB14F152C",
    "jupyter": {},
    "scrolled": false,
    "slideshow": {
     "slide_type": "slide"
    },
    "tags": []
   },
   "outputs": [],
   "source": [
    "# all_data['TotalSF'] = all_data['TotalBsmtSF'] + all_data['1stFlrSF'] + all_data['2ndFlrSF']"
   ]
  },
  {
   "cell_type": "markdown",
   "metadata": {
    "id": "475D076B42494F2D88A4F58927BF50B1",
    "jupyter": {},
    "mdEditEnable": false,
    "slideshow": {
     "slide_type": "slide"
    },
    "tags": []
   },
   "source": [
    "## 倾斜特征"
   ]
  },
  {
   "cell_type": "code",
   "execution_count": 31,
   "metadata": {
    "id": "0B9FE2AF1BD645AAAB1242965868230C",
    "jupyter": {},
    "scrolled": false,
    "slideshow": {
     "slide_type": "slide"
    },
    "tags": []
   },
   "outputs": [
    {
     "data": {
      "text/plain": [
       "何时成为房主           int64\n",
       "便利设施             int64\n",
       "卧室数量           float64\n",
       "取消条款             int64\n",
       "容纳人数             int64\n",
       "床的数量           float64\n",
       "床的类型             int64\n",
       "房主回复率            int64\n",
       "房主是否有个人资料图片      int64\n",
       "房主身份是否验证         int64\n",
       "dtype: object"
      ]
     },
     "execution_count": 31,
     "metadata": {},
     "output_type": "execute_result"
    }
   ],
   "source": [
    "all_data.dtypes.head(10)"
   ]
  },
  {
   "cell_type": "code",
   "execution_count": 32,
   "metadata": {
    "id": "F7031F3595D345948ED21F99BC712E15",
    "jupyter": {},
    "scrolled": false,
    "slideshow": {
     "slide_type": "slide"
    },
    "tags": []
   },
   "outputs": [
    {
     "data": {
      "text/plain": [
       "Index(['何时成为房主', '便利设施', '卧室数量', '取消条款', '容纳人数', '床的数量', '床的类型', '房主回复率',\n",
       "       '房主是否有个人资料图片', '房主身份是否验证', '最近评论日期', '民宿周边', '民宿评分', '洗手间数量', '清洁费',\n",
       "       '经度', '维度', '评论个数', '邮编', '首次评论日期'],\n",
       "      dtype='object')"
      ]
     },
     "execution_count": 32,
     "metadata": {},
     "output_type": "execute_result"
    }
   ],
   "source": [
    "all_data.dtypes[all_data.dtypes != 'object'].index"
   ]
  },
  {
   "cell_type": "code",
   "execution_count": 33,
   "metadata": {
    "id": "A8EB82F6A7584777893B5D6404B1C7B2",
    "jupyter": {},
    "scrolled": false,
    "slideshow": {
     "slide_type": "slide"
    },
    "tags": []
   },
   "outputs": [
    {
     "data": {
      "text/html": [
       "<div>\n",
       "<style scoped>\n",
       "    .dataframe tbody tr th:only-of-type {\n",
       "        vertical-align: middle;\n",
       "    }\n",
       "\n",
       "    .dataframe tbody tr th {\n",
       "        vertical-align: top;\n",
       "    }\n",
       "\n",
       "    .dataframe thead th {\n",
       "        text-align: right;\n",
       "    }\n",
       "</style>\n",
       "<table border=\"1\" class=\"dataframe\">\n",
       "  <thead>\n",
       "    <tr style=\"text-align: right;\">\n",
       "      <th></th>\n",
       "      <th>Skew</th>\n",
       "    </tr>\n",
       "  </thead>\n",
       "  <tbody>\n",
       "    <tr>\n",
       "      <th>评论个数</th>\n",
       "      <td>3.702760</td>\n",
       "    </tr>\n",
       "    <tr>\n",
       "      <th>洗手间数量</th>\n",
       "      <td>3.621649</td>\n",
       "    </tr>\n",
       "    <tr>\n",
       "      <th>床的数量</th>\n",
       "      <td>3.360728</td>\n",
       "    </tr>\n",
       "    <tr>\n",
       "      <th>容纳人数</th>\n",
       "      <td>2.231515</td>\n",
       "    </tr>\n",
       "    <tr>\n",
       "      <th>卧室数量</th>\n",
       "      <td>1.991787</td>\n",
       "    </tr>\n",
       "    <tr>\n",
       "      <th>房主回复率</th>\n",
       "      <td>0.513749</td>\n",
       "    </tr>\n",
       "    <tr>\n",
       "      <th>邮编</th>\n",
       "      <td>0.292904</td>\n",
       "    </tr>\n",
       "    <tr>\n",
       "      <th>便利设施</th>\n",
       "      <td>0.003907</td>\n",
       "    </tr>\n",
       "    <tr>\n",
       "      <th>民宿周边</th>\n",
       "      <td>-0.050597</td>\n",
       "    </tr>\n",
       "    <tr>\n",
       "      <th>取消条款</th>\n",
       "      <td>-0.240908</td>\n",
       "    </tr>\n",
       "    <tr>\n",
       "      <th>经度</th>\n",
       "      <td>-0.407092</td>\n",
       "    </tr>\n",
       "    <tr>\n",
       "      <th>何时成为房主</th>\n",
       "      <td>-0.447978</td>\n",
       "    </tr>\n",
       "    <tr>\n",
       "      <th>维度</th>\n",
       "      <td>-0.534755</td>\n",
       "    </tr>\n",
       "    <tr>\n",
       "      <th>房主身份是否验证</th>\n",
       "      <td>-0.787375</td>\n",
       "    </tr>\n",
       "    <tr>\n",
       "      <th>清洁费</th>\n",
       "      <td>-1.059581</td>\n",
       "    </tr>\n",
       "    <tr>\n",
       "      <th>首次评论日期</th>\n",
       "      <td>-1.320922</td>\n",
       "    </tr>\n",
       "    <tr>\n",
       "      <th>最近评论日期</th>\n",
       "      <td>-2.066158</td>\n",
       "    </tr>\n",
       "    <tr>\n",
       "      <th>民宿评分</th>\n",
       "      <td>-3.635615</td>\n",
       "    </tr>\n",
       "    <tr>\n",
       "      <th>床的类型</th>\n",
       "      <td>-7.387244</td>\n",
       "    </tr>\n",
       "    <tr>\n",
       "      <th>房主是否有个人资料图片</th>\n",
       "      <td>-15.301721</td>\n",
       "    </tr>\n",
       "  </tbody>\n",
       "</table>\n",
       "</div>"
      ],
      "text/plain": [
       "                  Skew\n",
       "评论个数          3.702760\n",
       "洗手间数量         3.621649\n",
       "床的数量          3.360728\n",
       "容纳人数          2.231515\n",
       "卧室数量          1.991787\n",
       "房主回复率         0.513749\n",
       "邮编            0.292904\n",
       "便利设施          0.003907\n",
       "民宿周边         -0.050597\n",
       "取消条款         -0.240908\n",
       "经度           -0.407092\n",
       "何时成为房主       -0.447978\n",
       "维度           -0.534755\n",
       "房主身份是否验证     -0.787375\n",
       "清洁费          -1.059581\n",
       "首次评论日期       -1.320922\n",
       "最近评论日期       -2.066158\n",
       "民宿评分         -3.635615\n",
       "床的类型         -7.387244\n",
       "房主是否有个人资料图片 -15.301721"
      ]
     },
     "execution_count": 33,
     "metadata": {},
     "output_type": "execute_result"
    }
   ],
   "source": [
    "# 计算特征偏度\n",
    "numeric_feats = all_data.dtypes[all_data.dtypes != 'object'].index\n",
    "skewed_feats = all_data[numeric_feats].apply(lambda x: skew(x.dropna())).sort_values(ascending=False)\n",
    "skewness = pd.DataFrame({'Skew':skewed_feats})\n",
    "skewness"
   ]
  },
  {
   "cell_type": "code",
   "execution_count": 34,
   "metadata": {
    "id": "E3C3EA637E3749CEB2E59F5EE6B61E5E",
    "jupyter": {},
    "notebookId": "60672462cbb4020018e42d1c",
    "scrolled": false,
    "slideshow": {
     "slide_type": "slide"
    },
    "tags": []
   },
   "outputs": [
    {
     "data": {
      "text/plain": [
       "何时成为房主         0\n",
       "便利设施           0\n",
       "卧室数量           0\n",
       "取消条款           0\n",
       "容纳人数           0\n",
       "床的数量           0\n",
       "床的类型           0\n",
       "房主回复率          0\n",
       "房主是否有个人资料图片    0\n",
       "房主身份是否验证       0\n",
       "房产类型           0\n",
       "房型             0\n",
       "所在城市           0\n",
       "是否支持随即预订       0\n",
       "最近评论日期         0\n",
       "民宿周边           0\n",
       "民宿评分           0\n",
       "洗手间数量          0\n",
       "清洁费            0\n",
       "经度             0\n",
       "维度             0\n",
       "评论个数           0\n",
       "邮编             0\n",
       "首次评论日期         0\n",
       "dtype: int64"
      ]
     },
     "execution_count": 34,
     "metadata": {},
     "output_type": "execute_result"
    }
   ],
   "source": [
    "all_data.isnull().sum()"
   ]
  },
  {
   "cell_type": "code",
   "execution_count": 35,
   "metadata": {
    "id": "D729A4DAE24744528A4EF27A39959512",
    "jupyter": {},
    "scrolled": false,
    "slideshow": {
     "slide_type": "slide"
    },
    "tags": []
   },
   "outputs": [
    {
     "name": "stdout",
     "output_type": "stream",
     "text": [
      "There are 12 skewed numerical features to Box Cox transform\n",
      "评论个数\n",
      "洗手间数量\n",
      "床的数量\n",
      "容纳人数\n",
      "卧室数量\n",
      "房主身份是否验证\n",
      "清洁费\n",
      "首次评论日期\n",
      "最近评论日期\n",
      "民宿评分\n",
      "床的类型\n",
      "房主是否有个人资料图片\n"
     ]
    }
   ],
   "source": [
    "# 对偏态分布的数据进行标准化处理，使其更加服从正态分布\n",
    "skewness = skewness[abs(skewness.Skew) > 0.75]\n",
    "print('There are {} skewed numerical features to Box Cox transform'.format(skewness.shape[0]))\n",
    "# print(skewed_features)\n",
    "skewed_features = skewness.index\n",
    "lam = 0.15\n",
    "for feat in skewed_features:\n",
    "    print(feat)\n",
    "    all_data[feat] = boxcox1p(all_data[feat], lam)\n",
    "    \n",
    "# all_data[skewed_features] = np.log1p(all_data[skewed_features])"
   ]
  },
  {
   "cell_type": "code",
   "execution_count": 36,
   "metadata": {
    "id": "0BAE115798204FBA932A224C0FEDFD96",
    "jupyter": {},
    "notebookId": "60672462cbb4020018e42d1c",
    "scrolled": false,
    "slideshow": {
     "slide_type": "slide"
    },
    "tags": []
   },
   "outputs": [
    {
     "data": {
      "text/plain": [
       "何时成为房主         0\n",
       "便利设施           0\n",
       "卧室数量           0\n",
       "取消条款           0\n",
       "容纳人数           0\n",
       "床的数量           0\n",
       "床的类型           0\n",
       "房主回复率          0\n",
       "房主是否有个人资料图片    0\n",
       "房主身份是否验证       0\n",
       "房产类型           0\n",
       "房型             0\n",
       "所在城市           0\n",
       "是否支持随即预订       0\n",
       "最近评论日期         0\n",
       "民宿周边           0\n",
       "民宿评分           0\n",
       "洗手间数量          0\n",
       "清洁费            0\n",
       "经度             0\n",
       "维度             0\n",
       "评论个数           0\n",
       "邮编             0\n",
       "首次评论日期         0\n",
       "dtype: int64"
      ]
     },
     "execution_count": 36,
     "metadata": {},
     "output_type": "execute_result"
    }
   ],
   "source": [
    "all_data.isnull().sum()"
   ]
  },
  {
   "cell_type": "code",
   "execution_count": 37,
   "metadata": {
    "id": "6392FA3A7CAF454497E50AD6BA19A14E",
    "jupyter": {},
    "scrolled": false,
    "slideshow": {
     "slide_type": "slide"
    },
    "tags": []
   },
   "outputs": [
    {
     "data": {
      "text/html": [
       "<div>\n",
       "<style scoped>\n",
       "    .dataframe tbody tr th:only-of-type {\n",
       "        vertical-align: middle;\n",
       "    }\n",
       "\n",
       "    .dataframe tbody tr th {\n",
       "        vertical-align: top;\n",
       "    }\n",
       "\n",
       "    .dataframe thead th {\n",
       "        text-align: right;\n",
       "    }\n",
       "</style>\n",
       "<table border=\"1\" class=\"dataframe\">\n",
       "  <thead>\n",
       "    <tr style=\"text-align: right;\">\n",
       "      <th></th>\n",
       "      <th>何时成为房主</th>\n",
       "      <th>便利设施</th>\n",
       "      <th>卧室数量</th>\n",
       "      <th>取消条款</th>\n",
       "      <th>容纳人数</th>\n",
       "      <th>床的数量</th>\n",
       "      <th>床的类型</th>\n",
       "      <th>房主回复率</th>\n",
       "      <th>房主是否有个人资料图片</th>\n",
       "      <th>房主身份是否验证</th>\n",
       "      <th>房产类型</th>\n",
       "      <th>房型</th>\n",
       "      <th>所在城市</th>\n",
       "      <th>是否支持随即预订</th>\n",
       "      <th>最近评论日期</th>\n",
       "      <th>民宿周边</th>\n",
       "      <th>民宿评分</th>\n",
       "      <th>洗手间数量</th>\n",
       "      <th>清洁费</th>\n",
       "      <th>经度</th>\n",
       "      <th>维度</th>\n",
       "      <th>评论个数</th>\n",
       "      <th>邮编</th>\n",
       "      <th>首次评论日期</th>\n",
       "    </tr>\n",
       "  </thead>\n",
       "  <tbody>\n",
       "    <tr>\n",
       "      <th>0</th>\n",
       "      <td>2135</td>\n",
       "      <td>32053</td>\n",
       "      <td>1.194318</td>\n",
       "      <td>0</td>\n",
       "      <td>1.820334</td>\n",
       "      <td>1.540963</td>\n",
       "      <td>1.820334</td>\n",
       "      <td>80</td>\n",
       "      <td>1.194318</td>\n",
       "      <td>1.194318</td>\n",
       "      <td>17</td>\n",
       "      <td>0</td>\n",
       "      <td>3</td>\n",
       "      <td>0</td>\n",
       "      <td>11.843317</td>\n",
       "      <td>323</td>\n",
       "      <td>6.594833</td>\n",
       "      <td>0.982247</td>\n",
       "      <td>0.000000</td>\n",
       "      <td>-118.273390</td>\n",
       "      <td>34.109039</td>\n",
       "      <td>3.128239</td>\n",
       "      <td>454</td>\n",
       "      <td>13.628573</td>\n",
       "    </tr>\n",
       "    <tr>\n",
       "      <th>1</th>\n",
       "      <td>222</td>\n",
       "      <td>50507</td>\n",
       "      <td>0.730463</td>\n",
       "      <td>2</td>\n",
       "      <td>1.194318</td>\n",
       "      <td>0.730463</td>\n",
       "      <td>1.820334</td>\n",
       "      <td>80</td>\n",
       "      <td>1.194318</td>\n",
       "      <td>1.194318</td>\n",
       "      <td>0</td>\n",
       "      <td>0</td>\n",
       "      <td>4</td>\n",
       "      <td>1</td>\n",
       "      <td>11.948971</td>\n",
       "      <td>371</td>\n",
       "      <td>6.382451</td>\n",
       "      <td>0.730463</td>\n",
       "      <td>0.730463</td>\n",
       "      <td>-73.919163</td>\n",
       "      <td>40.812897</td>\n",
       "      <td>2.259674</td>\n",
       "      <td>150</td>\n",
       "      <td>14.325402</td>\n",
       "    </tr>\n",
       "    <tr>\n",
       "      <th>2</th>\n",
       "      <td>2990</td>\n",
       "      <td>19694</td>\n",
       "      <td>0.000000</td>\n",
       "      <td>2</td>\n",
       "      <td>1.820334</td>\n",
       "      <td>1.194318</td>\n",
       "      <td>1.820334</td>\n",
       "      <td>2</td>\n",
       "      <td>1.194318</td>\n",
       "      <td>0.730463</td>\n",
       "      <td>0</td>\n",
       "      <td>0</td>\n",
       "      <td>4</td>\n",
       "      <td>1</td>\n",
       "      <td>12.887996</td>\n",
       "      <td>238</td>\n",
       "      <td>6.221214</td>\n",
       "      <td>0.730463</td>\n",
       "      <td>0.730463</td>\n",
       "      <td>-73.953309</td>\n",
       "      <td>40.737643</td>\n",
       "      <td>1.820334</td>\n",
       "      <td>231</td>\n",
       "      <td>14.836183</td>\n",
       "    </tr>\n",
       "    <tr>\n",
       "      <th>3</th>\n",
       "      <td>1427</td>\n",
       "      <td>67121</td>\n",
       "      <td>0.730463</td>\n",
       "      <td>0</td>\n",
       "      <td>1.194318</td>\n",
       "      <td>0.730463</td>\n",
       "      <td>1.820334</td>\n",
       "      <td>80</td>\n",
       "      <td>1.194318</td>\n",
       "      <td>1.194318</td>\n",
       "      <td>0</td>\n",
       "      <td>1</td>\n",
       "      <td>5</td>\n",
       "      <td>0</td>\n",
       "      <td>13.035403</td>\n",
       "      <td>356</td>\n",
       "      <td>6.654950</td>\n",
       "      <td>0.730463</td>\n",
       "      <td>0.730463</td>\n",
       "      <td>-122.420558</td>\n",
       "      <td>37.759935</td>\n",
       "      <td>0.000000</td>\n",
       "      <td>739</td>\n",
       "      <td>14.961384</td>\n",
       "    </tr>\n",
       "    <tr>\n",
       "      <th>4</th>\n",
       "      <td>829</td>\n",
       "      <td>12765</td>\n",
       "      <td>0.730463</td>\n",
       "      <td>1</td>\n",
       "      <td>1.540963</td>\n",
       "      <td>0.730463</td>\n",
       "      <td>1.820334</td>\n",
       "      <td>2</td>\n",
       "      <td>1.194318</td>\n",
       "      <td>1.194318</td>\n",
       "      <td>0</td>\n",
       "      <td>0</td>\n",
       "      <td>4</td>\n",
       "      <td>0</td>\n",
       "      <td>11.734130</td>\n",
       "      <td>44</td>\n",
       "      <td>6.635082</td>\n",
       "      <td>0.730463</td>\n",
       "      <td>0.730463</td>\n",
       "      <td>-73.949490</td>\n",
       "      <td>40.683363</td>\n",
       "      <td>3.530419</td>\n",
       "      <td>220</td>\n",
       "      <td>12.878993</td>\n",
       "    </tr>\n",
       "  </tbody>\n",
       "</table>\n",
       "</div>"
      ],
      "text/plain": [
       "   何时成为房主   便利设施      卧室数量  取消条款      容纳人数      床的数量      床的类型  房主回复率  \\\n",
       "0    2135  32053  1.194318     0  1.820334  1.540963  1.820334     80   \n",
       "1     222  50507  0.730463     2  1.194318  0.730463  1.820334     80   \n",
       "2    2990  19694  0.000000     2  1.820334  1.194318  1.820334      2   \n",
       "3    1427  67121  0.730463     0  1.194318  0.730463  1.820334     80   \n",
       "4     829  12765  0.730463     1  1.540963  0.730463  1.820334      2   \n",
       "\n",
       "   房主是否有个人资料图片  房主身份是否验证 房产类型 房型 所在城市 是否支持随即预订     最近评论日期  民宿周边      民宿评分  \\\n",
       "0     1.194318  1.194318   17  0    3        0  11.843317   323  6.594833   \n",
       "1     1.194318  1.194318    0  0    4        1  11.948971   371  6.382451   \n",
       "2     1.194318  0.730463    0  0    4        1  12.887996   238  6.221214   \n",
       "3     1.194318  1.194318    0  1    5        0  13.035403   356  6.654950   \n",
       "4     1.194318  1.194318    0  0    4        0  11.734130    44  6.635082   \n",
       "\n",
       "      洗手间数量       清洁费          经度         维度      评论个数   邮编     首次评论日期  \n",
       "0  0.982247  0.000000 -118.273390  34.109039  3.128239  454  13.628573  \n",
       "1  0.730463  0.730463  -73.919163  40.812897  2.259674  150  14.325402  \n",
       "2  0.730463  0.730463  -73.953309  40.737643  1.820334  231  14.836183  \n",
       "3  0.730463  0.730463 -122.420558  37.759935  0.000000  739  14.961384  \n",
       "4  0.730463  0.730463  -73.949490  40.683363  3.530419  220  12.878993  "
      ]
     },
     "execution_count": 37,
     "metadata": {},
     "output_type": "execute_result"
    }
   ],
   "source": [
    "all_data.head()\n"
   ]
  },
  {
   "cell_type": "markdown",
   "metadata": {
    "id": "AE19CA5D680A4A3F9B83BBD6459DCA6E",
    "jupyter": {},
    "mdEditEnable": false,
    "slideshow": {
     "slide_type": "slide"
    },
    "tags": []
   },
   "source": [
    "## 独热编码"
   ]
  },
  {
   "cell_type": "code",
   "execution_count": 38,
   "metadata": {
    "id": "6B7090C9F3344CC587CBB9C2381EF974",
    "jupyter": {},
    "scrolled": false,
    "slideshow": {
     "slide_type": "slide"
    },
    "tags": []
   },
   "outputs": [
    {
     "data": {
      "text/html": [
       "<div>\n",
       "<style scoped>\n",
       "    .dataframe tbody tr th:only-of-type {\n",
       "        vertical-align: middle;\n",
       "    }\n",
       "\n",
       "    .dataframe tbody tr th {\n",
       "        vertical-align: top;\n",
       "    }\n",
       "\n",
       "    .dataframe thead th {\n",
       "        text-align: right;\n",
       "    }\n",
       "</style>\n",
       "<table border=\"1\" class=\"dataframe\">\n",
       "  <thead>\n",
       "    <tr style=\"text-align: right;\">\n",
       "      <th></th>\n",
       "      <th>何时成为房主</th>\n",
       "      <th>便利设施</th>\n",
       "      <th>卧室数量</th>\n",
       "      <th>取消条款</th>\n",
       "      <th>容纳人数</th>\n",
       "      <th>床的数量</th>\n",
       "      <th>床的类型</th>\n",
       "      <th>房主回复率</th>\n",
       "      <th>房主是否有个人资料图片</th>\n",
       "      <th>房主身份是否验证</th>\n",
       "      <th>最近评论日期</th>\n",
       "      <th>民宿周边</th>\n",
       "      <th>民宿评分</th>\n",
       "      <th>洗手间数量</th>\n",
       "      <th>清洁费</th>\n",
       "      <th>经度</th>\n",
       "      <th>维度</th>\n",
       "      <th>评论个数</th>\n",
       "      <th>邮编</th>\n",
       "      <th>首次评论日期</th>\n",
       "      <th>房产类型_0</th>\n",
       "      <th>房产类型_1</th>\n",
       "      <th>房产类型_10</th>\n",
       "      <th>房产类型_11</th>\n",
       "      <th>房产类型_12</th>\n",
       "      <th>房产类型_13</th>\n",
       "      <th>房产类型_14</th>\n",
       "      <th>房产类型_15</th>\n",
       "      <th>房产类型_16</th>\n",
       "      <th>房产类型_17</th>\n",
       "      <th>房产类型_18</th>\n",
       "      <th>房产类型_19</th>\n",
       "      <th>房产类型_2</th>\n",
       "      <th>房产类型_20</th>\n",
       "      <th>房产类型_21</th>\n",
       "      <th>房产类型_22</th>\n",
       "      <th>房产类型_23</th>\n",
       "      <th>房产类型_24</th>\n",
       "      <th>房产类型_25</th>\n",
       "      <th>房产类型_26</th>\n",
       "      <th>房产类型_27</th>\n",
       "      <th>房产类型_28</th>\n",
       "      <th>房产类型_29</th>\n",
       "      <th>房产类型_3</th>\n",
       "      <th>房产类型_30</th>\n",
       "      <th>房产类型_31</th>\n",
       "      <th>房产类型_32</th>\n",
       "      <th>房产类型_33</th>\n",
       "      <th>房产类型_34</th>\n",
       "      <th>房产类型_4</th>\n",
       "      <th>房产类型_5</th>\n",
       "      <th>房产类型_6</th>\n",
       "      <th>房产类型_7</th>\n",
       "      <th>房产类型_8</th>\n",
       "      <th>房产类型_9</th>\n",
       "      <th>房型_0</th>\n",
       "      <th>房型_1</th>\n",
       "      <th>房型_2</th>\n",
       "      <th>所在城市_0</th>\n",
       "      <th>所在城市_1</th>\n",
       "      <th>所在城市_2</th>\n",
       "      <th>所在城市_3</th>\n",
       "      <th>所在城市_4</th>\n",
       "      <th>所在城市_5</th>\n",
       "      <th>是否支持随即预订_0</th>\n",
       "      <th>是否支持随即预订_1</th>\n",
       "    </tr>\n",
       "  </thead>\n",
       "  <tbody>\n",
       "    <tr>\n",
       "      <th>0</th>\n",
       "      <td>2135</td>\n",
       "      <td>32053</td>\n",
       "      <td>1.194318</td>\n",
       "      <td>0</td>\n",
       "      <td>1.820334</td>\n",
       "      <td>1.540963</td>\n",
       "      <td>1.820334</td>\n",
       "      <td>80</td>\n",
       "      <td>1.194318</td>\n",
       "      <td>1.194318</td>\n",
       "      <td>11.843317</td>\n",
       "      <td>323</td>\n",
       "      <td>6.594833</td>\n",
       "      <td>0.982247</td>\n",
       "      <td>0.000000</td>\n",
       "      <td>-118.273390</td>\n",
       "      <td>34.109039</td>\n",
       "      <td>3.128239</td>\n",
       "      <td>454</td>\n",
       "      <td>13.628573</td>\n",
       "      <td>0</td>\n",
       "      <td>0</td>\n",
       "      <td>0</td>\n",
       "      <td>0</td>\n",
       "      <td>0</td>\n",
       "      <td>0</td>\n",
       "      <td>0</td>\n",
       "      <td>0</td>\n",
       "      <td>0</td>\n",
       "      <td>1</td>\n",
       "      <td>0</td>\n",
       "      <td>0</td>\n",
       "      <td>0</td>\n",
       "      <td>0</td>\n",
       "      <td>0</td>\n",
       "      <td>0</td>\n",
       "      <td>0</td>\n",
       "      <td>0</td>\n",
       "      <td>0</td>\n",
       "      <td>0</td>\n",
       "      <td>0</td>\n",
       "      <td>0</td>\n",
       "      <td>0</td>\n",
       "      <td>0</td>\n",
       "      <td>0</td>\n",
       "      <td>0</td>\n",
       "      <td>0</td>\n",
       "      <td>0</td>\n",
       "      <td>0</td>\n",
       "      <td>0</td>\n",
       "      <td>0</td>\n",
       "      <td>0</td>\n",
       "      <td>0</td>\n",
       "      <td>0</td>\n",
       "      <td>0</td>\n",
       "      <td>1</td>\n",
       "      <td>0</td>\n",
       "      <td>0</td>\n",
       "      <td>0</td>\n",
       "      <td>0</td>\n",
       "      <td>0</td>\n",
       "      <td>1</td>\n",
       "      <td>0</td>\n",
       "      <td>0</td>\n",
       "      <td>1</td>\n",
       "      <td>0</td>\n",
       "    </tr>\n",
       "    <tr>\n",
       "      <th>1</th>\n",
       "      <td>222</td>\n",
       "      <td>50507</td>\n",
       "      <td>0.730463</td>\n",
       "      <td>2</td>\n",
       "      <td>1.194318</td>\n",
       "      <td>0.730463</td>\n",
       "      <td>1.820334</td>\n",
       "      <td>80</td>\n",
       "      <td>1.194318</td>\n",
       "      <td>1.194318</td>\n",
       "      <td>11.948971</td>\n",
       "      <td>371</td>\n",
       "      <td>6.382451</td>\n",
       "      <td>0.730463</td>\n",
       "      <td>0.730463</td>\n",
       "      <td>-73.919163</td>\n",
       "      <td>40.812897</td>\n",
       "      <td>2.259674</td>\n",
       "      <td>150</td>\n",
       "      <td>14.325402</td>\n",
       "      <td>1</td>\n",
       "      <td>0</td>\n",
       "      <td>0</td>\n",
       "      <td>0</td>\n",
       "      <td>0</td>\n",
       "      <td>0</td>\n",
       "      <td>0</td>\n",
       "      <td>0</td>\n",
       "      <td>0</td>\n",
       "      <td>0</td>\n",
       "      <td>0</td>\n",
       "      <td>0</td>\n",
       "      <td>0</td>\n",
       "      <td>0</td>\n",
       "      <td>0</td>\n",
       "      <td>0</td>\n",
       "      <td>0</td>\n",
       "      <td>0</td>\n",
       "      <td>0</td>\n",
       "      <td>0</td>\n",
       "      <td>0</td>\n",
       "      <td>0</td>\n",
       "      <td>0</td>\n",
       "      <td>0</td>\n",
       "      <td>0</td>\n",
       "      <td>0</td>\n",
       "      <td>0</td>\n",
       "      <td>0</td>\n",
       "      <td>0</td>\n",
       "      <td>0</td>\n",
       "      <td>0</td>\n",
       "      <td>0</td>\n",
       "      <td>0</td>\n",
       "      <td>0</td>\n",
       "      <td>0</td>\n",
       "      <td>1</td>\n",
       "      <td>0</td>\n",
       "      <td>0</td>\n",
       "      <td>0</td>\n",
       "      <td>0</td>\n",
       "      <td>0</td>\n",
       "      <td>0</td>\n",
       "      <td>1</td>\n",
       "      <td>0</td>\n",
       "      <td>0</td>\n",
       "      <td>1</td>\n",
       "    </tr>\n",
       "    <tr>\n",
       "      <th>2</th>\n",
       "      <td>2990</td>\n",
       "      <td>19694</td>\n",
       "      <td>0.000000</td>\n",
       "      <td>2</td>\n",
       "      <td>1.820334</td>\n",
       "      <td>1.194318</td>\n",
       "      <td>1.820334</td>\n",
       "      <td>2</td>\n",
       "      <td>1.194318</td>\n",
       "      <td>0.730463</td>\n",
       "      <td>12.887996</td>\n",
       "      <td>238</td>\n",
       "      <td>6.221214</td>\n",
       "      <td>0.730463</td>\n",
       "      <td>0.730463</td>\n",
       "      <td>-73.953309</td>\n",
       "      <td>40.737643</td>\n",
       "      <td>1.820334</td>\n",
       "      <td>231</td>\n",
       "      <td>14.836183</td>\n",
       "      <td>1</td>\n",
       "      <td>0</td>\n",
       "      <td>0</td>\n",
       "      <td>0</td>\n",
       "      <td>0</td>\n",
       "      <td>0</td>\n",
       "      <td>0</td>\n",
       "      <td>0</td>\n",
       "      <td>0</td>\n",
       "      <td>0</td>\n",
       "      <td>0</td>\n",
       "      <td>0</td>\n",
       "      <td>0</td>\n",
       "      <td>0</td>\n",
       "      <td>0</td>\n",
       "      <td>0</td>\n",
       "      <td>0</td>\n",
       "      <td>0</td>\n",
       "      <td>0</td>\n",
       "      <td>0</td>\n",
       "      <td>0</td>\n",
       "      <td>0</td>\n",
       "      <td>0</td>\n",
       "      <td>0</td>\n",
       "      <td>0</td>\n",
       "      <td>0</td>\n",
       "      <td>0</td>\n",
       "      <td>0</td>\n",
       "      <td>0</td>\n",
       "      <td>0</td>\n",
       "      <td>0</td>\n",
       "      <td>0</td>\n",
       "      <td>0</td>\n",
       "      <td>0</td>\n",
       "      <td>0</td>\n",
       "      <td>1</td>\n",
       "      <td>0</td>\n",
       "      <td>0</td>\n",
       "      <td>0</td>\n",
       "      <td>0</td>\n",
       "      <td>0</td>\n",
       "      <td>0</td>\n",
       "      <td>1</td>\n",
       "      <td>0</td>\n",
       "      <td>0</td>\n",
       "      <td>1</td>\n",
       "    </tr>\n",
       "    <tr>\n",
       "      <th>3</th>\n",
       "      <td>1427</td>\n",
       "      <td>67121</td>\n",
       "      <td>0.730463</td>\n",
       "      <td>0</td>\n",
       "      <td>1.194318</td>\n",
       "      <td>0.730463</td>\n",
       "      <td>1.820334</td>\n",
       "      <td>80</td>\n",
       "      <td>1.194318</td>\n",
       "      <td>1.194318</td>\n",
       "      <td>13.035403</td>\n",
       "      <td>356</td>\n",
       "      <td>6.654950</td>\n",
       "      <td>0.730463</td>\n",
       "      <td>0.730463</td>\n",
       "      <td>-122.420558</td>\n",
       "      <td>37.759935</td>\n",
       "      <td>0.000000</td>\n",
       "      <td>739</td>\n",
       "      <td>14.961384</td>\n",
       "      <td>1</td>\n",
       "      <td>0</td>\n",
       "      <td>0</td>\n",
       "      <td>0</td>\n",
       "      <td>0</td>\n",
       "      <td>0</td>\n",
       "      <td>0</td>\n",
       "      <td>0</td>\n",
       "      <td>0</td>\n",
       "      <td>0</td>\n",
       "      <td>0</td>\n",
       "      <td>0</td>\n",
       "      <td>0</td>\n",
       "      <td>0</td>\n",
       "      <td>0</td>\n",
       "      <td>0</td>\n",
       "      <td>0</td>\n",
       "      <td>0</td>\n",
       "      <td>0</td>\n",
       "      <td>0</td>\n",
       "      <td>0</td>\n",
       "      <td>0</td>\n",
       "      <td>0</td>\n",
       "      <td>0</td>\n",
       "      <td>0</td>\n",
       "      <td>0</td>\n",
       "      <td>0</td>\n",
       "      <td>0</td>\n",
       "      <td>0</td>\n",
       "      <td>0</td>\n",
       "      <td>0</td>\n",
       "      <td>0</td>\n",
       "      <td>0</td>\n",
       "      <td>0</td>\n",
       "      <td>0</td>\n",
       "      <td>0</td>\n",
       "      <td>1</td>\n",
       "      <td>0</td>\n",
       "      <td>0</td>\n",
       "      <td>0</td>\n",
       "      <td>0</td>\n",
       "      <td>0</td>\n",
       "      <td>0</td>\n",
       "      <td>1</td>\n",
       "      <td>1</td>\n",
       "      <td>0</td>\n",
       "    </tr>\n",
       "    <tr>\n",
       "      <th>4</th>\n",
       "      <td>829</td>\n",
       "      <td>12765</td>\n",
       "      <td>0.730463</td>\n",
       "      <td>1</td>\n",
       "      <td>1.540963</td>\n",
       "      <td>0.730463</td>\n",
       "      <td>1.820334</td>\n",
       "      <td>2</td>\n",
       "      <td>1.194318</td>\n",
       "      <td>1.194318</td>\n",
       "      <td>11.734130</td>\n",
       "      <td>44</td>\n",
       "      <td>6.635082</td>\n",
       "      <td>0.730463</td>\n",
       "      <td>0.730463</td>\n",
       "      <td>-73.949490</td>\n",
       "      <td>40.683363</td>\n",
       "      <td>3.530419</td>\n",
       "      <td>220</td>\n",
       "      <td>12.878993</td>\n",
       "      <td>1</td>\n",
       "      <td>0</td>\n",
       "      <td>0</td>\n",
       "      <td>0</td>\n",
       "      <td>0</td>\n",
       "      <td>0</td>\n",
       "      <td>0</td>\n",
       "      <td>0</td>\n",
       "      <td>0</td>\n",
       "      <td>0</td>\n",
       "      <td>0</td>\n",
       "      <td>0</td>\n",
       "      <td>0</td>\n",
       "      <td>0</td>\n",
       "      <td>0</td>\n",
       "      <td>0</td>\n",
       "      <td>0</td>\n",
       "      <td>0</td>\n",
       "      <td>0</td>\n",
       "      <td>0</td>\n",
       "      <td>0</td>\n",
       "      <td>0</td>\n",
       "      <td>0</td>\n",
       "      <td>0</td>\n",
       "      <td>0</td>\n",
       "      <td>0</td>\n",
       "      <td>0</td>\n",
       "      <td>0</td>\n",
       "      <td>0</td>\n",
       "      <td>0</td>\n",
       "      <td>0</td>\n",
       "      <td>0</td>\n",
       "      <td>0</td>\n",
       "      <td>0</td>\n",
       "      <td>0</td>\n",
       "      <td>1</td>\n",
       "      <td>0</td>\n",
       "      <td>0</td>\n",
       "      <td>0</td>\n",
       "      <td>0</td>\n",
       "      <td>0</td>\n",
       "      <td>0</td>\n",
       "      <td>1</td>\n",
       "      <td>0</td>\n",
       "      <td>1</td>\n",
       "      <td>0</td>\n",
       "    </tr>\n",
       "  </tbody>\n",
       "</table>\n",
       "</div>"
      ],
      "text/plain": [
       "   何时成为房主   便利设施      卧室数量  取消条款      容纳人数      床的数量      床的类型  房主回复率  \\\n",
       "0    2135  32053  1.194318     0  1.820334  1.540963  1.820334     80   \n",
       "1     222  50507  0.730463     2  1.194318  0.730463  1.820334     80   \n",
       "2    2990  19694  0.000000     2  1.820334  1.194318  1.820334      2   \n",
       "3    1427  67121  0.730463     0  1.194318  0.730463  1.820334     80   \n",
       "4     829  12765  0.730463     1  1.540963  0.730463  1.820334      2   \n",
       "\n",
       "   房主是否有个人资料图片  房主身份是否验证     最近评论日期  民宿周边      民宿评分     洗手间数量       清洁费  \\\n",
       "0     1.194318  1.194318  11.843317   323  6.594833  0.982247  0.000000   \n",
       "1     1.194318  1.194318  11.948971   371  6.382451  0.730463  0.730463   \n",
       "2     1.194318  0.730463  12.887996   238  6.221214  0.730463  0.730463   \n",
       "3     1.194318  1.194318  13.035403   356  6.654950  0.730463  0.730463   \n",
       "4     1.194318  1.194318  11.734130    44  6.635082  0.730463  0.730463   \n",
       "\n",
       "           经度         维度      评论个数   邮编     首次评论日期  房产类型_0  房产类型_1  房产类型_10  \\\n",
       "0 -118.273390  34.109039  3.128239  454  13.628573       0       0        0   \n",
       "1  -73.919163  40.812897  2.259674  150  14.325402       1       0        0   \n",
       "2  -73.953309  40.737643  1.820334  231  14.836183       1       0        0   \n",
       "3 -122.420558  37.759935  0.000000  739  14.961384       1       0        0   \n",
       "4  -73.949490  40.683363  3.530419  220  12.878993       1       0        0   \n",
       "\n",
       "   房产类型_11  房产类型_12  房产类型_13  房产类型_14  房产类型_15  房产类型_16  房产类型_17  房产类型_18  \\\n",
       "0        0        0        0        0        0        0        1        0   \n",
       "1        0        0        0        0        0        0        0        0   \n",
       "2        0        0        0        0        0        0        0        0   \n",
       "3        0        0        0        0        0        0        0        0   \n",
       "4        0        0        0        0        0        0        0        0   \n",
       "\n",
       "   房产类型_19  房产类型_2  房产类型_20  房产类型_21  房产类型_22  房产类型_23  房产类型_24  房产类型_25  \\\n",
       "0        0       0        0        0        0        0        0        0   \n",
       "1        0       0        0        0        0        0        0        0   \n",
       "2        0       0        0        0        0        0        0        0   \n",
       "3        0       0        0        0        0        0        0        0   \n",
       "4        0       0        0        0        0        0        0        0   \n",
       "\n",
       "   房产类型_26  房产类型_27  房产类型_28  房产类型_29  房产类型_3  房产类型_30  房产类型_31  房产类型_32  \\\n",
       "0        0        0        0        0       0        0        0        0   \n",
       "1        0        0        0        0       0        0        0        0   \n",
       "2        0        0        0        0       0        0        0        0   \n",
       "3        0        0        0        0       0        0        0        0   \n",
       "4        0        0        0        0       0        0        0        0   \n",
       "\n",
       "   房产类型_33  房产类型_34  房产类型_4  房产类型_5  房产类型_6  房产类型_7  房产类型_8  房产类型_9  房型_0  \\\n",
       "0        0        0       0       0       0       0       0       0     1   \n",
       "1        0        0       0       0       0       0       0       0     1   \n",
       "2        0        0       0       0       0       0       0       0     1   \n",
       "3        0        0       0       0       0       0       0       0     0   \n",
       "4        0        0       0       0       0       0       0       0     1   \n",
       "\n",
       "   房型_1  房型_2  所在城市_0  所在城市_1  所在城市_2  所在城市_3  所在城市_4  所在城市_5  是否支持随即预订_0  \\\n",
       "0     0     0       0       0       0       1       0       0           1   \n",
       "1     0     0       0       0       0       0       1       0           0   \n",
       "2     0     0       0       0       0       0       1       0           0   \n",
       "3     1     0       0       0       0       0       0       1           1   \n",
       "4     0     0       0       0       0       0       1       0           1   \n",
       "\n",
       "   是否支持随即预订_1  \n",
       "0           0  \n",
       "1           1  \n",
       "2           1  \n",
       "3           0  \n",
       "4           0  "
      ]
     },
     "execution_count": 38,
     "metadata": {},
     "output_type": "execute_result"
    }
   ],
   "source": [
    "# 独热编码用来解决类别型数据的离散值问题\n",
    "all_data = pd.get_dummies(all_data)\n",
    "all_data.head()"
   ]
  },
  {
   "cell_type": "code",
   "execution_count": 39,
   "metadata": {
    "id": "4FD5A60E40234EC98759E567641C5B2B",
    "jupyter": {},
    "notebookId": "60672462cbb4020018e42d1c",
    "scrolled": false,
    "slideshow": {
     "slide_type": "slide"
    },
    "tags": []
   },
   "outputs": [
    {
     "data": {
      "text/plain": [
       "何时成为房主         0\n",
       "便利设施           0\n",
       "卧室数量           0\n",
       "取消条款           0\n",
       "容纳人数           0\n",
       "床的数量           0\n",
       "床的类型           0\n",
       "房主回复率          0\n",
       "房主是否有个人资料图片    0\n",
       "房主身份是否验证       0\n",
       "最近评论日期         0\n",
       "民宿周边           0\n",
       "民宿评分           0\n",
       "洗手间数量          0\n",
       "清洁费            0\n",
       "经度             0\n",
       "维度             0\n",
       "评论个数           0\n",
       "邮编             0\n",
       "首次评论日期         0\n",
       "房产类型_0         0\n",
       "房产类型_1         0\n",
       "房产类型_10        0\n",
       "房产类型_11        0\n",
       "房产类型_12        0\n",
       "房产类型_13        0\n",
       "房产类型_14        0\n",
       "房产类型_15        0\n",
       "房产类型_16        0\n",
       "房产类型_17        0\n",
       "房产类型_18        0\n",
       "房产类型_19        0\n",
       "房产类型_2         0\n",
       "房产类型_20        0\n",
       "房产类型_21        0\n",
       "房产类型_22        0\n",
       "房产类型_23        0\n",
       "房产类型_24        0\n",
       "房产类型_25        0\n",
       "房产类型_26        0\n",
       "房产类型_27        0\n",
       "房产类型_28        0\n",
       "房产类型_29        0\n",
       "房产类型_3         0\n",
       "房产类型_30        0\n",
       "房产类型_31        0\n",
       "房产类型_32        0\n",
       "房产类型_33        0\n",
       "房产类型_34        0\n",
       "房产类型_4         0\n",
       "房产类型_5         0\n",
       "房产类型_6         0\n",
       "房产类型_7         0\n",
       "房产类型_8         0\n",
       "房产类型_9         0\n",
       "房型_0           0\n",
       "房型_1           0\n",
       "房型_2           0\n",
       "所在城市_0         0\n",
       "所在城市_1         0\n",
       "所在城市_2         0\n",
       "所在城市_3         0\n",
       "所在城市_4         0\n",
       "所在城市_5         0\n",
       "是否支持随即预订_0     0\n",
       "是否支持随即预订_1     0\n",
       "dtype: int64"
      ]
     },
     "execution_count": 39,
     "metadata": {},
     "output_type": "execute_result"
    }
   ],
   "source": [
    "all_data.isnull().sum()"
   ]
  },
  {
   "cell_type": "markdown",
   "metadata": {
    "id": "82587665A117420E9A99BBABDEEEA81E",
    "jupyter": {},
    "mdEditEnable": false,
    "slideshow": {
     "slide_type": "slide"
    },
    "tags": []
   },
   "source": [
    "## 重新划分数据集"
   ]
  },
  {
   "cell_type": "code",
   "execution_count": 40,
   "metadata": {
    "id": "284E300A643A4E7CA99315D81406149B",
    "jupyter": {},
    "scrolled": false,
    "slideshow": {
     "slide_type": "slide"
    },
    "tags": []
   },
   "outputs": [],
   "source": [
    "# 将处理好的数据重新划分成训练集和测试集，为模型训练与测试做准备\n",
    "train = all_data[:ntrain]\n",
    "test = all_data[ntrain:]"
   ]
  },
  {
   "cell_type": "markdown",
   "metadata": {
    "id": "72236ED57A65490A9CBB08E0E88A8C22",
    "jupyter": {},
    "mdEditEnable": false,
    "slideshow": {
     "slide_type": "slide"
    },
    "tags": []
   },
   "source": [
    "## 特征重要性检测"
   ]
  },
  {
   "cell_type": "code",
   "execution_count": 41,
   "metadata": {
    "id": "7BBA9F6EF809435D98B08BE20B644C62",
    "jupyter": {},
    "scrolled": false,
    "slideshow": {
     "slide_type": "slide"
    },
    "tags": []
   },
   "outputs": [
    {
     "data": {
      "text/plain": [
       "Lasso(alpha=0.001, copy_X=True, fit_intercept=True, max_iter=1000,\n",
       "      normalize=False, positive=False, precompute=False, random_state=None,\n",
       "      selection='cyclic', tol=0.0001, warm_start=False)"
      ]
     },
     "execution_count": 41,
     "metadata": {},
     "output_type": "execute_result"
    }
   ],
   "source": [
    "lasso=Lasso(alpha=0.001)\n",
    "lasso.fit(train,y_train)"
   ]
  },
  {
   "cell_type": "code",
   "execution_count": 42,
   "metadata": {
    "id": "10B43F782CD3486C8284D4297FBECF88",
    "jupyter": {},
    "scrolled": false,
    "slideshow": {
     "slide_type": "slide"
    },
    "tags": []
   },
   "outputs": [
    {
     "data": {
      "text/html": [
       "<div>\n",
       "<style scoped>\n",
       "    .dataframe tbody tr th:only-of-type {\n",
       "        vertical-align: middle;\n",
       "    }\n",
       "\n",
       "    .dataframe tbody tr th {\n",
       "        vertical-align: top;\n",
       "    }\n",
       "\n",
       "    .dataframe thead th {\n",
       "        text-align: right;\n",
       "    }\n",
       "</style>\n",
       "<table border=\"1\" class=\"dataframe\">\n",
       "  <thead>\n",
       "    <tr style=\"text-align: right;\">\n",
       "      <th></th>\n",
       "      <th>Feature Importance</th>\n",
       "    </tr>\n",
       "  </thead>\n",
       "  <tbody>\n",
       "    <tr>\n",
       "      <th>房型_0</th>\n",
       "      <td>1.162055e-01</td>\n",
       "    </tr>\n",
       "    <tr>\n",
       "      <th>所在城市_5</th>\n",
       "      <td>1.126906e-01</td>\n",
       "    </tr>\n",
       "    <tr>\n",
       "      <th>容纳人数</th>\n",
       "      <td>7.368532e-02</td>\n",
       "    </tr>\n",
       "    <tr>\n",
       "      <th>洗手间数量</th>\n",
       "      <td>4.033682e-02</td>\n",
       "    </tr>\n",
       "    <tr>\n",
       "      <th>卧室数量</th>\n",
       "      <td>3.816878e-02</td>\n",
       "    </tr>\n",
       "    <tr>\n",
       "      <th>民宿评分</th>\n",
       "      <td>2.973406e-02</td>\n",
       "    </tr>\n",
       "    <tr>\n",
       "      <th>所在城市_2</th>\n",
       "      <td>2.263767e-02</td>\n",
       "    </tr>\n",
       "    <tr>\n",
       "      <th>是否支持随即预订_0</th>\n",
       "      <td>3.115568e-03</td>\n",
       "    </tr>\n",
       "    <tr>\n",
       "      <th>最近评论日期</th>\n",
       "      <td>2.318739e-03</td>\n",
       "    </tr>\n",
       "    <tr>\n",
       "      <th>房主回复率</th>\n",
       "      <td>8.136902e-05</td>\n",
       "    </tr>\n",
       "    <tr>\n",
       "      <th>民宿周边</th>\n",
       "      <td>4.662792e-05</td>\n",
       "    </tr>\n",
       "    <tr>\n",
       "      <th>便利设施</th>\n",
       "      <td>2.966491e-07</td>\n",
       "    </tr>\n",
       "    <tr>\n",
       "      <th>房产类型_30</th>\n",
       "      <td>0.000000e+00</td>\n",
       "    </tr>\n",
       "    <tr>\n",
       "      <th>房产类型_28</th>\n",
       "      <td>0.000000e+00</td>\n",
       "    </tr>\n",
       "    <tr>\n",
       "      <th>房产类型_31</th>\n",
       "      <td>-0.000000e+00</td>\n",
       "    </tr>\n",
       "    <tr>\n",
       "      <th>房产类型_3</th>\n",
       "      <td>0.000000e+00</td>\n",
       "    </tr>\n",
       "    <tr>\n",
       "      <th>房产类型_29</th>\n",
       "      <td>0.000000e+00</td>\n",
       "    </tr>\n",
       "    <tr>\n",
       "      <th>房产类型_20</th>\n",
       "      <td>0.000000e+00</td>\n",
       "    </tr>\n",
       "    <tr>\n",
       "      <th>房产类型_27</th>\n",
       "      <td>0.000000e+00</td>\n",
       "    </tr>\n",
       "    <tr>\n",
       "      <th>房产类型_26</th>\n",
       "      <td>-0.000000e+00</td>\n",
       "    </tr>\n",
       "    <tr>\n",
       "      <th>房产类型_33</th>\n",
       "      <td>0.000000e+00</td>\n",
       "    </tr>\n",
       "    <tr>\n",
       "      <th>房产类型_25</th>\n",
       "      <td>0.000000e+00</td>\n",
       "    </tr>\n",
       "    <tr>\n",
       "      <th>房产类型_32</th>\n",
       "      <td>0.000000e+00</td>\n",
       "    </tr>\n",
       "    <tr>\n",
       "      <th>房产类型_8</th>\n",
       "      <td>0.000000e+00</td>\n",
       "    </tr>\n",
       "    <tr>\n",
       "      <th>房产类型_34</th>\n",
       "      <td>0.000000e+00</td>\n",
       "    </tr>\n",
       "    <tr>\n",
       "      <th>房产类型_4</th>\n",
       "      <td>-0.000000e+00</td>\n",
       "    </tr>\n",
       "    <tr>\n",
       "      <th>房产类型_5</th>\n",
       "      <td>0.000000e+00</td>\n",
       "    </tr>\n",
       "    <tr>\n",
       "      <th>房产类型_6</th>\n",
       "      <td>-0.000000e+00</td>\n",
       "    </tr>\n",
       "    <tr>\n",
       "      <th>房产类型_7</th>\n",
       "      <td>0.000000e+00</td>\n",
       "    </tr>\n",
       "    <tr>\n",
       "      <th>房产类型_23</th>\n",
       "      <td>0.000000e+00</td>\n",
       "    </tr>\n",
       "    <tr>\n",
       "      <th>房产类型_9</th>\n",
       "      <td>0.000000e+00</td>\n",
       "    </tr>\n",
       "    <tr>\n",
       "      <th>房型_1</th>\n",
       "      <td>0.000000e+00</td>\n",
       "    </tr>\n",
       "    <tr>\n",
       "      <th>所在城市_0</th>\n",
       "      <td>-0.000000e+00</td>\n",
       "    </tr>\n",
       "    <tr>\n",
       "      <th>所在城市_3</th>\n",
       "      <td>-0.000000e+00</td>\n",
       "    </tr>\n",
       "    <tr>\n",
       "      <th>所在城市_4</th>\n",
       "      <td>0.000000e+00</td>\n",
       "    </tr>\n",
       "    <tr>\n",
       "      <th>房产类型_24</th>\n",
       "      <td>0.000000e+00</td>\n",
       "    </tr>\n",
       "    <tr>\n",
       "      <th>是否支持随即预订_1</th>\n",
       "      <td>-0.000000e+00</td>\n",
       "    </tr>\n",
       "    <tr>\n",
       "      <th>房产类型_22</th>\n",
       "      <td>0.000000e+00</td>\n",
       "    </tr>\n",
       "    <tr>\n",
       "      <th>房产类型_11</th>\n",
       "      <td>0.000000e+00</td>\n",
       "    </tr>\n",
       "    <tr>\n",
       "      <th>房主是否有个人资料图片</th>\n",
       "      <td>-0.000000e+00</td>\n",
       "    </tr>\n",
       "    <tr>\n",
       "      <th>维度</th>\n",
       "      <td>-0.000000e+00</td>\n",
       "    </tr>\n",
       "    <tr>\n",
       "      <th>床的类型</th>\n",
       "      <td>0.000000e+00</td>\n",
       "    </tr>\n",
       "    <tr>\n",
       "      <th>床的数量</th>\n",
       "      <td>-0.000000e+00</td>\n",
       "    </tr>\n",
       "    <tr>\n",
       "      <th>取消条款</th>\n",
       "      <td>0.000000e+00</td>\n",
       "    </tr>\n",
       "    <tr>\n",
       "      <th>房产类型_21</th>\n",
       "      <td>0.000000e+00</td>\n",
       "    </tr>\n",
       "    <tr>\n",
       "      <th>房产类型_1</th>\n",
       "      <td>0.000000e+00</td>\n",
       "    </tr>\n",
       "    <tr>\n",
       "      <th>房产类型_10</th>\n",
       "      <td>0.000000e+00</td>\n",
       "    </tr>\n",
       "    <tr>\n",
       "      <th>房产类型_12</th>\n",
       "      <td>-0.000000e+00</td>\n",
       "    </tr>\n",
       "    <tr>\n",
       "      <th>清洁费</th>\n",
       "      <td>-0.000000e+00</td>\n",
       "    </tr>\n",
       "    <tr>\n",
       "      <th>房产类型_13</th>\n",
       "      <td>0.000000e+00</td>\n",
       "    </tr>\n",
       "    <tr>\n",
       "      <th>房产类型_14</th>\n",
       "      <td>-0.000000e+00</td>\n",
       "    </tr>\n",
       "    <tr>\n",
       "      <th>房产类型_15</th>\n",
       "      <td>-0.000000e+00</td>\n",
       "    </tr>\n",
       "    <tr>\n",
       "      <th>房产类型_16</th>\n",
       "      <td>-0.000000e+00</td>\n",
       "    </tr>\n",
       "    <tr>\n",
       "      <th>房产类型_17</th>\n",
       "      <td>-0.000000e+00</td>\n",
       "    </tr>\n",
       "    <tr>\n",
       "      <th>房产类型_18</th>\n",
       "      <td>-0.000000e+00</td>\n",
       "    </tr>\n",
       "    <tr>\n",
       "      <th>房产类型_19</th>\n",
       "      <td>-0.000000e+00</td>\n",
       "    </tr>\n",
       "    <tr>\n",
       "      <th>房产类型_2</th>\n",
       "      <td>0.000000e+00</td>\n",
       "    </tr>\n",
       "    <tr>\n",
       "      <th>房主身份是否验证</th>\n",
       "      <td>-0.000000e+00</td>\n",
       "    </tr>\n",
       "    <tr>\n",
       "      <th>何时成为房主</th>\n",
       "      <td>-1.040300e-05</td>\n",
       "    </tr>\n",
       "    <tr>\n",
       "      <th>邮编</th>\n",
       "      <td>-1.732714e-04</td>\n",
       "    </tr>\n",
       "    <tr>\n",
       "      <th>经度</th>\n",
       "      <td>-7.872427e-04</td>\n",
       "    </tr>\n",
       "    <tr>\n",
       "      <th>房产类型_0</th>\n",
       "      <td>-3.657838e-03</td>\n",
       "    </tr>\n",
       "    <tr>\n",
       "      <th>首次评论日期</th>\n",
       "      <td>-3.702221e-03</td>\n",
       "    </tr>\n",
       "    <tr>\n",
       "      <th>所在城市_1</th>\n",
       "      <td>-7.113035e-03</td>\n",
       "    </tr>\n",
       "    <tr>\n",
       "      <th>评论个数</th>\n",
       "      <td>-7.246376e-03</td>\n",
       "    </tr>\n",
       "    <tr>\n",
       "      <th>房型_2</th>\n",
       "      <td>-7.957012e-02</td>\n",
       "    </tr>\n",
       "  </tbody>\n",
       "</table>\n",
       "</div>"
      ],
      "text/plain": [
       "             Feature Importance\n",
       "房型_0               1.162055e-01\n",
       "所在城市_5             1.126906e-01\n",
       "容纳人数               7.368532e-02\n",
       "洗手间数量              4.033682e-02\n",
       "卧室数量               3.816878e-02\n",
       "民宿评分               2.973406e-02\n",
       "所在城市_2             2.263767e-02\n",
       "是否支持随即预订_0         3.115568e-03\n",
       "最近评论日期             2.318739e-03\n",
       "房主回复率              8.136902e-05\n",
       "民宿周边               4.662792e-05\n",
       "便利设施               2.966491e-07\n",
       "房产类型_30            0.000000e+00\n",
       "房产类型_28            0.000000e+00\n",
       "房产类型_31           -0.000000e+00\n",
       "房产类型_3             0.000000e+00\n",
       "房产类型_29            0.000000e+00\n",
       "房产类型_20            0.000000e+00\n",
       "房产类型_27            0.000000e+00\n",
       "房产类型_26           -0.000000e+00\n",
       "房产类型_33            0.000000e+00\n",
       "房产类型_25            0.000000e+00\n",
       "房产类型_32            0.000000e+00\n",
       "房产类型_8             0.000000e+00\n",
       "房产类型_34            0.000000e+00\n",
       "房产类型_4            -0.000000e+00\n",
       "房产类型_5             0.000000e+00\n",
       "房产类型_6            -0.000000e+00\n",
       "房产类型_7             0.000000e+00\n",
       "房产类型_23            0.000000e+00\n",
       "房产类型_9             0.000000e+00\n",
       "房型_1               0.000000e+00\n",
       "所在城市_0            -0.000000e+00\n",
       "所在城市_3            -0.000000e+00\n",
       "所在城市_4             0.000000e+00\n",
       "房产类型_24            0.000000e+00\n",
       "是否支持随即预订_1        -0.000000e+00\n",
       "房产类型_22            0.000000e+00\n",
       "房产类型_11            0.000000e+00\n",
       "房主是否有个人资料图片       -0.000000e+00\n",
       "维度                -0.000000e+00\n",
       "床的类型               0.000000e+00\n",
       "床的数量              -0.000000e+00\n",
       "取消条款               0.000000e+00\n",
       "房产类型_21            0.000000e+00\n",
       "房产类型_1             0.000000e+00\n",
       "房产类型_10            0.000000e+00\n",
       "房产类型_12           -0.000000e+00\n",
       "清洁费               -0.000000e+00\n",
       "房产类型_13            0.000000e+00\n",
       "房产类型_14           -0.000000e+00\n",
       "房产类型_15           -0.000000e+00\n",
       "房产类型_16           -0.000000e+00\n",
       "房产类型_17           -0.000000e+00\n",
       "房产类型_18           -0.000000e+00\n",
       "房产类型_19           -0.000000e+00\n",
       "房产类型_2             0.000000e+00\n",
       "房主身份是否验证          -0.000000e+00\n",
       "何时成为房主            -1.040300e-05\n",
       "邮编                -1.732714e-04\n",
       "经度                -7.872427e-04\n",
       "房产类型_0            -3.657838e-03\n",
       "首次评论日期            -3.702221e-03\n",
       "所在城市_1            -7.113035e-03\n",
       "评论个数              -7.246376e-03\n",
       "房型_2              -7.957012e-02"
      ]
     },
     "execution_count": 42,
     "metadata": {},
     "output_type": "execute_result"
    }
   ],
   "source": [
    "FI_lasso = pd.DataFrame({\"Feature Importance\":lasso.coef_}, index=train.columns)\n",
    "FI_lasso.sort_values(\"Feature Importance\",ascending=False)"
   ]
  },
  {
   "cell_type": "code",
   "execution_count": 43,
   "metadata": {
    "id": "73FBF694C00F44848C61FB37AA01736D",
    "jupyter": {},
    "scrolled": false,
    "slideshow": {
     "slide_type": "slide"
    },
    "tags": []
   },
   "outputs": [
    {
     "data": {
      "text/html": [
       "<img src=\"https://cdn.kesci.com/upload/rt/73FBF694C00F44848C61FB37AA01736D/qqzczy9hxq.png\">"
      ],
      "text/plain": [
       "<Figure size 1080x1800 with 1 Axes>"
      ]
     },
     "metadata": {
      "needs_background": "light"
     },
     "output_type": "display_data"
    }
   ],
   "source": [
    "FI_lasso[FI_lasso[\"Feature Importance\"]!=0].sort_values(\"Feature Importance\").plot(kind=\"barh\",figsize=(15,25))\n",
    "plt.xticks(rotation=90)\n",
    "plt.show()"
   ]
  },
  {
   "cell_type": "markdown",
   "metadata": {
    "id": "CE37763199B440E88C039316652667F6",
    "jupyter": {},
    "mdEditEnable": false,
    "slideshow": {
     "slide_type": "slide"
    },
    "tags": []
   },
   "source": [
    "# 基础模型"
   ]
  },
  {
   "cell_type": "markdown",
   "metadata": {
    "id": "B43EEF690EEC4ABBAD2278335C871E86",
    "jupyter": {},
    "mdEditEnable": false,
    "slideshow": {
     "slide_type": "slide"
    },
    "tags": []
   },
   "source": [
    "## 定义交叉验证策略"
   ]
  },
  {
   "cell_type": "code",
   "execution_count": 44,
   "metadata": {
    "id": "9B204C1078B347C0BE526B6392A6CAE6",
    "jupyter": {},
    "scrolled": false,
    "slideshow": {
     "slide_type": "slide"
    },
    "tags": []
   },
   "outputs": [],
   "source": [
    "# cross_val_score默认使用K折交叉验证策略。此处先使用KFold的shuffle参数混洗数据\n",
    "# neg_mean_squared_error：负均方误差，是损失函数，优化目标是使其最小化\n",
    "n_splits = 5\n",
    "def nmse_cv(model):\n",
    "    kf = KFold(n_splits, shuffle=True, random_state=42).get_n_splits(train.values)\n",
    "    nmse = np.sqrt(-cross_val_score(model, train.values, y_train, scoring='neg_mean_squared_error', cv=kf,verbose=50))\n",
    "    return(nmse)"
   ]
  },
  {
   "cell_type": "markdown",
   "metadata": {
    "id": "B1F525EFBBA04DC785EF9C5C07BBD086",
    "jupyter": {},
    "mdEditEnable": false,
    "slideshow": {
     "slide_type": "slide"
    },
    "tags": []
   },
   "source": [
    "## 建立基础模型"
   ]
  },
  {
   "cell_type": "code",
   "execution_count": 45,
   "metadata": {
    "id": "AB63B46FABA44A45897A553600FD9EF8",
    "jupyter": {},
    "scrolled": false,
    "slideshow": {
     "slide_type": "slide"
    },
    "tags": []
   },
   "outputs": [],
   "source": [
    "# lasso/ElasticNet模型对异常值敏感，使用RobustScaler缩放有离群值的数据\n",
    "lasso = make_pipeline(RobustScaler(), Lasso(alpha=0.0005, random_state=1))\n",
    "ENet = make_pipeline(RobustScaler(), ElasticNet(alpha=0.0005, l1_ratio=.9, random_state=3))\n",
    "KRR = KernelRidge(alpha=0.6, kernel='polynomial', degree=2, coef0=0.25)\n",
    "GBoost = GradientBoostingRegressor(n_estimators=3000, learning_rate=0.2,\n",
    "                                   max_depth=4, max_features='sqrt',\n",
    "                                   min_samples_leaf=15, min_samples_split=10, \n",
    "                                   loss='huber', random_state =5)\n",
    "model_xgb = xgb.XGBRegressor(colsample_bytree=0.4603, gamma=0.0468, \n",
    "                             learning_rate=0.2, max_depth=3, \n",
    "                             min_child_weight=1.7817, n_estimators=2200,\n",
    "                             reg_alpha=0.4640, reg_lambda=0.8571,\n",
    "                             subsample=0.5213, silent=1,\n",
    "                             random_state =7, nthread = -1)\n",
    "model_lgb = lgb.LGBMRegressor(objective='regression',num_leaves=5,\n",
    "                              learning_rate=0.2, n_estimators=720,\n",
    "                              max_bin = 55, bagging_fraction = 0.8,\n",
    "                              bagging_freq = 5, feature_fraction = 0.2319,\n",
    "                              feature_fraction_seed=9, bagging_seed=9,\n",
    "                              min_data_in_leaf =6, min_sum_hessian_in_leaf = 11)"
   ]
  },
  {
   "cell_type": "markdown",
   "metadata": {
    "id": "08886559AB454D9A9F3E3A997D6562D9",
    "jupyter": {},
    "mdEditEnable": false,
    "slideshow": {
     "slide_type": "slide"
    },
    "tags": []
   },
   "source": [
    "## 基础模型分数"
   ]
  },
  {
   "cell_type": "code",
   "execution_count": 46,
   "metadata": {
    "id": "E0FEFC0B56D54B09801692C4343D7610",
    "jupyter": {},
    "scrolled": false,
    "slideshow": {
     "slide_type": "slide"
    },
    "tags": []
   },
   "outputs": [
    {
     "name": "stdout",
     "output_type": "stream",
     "text": [
      "[Parallel(n_jobs=1)]: Using backend SequentialBackend with 1 concurrent workers.\n",
      "[CV]  ................................................................\n",
      "[CV] ................................... , score=-0.011, total=   0.8s\n",
      "[Parallel(n_jobs=1)]: Done   1 out of   1 | elapsed:    0.8s remaining:    0.0s\n",
      "[CV]  ................................................................\n",
      "[CV] ................................... , score=-0.009, total=   1.0s\n",
      "[Parallel(n_jobs=1)]: Done   2 out of   2 | elapsed:    1.8s remaining:    0.0s\n",
      "[CV]  ................................................................\n",
      "[CV] ................................... , score=-0.009, total=   0.8s\n",
      "[Parallel(n_jobs=1)]: Done   3 out of   3 | elapsed:    2.6s remaining:    0.0s\n",
      "[CV]  ................................................................\n",
      "[CV] ................................... , score=-0.009, total=   0.9s\n",
      "[Parallel(n_jobs=1)]: Done   4 out of   4 | elapsed:    3.5s remaining:    0.0s\n",
      "[CV]  ................................................................\n",
      "[CV] ................................... , score=-0.009, total=   1.0s\n",
      "[Parallel(n_jobs=1)]: Done   5 out of   5 | elapsed:    4.5s remaining:    0.0s\n",
      "[Parallel(n_jobs=1)]: Done   5 out of   5 | elapsed:    4.5s finished\n",
      "Lasso score:0.0969 (0.0032) \n",
      "\n",
      "[Parallel(n_jobs=1)]: Using backend SequentialBackend with 1 concurrent workers.\n",
      "[CV]  ................................................................\n",
      "[CV] ................................... , score=-0.011, total=   0.9s\n",
      "[Parallel(n_jobs=1)]: Done   1 out of   1 | elapsed:    1.0s remaining:    0.0s\n",
      "[CV]  ................................................................\n",
      "[CV] ................................... , score=-0.009, total=   1.0s\n",
      "[Parallel(n_jobs=1)]: Done   2 out of   2 | elapsed:    2.0s remaining:    0.0s\n",
      "[CV]  ................................................................\n",
      "[CV] ................................... , score=-0.009, total=   0.9s\n",
      "[Parallel(n_jobs=1)]: Done   3 out of   3 | elapsed:    2.9s remaining:    0.0s\n",
      "[CV]  ................................................................\n",
      "[CV] ................................... , score=-0.009, total=   1.0s\n",
      "[Parallel(n_jobs=1)]: Done   4 out of   4 | elapsed:    4.0s remaining:    0.0s\n",
      "[CV]  ................................................................\n",
      "[CV] ................................... , score=-0.009, total=   1.3s\n",
      "[Parallel(n_jobs=1)]: Done   5 out of   5 | elapsed:    5.4s remaining:    0.0s\n",
      "[Parallel(n_jobs=1)]: Done   5 out of   5 | elapsed:    5.4s finished\n",
      "ELasticNet score:0.0968 (0.0032) \n",
      "\n",
      "[Parallel(n_jobs=1)]: Using backend SequentialBackend with 1 concurrent workers.\n",
      "[CV]  ................................................................\n",
      "[CV] ................................... , score=-0.007, total= 1.9min\n",
      "[Parallel(n_jobs=1)]: Done   1 out of   1 | elapsed:  1.9min remaining:    0.0s\n",
      "[CV]  ................................................................\n",
      "[CV] ................................... , score=-0.006, total= 1.9min\n",
      "[Parallel(n_jobs=1)]: Done   2 out of   2 | elapsed:  3.8min remaining:    0.0s\n",
      "[CV]  ................................................................\n",
      "[CV] ................................... , score=-0.006, total= 1.9min\n",
      "[Parallel(n_jobs=1)]: Done   3 out of   3 | elapsed:  5.6min remaining:    0.0s\n",
      "[CV]  ................................................................\n",
      "[CV] ................................... , score=-0.006, total= 1.9min\n",
      "[Parallel(n_jobs=1)]: Done   4 out of   4 | elapsed:  7.5min remaining:    0.0s\n",
      "[CV]  ................................................................\n",
      "[CV] ................................... , score=-0.006, total= 1.9min\n",
      "[Parallel(n_jobs=1)]: Done   5 out of   5 | elapsed:  9.4min remaining:    0.0s\n",
      "[Parallel(n_jobs=1)]: Done   5 out of   5 | elapsed:  9.4min finished\n",
      "GradientBoosting score:0.0791 (0.0036) \n",
      "\n",
      "[Parallel(n_jobs=1)]: Using backend SequentialBackend with 1 concurrent workers.\n",
      "[CV]  ................................................................\n",
      "[CV] ................................... , score=-0.007, total=  36.1s\n",
      "[Parallel(n_jobs=1)]: Done   1 out of   1 | elapsed:   36.1s remaining:    0.0s\n",
      "[CV]  ................................................................\n",
      "[CV] ................................... , score=-0.006, total=  35.8s\n",
      "[Parallel(n_jobs=1)]: Done   2 out of   2 | elapsed:  1.2min remaining:    0.0s\n",
      "[CV]  ................................................................\n",
      "[CV] ................................... , score=-0.006, total=  36.8s\n",
      "[Parallel(n_jobs=1)]: Done   3 out of   3 | elapsed:  1.8min remaining:    0.0s\n",
      "[CV]  ................................................................\n",
      "[CV] ................................... , score=-0.006, total=  36.5s\n",
      "[Parallel(n_jobs=1)]: Done   4 out of   4 | elapsed:  2.4min remaining:    0.0s\n",
      "[CV]  ................................................................\n",
      "[CV] ................................... , score=-0.006, total=  35.9s\n",
      "[Parallel(n_jobs=1)]: Done   5 out of   5 | elapsed:  3.0min remaining:    0.0s\n",
      "[Parallel(n_jobs=1)]: Done   5 out of   5 | elapsed:  3.0min finished\n",
      "Xgboost score:0.0796 (0.0033) \n",
      "\n",
      "[Parallel(n_jobs=1)]: Using backend SequentialBackend with 1 concurrent workers.\n",
      "[CV]  ................................................................\n",
      "[CV] ................................... , score=-0.008, total=   1.4s\n",
      "[Parallel(n_jobs=1)]: Done   1 out of   1 | elapsed:    1.4s remaining:    0.0s\n",
      "[CV]  ................................................................\n",
      "[CV] ................................... , score=-0.006, total=   1.4s\n",
      "[Parallel(n_jobs=1)]: Done   2 out of   2 | elapsed:    2.8s remaining:    0.0s\n",
      "[CV]  ................................................................\n",
      "[CV] ................................... , score=-0.006, total=   1.2s\n",
      "[Parallel(n_jobs=1)]: Done   3 out of   3 | elapsed:    4.0s remaining:    0.0s\n",
      "[CV]  ................................................................\n",
      "[CV] ................................... , score=-0.006, total=   1.2s\n",
      "[Parallel(n_jobs=1)]: Done   4 out of   4 | elapsed:    5.2s remaining:    0.0s\n",
      "[CV]  ................................................................\n",
      "[CV] ................................... , score=-0.006, total=   1.4s\n",
      "[Parallel(n_jobs=1)]: Done   5 out of   5 | elapsed:    6.6s remaining:    0.0s\n",
      "[Parallel(n_jobs=1)]: Done   5 out of   5 | elapsed:    6.6s finished\n",
      "LGBM score:0.0807 (0.0034) \n",
      "\n"
     ]
    }
   ],
   "source": [
    "models = [lasso, ENet, GBoost, model_xgb, model_lgb]\n",
    "names = ['Lasso', 'ELasticNet',  'GradientBoosting', 'Xgboost', 'LGBM']\n",
    "for model, name in zip(models, names):\n",
    "    score = nmse_cv(model)\n",
    "    # 验证结果返回5个分数，求均值和标准差\n",
    "    print('{} score:{:.4f} ({:.4f}) \\n'.format(name, score.mean(), score.std()))"
   ]
  },
  {
   "cell_type": "markdown",
   "metadata": {
    "id": "4B6E13076F2E40008341FA518BD295B9",
    "jupyter": {},
    "mdEditEnable": false,
    "slideshow": {
     "slide_type": "slide"
    },
    "tags": []
   },
   "source": [
    "# 模型融合"
   ]
  },
  {
   "cell_type": "markdown",
   "metadata": {
    "id": "845AA0D537894F5B9F4473F24F458D01",
    "jupyter": {},
    "mdEditEnable": false,
    "slideshow": {
     "slide_type": "slide"
    },
    "tags": []
   },
   "source": [
    "## 方法一：模型平均"
   ]
  },
  {
   "cell_type": "markdown",
   "metadata": {
    "id": "27A5888C4E364B49A8ACB6462DC0AFC0",
    "jupyter": {},
    "mdEditEnable": false,
    "slideshow": {
     "slide_type": "slide"
    },
    "tags": []
   },
   "source": [
    "### 模型平均类"
   ]
  },
  {
   "cell_type": "code",
   "execution_count": 47,
   "metadata": {
    "id": "1AA1B5F971B444418C93083555DA87EB",
    "jupyter": {},
    "scrolled": false,
    "slideshow": {
     "slide_type": "slide"
    },
    "tags": []
   },
   "outputs": [],
   "source": [
    "class AveragingModels(BaseEstimator, RegressorMixin, TransformerMixin):\n",
    "    \n",
    "    def __init__(self, models):\n",
    "        self.models = models\n",
    "        \n",
    "    def fit(self, X, y):\n",
    "        self.clone_models = [clone(x) for x in self.models]\n",
    "        for model in self.clone_models:\n",
    "            model.fit(X, y)\n",
    "        return self\n",
    "    \n",
    "    def predict(self, X):\n",
    "        predictions = np.column_stack([model.predict(X) for model in self.clone_models])\n",
    "        return np.mean(predictions, axis=1)"
   ]
  },
  {
   "cell_type": "markdown",
   "metadata": {
    "id": "00919427F56B40588C4EE3B9F34FE6AD",
    "jupyter": {},
    "mdEditEnable": false,
    "slideshow": {
     "slide_type": "slide"
    },
    "tags": []
   },
   "source": [
    "### 模型平均分数"
   ]
  },
  {
   "cell_type": "code",
   "execution_count": 50,
   "metadata": {
    "id": "265BB8B7DCCB4C0889DF7D852F14D4D7",
    "jupyter": {},
    "scrolled": false,
    "slideshow": {
     "slide_type": "slide"
    },
    "tags": []
   },
   "outputs": [
    {
     "name": "stdout",
     "output_type": "stream",
     "text": [
      "[Parallel(n_jobs=1)]: Using backend SequentialBackend with 1 concurrent workers.\n",
      "[CV]  ................................................................\n"
     ]
    }
   ],
   "source": [
    "averaged_models = AveragingModels(models = [ENet, GBoost, KRR, lasso])\n",
    "score = nmse_cv(averaged_models)\n",
    "print('Averaged base models score: {:.4f} ({:.4f}) \\n'.format(score.mean(), score.std()))"
   ]
  },
  {
   "cell_type": "code",
   "execution_count": 51,
   "metadata": {
    "id": "51AD3FB663474B50962A0DB542DECD3B",
    "jupyter": {},
    "scrolled": false,
    "slideshow": {
     "slide_type": "slide"
    },
    "tags": []
   },
   "outputs": [
    {
     "name": "stdout",
     "output_type": "stream",
     "text": [
      "Averaged base models score: 0.0918 (0.0149) \n",
      "\n"
     ]
    }
   ],
   "source": [
    "averaged_models = AveragingModels(models = [lasso, ENet, KRR, GBoost, model_xgb, model_lgb])\n",
    "score = nmse_cv(averaged_models)\n",
    "print('Averaged base models score: {:.4f} ({:.4f}) \\n'.format(score.mean(), score.std()))"
   ]
  },
  {
   "cell_type": "markdown",
   "metadata": {
    "id": "4F37C899CA8F4B488EB32EDBB7F10371",
    "jupyter": {},
    "mdEditEnable": false,
    "slideshow": {
     "slide_type": "slide"
    },
    "tags": []
   },
   "source": [
    "## 方法二：模型叠加"
   ]
  },
  {
   "cell_type": "markdown",
   "metadata": {
    "id": "625CEFAE2C9F419894EAA475F370DF10",
    "jupyter": {},
    "mdEditEnable": false,
    "slideshow": {
     "slide_type": "slide"
    },
    "tags": []
   },
   "source": [
    "### 模型叠加类"
   ]
  },
  {
   "cell_type": "code",
   "execution_count": 50,
   "metadata": {
    "id": "2F1F401F19EB46D0BAD4E3916B41616E",
    "jupyter": {},
    "scrolled": false,
    "slideshow": {
     "slide_type": "slide"
    },
    "tags": []
   },
   "outputs": [],
   "source": [
    "class StackingAveragedModels(BaseEstimator, RegressorMixin, TransformerMixin):\n",
    "    \n",
    "    def __init__(self, base_models, meta_model, n_folds=5):\n",
    "        self.base_models = base_models\n",
    "        self.meta_model = meta_model\n",
    "        self.n_folds = n_folds\n",
    "        \n",
    "    # 将原来的模型clone出来，并且实现fit功能    \n",
    "    def fit(self, X, y):\n",
    "        self.clone_base_models = [list() for x in self.base_models]\n",
    "        self.clone_meta_model = clone(self.meta_model)\n",
    "        kfold = KFold(n_splits=self.n_folds, shuffle=True, random_state=156)\n",
    "        out_of_fold_predictions = np.zeros((X.shape[0], len(self.base_models)))\n",
    "        \n",
    "        # 使用K-fold的方法来进行交叉验证，将每次验证的结果作为新的特征来进行处理\n",
    "        for i, model in enumerate(self.base_models):\n",
    "            for train_index, test_index in kfold.split(X, y):\n",
    "                instance = clone(model)\n",
    "                self.clone_base_models[i].append(instance)\n",
    "                instance.fit(X[train_index], y[train_index])\n",
    "                y_pred = instance.predict(X[test_index])\n",
    "                out_of_fold_predictions[test_index, i] = y_pred\n",
    "                \n",
    "        # 将交叉验证预测出的结果(标签)和训练集中的标签值用元模型进行训练\n",
    "        self.clone_meta_model.fit(out_of_fold_predictions, y)\n",
    "        return self\n",
    "        \n",
    "    def predict(self, X):\n",
    "        # 得到各模型预测结果平均值的二维数组\n",
    "        meta_features = np.column_stack([\n",
    "            np.column_stack([model.predict(X) for model in base_models]).mean(axis=1)\n",
    "            for base_models in self.clone_base_models\n",
    "        ])\n",
    "        return self.clone_meta_model.predict(meta_features)"
   ]
  },
  {
   "cell_type": "code",
   "execution_count": 51,
   "metadata": {
    "id": "C4CCAFFE49B94CBC829C683A3FC50220",
    "jupyter": {},
    "scrolled": false,
    "slideshow": {
     "slide_type": "slide"
    },
    "tags": []
   },
   "outputs": [
    {
     "data": {
      "text/plain": [
       "array([[1, 4],\n",
       "       [2, 5],\n",
       "       [3, 6]])"
      ]
     },
     "execution_count": 51,
     "metadata": {},
     "output_type": "execute_result"
    }
   ],
   "source": [
    "# 额外补充：举例理解column_stack\n",
    "\n",
    "# a,b代表各个模型预测结果\n",
    "a = np.array([1,2,3])\n",
    "b = np.array([4,5,6])\n",
    "# 将列排成二维数组，即将各个模型对每一个样本的预测结果分别组成一个数组，3行2列\n",
    "np.column_stack((a,b))"
   ]
  },
  {
   "cell_type": "code",
   "execution_count": 52,
   "metadata": {
    "id": "74C99F6D6D2F4F248BD3B7296F3B17A4",
    "jupyter": {},
    "scrolled": false,
    "slideshow": {
     "slide_type": "slide"
    },
    "tags": []
   },
   "outputs": [
    {
     "data": {
      "text/plain": [
       "array([2.5, 3.5, 4.5])"
      ]
     },
     "execution_count": 52,
     "metadata": {},
     "output_type": "execute_result"
    }
   ],
   "source": [
    "# 按列取平均值，即各样本预测结果的平均值，得到一维数组\n",
    "np.column_stack([a,b]).mean(axis=1)"
   ]
  },
  {
   "cell_type": "code",
   "execution_count": 53,
   "metadata": {
    "id": "1D2A1187467349B78DF849ED58420179",
    "jupyter": {},
    "scrolled": false,
    "slideshow": {
     "slide_type": "slide"
    },
    "tags": []
   },
   "outputs": [
    {
     "data": {
      "text/plain": [
       "array([[2.5],\n",
       "       [3.5],\n",
       "       [4.5]])"
      ]
     },
     "execution_count": 53,
     "metadata": {},
     "output_type": "execute_result"
    }
   ],
   "source": [
    "# 将一维数组转化为二维数组，3行1列\n",
    "np.column_stack([np.column_stack([a,b]).mean(axis=1)])"
   ]
  },
  {
   "cell_type": "markdown",
   "metadata": {
    "id": "FF086F83CF25479DB2E794D071C0AF4F",
    "jupyter": {},
    "mdEditEnable": false,
    "slideshow": {
     "slide_type": "slide"
    },
    "tags": []
   },
   "source": [
    "### 模型叠加分数"
   ]
  },
  {
   "cell_type": "code",
   "execution_count": 54,
   "metadata": {
    "id": "18D8E168B6F54A618CACF70589284FF3",
    "jupyter": {},
    "scrolled": false,
    "slideshow": {
     "slide_type": "slide"
    },
    "tags": []
   },
   "outputs": [],
   "source": [
    "stacked_averaged_models = StackingAveragedModels(base_models=(ENet, GBoost, KRR), meta_model=lasso)\n",
    "score = nmse_cv(stacked_averaged_models)\n",
    "print('Stacking Averaged models score: {:.4f} ({:.4f})'.format(score.mean(), score.std()))\n",
    "# 结果模型叠加分数比模型平均分数更低，模型效果更好"
   ]
  },
  {
   "cell_type": "markdown",
   "metadata": {
    "id": "C56EC456D98747E79B2633796EF2D04D",
    "jupyter": {},
    "mdEditEnable": false,
    "slideshow": {
     "slide_type": "slide"
    },
    "tags": []
   },
   "source": [
    "# 模型训练与预测"
   ]
  },
  {
   "cell_type": "markdown",
   "metadata": {
    "id": "84134EABC1DF43F88E426911C3508AC5",
    "jupyter": {},
    "mdEditEnable": false,
    "slideshow": {
     "slide_type": "slide"
    },
    "tags": []
   },
   "source": [
    "## 定义评估函数"
   ]
  },
  {
   "cell_type": "code",
   "execution_count": 58,
   "metadata": {
    "id": "507018A538F0449F8C7E656998F6B0DB",
    "jupyter": {},
    "scrolled": false,
    "slideshow": {
     "slide_type": "slide"
    },
    "tags": []
   },
   "outputs": [],
   "source": [
    "# 均方差：MSE的值越小，预测模型具有更好的精确度\n",
    "def mse(y, y_pred):\n",
    "    return np.sqrt(mean_squared_error(y, y_pred))"
   ]
  },
  {
   "cell_type": "markdown",
   "metadata": {
    "id": "87A05A2AF9C34D77B341A004BA5B25C3",
    "jupyter": {},
    "mdEditEnable": false,
    "slideshow": {
     "slide_type": "slide"
    },
    "tags": []
   },
   "source": [
    "## 模型训练、预测、评估"
   ]
  },
  {
   "cell_type": "code",
   "execution_count": 59,
   "metadata": {
    "id": "F955363DFF0349EB86F15899BEF3B292",
    "jupyter": {},
    "scrolled": false,
    "slideshow": {
     "slide_type": "slide"
    },
    "tags": []
   },
   "outputs": [],
   "source": [
    "stacked_averaged_models.fit(train.values, y_train)\n",
    "stacked_train_pred = stacked_averaged_models.predict(train.values)\n",
    "# 前面用log1p函数转化使标签更加服从高斯分布，现用expm1将预测出的平滑数据进行还原\n",
    "stacked_pred = np.expm1(stacked_averaged_models.predict(test.values))\n",
    "print(mse(y_train, stacked_train_pred))"
   ]
  },
  {
   "cell_type": "code",
   "execution_count": 60,
   "metadata": {
    "id": "525C30818C074ED8B3E17262D9CA31B1",
    "jupyter": {},
    "scrolled": false,
    "slideshow": {
     "slide_type": "slide"
    },
    "tags": []
   },
   "outputs": [],
   "source": [
    "model_xgb.fit(train, y_train)\n",
    "xgb_train_pred = model_xgb.predict(train)\n",
    "xgb_pred = np.expm1(model_xgb.predict(test))\n",
    "print(mse(y_train, xgb_train_pred))"
   ]
  },
  {
   "cell_type": "code",
   "execution_count": 61,
   "metadata": {
    "id": "43D7854F0B9D4B7885ED9349D011EDC3",
    "jupyter": {},
    "scrolled": false,
    "slideshow": {
     "slide_type": "slide"
    },
    "tags": []
   },
   "outputs": [],
   "source": [
    "model_lgb.fit(train, y_train)\n",
    "lgb_train_pred = model_lgb.predict(train)\n",
    "lgb_pred = np.expm1(model_lgb.predict(test))\n",
    "print(mse(y_train, lgb_train_pred))"
   ]
  },
  {
   "cell_type": "code",
   "execution_count": 62,
   "metadata": {
    "id": "5C6B5DF1049243D1B536355FDFFE6DB6",
    "jupyter": {},
    "scrolled": false,
    "slideshow": {
     "slide_type": "slide"
    },
    "tags": []
   },
   "outputs": [],
   "source": [
    "# 基于交叉验证分数给出权重\n",
    "# Xgboost score:0.1161 (0.0079) \n",
    "# LGBM score:0.1167 (0.0072) \n",
    "# Stacking Averaged models score: 0.1084 (0.0073)\n",
    "print('MSE score on train data:')\n",
    "print(mse(y_train, stacked_train_pred*0.70 + xgb_train_pred*0.15 + lgb_train_pred*0.15))"
   ]
  },
  {
   "cell_type": "markdown",
   "metadata": {
    "id": "94B635B857FF469C9EAAB40A71556A0D",
    "jupyter": {},
    "mdEditEnable": false,
    "slideshow": {
     "slide_type": "slide"
    },
    "tags": []
   },
   "source": [
    "## 集成预测"
   ]
  },
  {
   "cell_type": "code",
   "execution_count": 63,
   "metadata": {
    "id": "EA0D006A0795403AB8E3A01F8CDDFBCF",
    "jupyter": {},
    "scrolled": false,
    "slideshow": {
     "slide_type": "slide"
    },
    "tags": []
   },
   "outputs": [],
   "source": [
    "ensemble = stacked_pred*0.70 + xgb_pred*0.15 + lgb_pred*0.15\n",
    "ensemble"
   ]
  },
  {
   "cell_type": "markdown",
   "metadata": {
    "id": "7D13209207004ADB9F281B51F0E927B4",
    "jupyter": {},
    "mdEditEnable": false,
    "slideshow": {
     "slide_type": "slide"
    },
    "tags": []
   },
   "source": [
    "## 生成结果文件"
   ]
  },
  {
   "cell_type": "code",
   "execution_count": 64,
   "metadata": {
    "id": "340C3EE343C44A8C8FCA92C7137836EB",
    "jupyter": {},
    "scrolled": false,
    "slideshow": {
     "slide_type": "slide"
    },
    "tags": []
   },
   "outputs": [],
   "source": [
    "sub = pd.DataFrame()\n",
    "sub['数据ID'] = test_Id\n",
    "sub['价格'] = ensemble\n",
    "sub.to_csv('submit.csv', index=False)"
   ]
  },
  {
   "cell_type": "code",
   "execution_count": null,
   "metadata": {
    "id": "95C6B360AD69482A997A9AFD9796AE7B",
    "jupyter": {},
    "notebookId": "6067fefa5fa89c001738da71",
    "scrolled": false,
    "slideshow": {
     "slide_type": "slide"
    },
    "tags": []
   },
   "outputs": [],
   "source": []
  },
  {
   "cell_type": "code",
   "execution_count": null,
   "metadata": {
    "id": "E9D409E83EF64185A0BA121B5595747D",
    "jupyter": {},
    "notebookId": "6067fefa5fa89c001738da71",
    "scrolled": false,
    "slideshow": {
     "slide_type": "slide"
    },
    "tags": []
   },
   "outputs": [],
   "source": []
  },
  {
   "cell_type": "code",
   "execution_count": null,
   "metadata": {
    "id": "3E2CBBDE0C0D47B3B0E74B72CA4E7DA8",
    "jupyter": {},
    "notebookId": "6067fefa5fa89c001738da71",
    "scrolled": false,
    "slideshow": {
     "slide_type": "slide"
    },
    "tags": []
   },
   "outputs": [],
   "source": []
  },
  {
   "cell_type": "code",
   "execution_count": null,
   "metadata": {
    "id": "0C478DF8D10349EB9EE2C9792E97D884",
    "jupyter": {},
    "notebookId": "6067fefa5fa89c001738da71",
    "scrolled": false,
    "slideshow": {
     "slide_type": "slide"
    },
    "tags": []
   },
   "outputs": [],
   "source": []
  },
  {
   "cell_type": "code",
   "execution_count": null,
   "metadata": {
    "id": "701BC23A1A2D492CBE369ED8B8974624",
    "jupyter": {},
    "notebookId": "6067fefa5fa89c001738da71",
    "scrolled": false,
    "slideshow": {
     "slide_type": "slide"
    },
    "tags": []
   },
   "outputs": [],
   "source": []
  },
  {
   "cell_type": "code",
   "execution_count": null,
   "metadata": {
    "id": "1C8FDCE6FBA644B682696E4D113CA4FB",
    "jupyter": {},
    "notebookId": "6067fefa5fa89c001738da71",
    "scrolled": false,
    "slideshow": {
     "slide_type": "slide"
    },
    "tags": []
   },
   "outputs": [],
   "source": []
  },
  {
   "cell_type": "code",
   "execution_count": null,
   "metadata": {
    "id": "479D7DC4D2FD4B2398AC507152AE4FE2",
    "jupyter": {},
    "notebookId": "6067fefa5fa89c001738da71",
    "scrolled": false,
    "slideshow": {
     "slide_type": "slide"
    },
    "tags": []
   },
   "outputs": [],
   "source": []
  },
  {
   "cell_type": "code",
   "execution_count": null,
   "metadata": {
    "id": "7BB96AF339D246E5B2EDF8FF26F62AAC",
    "jupyter": {},
    "notebookId": "6067fefa5fa89c001738da71",
    "slideshow": {
     "slide_type": "slide"
    },
    "tags": []
   },
   "outputs": [],
   "source": []
  }
 ],
 "metadata": {
  "kernelspec": {
   "display_name": "Python 3",
   "language": "python",
   "name": "python3"
  },
  "language_info": {
   "codemirror_mode": {
    "name": "ipython",
    "version": 3
   },
   "file_extension": ".py",
   "mimetype": "text/x-python",
   "name": "python",
   "nbconvert_exporter": "python",
   "pygments_lexer": "ipython3",
   "version": "3.8.5"
  }
 },
 "nbformat": 4,
 "nbformat_minor": 1
}
