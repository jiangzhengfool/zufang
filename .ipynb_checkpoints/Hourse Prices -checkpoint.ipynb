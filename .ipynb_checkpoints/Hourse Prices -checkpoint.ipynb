{
 "cells": [
  {
   "cell_type": "markdown",
   "metadata": {
    "id": "7CF07215549B40428C1502369822CF62",
    "jupyter": {},
    "mdEditEnable": false,
    "slideshow": {
     "slide_type": "slide"
    },
    "tags": []
   },
   "source": [
    "# 数据导入与预处理"
   ]
  },
  {
   "cell_type": "markdown",
   "metadata": {
    "id": "73DAF943C0744AE790D58BA2E9B601D0",
    "jupyter": {},
    "mdEditEnable": false,
    "slideshow": {
     "slide_type": "slide"
    },
    "tags": []
   },
   "source": [
    "## 模块导入"
   ]
  },
  {
   "cell_type": "code",
   "execution_count": 2,
   "metadata": {
    "cell_type": "code",
    "id": "1F1C49CB0AF64F9C9818F92AAA8E9A17",
    "jupyter": {},
    "scrolled": false,
    "slideshow": {
     "slide_type": "slide"
    },
    "tags": []
   },
   "outputs": [],
   "source": [
    "import numpy as np\n",
    "import pandas as pd\n",
    "%matplotlib inline\n",
    "import matplotlib.pyplot as plt\n",
    "import seaborn as sns\n",
    "import warnings\n",
    "from scipy import stats\n",
    "from scipy.stats import norm, skew\n",
    "from scipy.special import boxcox1p\n",
    "\n",
    "from sklearn.preprocessing import LabelEncoder\n",
    "from sklearn.linear_model import ElasticNet, Lasso, BayesianRidge, LassoLarsIC\n",
    "from sklearn.ensemble import RandomForestRegressor, GradientBoostingRegressor\n",
    "from sklearn.kernel_ridge import KernelRidge\n",
    "from sklearn.pipeline import make_pipeline\n",
    "from sklearn.preprocessing import RobustScaler\n",
    "from sklearn.base import BaseEstimator, TransformerMixin, RegressorMixin, clone\n",
    "from sklearn.model_selection import KFold, cross_val_score, train_test_split\n",
    "from sklearn.metrics import mean_squared_error\n",
    "import xgboost as xgb\n",
    "import lightgbm as lgb\n",
    "\n",
    "pd.set_option('max_columns', None)\n",
    "pd.set_option('max_rows', None)\n",
    "pd.set_option('max_colwidth', 200)"
   ]
  },
  {
   "cell_type": "markdown",
   "metadata": {
    "id": "4053E2B83B4641BE89E6E1DB3CF2C952",
    "jupyter": {},
    "mdEditEnable": false,
    "slideshow": {
     "slide_type": "slide"
    },
    "tags": []
   },
   "source": [
    "## 数据导入"
   ]
  },
  {
   "cell_type": "code",
   "execution_count": 3,
   "metadata": {
    "id": "9FF0857E65A241259A9DBD7E3AFED260",
    "jupyter": {},
    "scrolled": false,
    "slideshow": {
     "slide_type": "slide"
    },
    "tags": []
   },
   "outputs": [],
   "source": [
    "train = pd.read_csv('train.csv')[:100]\n",
    "test = pd.read_csv('test.csv')[:100]"
   ]
  },
  {
   "cell_type": "code",
   "execution_count": 4,
   "metadata": {
    "id": "A410EC20566545AFBC55CA232DC897DA",
    "jupyter": {},
    "scrolled": false,
    "slideshow": {
     "slide_type": "slide"
    },
    "tags": []
   },
   "outputs": [
    {
     "data": {
      "text/html": [
       "<div>\n",
       "<style scoped>\n",
       "    .dataframe tbody tr th:only-of-type {\n",
       "        vertical-align: middle;\n",
       "    }\n",
       "\n",
       "    .dataframe tbody tr th {\n",
       "        vertical-align: top;\n",
       "    }\n",
       "\n",
       "    .dataframe thead th {\n",
       "        text-align: right;\n",
       "    }\n",
       "</style>\n",
       "<table border=\"1\" class=\"dataframe\">\n",
       "  <thead>\n",
       "    <tr style=\"text-align: right;\">\n",
       "      <th></th>\n",
       "      <th>数据ID</th>\n",
       "      <th>容纳人数</th>\n",
       "      <th>便利设施</th>\n",
       "      <th>洗手间数量</th>\n",
       "      <th>床的数量</th>\n",
       "      <th>床的类型</th>\n",
       "      <th>卧室数量</th>\n",
       "      <th>取消条款</th>\n",
       "      <th>所在城市</th>\n",
       "      <th>清洁费</th>\n",
       "      <th>首次评论日期</th>\n",
       "      <th>房主是否有个人资料图片</th>\n",
       "      <th>房主身份是否验证</th>\n",
       "      <th>房主回复率</th>\n",
       "      <th>何时成为房主</th>\n",
       "      <th>是否支持随即预订</th>\n",
       "      <th>最近评论日期</th>\n",
       "      <th>维度</th>\n",
       "      <th>经度</th>\n",
       "      <th>民宿周边</th>\n",
       "      <th>评论个数</th>\n",
       "      <th>房产类型</th>\n",
       "      <th>民宿评分</th>\n",
       "      <th>房型</th>\n",
       "      <th>邮编</th>\n",
       "      <th>价格</th>\n",
       "    </tr>\n",
       "  </thead>\n",
       "  <tbody>\n",
       "    <tr>\n",
       "      <th>0</th>\n",
       "      <td>train_0</td>\n",
       "      <td>4</td>\n",
       "      <td>{TV,\"Cable TV\",Internet,\"Wireless Internet\",\"Air conditioning\",Kitchen,\"Pets live on this property\",Dog(s),\"Hot tub\",Heating,Washer,Dryer,\"Smoke detector\",\"Fire extinguisher\",Essentials,\"translati...</td>\n",
       "      <td>1.5</td>\n",
       "      <td>3.0</td>\n",
       "      <td>4</td>\n",
       "      <td>2.0</td>\n",
       "      <td>0</td>\n",
       "      <td>3</td>\n",
       "      <td>0</td>\n",
       "      <td>2015-05-07</td>\n",
       "      <td>t</td>\n",
       "      <td>t</td>\n",
       "      <td>NaN</td>\n",
       "      <td>2015-02-25</td>\n",
       "      <td>0</td>\n",
       "      <td>2016-06-26</td>\n",
       "      <td>34.109039</td>\n",
       "      <td>-118.273390</td>\n",
       "      <td>Los Feliz</td>\n",
       "      <td>12</td>\n",
       "      <td>17</td>\n",
       "      <td>97.0</td>\n",
       "      <td>0</td>\n",
       "      <td>90027</td>\n",
       "      <td>64.918531</td>\n",
       "    </tr>\n",
       "    <tr>\n",
       "      <th>1</th>\n",
       "      <td>train_1</td>\n",
       "      <td>2</td>\n",
       "      <td>{TV,\"Wireless Internet\",Kitchen,\"Free parking on premises\",\"Pets allowed\",Heating,\"Family/kid friendly\",Washer,Dryer,\"Smoke detector\",\"Carbon monoxide detector\",\"First aid kit\",\"Fire extinguisher\"...</td>\n",
       "      <td>1.0</td>\n",
       "      <td>1.0</td>\n",
       "      <td>4</td>\n",
       "      <td>1.0</td>\n",
       "      <td>2</td>\n",
       "      <td>4</td>\n",
       "      <td>1</td>\n",
       "      <td>2016-07-02</td>\n",
       "      <td>t</td>\n",
       "      <td>t</td>\n",
       "      <td>NaN</td>\n",
       "      <td>2009-10-27</td>\n",
       "      <td>1</td>\n",
       "      <td>2016-07-31</td>\n",
       "      <td>40.812897</td>\n",
       "      <td>-73.919163</td>\n",
       "      <td>Mott Haven</td>\n",
       "      <td>6</td>\n",
       "      <td>0</td>\n",
       "      <td>87.0</td>\n",
       "      <td>0</td>\n",
       "      <td>10454</td>\n",
       "      <td>54.918531</td>\n",
       "    </tr>\n",
       "    <tr>\n",
       "      <th>2</th>\n",
       "      <td>train_2</td>\n",
       "      <td>4</td>\n",
       "      <td>{TV,\"Air conditioning\",Kitchen,Heating,\"Smoke detector\",\"Carbon monoxide detector\",\"First aid kit\",\"Safety card\",Essentials,Shampoo,\"Hair dryer\"}</td>\n",
       "      <td>1.0</td>\n",
       "      <td>2.0</td>\n",
       "      <td>4</td>\n",
       "      <td>0.0</td>\n",
       "      <td>2</td>\n",
       "      <td>4</td>\n",
       "      <td>1</td>\n",
       "      <td>2017-07-01</td>\n",
       "      <td>t</td>\n",
       "      <td>f</td>\n",
       "      <td>100%</td>\n",
       "      <td>2017-06-29</td>\n",
       "      <td>1</td>\n",
       "      <td>2017-07-31</td>\n",
       "      <td>40.737643</td>\n",
       "      <td>-73.953309</td>\n",
       "      <td>Greenpoint</td>\n",
       "      <td>4</td>\n",
       "      <td>0</td>\n",
       "      <td>80.0</td>\n",
       "      <td>0</td>\n",
       "      <td>11222</td>\n",
       "      <td>73.219281</td>\n",
       "    </tr>\n",
       "    <tr>\n",
       "      <th>3</th>\n",
       "      <td>train_3</td>\n",
       "      <td>2</td>\n",
       "      <td>{}</td>\n",
       "      <td>1.0</td>\n",
       "      <td>1.0</td>\n",
       "      <td>4</td>\n",
       "      <td>1.0</td>\n",
       "      <td>0</td>\n",
       "      <td>5</td>\n",
       "      <td>1</td>\n",
       "      <td>NaN</td>\n",
       "      <td>t</td>\n",
       "      <td>t</td>\n",
       "      <td>NaN</td>\n",
       "      <td>2013-03-19</td>\n",
       "      <td>0</td>\n",
       "      <td>NaN</td>\n",
       "      <td>37.759935</td>\n",
       "      <td>-122.420558</td>\n",
       "      <td>Mission District</td>\n",
       "      <td>0</td>\n",
       "      <td>0</td>\n",
       "      <td>NaN</td>\n",
       "      <td>1</td>\n",
       "      <td>94110</td>\n",
       "      <td>64.093909</td>\n",
       "    </tr>\n",
       "    <tr>\n",
       "      <th>4</th>\n",
       "      <td>train_4</td>\n",
       "      <td>3</td>\n",
       "      <td>{Internet,\"Wireless Internet\",\"Air conditioning\",Kitchen,\"Free parking on premises\",\"Pets live on this property\",Cat(s),\"Buzzer/wireless intercom\",Heating,Essentials,Shampoo,\"translation missing: ...</td>\n",
       "      <td>1.0</td>\n",
       "      <td>1.0</td>\n",
       "      <td>4</td>\n",
       "      <td>1.0</td>\n",
       "      <td>1</td>\n",
       "      <td>4</td>\n",
       "      <td>1</td>\n",
       "      <td>2014-04-30</td>\n",
       "      <td>t</td>\n",
       "      <td>t</td>\n",
       "      <td>100%</td>\n",
       "      <td>2011-07-30</td>\n",
       "      <td>0</td>\n",
       "      <td>2016-05-22</td>\n",
       "      <td>40.683363</td>\n",
       "      <td>-73.949490</td>\n",
       "      <td>Bedford-Stuyvesant</td>\n",
       "      <td>16</td>\n",
       "      <td>0</td>\n",
       "      <td>99.0</td>\n",
       "      <td>0</td>\n",
       "      <td>11216</td>\n",
       "      <td>68.454901</td>\n",
       "    </tr>\n",
       "  </tbody>\n",
       "</table>\n",
       "</div>"
      ],
      "text/plain": [
       "      数据ID  容纳人数  \\\n",
       "0  train_0     4   \n",
       "1  train_1     2   \n",
       "2  train_2     4   \n",
       "3  train_3     2   \n",
       "4  train_4     3   \n",
       "\n",
       "                                                                                                                                                                                                      便利设施  \\\n",
       "0  {TV,\"Cable TV\",Internet,\"Wireless Internet\",\"Air conditioning\",Kitchen,\"Pets live on this property\",Dog(s),\"Hot tub\",Heating,Washer,Dryer,\"Smoke detector\",\"Fire extinguisher\",Essentials,\"translati...   \n",
       "1  {TV,\"Wireless Internet\",Kitchen,\"Free parking on premises\",\"Pets allowed\",Heating,\"Family/kid friendly\",Washer,Dryer,\"Smoke detector\",\"Carbon monoxide detector\",\"First aid kit\",\"Fire extinguisher\"...   \n",
       "2                                                        {TV,\"Air conditioning\",Kitchen,Heating,\"Smoke detector\",\"Carbon monoxide detector\",\"First aid kit\",\"Safety card\",Essentials,Shampoo,\"Hair dryer\"}   \n",
       "3                                                                                                                                                                                                       {}   \n",
       "4  {Internet,\"Wireless Internet\",\"Air conditioning\",Kitchen,\"Free parking on premises\",\"Pets live on this property\",Cat(s),\"Buzzer/wireless intercom\",Heating,Essentials,Shampoo,\"translation missing: ...   \n",
       "\n",
       "   洗手间数量  床的数量  床的类型  卧室数量  取消条款  所在城市  清洁费      首次评论日期 房主是否有个人资料图片 房主身份是否验证  \\\n",
       "0    1.5   3.0     4   2.0     0     3    0  2015-05-07           t        t   \n",
       "1    1.0   1.0     4   1.0     2     4    1  2016-07-02           t        t   \n",
       "2    1.0   2.0     4   0.0     2     4    1  2017-07-01           t        f   \n",
       "3    1.0   1.0     4   1.0     0     5    1         NaN           t        t   \n",
       "4    1.0   1.0     4   1.0     1     4    1  2014-04-30           t        t   \n",
       "\n",
       "  房主回复率      何时成为房主  是否支持随即预订      最近评论日期         维度          经度  \\\n",
       "0   NaN  2015-02-25         0  2016-06-26  34.109039 -118.273390   \n",
       "1   NaN  2009-10-27         1  2016-07-31  40.812897  -73.919163   \n",
       "2  100%  2017-06-29         1  2017-07-31  40.737643  -73.953309   \n",
       "3   NaN  2013-03-19         0         NaN  37.759935 -122.420558   \n",
       "4  100%  2011-07-30         0  2016-05-22  40.683363  -73.949490   \n",
       "\n",
       "                 民宿周边  评论个数  房产类型  民宿评分  房型     邮编         价格  \n",
       "0           Los Feliz    12    17  97.0   0  90027  64.918531  \n",
       "1          Mott Haven     6     0  87.0   0  10454  54.918531  \n",
       "2          Greenpoint     4     0  80.0   0  11222  73.219281  \n",
       "3    Mission District     0     0   NaN   1  94110  64.093909  \n",
       "4  Bedford-Stuyvesant    16     0  99.0   0  11216  68.454901  "
      ]
     },
     "execution_count": 4,
     "metadata": {},
     "output_type": "execute_result"
    }
   ],
   "source": [
    "train.head(5)"
   ]
  },
  {
   "cell_type": "code",
   "execution_count": 5,
   "metadata": {
    "id": "266BDE1C8A4041B2835026DAF7BFF620",
    "jupyter": {},
    "scrolled": false,
    "slideshow": {
     "slide_type": "slide"
    },
    "tags": []
   },
   "outputs": [
    {
     "data": {
      "text/html": [
       "<div>\n",
       "<style scoped>\n",
       "    .dataframe tbody tr th:only-of-type {\n",
       "        vertical-align: middle;\n",
       "    }\n",
       "\n",
       "    .dataframe tbody tr th {\n",
       "        vertical-align: top;\n",
       "    }\n",
       "\n",
       "    .dataframe thead th {\n",
       "        text-align: right;\n",
       "    }\n",
       "</style>\n",
       "<table border=\"1\" class=\"dataframe\">\n",
       "  <thead>\n",
       "    <tr style=\"text-align: right;\">\n",
       "      <th></th>\n",
       "      <th>数据ID</th>\n",
       "      <th>容纳人数</th>\n",
       "      <th>便利设施</th>\n",
       "      <th>洗手间数量</th>\n",
       "      <th>床的数量</th>\n",
       "      <th>床的类型</th>\n",
       "      <th>卧室数量</th>\n",
       "      <th>取消条款</th>\n",
       "      <th>所在城市</th>\n",
       "      <th>清洁费</th>\n",
       "      <th>首次评论日期</th>\n",
       "      <th>房主是否有个人资料图片</th>\n",
       "      <th>房主身份是否验证</th>\n",
       "      <th>房主回复率</th>\n",
       "      <th>何时成为房主</th>\n",
       "      <th>是否支持随即预订</th>\n",
       "      <th>最近评论日期</th>\n",
       "      <th>维度</th>\n",
       "      <th>经度</th>\n",
       "      <th>民宿周边</th>\n",
       "      <th>评论个数</th>\n",
       "      <th>房产类型</th>\n",
       "      <th>民宿评分</th>\n",
       "      <th>房型</th>\n",
       "      <th>邮编</th>\n",
       "    </tr>\n",
       "  </thead>\n",
       "  <tbody>\n",
       "    <tr>\n",
       "      <th>0</th>\n",
       "      <td>test_0</td>\n",
       "      <td>2</td>\n",
       "      <td>{TV,Internet,\"Wireless Internet\",\"Air conditioning\",Kitchen,Gym,Breakfast,\"Indoor fireplace\",Heating,\"Family/kid friendly\",\"Suitable for events\",Washer,Dryer,\"Smoke detector\",\"Carbon monoxide dete...</td>\n",
       "      <td>1.5</td>\n",
       "      <td>1.0</td>\n",
       "      <td>4</td>\n",
       "      <td>1.0</td>\n",
       "      <td>2</td>\n",
       "      <td>1</td>\n",
       "      <td>1</td>\n",
       "      <td>2015-05-25</td>\n",
       "      <td>t</td>\n",
       "      <td>t</td>\n",
       "      <td>100%</td>\n",
       "      <td>2015-05-20</td>\n",
       "      <td>1</td>\n",
       "      <td>2017-01-01</td>\n",
       "      <td>41.849684</td>\n",
       "      <td>-87.676270</td>\n",
       "      <td>Pilsen</td>\n",
       "      <td>17</td>\n",
       "      <td>17</td>\n",
       "      <td>97.0</td>\n",
       "      <td>1</td>\n",
       "      <td>60608</td>\n",
       "    </tr>\n",
       "    <tr>\n",
       "      <th>1</th>\n",
       "      <td>test_1</td>\n",
       "      <td>2</td>\n",
       "      <td>{TV,Internet,\"Wireless Internet\",\"Air conditioning\",Kitchen,Heating,\"Family/kid friendly\",Washer,Dryer,\"Smoke detector\",\"Carbon monoxide detector\",Essentials}</td>\n",
       "      <td>2.0</td>\n",
       "      <td>1.0</td>\n",
       "      <td>4</td>\n",
       "      <td>1.0</td>\n",
       "      <td>2</td>\n",
       "      <td>3</td>\n",
       "      <td>1</td>\n",
       "      <td>2015-11-09</td>\n",
       "      <td>t</td>\n",
       "      <td>t</td>\n",
       "      <td>100%</td>\n",
       "      <td>2015-09-08</td>\n",
       "      <td>0</td>\n",
       "      <td>2015-11-15</td>\n",
       "      <td>34.068613</td>\n",
       "      <td>-118.246455</td>\n",
       "      <td>Echo Park</td>\n",
       "      <td>2</td>\n",
       "      <td>0</td>\n",
       "      <td>100.0</td>\n",
       "      <td>0</td>\n",
       "      <td>90012</td>\n",
       "    </tr>\n",
       "    <tr>\n",
       "      <th>2</th>\n",
       "      <td>test_2</td>\n",
       "      <td>5</td>\n",
       "      <td>{TV,\"Cable TV\",\"Wireless Internet\",\"Air conditioning\",Kitchen,\"Pets allowed\",Heating,\"Family/kid friendly\",\"Suitable for events\",\"Smoke detector\",\"Carbon monoxide detector\",\"First aid kit\",Essenti...</td>\n",
       "      <td>1.0</td>\n",
       "      <td>3.0</td>\n",
       "      <td>4</td>\n",
       "      <td>2.0</td>\n",
       "      <td>1</td>\n",
       "      <td>4</td>\n",
       "      <td>1</td>\n",
       "      <td>2017-05-15</td>\n",
       "      <td>t</td>\n",
       "      <td>t</td>\n",
       "      <td>100%</td>\n",
       "      <td>2017-05-06</td>\n",
       "      <td>1</td>\n",
       "      <td>2017-09-25</td>\n",
       "      <td>40.701958</td>\n",
       "      <td>-73.917352</td>\n",
       "      <td>Bushwick</td>\n",
       "      <td>25</td>\n",
       "      <td>0</td>\n",
       "      <td>88.0</td>\n",
       "      <td>0</td>\n",
       "      <td>11237</td>\n",
       "    </tr>\n",
       "    <tr>\n",
       "      <th>3</th>\n",
       "      <td>test_3</td>\n",
       "      <td>6</td>\n",
       "      <td>{\"Cable TV\",Internet,\"Wireless Internet\",\"Air conditioning\",Kitchen,Elevator,\"Buzzer/wireless intercom\",Heating,\"Family/kid friendly\"}</td>\n",
       "      <td>1.0</td>\n",
       "      <td>3.0</td>\n",
       "      <td>4</td>\n",
       "      <td>1.0</td>\n",
       "      <td>2</td>\n",
       "      <td>4</td>\n",
       "      <td>1</td>\n",
       "      <td>2012-11-12</td>\n",
       "      <td>t</td>\n",
       "      <td>t</td>\n",
       "      <td>70%</td>\n",
       "      <td>2009-02-06</td>\n",
       "      <td>0</td>\n",
       "      <td>2017-07-29</td>\n",
       "      <td>40.742959</td>\n",
       "      <td>-73.990820</td>\n",
       "      <td>Flatiron District</td>\n",
       "      <td>12</td>\n",
       "      <td>0</td>\n",
       "      <td>82.0</td>\n",
       "      <td>0</td>\n",
       "      <td>10010</td>\n",
       "    </tr>\n",
       "    <tr>\n",
       "      <th>4</th>\n",
       "      <td>test_4</td>\n",
       "      <td>2</td>\n",
       "      <td>{Internet,\"Wireless Internet\",\"Air conditioning\",\"Free parking on premises\",\"Hot tub\",Heating,\"Family/kid friendly\",\"Smoke detector\",\"Carbon monoxide detector\",\"Fire extinguisher\",Essentials,Shamp...</td>\n",
       "      <td>1.0</td>\n",
       "      <td>1.0</td>\n",
       "      <td>4</td>\n",
       "      <td>1.0</td>\n",
       "      <td>0</td>\n",
       "      <td>3</td>\n",
       "      <td>1</td>\n",
       "      <td>2017-02-17</td>\n",
       "      <td>t</td>\n",
       "      <td>t</td>\n",
       "      <td>100%</td>\n",
       "      <td>2015-10-20</td>\n",
       "      <td>0</td>\n",
       "      <td>2017-03-25</td>\n",
       "      <td>34.046473</td>\n",
       "      <td>-117.734095</td>\n",
       "      <td>NaN</td>\n",
       "      <td>2</td>\n",
       "      <td>17</td>\n",
       "      <td>100.0</td>\n",
       "      <td>1</td>\n",
       "      <td>91766</td>\n",
       "    </tr>\n",
       "  </tbody>\n",
       "</table>\n",
       "</div>"
      ],
      "text/plain": [
       "     数据ID  容纳人数  \\\n",
       "0  test_0     2   \n",
       "1  test_1     2   \n",
       "2  test_2     5   \n",
       "3  test_3     6   \n",
       "4  test_4     2   \n",
       "\n",
       "                                                                                                                                                                                                      便利设施  \\\n",
       "0  {TV,Internet,\"Wireless Internet\",\"Air conditioning\",Kitchen,Gym,Breakfast,\"Indoor fireplace\",Heating,\"Family/kid friendly\",\"Suitable for events\",Washer,Dryer,\"Smoke detector\",\"Carbon monoxide dete...   \n",
       "1                                           {TV,Internet,\"Wireless Internet\",\"Air conditioning\",Kitchen,Heating,\"Family/kid friendly\",Washer,Dryer,\"Smoke detector\",\"Carbon monoxide detector\",Essentials}   \n",
       "2  {TV,\"Cable TV\",\"Wireless Internet\",\"Air conditioning\",Kitchen,\"Pets allowed\",Heating,\"Family/kid friendly\",\"Suitable for events\",\"Smoke detector\",\"Carbon monoxide detector\",\"First aid kit\",Essenti...   \n",
       "3                                                                   {\"Cable TV\",Internet,\"Wireless Internet\",\"Air conditioning\",Kitchen,Elevator,\"Buzzer/wireless intercom\",Heating,\"Family/kid friendly\"}   \n",
       "4  {Internet,\"Wireless Internet\",\"Air conditioning\",\"Free parking on premises\",\"Hot tub\",Heating,\"Family/kid friendly\",\"Smoke detector\",\"Carbon monoxide detector\",\"Fire extinguisher\",Essentials,Shamp...   \n",
       "\n",
       "   洗手间数量  床的数量  床的类型  卧室数量  取消条款  所在城市  清洁费      首次评论日期 房主是否有个人资料图片 房主身份是否验证  \\\n",
       "0    1.5   1.0     4   1.0     2     1    1  2015-05-25           t        t   \n",
       "1    2.0   1.0     4   1.0     2     3    1  2015-11-09           t        t   \n",
       "2    1.0   3.0     4   2.0     1     4    1  2017-05-15           t        t   \n",
       "3    1.0   3.0     4   1.0     2     4    1  2012-11-12           t        t   \n",
       "4    1.0   1.0     4   1.0     0     3    1  2017-02-17           t        t   \n",
       "\n",
       "  房主回复率      何时成为房主  是否支持随即预订      最近评论日期         维度          经度  \\\n",
       "0  100%  2015-05-20         1  2017-01-01  41.849684  -87.676270   \n",
       "1  100%  2015-09-08         0  2015-11-15  34.068613 -118.246455   \n",
       "2  100%  2017-05-06         1  2017-09-25  40.701958  -73.917352   \n",
       "3   70%  2009-02-06         0  2017-07-29  40.742959  -73.990820   \n",
       "4  100%  2015-10-20         0  2017-03-25  34.046473 -117.734095   \n",
       "\n",
       "                民宿周边  评论个数  房产类型   民宿评分  房型     邮编  \n",
       "0             Pilsen    17    17   97.0   1  60608  \n",
       "1          Echo Park     2     0  100.0   0  90012  \n",
       "2           Bushwick    25     0   88.0   0  11237  \n",
       "3  Flatiron District    12     0   82.0   0  10010  \n",
       "4                NaN     2    17  100.0   1  91766  "
      ]
     },
     "execution_count": 5,
     "metadata": {},
     "output_type": "execute_result"
    }
   ],
   "source": [
    "test.head(5)"
   ]
  },
  {
   "cell_type": "markdown",
   "metadata": {
    "id": "FE75B2054E8A4C8492A65B8F75D76367",
    "jupyter": {},
    "mdEditEnable": false,
    "slideshow": {
     "slide_type": "slide"
    },
    "tags": []
   },
   "source": [
    "## Id特征处理"
   ]
  },
  {
   "cell_type": "code",
   "execution_count": 6,
   "metadata": {
    "id": "20B324B2DD5F4DEC836C09F5C422FACD",
    "jupyter": {},
    "scrolled": false,
    "slideshow": {
     "slide_type": "slide"
    },
    "tags": []
   },
   "outputs": [
    {
     "name": "stdout",
     "output_type": "stream",
     "text": [
      "(100, 26)\n",
      "(100, 25)\n"
     ]
    }
   ],
   "source": [
    "# 处理前数据形状\n",
    "print(train.shape)\n",
    "print(test.shape)"
   ]
  },
  {
   "cell_type": "code",
   "execution_count": 7,
   "metadata": {
    "id": "14BC30F7C63945188D72F9CA1C3DA1BC",
    "jupyter": {},
    "scrolled": false,
    "slideshow": {
     "slide_type": "slide"
    },
    "tags": []
   },
   "outputs": [],
   "source": [
    "train_Id = train['数据ID']\n",
    "test_Id = test['数据ID']\n",
    "train.drop('数据ID', axis=1, inplace=True)\n",
    "test.drop('数据ID', axis=1, inplace=True)"
   ]
  },
  {
   "cell_type": "code",
   "execution_count": 8,
   "metadata": {
    "id": "48F1D90DF39B498D9F18E9655524BD37",
    "jupyter": {},
    "scrolled": false,
    "slideshow": {
     "slide_type": "slide"
    },
    "tags": []
   },
   "outputs": [
    {
     "name": "stdout",
     "output_type": "stream",
     "text": [
      "(100, 25)\n",
      "(100, 24)\n"
     ]
    }
   ],
   "source": [
    "# 处理后数据形状\n",
    "print(train.shape)\n",
    "print(test.shape)"
   ]
  },
  {
   "cell_type": "markdown",
   "metadata": {
    "id": "BA9F16009CBE4977856A31AE67AC0911",
    "jupyter": {},
    "mdEditEnable": false,
    "slideshow": {
     "slide_type": "slide"
    },
    "tags": []
   },
   "source": [
    "## 异常值处理"
   ]
  },
  {
   "cell_type": "code",
   "execution_count": 9,
   "metadata": {
    "id": "65287B5F621948148A20D4AD3D468E61",
    "jupyter": {},
    "scrolled": false,
    "slideshow": {
     "slide_type": "slide"
    },
    "tags": []
   },
   "outputs": [],
   "source": [
    "# 处理前数据分布\n",
    "# fig, ax = plt.subplots()\n",
    "# ax.scatter(x=train['GrLivArea'], y=train['SalePrice'])\n",
    "# plt.xlabel('GrLivArea', fontsize=13)\n",
    "# plt.ylabel('SalePrice', fontsize=13)\n",
    "# plt.show()"
   ]
  },
  {
   "cell_type": "code",
   "execution_count": 10,
   "metadata": {
    "id": "36B4C4A077F141ADA725440D5A6604FA",
    "jupyter": {},
    "scrolled": false,
    "slideshow": {
     "slide_type": "slide"
    },
    "tags": []
   },
   "outputs": [],
   "source": [
    "# 删除右下角两个异常值\n",
    "# train = train.drop(train[(train['GrLivArea']>4000) & (train['SalePrice']<300000)].index)"
   ]
  },
  {
   "cell_type": "code",
   "execution_count": 11,
   "metadata": {
    "id": "EADD79369D0C43E9857EC42AD8A5FEC6",
    "jupyter": {},
    "scrolled": false,
    "slideshow": {
     "slide_type": "slide"
    },
    "tags": []
   },
   "outputs": [],
   "source": [
    "# 处理后数据分布\n",
    "# fig, ax = plt.subplots()\n",
    "# ax.scatter(x=train['GrLivArea'], y=train['SalePrice'])\n",
    "# plt.xlabel('GrLivArea', fontsize=13)\n",
    "# plt.ylabel('SalePrice', fontsize=13)\n",
    "# plt.show()"
   ]
  },
  {
   "cell_type": "markdown",
   "metadata": {
    "id": "F5678F3A17E240439EF55E1E200713C4",
    "jupyter": {},
    "mdEditEnable": false,
    "slideshow": {
     "slide_type": "slide"
    },
    "tags": []
   },
   "source": [
    "## SalePrice特征处理"
   ]
  },
  {
   "cell_type": "code",
   "execution_count": 12,
   "metadata": {
    "id": "E7EEE80B2C484E4182E6B417F24AAAD0",
    "jupyter": {},
    "scrolled": false,
    "slideshow": {
     "slide_type": "slide"
    },
    "tags": []
   },
   "outputs": [
    {
     "name": "stderr",
     "output_type": "stream",
     "text": [
      "D:\\anaconda\\envs\\nlp\\lib\\site-packages\\seaborn\\distributions.py:2551: FutureWarning: `distplot` is a deprecated function and will be removed in a future version. Please adapt your code to use either `displot` (a figure-level function with similar flexibility) or `histplot` (an axes-level function for histograms).\n",
      "  warnings.warn(msg, FutureWarning)\n"
     ]
    },
    {
     "name": "stdout",
     "output_type": "stream",
     "text": [
      "\n",
      " mu=68.34 and sigma=8.73 \n",
      "\n"
     ]
    },
    {
     "name": "stderr",
     "output_type": "stream",
     "text": [
      "D:\\anaconda\\envs\\nlp\\lib\\site-packages\\matplotlib\\backends\\backend_agg.py:238: RuntimeWarning: Glyph 20215 missing from current font.\n",
      "  font.set_text(s, 0.0, flags=flags)\n",
      "D:\\anaconda\\envs\\nlp\\lib\\site-packages\\matplotlib\\backends\\backend_agg.py:238: RuntimeWarning: Glyph 26684 missing from current font.\n",
      "  font.set_text(s, 0.0, flags=flags)\n",
      "D:\\anaconda\\envs\\nlp\\lib\\site-packages\\matplotlib\\backends\\backend_agg.py:201: RuntimeWarning: Glyph 20215 missing from current font.\n",
      "  font.set_text(s, 0, flags=flags)\n",
      "D:\\anaconda\\envs\\nlp\\lib\\site-packages\\matplotlib\\backends\\backend_agg.py:201: RuntimeWarning: Glyph 26684 missing from current font.\n",
      "  font.set_text(s, 0, flags=flags)\n"
     ]
    },
    {
     "data": {
      "image/png": "[encoded data removed]",
      "text/plain": [
       "<Figure size 432x288 with 1 Axes>"
      ]
     },
     "metadata": {
      "needs_background": "light"
     },
     "output_type": "display_data"
    },
    {
     "data": {
      "image/png": "[encoded data removed]",
      "text/plain": [
       "<Figure size 432x288 with 1 Axes>"
      ]
     },
     "metadata": {
      "needs_background": "light"
     },
     "output_type": "display_data"
    }
   ],
   "source": [
    "# 处理前数据分布\n",
    "sns.distplot(train['价格'], fit=norm)\n",
    "\n",
    "(mu, sigma) = norm.fit(train['价格'])\n",
    "print('\\n mu={:.2f} and sigma={:.2f} \\n'.format(mu, sigma))\n",
    "\n",
    "plt.legend(['Normal dist.($\\mu=$ {:.2f} and $\\sigma=$ {:.2f})'.format(mu, sigma)], loc='best')\n",
    "plt.ylabel('Frequency')\n",
    "plt.title('价格 distribution')\n",
    "\n",
    "fig = plt.figure()\n",
    "stats.probplot(train['价格'], plot=plt)\n",
    "plt.show()"
   ]
  },
  {
   "cell_type": "code",
   "execution_count": 13,
   "metadata": {
    "id": "223360DA7D59403987A01FAB1861DFCF",
    "jupyter": {},
    "scrolled": false,
    "slideshow": {
     "slide_type": "slide"
    },
    "tags": []
   },
   "outputs": [],
   "source": [
    "# 数据偏度大，用log1p函数转化，使其更加服从高斯分布。\n",
    "# 最后需要将预测出的平滑数据进行还原，而还原过程就是log1p的逆运算expm1\n",
    "train['价格'] = np.log1p(train['价格'])"
   ]
  },
  {
   "cell_type": "code",
   "execution_count": 14,
   "metadata": {
    "id": "37AE3D263272420DA2D6F59F4FD9BF52",
    "jupyter": {},
    "scrolled": false,
    "slideshow": {
     "slide_type": "slide"
    },
    "tags": []
   },
   "outputs": [
    {
     "name": "stderr",
     "output_type": "stream",
     "text": [
      "D:\\anaconda\\envs\\nlp\\lib\\site-packages\\seaborn\\distributions.py:2551: FutureWarning: `distplot` is a deprecated function and will be removed in a future version. Please adapt your code to use either `displot` (a figure-level function with similar flexibility) or `histplot` (an axes-level function for histograms).\n",
      "  warnings.warn(msg, FutureWarning)\n"
     ]
    },
    {
     "name": "stdout",
     "output_type": "stream",
     "text": [
      "\n",
      " mu=4.23 and sigma=0.12 \n",
      "\n"
     ]
    },
    {
     "name": "stderr",
     "output_type": "stream",
     "text": [
      "D:\\anaconda\\envs\\nlp\\lib\\site-packages\\matplotlib\\backends\\backend_agg.py:238: RuntimeWarning: Glyph 20215 missing from current font.\n",
      "  font.set_text(s, 0.0, flags=flags)\n",
      "D:\\anaconda\\envs\\nlp\\lib\\site-packages\\matplotlib\\backends\\backend_agg.py:238: RuntimeWarning: Glyph 26684 missing from current font.\n",
      "  font.set_text(s, 0.0, flags=flags)\n",
      "D:\\anaconda\\envs\\nlp\\lib\\site-packages\\matplotlib\\backends\\backend_agg.py:201: RuntimeWarning: Glyph 20215 missing from current font.\n",
      "  font.set_text(s, 0, flags=flags)\n",
      "D:\\anaconda\\envs\\nlp\\lib\\site-packages\\matplotlib\\backends\\backend_agg.py:201: RuntimeWarning: Glyph 26684 missing from current font.\n",
      "  font.set_text(s, 0, flags=flags)\n"
     ]
    },
    {
     "data": {
      "image/png": "[encoded data removed]",
      "text/plain": [
       "<Figure size 432x288 with 1 Axes>"
      ]
     },
     "metadata": {
      "needs_background": "light"
     },
     "output_type": "display_data"
    },
    {
     "data": {
      "image/png": "[encoded data removed]",
      "text/plain": [
       "<Figure size 432x288 with 1 Axes>"
      ]
     },
     "metadata": {
      "needs_background": "light"
     },
     "output_type": "display_data"
    }
   ],
   "source": [
    "# 处理后数据分布\n",
    "sns.distplot(train['价格'], fit=norm)\n",
    "\n",
    "(mu, sigma) = norm.fit(train['价格'])\n",
    "print('\\n mu={:.2f} and sigma={:.2f} \\n'.format(mu, sigma))\n",
    "\n",
    "plt.legend(['Normal dist.($\\mu=$ {:.2f} and $\\sigma=$ {:.2f})'.format(mu, sigma)], loc='best')\n",
    "plt.ylabel('Frequency')\n",
    "plt.title('价格 distribution')\n",
    "\n",
    "fig = plt.figure()\n",
    "stats.probplot(train['价格'], plot=plt)\n",
    "plt.show()"
   ]
  },
  {
   "cell_type": "markdown",
   "metadata": {
    "id": "70F65315D6984292B00AABB8C6DD1FCC",
    "jupyter": {},
    "mdEditEnable": false,
    "slideshow": {
     "slide_type": "slide"
    },
    "tags": []
   },
   "source": [
    "# 特征工程"
   ]
  },
  {
   "cell_type": "markdown",
   "metadata": {
    "id": "2641180E44964323BB6C9F7BE0BCC1E4",
    "jupyter": {},
    "mdEditEnable": false,
    "slideshow": {
     "slide_type": "slide"
    },
    "tags": []
   },
   "source": [
    "## 数据集连接"
   ]
  },
  {
   "cell_type": "code",
   "execution_count": 15,
   "metadata": {
    "id": "9D9709B1B7664703876C9F6918FBF70B",
    "jupyter": {},
    "scrolled": false,
    "slideshow": {
     "slide_type": "slide"
    },
    "tags": []
   },
   "outputs": [
    {
     "name": "stdout",
     "output_type": "stream",
     "text": [
      "all_data size is (200, 24)\n"
     ]
    }
   ],
   "source": [
    "ntrain = train.shape[0]\n",
    "ntest = test.shape[0]\n",
    "y_train = train.价格.values\n",
    "all_data = pd.concat((train, test)).reset_index(drop=True)\n",
    "all_data.drop(['价格'], axis=1, inplace=True)\n",
    "print('all_data size is {}'.format(all_data.shape))"
   ]
  },
  {
   "cell_type": "markdown",
   "metadata": {
    "id": "A2DB9DEA073449DCAD76C25D4D9928F8",
    "jupyter": {},
    "mdEditEnable": false,
    "slideshow": {
     "slide_type": "slide"
    },
    "tags": []
   },
   "source": [
    "## 缺失数据分析"
   ]
  },
  {
   "cell_type": "code",
   "execution_count": 16,
   "metadata": {
    "id": "AF41293446944FA4BF2BF80B812B3039",
    "jupyter": {},
    "scrolled": false,
    "slideshow": {
     "slide_type": "slide"
    },
    "tags": []
   },
   "outputs": [
    {
     "data": {
      "text/html": [
       "<div>\n",
       "<style scoped>\n",
       "    .dataframe tbody tr th:only-of-type {\n",
       "        vertical-align: middle;\n",
       "    }\n",
       "\n",
       "    .dataframe tbody tr th {\n",
       "        vertical-align: top;\n",
       "    }\n",
       "\n",
       "    .dataframe thead th {\n",
       "        text-align: right;\n",
       "    }\n",
       "</style>\n",
       "<table border=\"1\" class=\"dataframe\">\n",
       "  <thead>\n",
       "    <tr style=\"text-align: right;\">\n",
       "      <th></th>\n",
       "      <th>容纳人数</th>\n",
       "      <th>便利设施</th>\n",
       "      <th>洗手间数量</th>\n",
       "      <th>床的数量</th>\n",
       "      <th>床的类型</th>\n",
       "      <th>卧室数量</th>\n",
       "      <th>取消条款</th>\n",
       "      <th>所在城市</th>\n",
       "      <th>清洁费</th>\n",
       "      <th>首次评论日期</th>\n",
       "      <th>房主是否有个人资料图片</th>\n",
       "      <th>房主身份是否验证</th>\n",
       "      <th>房主回复率</th>\n",
       "      <th>何时成为房主</th>\n",
       "      <th>是否支持随即预订</th>\n",
       "      <th>最近评论日期</th>\n",
       "      <th>维度</th>\n",
       "      <th>经度</th>\n",
       "      <th>民宿周边</th>\n",
       "      <th>评论个数</th>\n",
       "      <th>房产类型</th>\n",
       "      <th>民宿评分</th>\n",
       "      <th>房型</th>\n",
       "      <th>邮编</th>\n",
       "    </tr>\n",
       "  </thead>\n",
       "  <tbody>\n",
       "    <tr>\n",
       "      <th>0</th>\n",
       "      <td>False</td>\n",
       "      <td>False</td>\n",
       "      <td>False</td>\n",
       "      <td>False</td>\n",
       "      <td>False</td>\n",
       "      <td>False</td>\n",
       "      <td>False</td>\n",
       "      <td>False</td>\n",
       "      <td>False</td>\n",
       "      <td>False</td>\n",
       "      <td>False</td>\n",
       "      <td>False</td>\n",
       "      <td>True</td>\n",
       "      <td>False</td>\n",
       "      <td>False</td>\n",
       "      <td>False</td>\n",
       "      <td>False</td>\n",
       "      <td>False</td>\n",
       "      <td>False</td>\n",
       "      <td>False</td>\n",
       "      <td>False</td>\n",
       "      <td>False</td>\n",
       "      <td>False</td>\n",
       "      <td>False</td>\n",
       "    </tr>\n",
       "    <tr>\n",
       "      <th>1</th>\n",
       "      <td>False</td>\n",
       "      <td>False</td>\n",
       "      <td>False</td>\n",
       "      <td>False</td>\n",
       "      <td>False</td>\n",
       "      <td>False</td>\n",
       "      <td>False</td>\n",
       "      <td>False</td>\n",
       "      <td>False</td>\n",
       "      <td>False</td>\n",
       "      <td>False</td>\n",
       "      <td>False</td>\n",
       "      <td>True</td>\n",
       "      <td>False</td>\n",
       "      <td>False</td>\n",
       "      <td>False</td>\n",
       "      <td>False</td>\n",
       "      <td>False</td>\n",
       "      <td>False</td>\n",
       "      <td>False</td>\n",
       "      <td>False</td>\n",
       "      <td>False</td>\n",
       "      <td>False</td>\n",
       "      <td>False</td>\n",
       "    </tr>\n",
       "    <tr>\n",
       "      <th>2</th>\n",
       "      <td>False</td>\n",
       "      <td>False</td>\n",
       "      <td>False</td>\n",
       "      <td>False</td>\n",
       "      <td>False</td>\n",
       "      <td>False</td>\n",
       "      <td>False</td>\n",
       "      <td>False</td>\n",
       "      <td>False</td>\n",
       "      <td>False</td>\n",
       "      <td>False</td>\n",
       "      <td>False</td>\n",
       "      <td>False</td>\n",
       "      <td>False</td>\n",
       "      <td>False</td>\n",
       "      <td>False</td>\n",
       "      <td>False</td>\n",
       "      <td>False</td>\n",
       "      <td>False</td>\n",
       "      <td>False</td>\n",
       "      <td>False</td>\n",
       "      <td>False</td>\n",
       "      <td>False</td>\n",
       "      <td>False</td>\n",
       "    </tr>\n",
       "    <tr>\n",
       "      <th>3</th>\n",
       "      <td>False</td>\n",
       "      <td>False</td>\n",
       "      <td>False</td>\n",
       "      <td>False</td>\n",
       "      <td>False</td>\n",
       "      <td>False</td>\n",
       "      <td>False</td>\n",
       "      <td>False</td>\n",
       "      <td>False</td>\n",
       "      <td>True</td>\n",
       "      <td>False</td>\n",
       "      <td>False</td>\n",
       "      <td>True</td>\n",
       "      <td>False</td>\n",
       "      <td>False</td>\n",
       "      <td>True</td>\n",
       "      <td>False</td>\n",
       "      <td>False</td>\n",
       "      <td>False</td>\n",
       "      <td>False</td>\n",
       "      <td>False</td>\n",
       "      <td>True</td>\n",
       "      <td>False</td>\n",
       "      <td>False</td>\n",
       "    </tr>\n",
       "    <tr>\n",
       "      <th>4</th>\n",
       "      <td>False</td>\n",
       "      <td>False</td>\n",
       "      <td>False</td>\n",
       "      <td>False</td>\n",
       "      <td>False</td>\n",
       "      <td>False</td>\n",
       "      <td>False</td>\n",
       "      <td>False</td>\n",
       "      <td>False</td>\n",
       "      <td>False</td>\n",
       "      <td>False</td>\n",
       "      <td>False</td>\n",
       "      <td>False</td>\n",
       "      <td>False</td>\n",
       "      <td>False</td>\n",
       "      <td>False</td>\n",
       "      <td>False</td>\n",
       "      <td>False</td>\n",
       "      <td>False</td>\n",
       "      <td>False</td>\n",
       "      <td>False</td>\n",
       "      <td>False</td>\n",
       "      <td>False</td>\n",
       "      <td>False</td>\n",
       "    </tr>\n",
       "  </tbody>\n",
       "</table>\n",
       "</div>"
      ],
      "text/plain": [
       "    容纳人数   便利设施  洗手间数量   床的数量   床的类型   卧室数量   取消条款   所在城市    清洁费  首次评论日期  \\\n",
       "0  False  False  False  False  False  False  False  False  False   False   \n",
       "1  False  False  False  False  False  False  False  False  False   False   \n",
       "2  False  False  False  False  False  False  False  False  False   False   \n",
       "3  False  False  False  False  False  False  False  False  False    True   \n",
       "4  False  False  False  False  False  False  False  False  False   False   \n",
       "\n",
       "   房主是否有个人资料图片  房主身份是否验证  房主回复率  何时成为房主  是否支持随即预订  最近评论日期     维度     经度  \\\n",
       "0        False     False   True   False     False   False  False  False   \n",
       "1        False     False   True   False     False   False  False  False   \n",
       "2        False     False  False   False     False   False  False  False   \n",
       "3        False     False   True   False     False    True  False  False   \n",
       "4        False     False  False   False     False   False  False  False   \n",
       "\n",
       "    民宿周边   评论个数   房产类型   民宿评分     房型     邮编  \n",
       "0  False  False  False  False  False  False  \n",
       "1  False  False  False  False  False  False  \n",
       "2  False  False  False  False  False  False  \n",
       "3  False  False  False   True  False  False  \n",
       "4  False  False  False  False  False  False  "
      ]
     },
     "execution_count": 16,
     "metadata": {},
     "output_type": "execute_result"
    }
   ],
   "source": [
    "all_data.isnull().head()"
   ]
  },
  {
   "cell_type": "code",
   "execution_count": 17,
   "metadata": {
    "id": "9156A1533B1141B69278B67AB17A7851",
    "jupyter": {},
    "scrolled": false,
    "slideshow": {
     "slide_type": "slide"
    },
    "tags": []
   },
   "outputs": [
    {
     "data": {
      "text/plain": [
       "容纳人数       0\n",
       "便利设施       0\n",
       "洗手间数量      1\n",
       "床的数量       0\n",
       "床的类型       0\n",
       "卧室数量       0\n",
       "取消条款       0\n",
       "所在城市       0\n",
       "清洁费        0\n",
       "首次评论日期    45\n",
       "dtype: int64"
      ]
     },
     "execution_count": 17,
     "metadata": {},
     "output_type": "execute_result"
    }
   ],
   "source": [
    "all_data.isnull().sum().head(10)"
   ]
  },
  {
   "cell_type": "code",
   "execution_count": 18,
   "metadata": {
    "id": "9B81ADA7CEED44B4893F0ABCE63743DE",
    "jupyter": {},
    "scrolled": false,
    "slideshow": {
     "slide_type": "slide"
    },
    "tags": []
   },
   "outputs": [
    {
     "data": {
      "text/html": [
       "<div>\n",
       "<style scoped>\n",
       "    .dataframe tbody tr th:only-of-type {\n",
       "        vertical-align: middle;\n",
       "    }\n",
       "\n",
       "    .dataframe tbody tr th {\n",
       "        vertical-align: top;\n",
       "    }\n",
       "\n",
       "    .dataframe thead th {\n",
       "        text-align: right;\n",
       "    }\n",
       "</style>\n",
       "<table border=\"1\" class=\"dataframe\">\n",
       "  <thead>\n",
       "    <tr style=\"text-align: right;\">\n",
       "      <th></th>\n",
       "      <th>Missing Ratio</th>\n",
       "    </tr>\n",
       "  </thead>\n",
       "  <tbody>\n",
       "    <tr>\n",
       "      <th>民宿评分</th>\n",
       "      <td>22.5</td>\n",
       "    </tr>\n",
       "    <tr>\n",
       "      <th>最近评论日期</th>\n",
       "      <td>22.5</td>\n",
       "    </tr>\n",
       "    <tr>\n",
       "      <th>首次评论日期</th>\n",
       "      <td>22.5</td>\n",
       "    </tr>\n",
       "    <tr>\n",
       "      <th>房主回复率</th>\n",
       "      <td>21.0</td>\n",
       "    </tr>\n",
       "    <tr>\n",
       "      <th>民宿周边</th>\n",
       "      <td>7.5</td>\n",
       "    </tr>\n",
       "    <tr>\n",
       "      <th>邮编</th>\n",
       "      <td>1.0</td>\n",
       "    </tr>\n",
       "    <tr>\n",
       "      <th>何时成为房主</th>\n",
       "      <td>0.5</td>\n",
       "    </tr>\n",
       "    <tr>\n",
       "      <th>房主身份是否验证</th>\n",
       "      <td>0.5</td>\n",
       "    </tr>\n",
       "    <tr>\n",
       "      <th>房主是否有个人资料图片</th>\n",
       "      <td>0.5</td>\n",
       "    </tr>\n",
       "    <tr>\n",
       "      <th>洗手间数量</th>\n",
       "      <td>0.5</td>\n",
       "    </tr>\n",
       "  </tbody>\n",
       "</table>\n",
       "</div>"
      ],
      "text/plain": [
       "             Missing Ratio\n",
       "民宿评分                  22.5\n",
       "最近评论日期                22.5\n",
       "首次评论日期                22.5\n",
       "房主回复率                 21.0\n",
       "民宿周边                   7.5\n",
       "邮编                     1.0\n",
       "何时成为房主                 0.5\n",
       "房主身份是否验证               0.5\n",
       "房主是否有个人资料图片            0.5\n",
       "洗手间数量                  0.5"
      ]
     },
     "execution_count": 18,
     "metadata": {},
     "output_type": "execute_result"
    }
   ],
   "source": [
    "all_data_na = (all_data.isnull().sum()/len(all_data))*100\n",
    "all_data_na = all_data_na.drop(all_data_na[all_data_na == 0].index).sort_values(ascending=False)\n",
    "missing_data = pd.DataFrame({'Missing Ratio' : all_data_na})\n",
    "missing_data.head(20)"
   ]
  },
  {
   "cell_type": "code",
   "execution_count": 19,
   "metadata": {
    "id": "EABD2820B16F43C28B28AFEF75D9A113",
    "jupyter": {},
    "scrolled": false,
    "slideshow": {
     "slide_type": "slide"
    },
    "tags": []
   },
   "outputs": [
    {
     "data": {
      "text/plain": [
       "Text(0.5, 1.0, 'Percent missing data by feature')"
      ]
     },
     "execution_count": 19,
     "metadata": {},
     "output_type": "execute_result"
    },
    {
     "name": "stderr",
     "output_type": "stream",
     "text": [
      "D:\\anaconda\\envs\\nlp\\lib\\site-packages\\matplotlib\\backends\\backend_agg.py:238: RuntimeWarning: Glyph 27665 missing from current font.\n",
      "  font.set_text(s, 0.0, flags=flags)\n",
      "D:\\anaconda\\envs\\nlp\\lib\\site-packages\\matplotlib\\backends\\backend_agg.py:238: RuntimeWarning: Glyph 23487 missing from current font.\n",
      "  font.set_text(s, 0.0, flags=flags)\n",
      "D:\\anaconda\\envs\\nlp\\lib\\site-packages\\matplotlib\\backends\\backend_agg.py:238: RuntimeWarning: Glyph 35780 missing from current font.\n",
      "  font.set_text(s, 0.0, flags=flags)\n",
      "D:\\anaconda\\envs\\nlp\\lib\\site-packages\\matplotlib\\backends\\backend_agg.py:238: RuntimeWarning: Glyph 20998 missing from current font.\n",
      "  font.set_text(s, 0.0, flags=flags)\n",
      "D:\\anaconda\\envs\\nlp\\lib\\site-packages\\matplotlib\\backends\\backend_agg.py:238: RuntimeWarning: Glyph 26368 missing from current font.\n",
      "  font.set_text(s, 0.0, flags=flags)\n",
      "D:\\anaconda\\envs\\nlp\\lib\\site-packages\\matplotlib\\backends\\backend_agg.py:238: RuntimeWarning: Glyph 36817 missing from current font.\n",
      "  font.set_text(s, 0.0, flags=flags)\n",
      "D:\\anaconda\\envs\\nlp\\lib\\site-packages\\matplotlib\\backends\\backend_agg.py:238: RuntimeWarning: Glyph 35770 missing from current font.\n",
      "  font.set_text(s, 0.0, flags=flags)\n",
      "D:\\anaconda\\envs\\nlp\\lib\\site-packages\\matplotlib\\backends\\backend_agg.py:238: RuntimeWarning: Glyph 26085 missing from current font.\n",
      "  font.set_text(s, 0.0, flags=flags)\n",
      "D:\\anaconda\\envs\\nlp\\lib\\site-packages\\matplotlib\\backends\\backend_agg.py:238: RuntimeWarning: Glyph 26399 missing from current font.\n",
      "  font.set_text(s, 0.0, flags=flags)\n",
      "D:\\anaconda\\envs\\nlp\\lib\\site-packages\\matplotlib\\backends\\backend_agg.py:238: RuntimeWarning: Glyph 39318 missing from current font.\n",
      "  font.set_text(s, 0.0, flags=flags)\n",
      "D:\\anaconda\\envs\\nlp\\lib\\site-packages\\matplotlib\\backends\\backend_agg.py:238: RuntimeWarning: Glyph 27425 missing from current font.\n",
      "  font.set_text(s, 0.0, flags=flags)\n",
      "D:\\anaconda\\envs\\nlp\\lib\\site-packages\\matplotlib\\backends\\backend_agg.py:238: RuntimeWarning: Glyph 25151 missing from current font.\n",
      "  font.set_text(s, 0.0, flags=flags)\n",
      "D:\\anaconda\\envs\\nlp\\lib\\site-packages\\matplotlib\\backends\\backend_agg.py:238: RuntimeWarning: Glyph 20027 missing from current font.\n",
      "  font.set_text(s, 0.0, flags=flags)\n",
      "D:\\anaconda\\envs\\nlp\\lib\\site-packages\\matplotlib\\backends\\backend_agg.py:238: RuntimeWarning: Glyph 22238 missing from current font.\n",
      "  font.set_text(s, 0.0, flags=flags)\n",
      "D:\\anaconda\\envs\\nlp\\lib\\site-packages\\matplotlib\\backends\\backend_agg.py:238: RuntimeWarning: Glyph 22797 missing from current font.\n",
      "  font.set_text(s, 0.0, flags=flags)\n",
      "D:\\anaconda\\envs\\nlp\\lib\\site-packages\\matplotlib\\backends\\backend_agg.py:238: RuntimeWarning: Glyph 29575 missing from current font.\n",
      "  font.set_text(s, 0.0, flags=flags)\n",
      "D:\\anaconda\\envs\\nlp\\lib\\site-packages\\matplotlib\\backends\\backend_agg.py:238: RuntimeWarning: Glyph 21608 missing from current font.\n",
      "  font.set_text(s, 0.0, flags=flags)\n",
      "D:\\anaconda\\envs\\nlp\\lib\\site-packages\\matplotlib\\backends\\backend_agg.py:238: RuntimeWarning: Glyph 36793 missing from current font.\n",
      "  font.set_text(s, 0.0, flags=flags)\n",
      "D:\\anaconda\\envs\\nlp\\lib\\site-packages\\matplotlib\\backends\\backend_agg.py:238: RuntimeWarning: Glyph 37038 missing from current font.\n",
      "  font.set_text(s, 0.0, flags=flags)\n",
      "D:\\anaconda\\envs\\nlp\\lib\\site-packages\\matplotlib\\backends\\backend_agg.py:238: RuntimeWarning: Glyph 32534 missing from current font.\n",
      "  font.set_text(s, 0.0, flags=flags)\n",
      "D:\\anaconda\\envs\\nlp\\lib\\site-packages\\matplotlib\\backends\\backend_agg.py:238: RuntimeWarning: Glyph 20309 missing from current font.\n",
      "  font.set_text(s, 0.0, flags=flags)\n",
      "D:\\anaconda\\envs\\nlp\\lib\\site-packages\\matplotlib\\backends\\backend_agg.py:238: RuntimeWarning: Glyph 26102 missing from current font.\n",
      "  font.set_text(s, 0.0, flags=flags)\n",
      "D:\\anaconda\\envs\\nlp\\lib\\site-packages\\matplotlib\\backends\\backend_agg.py:238: RuntimeWarning: Glyph 25104 missing from current font.\n",
      "  font.set_text(s, 0.0, flags=flags)\n",
      "D:\\anaconda\\envs\\nlp\\lib\\site-packages\\matplotlib\\backends\\backend_agg.py:238: RuntimeWarning: Glyph 20026 missing from current font.\n",
      "  font.set_text(s, 0.0, flags=flags)\n",
      "D:\\anaconda\\envs\\nlp\\lib\\site-packages\\matplotlib\\backends\\backend_agg.py:238: RuntimeWarning: Glyph 36523 missing from current font.\n",
      "  font.set_text(s, 0.0, flags=flags)\n",
      "D:\\anaconda\\envs\\nlp\\lib\\site-packages\\matplotlib\\backends\\backend_agg.py:238: RuntimeWarning: Glyph 20221 missing from current font.\n",
      "  font.set_text(s, 0.0, flags=flags)\n",
      "D:\\anaconda\\envs\\nlp\\lib\\site-packages\\matplotlib\\backends\\backend_agg.py:238: RuntimeWarning: Glyph 26159 missing from current font.\n",
      "  font.set_text(s, 0.0, flags=flags)\n",
      "D:\\anaconda\\envs\\nlp\\lib\\site-packages\\matplotlib\\backends\\backend_agg.py:238: RuntimeWarning: Glyph 21542 missing from current font.\n",
      "  font.set_text(s, 0.0, flags=flags)\n",
      "D:\\anaconda\\envs\\nlp\\lib\\site-packages\\matplotlib\\backends\\backend_agg.py:238: RuntimeWarning: Glyph 39564 missing from current font.\n",
      "  font.set_text(s, 0.0, flags=flags)\n",
      "D:\\anaconda\\envs\\nlp\\lib\\site-packages\\matplotlib\\backends\\backend_agg.py:238: RuntimeWarning: Glyph 35777 missing from current font.\n",
      "  font.set_text(s, 0.0, flags=flags)\n",
      "D:\\anaconda\\envs\\nlp\\lib\\site-packages\\matplotlib\\backends\\backend_agg.py:238: RuntimeWarning: Glyph 26377 missing from current font.\n",
      "  font.set_text(s, 0.0, flags=flags)\n",
      "D:\\anaconda\\envs\\nlp\\lib\\site-packages\\matplotlib\\backends\\backend_agg.py:238: RuntimeWarning: Glyph 20010 missing from current font.\n",
      "  font.set_text(s, 0.0, flags=flags)\n",
      "D:\\anaconda\\envs\\nlp\\lib\\site-packages\\matplotlib\\backends\\backend_agg.py:238: RuntimeWarning: Glyph 20154 missing from current font.\n",
      "  font.set_text(s, 0.0, flags=flags)\n",
      "D:\\anaconda\\envs\\nlp\\lib\\site-packages\\matplotlib\\backends\\backend_agg.py:238: RuntimeWarning: Glyph 36164 missing from current font.\n",
      "  font.set_text(s, 0.0, flags=flags)\n",
      "D:\\anaconda\\envs\\nlp\\lib\\site-packages\\matplotlib\\backends\\backend_agg.py:238: RuntimeWarning: Glyph 26009 missing from current font.\n",
      "  font.set_text(s, 0.0, flags=flags)\n",
      "D:\\anaconda\\envs\\nlp\\lib\\site-packages\\matplotlib\\backends\\backend_agg.py:238: RuntimeWarning: Glyph 22270 missing from current font.\n",
      "  font.set_text(s, 0.0, flags=flags)\n",
      "D:\\anaconda\\envs\\nlp\\lib\\site-packages\\matplotlib\\backends\\backend_agg.py:238: RuntimeWarning: Glyph 29255 missing from current font.\n",
      "  font.set_text(s, 0.0, flags=flags)\n",
      "D:\\anaconda\\envs\\nlp\\lib\\site-packages\\matplotlib\\backends\\backend_agg.py:238: RuntimeWarning: Glyph 27927 missing from current font.\n",
      "  font.set_text(s, 0.0, flags=flags)\n",
      "D:\\anaconda\\envs\\nlp\\lib\\site-packages\\matplotlib\\backends\\backend_agg.py:238: RuntimeWarning: Glyph 25163 missing from current font.\n",
      "  font.set_text(s, 0.0, flags=flags)\n",
      "D:\\anaconda\\envs\\nlp\\lib\\site-packages\\matplotlib\\backends\\backend_agg.py:238: RuntimeWarning: Glyph 38388 missing from current font.\n",
      "  font.set_text(s, 0.0, flags=flags)\n",
      "D:\\anaconda\\envs\\nlp\\lib\\site-packages\\matplotlib\\backends\\backend_agg.py:238: RuntimeWarning: Glyph 25968 missing from current font.\n",
      "  font.set_text(s, 0.0, flags=flags)\n",
      "D:\\anaconda\\envs\\nlp\\lib\\site-packages\\matplotlib\\backends\\backend_agg.py:238: RuntimeWarning: Glyph 37327 missing from current font.\n",
      "  font.set_text(s, 0.0, flags=flags)\n",
      "D:\\anaconda\\envs\\nlp\\lib\\site-packages\\matplotlib\\backends\\backend_agg.py:201: RuntimeWarning: Glyph 27665 missing from current font.\n",
      "  font.set_text(s, 0, flags=flags)\n",
      "D:\\anaconda\\envs\\nlp\\lib\\site-packages\\matplotlib\\backends\\backend_agg.py:201: RuntimeWarning: Glyph 23487 missing from current font.\n",
      "  font.set_text(s, 0, flags=flags)\n",
      "D:\\anaconda\\envs\\nlp\\lib\\site-packages\\matplotlib\\backends\\backend_agg.py:201: RuntimeWarning: Glyph 35780 missing from current font.\n",
      "  font.set_text(s, 0, flags=flags)\n",
      "D:\\anaconda\\envs\\nlp\\lib\\site-packages\\matplotlib\\backends\\backend_agg.py:201: RuntimeWarning: Glyph 20998 missing from current font.\n",
      "  font.set_text(s, 0, flags=flags)\n",
      "D:\\anaconda\\envs\\nlp\\lib\\site-packages\\matplotlib\\backends\\backend_agg.py:201: RuntimeWarning: Glyph 26368 missing from current font.\n",
      "  font.set_text(s, 0, flags=flags)\n",
      "D:\\anaconda\\envs\\nlp\\lib\\site-packages\\matplotlib\\backends\\backend_agg.py:201: RuntimeWarning: Glyph 36817 missing from current font.\n",
      "  font.set_text(s, 0, flags=flags)\n",
      "D:\\anaconda\\envs\\nlp\\lib\\site-packages\\matplotlib\\backends\\backend_agg.py:201: RuntimeWarning: Glyph 35770 missing from current font.\n",
      "  font.set_text(s, 0, flags=flags)\n",
      "D:\\anaconda\\envs\\nlp\\lib\\site-packages\\matplotlib\\backends\\backend_agg.py:201: RuntimeWarning: Glyph 26085 missing from current font.\n",
      "  font.set_text(s, 0, flags=flags)\n",
      "D:\\anaconda\\envs\\nlp\\lib\\site-packages\\matplotlib\\backends\\backend_agg.py:201: RuntimeWarning: Glyph 26399 missing from current font.\n",
      "  font.set_text(s, 0, flags=flags)\n",
      "D:\\anaconda\\envs\\nlp\\lib\\site-packages\\matplotlib\\backends\\backend_agg.py:201: RuntimeWarning: Glyph 39318 missing from current font.\n",
      "  font.set_text(s, 0, flags=flags)\n",
      "D:\\anaconda\\envs\\nlp\\lib\\site-packages\\matplotlib\\backends\\backend_agg.py:201: RuntimeWarning: Glyph 27425 missing from current font.\n",
      "  font.set_text(s, 0, flags=flags)\n",
      "D:\\anaconda\\envs\\nlp\\lib\\site-packages\\matplotlib\\backends\\backend_agg.py:201: RuntimeWarning: Glyph 25151 missing from current font.\n",
      "  font.set_text(s, 0, flags=flags)\n",
      "D:\\anaconda\\envs\\nlp\\lib\\site-packages\\matplotlib\\backends\\backend_agg.py:201: RuntimeWarning: Glyph 20027 missing from current font.\n",
      "  font.set_text(s, 0, flags=flags)\n",
      "D:\\anaconda\\envs\\nlp\\lib\\site-packages\\matplotlib\\backends\\backend_agg.py:201: RuntimeWarning: Glyph 22238 missing from current font.\n",
      "  font.set_text(s, 0, flags=flags)\n",
      "D:\\anaconda\\envs\\nlp\\lib\\site-packages\\matplotlib\\backends\\backend_agg.py:201: RuntimeWarning: Glyph 22797 missing from current font.\n",
      "  font.set_text(s, 0, flags=flags)\n",
      "D:\\anaconda\\envs\\nlp\\lib\\site-packages\\matplotlib\\backends\\backend_agg.py:201: RuntimeWarning: Glyph 29575 missing from current font.\n",
      "  font.set_text(s, 0, flags=flags)\n",
      "D:\\anaconda\\envs\\nlp\\lib\\site-packages\\matplotlib\\backends\\backend_agg.py:201: RuntimeWarning: Glyph 21608 missing from current font.\n",
      "  font.set_text(s, 0, flags=flags)\n",
      "D:\\anaconda\\envs\\nlp\\lib\\site-packages\\matplotlib\\backends\\backend_agg.py:201: RuntimeWarning: Glyph 36793 missing from current font.\n",
      "  font.set_text(s, 0, flags=flags)\n",
      "D:\\anaconda\\envs\\nlp\\lib\\site-packages\\matplotlib\\backends\\backend_agg.py:201: RuntimeWarning: Glyph 37038 missing from current font.\n",
      "  font.set_text(s, 0, flags=flags)\n",
      "D:\\anaconda\\envs\\nlp\\lib\\site-packages\\matplotlib\\backends\\backend_agg.py:201: RuntimeWarning: Glyph 32534 missing from current font.\n",
      "  font.set_text(s, 0, flags=flags)\n",
      "D:\\anaconda\\envs\\nlp\\lib\\site-packages\\matplotlib\\backends\\backend_agg.py:201: RuntimeWarning: Glyph 20309 missing from current font.\n",
      "  font.set_text(s, 0, flags=flags)\n",
      "D:\\anaconda\\envs\\nlp\\lib\\site-packages\\matplotlib\\backends\\backend_agg.py:201: RuntimeWarning: Glyph 26102 missing from current font.\n",
      "  font.set_text(s, 0, flags=flags)\n",
      "D:\\anaconda\\envs\\nlp\\lib\\site-packages\\matplotlib\\backends\\backend_agg.py:201: RuntimeWarning: Glyph 25104 missing from current font.\n",
      "  font.set_text(s, 0, flags=flags)\n",
      "D:\\anaconda\\envs\\nlp\\lib\\site-packages\\matplotlib\\backends\\backend_agg.py:201: RuntimeWarning: Glyph 20026 missing from current font.\n",
      "  font.set_text(s, 0, flags=flags)\n",
      "D:\\anaconda\\envs\\nlp\\lib\\site-packages\\matplotlib\\backends\\backend_agg.py:201: RuntimeWarning: Glyph 36523 missing from current font.\n",
      "  font.set_text(s, 0, flags=flags)\n"
     ]
    },
    {
     "name": "stderr",
     "output_type": "stream",
     "text": [
      "D:\\anaconda\\envs\\nlp\\lib\\site-packages\\matplotlib\\backends\\backend_agg.py:201: RuntimeWarning: Glyph 20221 missing from current font.\n",
      "  font.set_text(s, 0, flags=flags)\n",
      "D:\\anaconda\\envs\\nlp\\lib\\site-packages\\matplotlib\\backends\\backend_agg.py:201: RuntimeWarning: Glyph 26159 missing from current font.\n",
      "  font.set_text(s, 0, flags=flags)\n",
      "D:\\anaconda\\envs\\nlp\\lib\\site-packages\\matplotlib\\backends\\backend_agg.py:201: RuntimeWarning: Glyph 21542 missing from current font.\n",
      "  font.set_text(s, 0, flags=flags)\n",
      "D:\\anaconda\\envs\\nlp\\lib\\site-packages\\matplotlib\\backends\\backend_agg.py:201: RuntimeWarning: Glyph 39564 missing from current font.\n",
      "  font.set_text(s, 0, flags=flags)\n",
      "D:\\anaconda\\envs\\nlp\\lib\\site-packages\\matplotlib\\backends\\backend_agg.py:201: RuntimeWarning: Glyph 35777 missing from current font.\n",
      "  font.set_text(s, 0, flags=flags)\n",
      "D:\\anaconda\\envs\\nlp\\lib\\site-packages\\matplotlib\\backends\\backend_agg.py:201: RuntimeWarning: Glyph 26377 missing from current font.\n",
      "  font.set_text(s, 0, flags=flags)\n",
      "D:\\anaconda\\envs\\nlp\\lib\\site-packages\\matplotlib\\backends\\backend_agg.py:201: RuntimeWarning: Glyph 20010 missing from current font.\n",
      "  font.set_text(s, 0, flags=flags)\n",
      "D:\\anaconda\\envs\\nlp\\lib\\site-packages\\matplotlib\\backends\\backend_agg.py:201: RuntimeWarning: Glyph 20154 missing from current font.\n",
      "  font.set_text(s, 0, flags=flags)\n",
      "D:\\anaconda\\envs\\nlp\\lib\\site-packages\\matplotlib\\backends\\backend_agg.py:201: RuntimeWarning: Glyph 36164 missing from current font.\n",
      "  font.set_text(s, 0, flags=flags)\n",
      "D:\\anaconda\\envs\\nlp\\lib\\site-packages\\matplotlib\\backends\\backend_agg.py:201: RuntimeWarning: Glyph 26009 missing from current font.\n",
      "  font.set_text(s, 0, flags=flags)\n",
      "D:\\anaconda\\envs\\nlp\\lib\\site-packages\\matplotlib\\backends\\backend_agg.py:201: RuntimeWarning: Glyph 22270 missing from current font.\n",
      "  font.set_text(s, 0, flags=flags)\n",
      "D:\\anaconda\\envs\\nlp\\lib\\site-packages\\matplotlib\\backends\\backend_agg.py:201: RuntimeWarning: Glyph 29255 missing from current font.\n",
      "  font.set_text(s, 0, flags=flags)\n",
      "D:\\anaconda\\envs\\nlp\\lib\\site-packages\\matplotlib\\backends\\backend_agg.py:201: RuntimeWarning: Glyph 27927 missing from current font.\n",
      "  font.set_text(s, 0, flags=flags)\n",
      "D:\\anaconda\\envs\\nlp\\lib\\site-packages\\matplotlib\\backends\\backend_agg.py:201: RuntimeWarning: Glyph 25163 missing from current font.\n",
      "  font.set_text(s, 0, flags=flags)\n",
      "D:\\anaconda\\envs\\nlp\\lib\\site-packages\\matplotlib\\backends\\backend_agg.py:201: RuntimeWarning: Glyph 38388 missing from current font.\n",
      "  font.set_text(s, 0, flags=flags)\n",
      "D:\\anaconda\\envs\\nlp\\lib\\site-packages\\matplotlib\\backends\\backend_agg.py:201: RuntimeWarning: Glyph 25968 missing from current font.\n",
      "  font.set_text(s, 0, flags=flags)\n",
      "D:\\anaconda\\envs\\nlp\\lib\\site-packages\\matplotlib\\backends\\backend_agg.py:201: RuntimeWarning: Glyph 37327 missing from current font.\n",
      "  font.set_text(s, 0, flags=flags)\n"
     ]
    },
    {
     "data": {
      "image/png": "[encoded data removed]",
      "text/plain": [
       "<Figure size 1080x864 with 1 Axes>"
      ]
     },
     "metadata": {
      "needs_background": "light"
     },
     "output_type": "display_data"
    }
   ],
   "source": [
    "# 含有缺失值的特征的缺失率\n",
    "f, axis = plt.subplots(figsize=(15,12))\n",
    "plt.xticks(rotation='90')\n",
    "sns.barplot(x=all_data_na.index, y=all_data_na)\n",
    "plt.xlabel('Features', fontsize=15)\n",
    "plt.ylabel('Percent of missing values', fontsize=15)\n",
    "plt.title('Percent missing data by feature', fontsize=15)"
   ]
  },
  {
   "cell_type": "markdown",
   "metadata": {
    "id": "08D062BDCF79434B9409C88F4CF4EE02",
    "jupyter": {},
    "mdEditEnable": false,
    "slideshow": {
     "slide_type": "slide"
    },
    "tags": []
   },
   "source": [
    "## 数据相关性"
   ]
  },
  {
   "cell_type": "code",
   "execution_count": 20,
   "metadata": {
    "id": "5EB83F4C1F484E1E9DE64AC1F76249DD",
    "jupyter": {},
    "scrolled": false,
    "slideshow": {
     "slide_type": "slide"
    },
    "tags": []
   },
   "outputs": [
    {
     "name": "stderr",
     "output_type": "stream",
     "text": [
      "D:\\anaconda\\envs\\nlp\\lib\\site-packages\\matplotlib\\backends\\backend_agg.py:238: RuntimeWarning: Glyph 23481 missing from current font.\n",
      "  font.set_text(s, 0.0, flags=flags)\n",
      "D:\\anaconda\\envs\\nlp\\lib\\site-packages\\matplotlib\\backends\\backend_agg.py:238: RuntimeWarning: Glyph 32435 missing from current font.\n",
      "  font.set_text(s, 0.0, flags=flags)\n",
      "D:\\anaconda\\envs\\nlp\\lib\\site-packages\\matplotlib\\backends\\backend_agg.py:238: RuntimeWarning: Glyph 24202 missing from current font.\n",
      "  font.set_text(s, 0.0, flags=flags)\n",
      "D:\\anaconda\\envs\\nlp\\lib\\site-packages\\matplotlib\\backends\\backend_agg.py:238: RuntimeWarning: Glyph 30340 missing from current font.\n",
      "  font.set_text(s, 0.0, flags=flags)\n",
      "D:\\anaconda\\envs\\nlp\\lib\\site-packages\\matplotlib\\backends\\backend_agg.py:238: RuntimeWarning: Glyph 31867 missing from current font.\n",
      "  font.set_text(s, 0.0, flags=flags)\n",
      "D:\\anaconda\\envs\\nlp\\lib\\site-packages\\matplotlib\\backends\\backend_agg.py:238: RuntimeWarning: Glyph 22411 missing from current font.\n",
      "  font.set_text(s, 0.0, flags=flags)\n",
      "D:\\anaconda\\envs\\nlp\\lib\\site-packages\\matplotlib\\backends\\backend_agg.py:238: RuntimeWarning: Glyph 21351 missing from current font.\n",
      "  font.set_text(s, 0.0, flags=flags)\n",
      "D:\\anaconda\\envs\\nlp\\lib\\site-packages\\matplotlib\\backends\\backend_agg.py:238: RuntimeWarning: Glyph 23460 missing from current font.\n",
      "  font.set_text(s, 0.0, flags=flags)\n",
      "D:\\anaconda\\envs\\nlp\\lib\\site-packages\\matplotlib\\backends\\backend_agg.py:238: RuntimeWarning: Glyph 21462 missing from current font.\n",
      "  font.set_text(s, 0.0, flags=flags)\n",
      "D:\\anaconda\\envs\\nlp\\lib\\site-packages\\matplotlib\\backends\\backend_agg.py:238: RuntimeWarning: Glyph 28040 missing from current font.\n",
      "  font.set_text(s, 0.0, flags=flags)\n",
      "D:\\anaconda\\envs\\nlp\\lib\\site-packages\\matplotlib\\backends\\backend_agg.py:238: RuntimeWarning: Glyph 26465 missing from current font.\n",
      "  font.set_text(s, 0.0, flags=flags)\n",
      "D:\\anaconda\\envs\\nlp\\lib\\site-packages\\matplotlib\\backends\\backend_agg.py:238: RuntimeWarning: Glyph 27454 missing from current font.\n",
      "  font.set_text(s, 0.0, flags=flags)\n",
      "D:\\anaconda\\envs\\nlp\\lib\\site-packages\\matplotlib\\backends\\backend_agg.py:238: RuntimeWarning: Glyph 25152 missing from current font.\n",
      "  font.set_text(s, 0.0, flags=flags)\n",
      "D:\\anaconda\\envs\\nlp\\lib\\site-packages\\matplotlib\\backends\\backend_agg.py:238: RuntimeWarning: Glyph 22312 missing from current font.\n",
      "  font.set_text(s, 0.0, flags=flags)\n",
      "D:\\anaconda\\envs\\nlp\\lib\\site-packages\\matplotlib\\backends\\backend_agg.py:238: RuntimeWarning: Glyph 22478 missing from current font.\n",
      "  font.set_text(s, 0.0, flags=flags)\n",
      "D:\\anaconda\\envs\\nlp\\lib\\site-packages\\matplotlib\\backends\\backend_agg.py:238: RuntimeWarning: Glyph 24066 missing from current font.\n",
      "  font.set_text(s, 0.0, flags=flags)\n",
      "D:\\anaconda\\envs\\nlp\\lib\\site-packages\\matplotlib\\backends\\backend_agg.py:238: RuntimeWarning: Glyph 28165 missing from current font.\n",
      "  font.set_text(s, 0.0, flags=flags)\n",
      "D:\\anaconda\\envs\\nlp\\lib\\site-packages\\matplotlib\\backends\\backend_agg.py:238: RuntimeWarning: Glyph 27905 missing from current font.\n",
      "  font.set_text(s, 0.0, flags=flags)\n",
      "D:\\anaconda\\envs\\nlp\\lib\\site-packages\\matplotlib\\backends\\backend_agg.py:238: RuntimeWarning: Glyph 36153 missing from current font.\n",
      "  font.set_text(s, 0.0, flags=flags)\n",
      "D:\\anaconda\\envs\\nlp\\lib\\site-packages\\matplotlib\\backends\\backend_agg.py:238: RuntimeWarning: Glyph 25903 missing from current font.\n",
      "  font.set_text(s, 0.0, flags=flags)\n",
      "D:\\anaconda\\envs\\nlp\\lib\\site-packages\\matplotlib\\backends\\backend_agg.py:238: RuntimeWarning: Glyph 25345 missing from current font.\n",
      "  font.set_text(s, 0.0, flags=flags)\n",
      "D:\\anaconda\\envs\\nlp\\lib\\site-packages\\matplotlib\\backends\\backend_agg.py:238: RuntimeWarning: Glyph 38543 missing from current font.\n",
      "  font.set_text(s, 0.0, flags=flags)\n",
      "D:\\anaconda\\envs\\nlp\\lib\\site-packages\\matplotlib\\backends\\backend_agg.py:238: RuntimeWarning: Glyph 21363 missing from current font.\n",
      "  font.set_text(s, 0.0, flags=flags)\n",
      "D:\\anaconda\\envs\\nlp\\lib\\site-packages\\matplotlib\\backends\\backend_agg.py:238: RuntimeWarning: Glyph 39044 missing from current font.\n",
      "  font.set_text(s, 0.0, flags=flags)\n",
      "D:\\anaconda\\envs\\nlp\\lib\\site-packages\\matplotlib\\backends\\backend_agg.py:238: RuntimeWarning: Glyph 35746 missing from current font.\n",
      "  font.set_text(s, 0.0, flags=flags)\n",
      "D:\\anaconda\\envs\\nlp\\lib\\site-packages\\matplotlib\\backends\\backend_agg.py:238: RuntimeWarning: Glyph 32500 missing from current font.\n",
      "  font.set_text(s, 0.0, flags=flags)\n",
      "D:\\anaconda\\envs\\nlp\\lib\\site-packages\\matplotlib\\backends\\backend_agg.py:238: RuntimeWarning: Glyph 24230 missing from current font.\n",
      "  font.set_text(s, 0.0, flags=flags)\n",
      "D:\\anaconda\\envs\\nlp\\lib\\site-packages\\matplotlib\\backends\\backend_agg.py:238: RuntimeWarning: Glyph 32463 missing from current font.\n",
      "  font.set_text(s, 0.0, flags=flags)\n",
      "D:\\anaconda\\envs\\nlp\\lib\\site-packages\\matplotlib\\backends\\backend_agg.py:238: RuntimeWarning: Glyph 20135 missing from current font.\n",
      "  font.set_text(s, 0.0, flags=flags)\n",
      "D:\\anaconda\\envs\\nlp\\lib\\site-packages\\matplotlib\\backends\\backend_agg.py:238: RuntimeWarning: Glyph 20215 missing from current font.\n",
      "  font.set_text(s, 0.0, flags=flags)\n",
      "D:\\anaconda\\envs\\nlp\\lib\\site-packages\\matplotlib\\backends\\backend_agg.py:238: RuntimeWarning: Glyph 26684 missing from current font.\n",
      "  font.set_text(s, 0.0, flags=flags)\n",
      "D:\\anaconda\\envs\\nlp\\lib\\site-packages\\matplotlib\\backends\\backend_agg.py:201: RuntimeWarning: Glyph 23481 missing from current font.\n",
      "  font.set_text(s, 0, flags=flags)\n",
      "D:\\anaconda\\envs\\nlp\\lib\\site-packages\\matplotlib\\backends\\backend_agg.py:201: RuntimeWarning: Glyph 32435 missing from current font.\n",
      "  font.set_text(s, 0, flags=flags)\n",
      "D:\\anaconda\\envs\\nlp\\lib\\site-packages\\matplotlib\\backends\\backend_agg.py:201: RuntimeWarning: Glyph 24202 missing from current font.\n",
      "  font.set_text(s, 0, flags=flags)\n",
      "D:\\anaconda\\envs\\nlp\\lib\\site-packages\\matplotlib\\backends\\backend_agg.py:201: RuntimeWarning: Glyph 30340 missing from current font.\n",
      "  font.set_text(s, 0, flags=flags)\n",
      "D:\\anaconda\\envs\\nlp\\lib\\site-packages\\matplotlib\\backends\\backend_agg.py:201: RuntimeWarning: Glyph 31867 missing from current font.\n",
      "  font.set_text(s, 0, flags=flags)\n",
      "D:\\anaconda\\envs\\nlp\\lib\\site-packages\\matplotlib\\backends\\backend_agg.py:201: RuntimeWarning: Glyph 22411 missing from current font.\n",
      "  font.set_text(s, 0, flags=flags)\n",
      "D:\\anaconda\\envs\\nlp\\lib\\site-packages\\matplotlib\\backends\\backend_agg.py:201: RuntimeWarning: Glyph 21351 missing from current font.\n",
      "  font.set_text(s, 0, flags=flags)\n",
      "D:\\anaconda\\envs\\nlp\\lib\\site-packages\\matplotlib\\backends\\backend_agg.py:201: RuntimeWarning: Glyph 23460 missing from current font.\n",
      "  font.set_text(s, 0, flags=flags)\n",
      "D:\\anaconda\\envs\\nlp\\lib\\site-packages\\matplotlib\\backends\\backend_agg.py:201: RuntimeWarning: Glyph 21462 missing from current font.\n",
      "  font.set_text(s, 0, flags=flags)\n",
      "D:\\anaconda\\envs\\nlp\\lib\\site-packages\\matplotlib\\backends\\backend_agg.py:201: RuntimeWarning: Glyph 28040 missing from current font.\n",
      "  font.set_text(s, 0, flags=flags)\n",
      "D:\\anaconda\\envs\\nlp\\lib\\site-packages\\matplotlib\\backends\\backend_agg.py:201: RuntimeWarning: Glyph 26465 missing from current font.\n",
      "  font.set_text(s, 0, flags=flags)\n",
      "D:\\anaconda\\envs\\nlp\\lib\\site-packages\\matplotlib\\backends\\backend_agg.py:201: RuntimeWarning: Glyph 27454 missing from current font.\n",
      "  font.set_text(s, 0, flags=flags)\n",
      "D:\\anaconda\\envs\\nlp\\lib\\site-packages\\matplotlib\\backends\\backend_agg.py:201: RuntimeWarning: Glyph 25152 missing from current font.\n",
      "  font.set_text(s, 0, flags=flags)\n",
      "D:\\anaconda\\envs\\nlp\\lib\\site-packages\\matplotlib\\backends\\backend_agg.py:201: RuntimeWarning: Glyph 22312 missing from current font.\n",
      "  font.set_text(s, 0, flags=flags)\n",
      "D:\\anaconda\\envs\\nlp\\lib\\site-packages\\matplotlib\\backends\\backend_agg.py:201: RuntimeWarning: Glyph 22478 missing from current font.\n",
      "  font.set_text(s, 0, flags=flags)\n",
      "D:\\anaconda\\envs\\nlp\\lib\\site-packages\\matplotlib\\backends\\backend_agg.py:201: RuntimeWarning: Glyph 24066 missing from current font.\n",
      "  font.set_text(s, 0, flags=flags)\n",
      "D:\\anaconda\\envs\\nlp\\lib\\site-packages\\matplotlib\\backends\\backend_agg.py:201: RuntimeWarning: Glyph 28165 missing from current font.\n",
      "  font.set_text(s, 0, flags=flags)\n",
      "D:\\anaconda\\envs\\nlp\\lib\\site-packages\\matplotlib\\backends\\backend_agg.py:201: RuntimeWarning: Glyph 27905 missing from current font.\n",
      "  font.set_text(s, 0, flags=flags)\n",
      "D:\\anaconda\\envs\\nlp\\lib\\site-packages\\matplotlib\\backends\\backend_agg.py:201: RuntimeWarning: Glyph 36153 missing from current font.\n",
      "  font.set_text(s, 0, flags=flags)\n",
      "D:\\anaconda\\envs\\nlp\\lib\\site-packages\\matplotlib\\backends\\backend_agg.py:201: RuntimeWarning: Glyph 25903 missing from current font.\n",
      "  font.set_text(s, 0, flags=flags)\n",
      "D:\\anaconda\\envs\\nlp\\lib\\site-packages\\matplotlib\\backends\\backend_agg.py:201: RuntimeWarning: Glyph 25345 missing from current font.\n",
      "  font.set_text(s, 0, flags=flags)\n",
      "D:\\anaconda\\envs\\nlp\\lib\\site-packages\\matplotlib\\backends\\backend_agg.py:201: RuntimeWarning: Glyph 38543 missing from current font.\n",
      "  font.set_text(s, 0, flags=flags)\n",
      "D:\\anaconda\\envs\\nlp\\lib\\site-packages\\matplotlib\\backends\\backend_agg.py:201: RuntimeWarning: Glyph 21363 missing from current font.\n",
      "  font.set_text(s, 0, flags=flags)\n",
      "D:\\anaconda\\envs\\nlp\\lib\\site-packages\\matplotlib\\backends\\backend_agg.py:201: RuntimeWarning: Glyph 39044 missing from current font.\n",
      "  font.set_text(s, 0, flags=flags)\n",
      "D:\\anaconda\\envs\\nlp\\lib\\site-packages\\matplotlib\\backends\\backend_agg.py:201: RuntimeWarning: Glyph 35746 missing from current font.\n",
      "  font.set_text(s, 0, flags=flags)\n",
      "D:\\anaconda\\envs\\nlp\\lib\\site-packages\\matplotlib\\backends\\backend_agg.py:201: RuntimeWarning: Glyph 32500 missing from current font.\n",
      "  font.set_text(s, 0, flags=flags)\n",
      "D:\\anaconda\\envs\\nlp\\lib\\site-packages\\matplotlib\\backends\\backend_agg.py:201: RuntimeWarning: Glyph 24230 missing from current font.\n",
      "  font.set_text(s, 0, flags=flags)\n",
      "D:\\anaconda\\envs\\nlp\\lib\\site-packages\\matplotlib\\backends\\backend_agg.py:201: RuntimeWarning: Glyph 32463 missing from current font.\n",
      "  font.set_text(s, 0, flags=flags)\n",
      "D:\\anaconda\\envs\\nlp\\lib\\site-packages\\matplotlib\\backends\\backend_agg.py:201: RuntimeWarning: Glyph 20135 missing from current font.\n",
      "  font.set_text(s, 0, flags=flags)\n",
      "D:\\anaconda\\envs\\nlp\\lib\\site-packages\\matplotlib\\backends\\backend_agg.py:201: RuntimeWarning: Glyph 20215 missing from current font.\n",
      "  font.set_text(s, 0, flags=flags)\n",
      "D:\\anaconda\\envs\\nlp\\lib\\site-packages\\matplotlib\\backends\\backend_agg.py:201: RuntimeWarning: Glyph 26684 missing from current font.\n",
      "  font.set_text(s, 0, flags=flags)\n"
     ]
    },
    {
     "data": {
      "text/plain": [
       "<AxesSubplot:>"
      ]
     },
     "execution_count": 20,
     "metadata": {},
     "output_type": "execute_result"
    },
    {
     "data": {
      "image/png": "[encoded data removed]",
      "text/plain": [
       "<Figure size 1080x864 with 2 Axes>"
      ]
     },
     "metadata": {
      "needs_background": "light"
     },
     "output_type": "display_data"
    }
   ],
   "source": [
    "# 全部数值特征\n",
    "corrmat = train.corr()\n",
    "plt.subplots(figsize=(15,12))\n",
    "sns.heatmap(corrmat, vmax=0.9, square=True)"
   ]
  },
  {
   "cell_type": "code",
   "execution_count": 21,
   "metadata": {
    "id": "96CEC2DA14514DF28AC25A65FD6F8517",
    "jupyter": {},
    "scrolled": false,
    "slideshow": {
     "slide_type": "slide"
    },
    "tags": []
   },
   "outputs": [
    {
     "data": {
      "text/plain": [
       "<AxesSubplot:>"
      ]
     },
     "execution_count": 21,
     "metadata": {},
     "output_type": "execute_result"
    },
    {
     "data": {
      "image/png": "[encoded data removed]",
      "text/plain": [
       "<Figure size 720x576 with 2 Axes>"
      ]
     },
     "metadata": {
      "needs_background": "light"
     },
     "output_type": "display_data"
    }
   ],
   "source": [
    "# 相关性最大的10个特征\n",
    "corrmat = train.corr()\n",
    "plt.subplots(figsize=(10,8))\n",
    "k = 10\n",
    "cols = corrmat.nlargest(k, '价格')['价格'].index\n",
    "cm = np.corrcoef(train[cols].values.T)\n",
    "sns.heatmap(cm, cbar=True, annot=True, square=True, fmt='.2f', annot_kws={'size': 10}, yticklabels=cols.values, xticklabels=cols.values)"
   ]
  },
  {
   "cell_type": "markdown",
   "metadata": {
    "id": "14C1F01CBEF3472B8FEDECB9E30F06D7",
    "jupyter": {},
    "mdEditEnable": false,
    "slideshow": {
     "slide_type": "slide"
    },
    "tags": []
   },
   "source": [
    "## 缺失值填充"
   ]
  },
  {
   "cell_type": "code",
   "execution_count": 22,
   "metadata": {
    "id": "BB27A349192D4DB487F3FBDBDEC2A349",
    "jupyter": {},
    "scrolled": false,
    "slideshow": {
     "slide_type": "slide"
    },
    "tags": []
   },
   "outputs": [
    {
     "data": {
      "text/html": [
       "<div>\n",
       "<style scoped>\n",
       "    .dataframe tbody tr th:only-of-type {\n",
       "        vertical-align: middle;\n",
       "    }\n",
       "\n",
       "    .dataframe tbody tr th {\n",
       "        vertical-align: top;\n",
       "    }\n",
       "\n",
       "    .dataframe thead th {\n",
       "        text-align: right;\n",
       "    }\n",
       "</style>\n",
       "<table border=\"1\" class=\"dataframe\">\n",
       "  <thead>\n",
       "    <tr style=\"text-align: right;\">\n",
       "      <th></th>\n",
       "      <th>容纳人数</th>\n",
       "      <th>便利设施</th>\n",
       "      <th>洗手间数量</th>\n",
       "      <th>床的数量</th>\n",
       "      <th>床的类型</th>\n",
       "      <th>卧室数量</th>\n",
       "      <th>取消条款</th>\n",
       "      <th>所在城市</th>\n",
       "      <th>清洁费</th>\n",
       "      <th>首次评论日期</th>\n",
       "      <th>房主是否有个人资料图片</th>\n",
       "      <th>房主身份是否验证</th>\n",
       "      <th>房主回复率</th>\n",
       "      <th>何时成为房主</th>\n",
       "      <th>是否支持随即预订</th>\n",
       "      <th>最近评论日期</th>\n",
       "      <th>维度</th>\n",
       "      <th>经度</th>\n",
       "      <th>民宿周边</th>\n",
       "      <th>评论个数</th>\n",
       "      <th>房产类型</th>\n",
       "      <th>民宿评分</th>\n",
       "      <th>房型</th>\n",
       "      <th>邮编</th>\n",
       "    </tr>\n",
       "  </thead>\n",
       "  <tbody>\n",
       "    <tr>\n",
       "      <th>0</th>\n",
       "      <td>4</td>\n",
       "      <td>{TV,\"Cable TV\",Internet,\"Wireless Internet\",\"Air conditioning\",Kitchen,\"Pets live on this property\",Dog(s),\"Hot tub\",Heating,Washer,Dryer,\"Smoke detector\",\"Fire extinguisher\",Essentials,\"translati...</td>\n",
       "      <td>1.5</td>\n",
       "      <td>3.0</td>\n",
       "      <td>4</td>\n",
       "      <td>2.0</td>\n",
       "      <td>0</td>\n",
       "      <td>3</td>\n",
       "      <td>0</td>\n",
       "      <td>2015-05-07</td>\n",
       "      <td>t</td>\n",
       "      <td>t</td>\n",
       "      <td>NaN</td>\n",
       "      <td>2015-02-25</td>\n",
       "      <td>0</td>\n",
       "      <td>2016-06-26</td>\n",
       "      <td>34.109039</td>\n",
       "      <td>-118.273390</td>\n",
       "      <td>Los Feliz</td>\n",
       "      <td>12</td>\n",
       "      <td>17</td>\n",
       "      <td>97.0</td>\n",
       "      <td>0</td>\n",
       "      <td>90027</td>\n",
       "    </tr>\n",
       "    <tr>\n",
       "      <th>1</th>\n",
       "      <td>2</td>\n",
       "      <td>{TV,\"Wireless Internet\",Kitchen,\"Free parking on premises\",\"Pets allowed\",Heating,\"Family/kid friendly\",Washer,Dryer,\"Smoke detector\",\"Carbon monoxide detector\",\"First aid kit\",\"Fire extinguisher\"...</td>\n",
       "      <td>1.0</td>\n",
       "      <td>1.0</td>\n",
       "      <td>4</td>\n",
       "      <td>1.0</td>\n",
       "      <td>2</td>\n",
       "      <td>4</td>\n",
       "      <td>1</td>\n",
       "      <td>2016-07-02</td>\n",
       "      <td>t</td>\n",
       "      <td>t</td>\n",
       "      <td>NaN</td>\n",
       "      <td>2009-10-27</td>\n",
       "      <td>1</td>\n",
       "      <td>2016-07-31</td>\n",
       "      <td>40.812897</td>\n",
       "      <td>-73.919163</td>\n",
       "      <td>Mott Haven</td>\n",
       "      <td>6</td>\n",
       "      <td>0</td>\n",
       "      <td>87.0</td>\n",
       "      <td>0</td>\n",
       "      <td>10454</td>\n",
       "    </tr>\n",
       "    <tr>\n",
       "      <th>2</th>\n",
       "      <td>4</td>\n",
       "      <td>{TV,\"Air conditioning\",Kitchen,Heating,\"Smoke detector\",\"Carbon monoxide detector\",\"First aid kit\",\"Safety card\",Essentials,Shampoo,\"Hair dryer\"}</td>\n",
       "      <td>1.0</td>\n",
       "      <td>2.0</td>\n",
       "      <td>4</td>\n",
       "      <td>0.0</td>\n",
       "      <td>2</td>\n",
       "      <td>4</td>\n",
       "      <td>1</td>\n",
       "      <td>2017-07-01</td>\n",
       "      <td>t</td>\n",
       "      <td>f</td>\n",
       "      <td>100%</td>\n",
       "      <td>2017-06-29</td>\n",
       "      <td>1</td>\n",
       "      <td>2017-07-31</td>\n",
       "      <td>40.737643</td>\n",
       "      <td>-73.953309</td>\n",
       "      <td>Greenpoint</td>\n",
       "      <td>4</td>\n",
       "      <td>0</td>\n",
       "      <td>80.0</td>\n",
       "      <td>0</td>\n",
       "      <td>11222</td>\n",
       "    </tr>\n",
       "    <tr>\n",
       "      <th>3</th>\n",
       "      <td>2</td>\n",
       "      <td>{}</td>\n",
       "      <td>1.0</td>\n",
       "      <td>1.0</td>\n",
       "      <td>4</td>\n",
       "      <td>1.0</td>\n",
       "      <td>0</td>\n",
       "      <td>5</td>\n",
       "      <td>1</td>\n",
       "      <td>NaN</td>\n",
       "      <td>t</td>\n",
       "      <td>t</td>\n",
       "      <td>NaN</td>\n",
       "      <td>2013-03-19</td>\n",
       "      <td>0</td>\n",
       "      <td>NaN</td>\n",
       "      <td>37.759935</td>\n",
       "      <td>-122.420558</td>\n",
       "      <td>Mission District</td>\n",
       "      <td>0</td>\n",
       "      <td>0</td>\n",
       "      <td>NaN</td>\n",
       "      <td>1</td>\n",
       "      <td>94110</td>\n",
       "    </tr>\n",
       "    <tr>\n",
       "      <th>4</th>\n",
       "      <td>3</td>\n",
       "      <td>{Internet,\"Wireless Internet\",\"Air conditioning\",Kitchen,\"Free parking on premises\",\"Pets live on this property\",Cat(s),\"Buzzer/wireless intercom\",Heating,Essentials,Shampoo,\"translation missing: ...</td>\n",
       "      <td>1.0</td>\n",
       "      <td>1.0</td>\n",
       "      <td>4</td>\n",
       "      <td>1.0</td>\n",
       "      <td>1</td>\n",
       "      <td>4</td>\n",
       "      <td>1</td>\n",
       "      <td>2014-04-30</td>\n",
       "      <td>t</td>\n",
       "      <td>t</td>\n",
       "      <td>100%</td>\n",
       "      <td>2011-07-30</td>\n",
       "      <td>0</td>\n",
       "      <td>2016-05-22</td>\n",
       "      <td>40.683363</td>\n",
       "      <td>-73.949490</td>\n",
       "      <td>Bedford-Stuyvesant</td>\n",
       "      <td>16</td>\n",
       "      <td>0</td>\n",
       "      <td>99.0</td>\n",
       "      <td>0</td>\n",
       "      <td>11216</td>\n",
       "    </tr>\n",
       "  </tbody>\n",
       "</table>\n",
       "</div>"
      ],
      "text/plain": [
       "   容纳人数  \\\n",
       "0     4   \n",
       "1     2   \n",
       "2     4   \n",
       "3     2   \n",
       "4     3   \n",
       "\n",
       "                                                                                                                                                                                                      便利设施  \\\n",
       "0  {TV,\"Cable TV\",Internet,\"Wireless Internet\",\"Air conditioning\",Kitchen,\"Pets live on this property\",Dog(s),\"Hot tub\",Heating,Washer,Dryer,\"Smoke detector\",\"Fire extinguisher\",Essentials,\"translati...   \n",
       "1  {TV,\"Wireless Internet\",Kitchen,\"Free parking on premises\",\"Pets allowed\",Heating,\"Family/kid friendly\",Washer,Dryer,\"Smoke detector\",\"Carbon monoxide detector\",\"First aid kit\",\"Fire extinguisher\"...   \n",
       "2                                                        {TV,\"Air conditioning\",Kitchen,Heating,\"Smoke detector\",\"Carbon monoxide detector\",\"First aid kit\",\"Safety card\",Essentials,Shampoo,\"Hair dryer\"}   \n",
       "3                                                                                                                                                                                                       {}   \n",
       "4  {Internet,\"Wireless Internet\",\"Air conditioning\",Kitchen,\"Free parking on premises\",\"Pets live on this property\",Cat(s),\"Buzzer/wireless intercom\",Heating,Essentials,Shampoo,\"translation missing: ...   \n",
       "\n",
       "   洗手间数量  床的数量  床的类型  卧室数量  取消条款  所在城市  清洁费      首次评论日期 房主是否有个人资料图片 房主身份是否验证  \\\n",
       "0    1.5   3.0     4   2.0     0     3    0  2015-05-07           t        t   \n",
       "1    1.0   1.0     4   1.0     2     4    1  2016-07-02           t        t   \n",
       "2    1.0   2.0     4   0.0     2     4    1  2017-07-01           t        f   \n",
       "3    1.0   1.0     4   1.0     0     5    1         NaN           t        t   \n",
       "4    1.0   1.0     4   1.0     1     4    1  2014-04-30           t        t   \n",
       "\n",
       "  房主回复率      何时成为房主  是否支持随即预订      最近评论日期         维度          经度  \\\n",
       "0   NaN  2015-02-25         0  2016-06-26  34.109039 -118.273390   \n",
       "1   NaN  2009-10-27         1  2016-07-31  40.812897  -73.919163   \n",
       "2  100%  2017-06-29         1  2017-07-31  40.737643  -73.953309   \n",
       "3   NaN  2013-03-19         0         NaN  37.759935 -122.420558   \n",
       "4  100%  2011-07-30         0  2016-05-22  40.683363  -73.949490   \n",
       "\n",
       "                 民宿周边  评论个数  房产类型  民宿评分  房型     邮编  \n",
       "0           Los Feliz    12    17  97.0   0  90027  \n",
       "1          Mott Haven     6     0  87.0   0  10454  \n",
       "2          Greenpoint     4     0  80.0   0  11222  \n",
       "3    Mission District     0     0   NaN   1  94110  \n",
       "4  Bedford-Stuyvesant    16     0  99.0   0  11216  "
      ]
     },
     "execution_count": 22,
     "metadata": {},
     "output_type": "execute_result"
    }
   ],
   "source": [
    "all_data.head()"
   ]
  },
  {
   "cell_type": "code",
   "execution_count": null,
   "metadata": {
    "id": "2290BD1BC958432298EFD45F1F873BDC",
    "jupyter": {},
    "notebookId": "60672462cbb4020018e42d1c",
    "scrolled": false,
    "slideshow": {
     "slide_type": "slide"
    },
    "tags": []
   },
   "outputs": [],
   "source": []
  },
  {
   "cell_type": "code",
   "execution_count": 23,
   "metadata": {
    "id": "DF511B486411413EA10894B79C3DA92A",
    "jupyter": {},
    "scrolled": false,
    "slideshow": {
     "slide_type": "slide"
    },
    "tags": []
   },
   "outputs": [],
   "source": [
    "# 根据各特征的现实含义，填充合适的值\n",
    "feature1 = ['床的类型','邮编','房主回复率','首次评论日期','最近评论日期','何时成为房主','民宿周边','房主身份是否验证','房主是否有个人资料图片']\n",
    "for i in feature1:\n",
    "    all_data[i] = all_data[i].fillna('None')\n",
    "    \n",
    "feature2 = ['评论个数','洗手间数量']\n",
    "for i in feature2:\n",
    "    all_data[i] = all_data[i].fillna(0)\n",
    "\n",
    "## 数值型\n",
    "feature3 = ['民宿评分', '卧室数量', '取消条款', '床的数量','经度' ,'维度']\n",
    "for i in feature3:\n",
    "    all_data[i] = all_data[i].fillna(all_data[i].mode()[0])\n",
    "\n",
    "\n",
    "    \n",
    "# all_data['LotFrontage'] = all_data.groupby('Neighborhood')['LotFrontage'].transform(lambda x: x.fillna(x.median()))\n",
    "# all_data = all_data.drop(['Utilities'], axis=1)\n",
    "# all_data['Functional'] = all_data['Functional'].fillna('Typ')"
   ]
  },
  {
   "cell_type": "code",
   "execution_count": 24,
   "metadata": {
    "id": "9D5A81625A2E4BA0817DA850B0A4BBF1",
    "jupyter": {},
    "scrolled": false,
    "slideshow": {
     "slide_type": "slide"
    },
    "tags": []
   },
   "outputs": [
    {
     "data": {
      "text/html": [
       "<div>\n",
       "<style scoped>\n",
       "    .dataframe tbody tr th:only-of-type {\n",
       "        vertical-align: middle;\n",
       "    }\n",
       "\n",
       "    .dataframe tbody tr th {\n",
       "        vertical-align: top;\n",
       "    }\n",
       "\n",
       "    .dataframe thead th {\n",
       "        text-align: right;\n",
       "    }\n",
       "</style>\n",
       "<table border=\"1\" class=\"dataframe\">\n",
       "  <thead>\n",
       "    <tr style=\"text-align: right;\">\n",
       "      <th></th>\n",
       "      <th>Missing Ratio</th>\n",
       "    </tr>\n",
       "  </thead>\n",
       "  <tbody>\n",
       "  </tbody>\n",
       "</table>\n",
       "</div>"
      ],
      "text/plain": [
       "Empty DataFrame\n",
       "Columns: [Missing Ratio]\n",
       "Index: []"
      ]
     },
     "execution_count": 24,
     "metadata": {},
     "output_type": "execute_result"
    }
   ],
   "source": [
    "# 填充完成后，查看是否还有缺失值\n",
    "all_data_na = (all_data.isnull().sum()/len(all_data))*100\n",
    "all_data_na = all_data_na.drop(all_data_na[all_data_na == 0].index).sort_values(ascending=False)\n",
    "missing_data = pd.DataFrame({'Missing Ratio' : all_data_na})\n",
    "missing_data.head()"
   ]
  },
  {
   "cell_type": "code",
   "execution_count": 25,
   "metadata": {
    "id": "5E613948CDD443F793F99F353B9D82E6",
    "jupyter": {},
    "notebookId": "60672462cbb4020018e42d1c",
    "scrolled": false,
    "slideshow": {
     "slide_type": "slide"
    },
    "tags": []
   },
   "outputs": [
    {
     "data": {
      "text/html": [
       "<div>\n",
       "<style scoped>\n",
       "    .dataframe tbody tr th:only-of-type {\n",
       "        vertical-align: middle;\n",
       "    }\n",
       "\n",
       "    .dataframe tbody tr th {\n",
       "        vertical-align: top;\n",
       "    }\n",
       "\n",
       "    .dataframe thead th {\n",
       "        text-align: right;\n",
       "    }\n",
       "</style>\n",
       "<table border=\"1\" class=\"dataframe\">\n",
       "  <thead>\n",
       "    <tr style=\"text-align: right;\">\n",
       "      <th></th>\n",
       "      <th>容纳人数</th>\n",
       "      <th>便利设施</th>\n",
       "      <th>洗手间数量</th>\n",
       "      <th>床的数量</th>\n",
       "      <th>床的类型</th>\n",
       "      <th>卧室数量</th>\n",
       "      <th>取消条款</th>\n",
       "      <th>所在城市</th>\n",
       "      <th>清洁费</th>\n",
       "      <th>首次评论日期</th>\n",
       "      <th>房主是否有个人资料图片</th>\n",
       "      <th>房主身份是否验证</th>\n",
       "      <th>房主回复率</th>\n",
       "      <th>何时成为房主</th>\n",
       "      <th>是否支持随即预订</th>\n",
       "      <th>最近评论日期</th>\n",
       "      <th>维度</th>\n",
       "      <th>经度</th>\n",
       "      <th>民宿周边</th>\n",
       "      <th>评论个数</th>\n",
       "      <th>房产类型</th>\n",
       "      <th>民宿评分</th>\n",
       "      <th>房型</th>\n",
       "      <th>邮编</th>\n",
       "    </tr>\n",
       "  </thead>\n",
       "  <tbody>\n",
       "    <tr>\n",
       "      <th>0</th>\n",
       "      <td>4</td>\n",
       "      <td>{TV,\"Cable TV\",Internet,\"Wireless Internet\",\"Air conditioning\",Kitchen,\"Pets live on this property\",Dog(s),\"Hot tub\",Heating,Washer,Dryer,\"Smoke detector\",\"Fire extinguisher\",Essentials,\"translati...</td>\n",
       "      <td>1.5</td>\n",
       "      <td>3.0</td>\n",
       "      <td>4</td>\n",
       "      <td>2.0</td>\n",
       "      <td>0</td>\n",
       "      <td>3</td>\n",
       "      <td>0</td>\n",
       "      <td>2015-05-07</td>\n",
       "      <td>t</td>\n",
       "      <td>t</td>\n",
       "      <td>None</td>\n",
       "      <td>2015-02-25</td>\n",
       "      <td>0</td>\n",
       "      <td>2016-06-26</td>\n",
       "      <td>34.109039</td>\n",
       "      <td>-118.273390</td>\n",
       "      <td>Los Feliz</td>\n",
       "      <td>12</td>\n",
       "      <td>17</td>\n",
       "      <td>97.0</td>\n",
       "      <td>0</td>\n",
       "      <td>90027</td>\n",
       "    </tr>\n",
       "    <tr>\n",
       "      <th>1</th>\n",
       "      <td>2</td>\n",
       "      <td>{TV,\"Wireless Internet\",Kitchen,\"Free parking on premises\",\"Pets allowed\",Heating,\"Family/kid friendly\",Washer,Dryer,\"Smoke detector\",\"Carbon monoxide detector\",\"First aid kit\",\"Fire extinguisher\"...</td>\n",
       "      <td>1.0</td>\n",
       "      <td>1.0</td>\n",
       "      <td>4</td>\n",
       "      <td>1.0</td>\n",
       "      <td>2</td>\n",
       "      <td>4</td>\n",
       "      <td>1</td>\n",
       "      <td>2016-07-02</td>\n",
       "      <td>t</td>\n",
       "      <td>t</td>\n",
       "      <td>None</td>\n",
       "      <td>2009-10-27</td>\n",
       "      <td>1</td>\n",
       "      <td>2016-07-31</td>\n",
       "      <td>40.812897</td>\n",
       "      <td>-73.919163</td>\n",
       "      <td>Mott Haven</td>\n",
       "      <td>6</td>\n",
       "      <td>0</td>\n",
       "      <td>87.0</td>\n",
       "      <td>0</td>\n",
       "      <td>10454</td>\n",
       "    </tr>\n",
       "    <tr>\n",
       "      <th>2</th>\n",
       "      <td>4</td>\n",
       "      <td>{TV,\"Air conditioning\",Kitchen,Heating,\"Smoke detector\",\"Carbon monoxide detector\",\"First aid kit\",\"Safety card\",Essentials,Shampoo,\"Hair dryer\"}</td>\n",
       "      <td>1.0</td>\n",
       "      <td>2.0</td>\n",
       "      <td>4</td>\n",
       "      <td>0.0</td>\n",
       "      <td>2</td>\n",
       "      <td>4</td>\n",
       "      <td>1</td>\n",
       "      <td>2017-07-01</td>\n",
       "      <td>t</td>\n",
       "      <td>f</td>\n",
       "      <td>100%</td>\n",
       "      <td>2017-06-29</td>\n",
       "      <td>1</td>\n",
       "      <td>2017-07-31</td>\n",
       "      <td>40.737643</td>\n",
       "      <td>-73.953309</td>\n",
       "      <td>Greenpoint</td>\n",
       "      <td>4</td>\n",
       "      <td>0</td>\n",
       "      <td>80.0</td>\n",
       "      <td>0</td>\n",
       "      <td>11222</td>\n",
       "    </tr>\n",
       "    <tr>\n",
       "      <th>3</th>\n",
       "      <td>2</td>\n",
       "      <td>{}</td>\n",
       "      <td>1.0</td>\n",
       "      <td>1.0</td>\n",
       "      <td>4</td>\n",
       "      <td>1.0</td>\n",
       "      <td>0</td>\n",
       "      <td>5</td>\n",
       "      <td>1</td>\n",
       "      <td>None</td>\n",
       "      <td>t</td>\n",
       "      <td>t</td>\n",
       "      <td>None</td>\n",
       "      <td>2013-03-19</td>\n",
       "      <td>0</td>\n",
       "      <td>None</td>\n",
       "      <td>37.759935</td>\n",
       "      <td>-122.420558</td>\n",
       "      <td>Mission District</td>\n",
       "      <td>0</td>\n",
       "      <td>0</td>\n",
       "      <td>100.0</td>\n",
       "      <td>1</td>\n",
       "      <td>94110</td>\n",
       "    </tr>\n",
       "    <tr>\n",
       "      <th>4</th>\n",
       "      <td>3</td>\n",
       "      <td>{Internet,\"Wireless Internet\",\"Air conditioning\",Kitchen,\"Free parking on premises\",\"Pets live on this property\",Cat(s),\"Buzzer/wireless intercom\",Heating,Essentials,Shampoo,\"translation missing: ...</td>\n",
       "      <td>1.0</td>\n",
       "      <td>1.0</td>\n",
       "      <td>4</td>\n",
       "      <td>1.0</td>\n",
       "      <td>1</td>\n",
       "      <td>4</td>\n",
       "      <td>1</td>\n",
       "      <td>2014-04-30</td>\n",
       "      <td>t</td>\n",
       "      <td>t</td>\n",
       "      <td>100%</td>\n",
       "      <td>2011-07-30</td>\n",
       "      <td>0</td>\n",
       "      <td>2016-05-22</td>\n",
       "      <td>40.683363</td>\n",
       "      <td>-73.949490</td>\n",
       "      <td>Bedford-Stuyvesant</td>\n",
       "      <td>16</td>\n",
       "      <td>0</td>\n",
       "      <td>99.0</td>\n",
       "      <td>0</td>\n",
       "      <td>11216</td>\n",
       "    </tr>\n",
       "  </tbody>\n",
       "</table>\n",
       "</div>"
      ],
      "text/plain": [
       "   容纳人数  \\\n",
       "0     4   \n",
       "1     2   \n",
       "2     4   \n",
       "3     2   \n",
       "4     3   \n",
       "\n",
       "                                                                                                                                                                                                      便利设施  \\\n",
       "0  {TV,\"Cable TV\",Internet,\"Wireless Internet\",\"Air conditioning\",Kitchen,\"Pets live on this property\",Dog(s),\"Hot tub\",Heating,Washer,Dryer,\"Smoke detector\",\"Fire extinguisher\",Essentials,\"translati...   \n",
       "1  {TV,\"Wireless Internet\",Kitchen,\"Free parking on premises\",\"Pets allowed\",Heating,\"Family/kid friendly\",Washer,Dryer,\"Smoke detector\",\"Carbon monoxide detector\",\"First aid kit\",\"Fire extinguisher\"...   \n",
       "2                                                        {TV,\"Air conditioning\",Kitchen,Heating,\"Smoke detector\",\"Carbon monoxide detector\",\"First aid kit\",\"Safety card\",Essentials,Shampoo,\"Hair dryer\"}   \n",
       "3                                                                                                                                                                                                       {}   \n",
       "4  {Internet,\"Wireless Internet\",\"Air conditioning\",Kitchen,\"Free parking on premises\",\"Pets live on this property\",Cat(s),\"Buzzer/wireless intercom\",Heating,Essentials,Shampoo,\"translation missing: ...   \n",
       "\n",
       "   洗手间数量  床的数量  床的类型  卧室数量  取消条款  所在城市  清洁费      首次评论日期 房主是否有个人资料图片 房主身份是否验证  \\\n",
       "0    1.5   3.0     4   2.0     0     3    0  2015-05-07           t        t   \n",
       "1    1.0   1.0     4   1.0     2     4    1  2016-07-02           t        t   \n",
       "2    1.0   2.0     4   0.0     2     4    1  2017-07-01           t        f   \n",
       "3    1.0   1.0     4   1.0     0     5    1        None           t        t   \n",
       "4    1.0   1.0     4   1.0     1     4    1  2014-04-30           t        t   \n",
       "\n",
       "  房主回复率      何时成为房主  是否支持随即预订      最近评论日期         维度          经度  \\\n",
       "0  None  2015-02-25         0  2016-06-26  34.109039 -118.273390   \n",
       "1  None  2009-10-27         1  2016-07-31  40.812897  -73.919163   \n",
       "2  100%  2017-06-29         1  2017-07-31  40.737643  -73.953309   \n",
       "3  None  2013-03-19         0        None  37.759935 -122.420558   \n",
       "4  100%  2011-07-30         0  2016-05-22  40.683363  -73.949490   \n",
       "\n",
       "                 民宿周边  评论个数  房产类型   民宿评分  房型     邮编  \n",
       "0           Los Feliz    12    17   97.0   0  90027  \n",
       "1          Mott Haven     6     0   87.0   0  10454  \n",
       "2          Greenpoint     4     0   80.0   0  11222  \n",
       "3    Mission District     0     0  100.0   1  94110  \n",
       "4  Bedford-Stuyvesant    16     0   99.0   0  11216  "
      ]
     },
     "execution_count": 25,
     "metadata": {},
     "output_type": "execute_result"
    }
   ],
   "source": [
    "all_data.head()"
   ]
  },
  {
   "cell_type": "markdown",
   "metadata": {
    "id": "434B115DBC534F27BF1DC681BE26F1D6",
    "jupyter": {},
    "mdEditEnable": false,
    "slideshow": {
     "slide_type": "slide"
    },
    "tags": []
   },
   "source": [
    "## 标签编码"
   ]
  },
  {
   "cell_type": "code",
   "execution_count": 26,
   "metadata": {
    "id": "DE6E92C83EAC471C8328EB6287CFB222",
    "jupyter": {},
    "scrolled": false,
    "slideshow": {
     "slide_type": "slide"
    },
    "tags": []
   },
   "outputs": [
    {
     "data": {
      "text/html": [
       "<div>\n",
       "<style scoped>\n",
       "    .dataframe tbody tr th:only-of-type {\n",
       "        vertical-align: middle;\n",
       "    }\n",
       "\n",
       "    .dataframe tbody tr th {\n",
       "        vertical-align: top;\n",
       "    }\n",
       "\n",
       "    .dataframe thead th {\n",
       "        text-align: right;\n",
       "    }\n",
       "</style>\n",
       "<table border=\"1\" class=\"dataframe\">\n",
       "  <thead>\n",
       "    <tr style=\"text-align: right;\">\n",
       "      <th></th>\n",
       "      <th>便利设施</th>\n",
       "      <th>床的类型</th>\n",
       "      <th>邮编</th>\n",
       "      <th>房主回复率</th>\n",
       "      <th>首次评论日期</th>\n",
       "      <th>最近评论日期</th>\n",
       "      <th>何时成为房主</th>\n",
       "      <th>民宿周边</th>\n",
       "      <th>房主身份是否验证</th>\n",
       "      <th>房主是否有个人资料图片</th>\n",
       "    </tr>\n",
       "  </thead>\n",
       "  <tbody>\n",
       "    <tr>\n",
       "      <th>0</th>\n",
       "      <td>{TV,\"Cable TV\",Internet,\"Wireless Internet\",\"Air conditioning\",Kitchen,\"Pets live on this property\",Dog(s),\"Hot tub\",Heating,Washer,Dryer,\"Smoke detector\",\"Fire extinguisher\",Essentials,\"translati...</td>\n",
       "      <td>4</td>\n",
       "      <td>90027</td>\n",
       "      <td>None</td>\n",
       "      <td>2015-05-07</td>\n",
       "      <td>2016-06-26</td>\n",
       "      <td>2015-02-25</td>\n",
       "      <td>Los Feliz</td>\n",
       "      <td>t</td>\n",
       "      <td>t</td>\n",
       "    </tr>\n",
       "    <tr>\n",
       "      <th>1</th>\n",
       "      <td>{TV,\"Wireless Internet\",Kitchen,\"Free parking on premises\",\"Pets allowed\",Heating,\"Family/kid friendly\",Washer,Dryer,\"Smoke detector\",\"Carbon monoxide detector\",\"First aid kit\",\"Fire extinguisher\"...</td>\n",
       "      <td>4</td>\n",
       "      <td>10454</td>\n",
       "      <td>None</td>\n",
       "      <td>2016-07-02</td>\n",
       "      <td>2016-07-31</td>\n",
       "      <td>2009-10-27</td>\n",
       "      <td>Mott Haven</td>\n",
       "      <td>t</td>\n",
       "      <td>t</td>\n",
       "    </tr>\n",
       "    <tr>\n",
       "      <th>2</th>\n",
       "      <td>{TV,\"Air conditioning\",Kitchen,Heating,\"Smoke detector\",\"Carbon monoxide detector\",\"First aid kit\",\"Safety card\",Essentials,Shampoo,\"Hair dryer\"}</td>\n",
       "      <td>4</td>\n",
       "      <td>11222</td>\n",
       "      <td>100%</td>\n",
       "      <td>2017-07-01</td>\n",
       "      <td>2017-07-31</td>\n",
       "      <td>2017-06-29</td>\n",
       "      <td>Greenpoint</td>\n",
       "      <td>f</td>\n",
       "      <td>t</td>\n",
       "    </tr>\n",
       "    <tr>\n",
       "      <th>3</th>\n",
       "      <td>{}</td>\n",
       "      <td>4</td>\n",
       "      <td>94110</td>\n",
       "      <td>None</td>\n",
       "      <td>None</td>\n",
       "      <td>None</td>\n",
       "      <td>2013-03-19</td>\n",
       "      <td>Mission District</td>\n",
       "      <td>t</td>\n",
       "      <td>t</td>\n",
       "    </tr>\n",
       "    <tr>\n",
       "      <th>4</th>\n",
       "      <td>{Internet,\"Wireless Internet\",\"Air conditioning\",Kitchen,\"Free parking on premises\",\"Pets live on this property\",Cat(s),\"Buzzer/wireless intercom\",Heating,Essentials,Shampoo,\"translation missing: ...</td>\n",
       "      <td>4</td>\n",
       "      <td>11216</td>\n",
       "      <td>100%</td>\n",
       "      <td>2014-04-30</td>\n",
       "      <td>2016-05-22</td>\n",
       "      <td>2011-07-30</td>\n",
       "      <td>Bedford-Stuyvesant</td>\n",
       "      <td>t</td>\n",
       "      <td>t</td>\n",
       "    </tr>\n",
       "  </tbody>\n",
       "</table>\n",
       "</div>"
      ],
      "text/plain": [
       "                                                                                                                                                                                                      便利设施  \\\n",
       "0  {TV,\"Cable TV\",Internet,\"Wireless Internet\",\"Air conditioning\",Kitchen,\"Pets live on this property\",Dog(s),\"Hot tub\",Heating,Washer,Dryer,\"Smoke detector\",\"Fire extinguisher\",Essentials,\"translati...   \n",
       "1  {TV,\"Wireless Internet\",Kitchen,\"Free parking on premises\",\"Pets allowed\",Heating,\"Family/kid friendly\",Washer,Dryer,\"Smoke detector\",\"Carbon monoxide detector\",\"First aid kit\",\"Fire extinguisher\"...   \n",
       "2                                                        {TV,\"Air conditioning\",Kitchen,Heating,\"Smoke detector\",\"Carbon monoxide detector\",\"First aid kit\",\"Safety card\",Essentials,Shampoo,\"Hair dryer\"}   \n",
       "3                                                                                                                                                                                                       {}   \n",
       "4  {Internet,\"Wireless Internet\",\"Air conditioning\",Kitchen,\"Free parking on premises\",\"Pets live on this property\",Cat(s),\"Buzzer/wireless intercom\",Heating,Essentials,Shampoo,\"translation missing: ...   \n",
       "\n",
       "   床的类型     邮编 房主回复率      首次评论日期      最近评论日期      何时成为房主                民宿周边  \\\n",
       "0     4  90027  None  2015-05-07  2016-06-26  2015-02-25           Los Feliz   \n",
       "1     4  10454  None  2016-07-02  2016-07-31  2009-10-27          Mott Haven   \n",
       "2     4  11222  100%  2017-07-01  2017-07-31  2017-06-29          Greenpoint   \n",
       "3     4  94110  None        None        None  2013-03-19    Mission District   \n",
       "4     4  11216  100%  2014-04-30  2016-05-22  2011-07-30  Bedford-Stuyvesant   \n",
       "\n",
       "  房主身份是否验证 房主是否有个人资料图片  \n",
       "0        t           t  \n",
       "1        t           t  \n",
       "2        f           t  \n",
       "3        t           t  \n",
       "4        t           t  "
      ]
     },
     "execution_count": 26,
     "metadata": {},
     "output_type": "execute_result"
    }
   ],
   "source": [
    "# 查看待编码特征情况\n",
    "cols = ['便利设施','床的类型','邮编','房主回复率','首次评论日期','最近评论日期','何时成为房主','民宿周边','房主身份是否验证','房主是否有个人资料图片']\n",
    "\n",
    "all_data[cols].head()"
   ]
  },
  {
   "cell_type": "code",
   "execution_count": 27,
   "metadata": {
    "id": "B9F673F975B1463581BEBD2EAB3EB294",
    "jupyter": {},
    "scrolled": false,
    "slideshow": {
     "slide_type": "slide"
    },
    "tags": []
   },
   "outputs": [],
   "source": [
    "# 将数值类型转化为字符串类型\n",
    "feature = ['床的类型', '房产类型', '房型', '所在城市','是否支持随即预订']\n",
    "for i in feature:\n",
    "    all_data[i] = all_data[i].astype(str)"
   ]
  },
  {
   "cell_type": "code",
   "execution_count": 28,
   "metadata": {
    "id": "68E85803B3C2435F8D06864A6A848213",
    "jupyter": {},
    "scrolled": false,
    "slideshow": {
     "slide_type": "slide"
    },
    "tags": []
   },
   "outputs": [],
   "source": [
    "# 标签编码对不连续的数字或者文本进行编号,转换成连续的数值型变量\n",
    "for c in cols:\n",
    "    le = LabelEncoder()\n",
    "    le.fit(list(all_data[c].values))\n",
    "    all_data[c] = le.transform(list(all_data[c].values))"
   ]
  },
  {
   "cell_type": "code",
   "execution_count": 29,
   "metadata": {
    "id": "4DD009AEF57C4776836318C6C1FBAD22",
    "jupyter": {},
    "scrolled": false,
    "slideshow": {
     "slide_type": "slide"
    },
    "tags": []
   },
   "outputs": [
    {
     "data": {
      "text/html": [
       "<div>\n",
       "<style scoped>\n",
       "    .dataframe tbody tr th:only-of-type {\n",
       "        vertical-align: middle;\n",
       "    }\n",
       "\n",
       "    .dataframe tbody tr th {\n",
       "        vertical-align: top;\n",
       "    }\n",
       "\n",
       "    .dataframe thead th {\n",
       "        text-align: right;\n",
       "    }\n",
       "</style>\n",
       "<table border=\"1\" class=\"dataframe\">\n",
       "  <thead>\n",
       "    <tr style=\"text-align: right;\">\n",
       "      <th></th>\n",
       "      <th>便利设施</th>\n",
       "      <th>床的类型</th>\n",
       "      <th>邮编</th>\n",
       "      <th>房主回复率</th>\n",
       "      <th>首次评论日期</th>\n",
       "      <th>最近评论日期</th>\n",
       "      <th>何时成为房主</th>\n",
       "      <th>民宿周边</th>\n",
       "      <th>房主身份是否验证</th>\n",
       "      <th>房主是否有个人资料图片</th>\n",
       "    </tr>\n",
       "  </thead>\n",
       "  <tbody>\n",
       "    <tr>\n",
       "      <th>0</th>\n",
       "      <td>95</td>\n",
       "      <td>3</td>\n",
       "      <td>85</td>\n",
       "      <td>18</td>\n",
       "      <td>32</td>\n",
       "      <td>9</td>\n",
       "      <td>104</td>\n",
       "      <td>62</td>\n",
       "      <td>2</td>\n",
       "      <td>1</td>\n",
       "    </tr>\n",
       "    <tr>\n",
       "      <th>1</th>\n",
       "      <td>153</td>\n",
       "      <td>3</td>\n",
       "      <td>36</td>\n",
       "      <td>18</td>\n",
       "      <td>76</td>\n",
       "      <td>13</td>\n",
       "      <td>2</td>\n",
       "      <td>73</td>\n",
       "      <td>2</td>\n",
       "      <td>1</td>\n",
       "    </tr>\n",
       "    <tr>\n",
       "      <th>2</th>\n",
       "      <td>60</td>\n",
       "      <td>3</td>\n",
       "      <td>54</td>\n",
       "      <td>1</td>\n",
       "      <td>128</td>\n",
       "      <td>71</td>\n",
       "      <td>184</td>\n",
       "      <td>40</td>\n",
       "      <td>1</td>\n",
       "      <td>1</td>\n",
       "    </tr>\n",
       "    <tr>\n",
       "      <th>3</th>\n",
       "      <td>198</td>\n",
       "      <td>3</td>\n",
       "      <td>120</td>\n",
       "      <td>18</td>\n",
       "      <td>146</td>\n",
       "      <td>107</td>\n",
       "      <td>50</td>\n",
       "      <td>71</td>\n",
       "      <td>2</td>\n",
       "      <td>1</td>\n",
       "    </tr>\n",
       "    <tr>\n",
       "      <th>4</th>\n",
       "      <td>42</td>\n",
       "      <td>3</td>\n",
       "      <td>50</td>\n",
       "      <td>1</td>\n",
       "      <td>21</td>\n",
       "      <td>6</td>\n",
       "      <td>19</td>\n",
       "      <td>4</td>\n",
       "      <td>2</td>\n",
       "      <td>1</td>\n",
       "    </tr>\n",
       "  </tbody>\n",
       "</table>\n",
       "</div>"
      ],
      "text/plain": [
       "   便利设施  床的类型   邮编  房主回复率  首次评论日期  最近评论日期  何时成为房主  民宿周边  房主身份是否验证  房主是否有个人资料图片\n",
       "0    95     3   85     18      32       9     104    62         2            1\n",
       "1   153     3   36     18      76      13       2    73         2            1\n",
       "2    60     3   54      1     128      71     184    40         1            1\n",
       "3   198     3  120     18     146     107      50    71         2            1\n",
       "4    42     3   50      1      21       6      19     4         2            1"
      ]
     },
     "execution_count": 29,
     "metadata": {},
     "output_type": "execute_result"
    }
   ],
   "source": [
    "# 编码后特征情况\n",
    "all_data[cols].head()\n",
    "\n"
   ]
  },
  {
   "cell_type": "code",
   "execution_count": 30,
   "metadata": {
    "id": "F4EFB8CB66274A828E30EC70ADB2C5D9",
    "jupyter": {},
    "scrolled": false,
    "slideshow": {
     "slide_type": "slide"
    },
    "tags": []
   },
   "outputs": [
    {
     "data": {
      "text/html": [
       "<div>\n",
       "<style scoped>\n",
       "    .dataframe tbody tr th:only-of-type {\n",
       "        vertical-align: middle;\n",
       "    }\n",
       "\n",
       "    .dataframe tbody tr th {\n",
       "        vertical-align: top;\n",
       "    }\n",
       "\n",
       "    .dataframe thead th {\n",
       "        text-align: right;\n",
       "    }\n",
       "</style>\n",
       "<table border=\"1\" class=\"dataframe\">\n",
       "  <thead>\n",
       "    <tr style=\"text-align: right;\">\n",
       "      <th></th>\n",
       "      <th>容纳人数</th>\n",
       "      <th>便利设施</th>\n",
       "      <th>洗手间数量</th>\n",
       "      <th>床的数量</th>\n",
       "      <th>床的类型</th>\n",
       "      <th>卧室数量</th>\n",
       "      <th>取消条款</th>\n",
       "      <th>所在城市</th>\n",
       "      <th>清洁费</th>\n",
       "      <th>首次评论日期</th>\n",
       "      <th>房主是否有个人资料图片</th>\n",
       "      <th>房主身份是否验证</th>\n",
       "      <th>房主回复率</th>\n",
       "      <th>何时成为房主</th>\n",
       "      <th>是否支持随即预订</th>\n",
       "      <th>最近评论日期</th>\n",
       "      <th>维度</th>\n",
       "      <th>经度</th>\n",
       "      <th>民宿周边</th>\n",
       "      <th>评论个数</th>\n",
       "      <th>房产类型</th>\n",
       "      <th>民宿评分</th>\n",
       "      <th>房型</th>\n",
       "      <th>邮编</th>\n",
       "    </tr>\n",
       "  </thead>\n",
       "  <tbody>\n",
       "    <tr>\n",
       "      <th>0</th>\n",
       "      <td>4</td>\n",
       "      <td>95</td>\n",
       "      <td>1.5</td>\n",
       "      <td>3.0</td>\n",
       "      <td>3</td>\n",
       "      <td>2.0</td>\n",
       "      <td>0</td>\n",
       "      <td>3</td>\n",
       "      <td>0</td>\n",
       "      <td>32</td>\n",
       "      <td>1</td>\n",
       "      <td>2</td>\n",
       "      <td>18</td>\n",
       "      <td>104</td>\n",
       "      <td>0</td>\n",
       "      <td>9</td>\n",
       "      <td>34.109039</td>\n",
       "      <td>-118.273390</td>\n",
       "      <td>62</td>\n",
       "      <td>12</td>\n",
       "      <td>17</td>\n",
       "      <td>97.0</td>\n",
       "      <td>0</td>\n",
       "      <td>85</td>\n",
       "    </tr>\n",
       "    <tr>\n",
       "      <th>1</th>\n",
       "      <td>2</td>\n",
       "      <td>153</td>\n",
       "      <td>1.0</td>\n",
       "      <td>1.0</td>\n",
       "      <td>3</td>\n",
       "      <td>1.0</td>\n",
       "      <td>2</td>\n",
       "      <td>4</td>\n",
       "      <td>1</td>\n",
       "      <td>76</td>\n",
       "      <td>1</td>\n",
       "      <td>2</td>\n",
       "      <td>18</td>\n",
       "      <td>2</td>\n",
       "      <td>1</td>\n",
       "      <td>13</td>\n",
       "      <td>40.812897</td>\n",
       "      <td>-73.919163</td>\n",
       "      <td>73</td>\n",
       "      <td>6</td>\n",
       "      <td>0</td>\n",
       "      <td>87.0</td>\n",
       "      <td>0</td>\n",
       "      <td>36</td>\n",
       "    </tr>\n",
       "    <tr>\n",
       "      <th>2</th>\n",
       "      <td>4</td>\n",
       "      <td>60</td>\n",
       "      <td>1.0</td>\n",
       "      <td>2.0</td>\n",
       "      <td>3</td>\n",
       "      <td>0.0</td>\n",
       "      <td>2</td>\n",
       "      <td>4</td>\n",
       "      <td>1</td>\n",
       "      <td>128</td>\n",
       "      <td>1</td>\n",
       "      <td>1</td>\n",
       "      <td>1</td>\n",
       "      <td>184</td>\n",
       "      <td>1</td>\n",
       "      <td>71</td>\n",
       "      <td>40.737643</td>\n",
       "      <td>-73.953309</td>\n",
       "      <td>40</td>\n",
       "      <td>4</td>\n",
       "      <td>0</td>\n",
       "      <td>80.0</td>\n",
       "      <td>0</td>\n",
       "      <td>54</td>\n",
       "    </tr>\n",
       "    <tr>\n",
       "      <th>3</th>\n",
       "      <td>2</td>\n",
       "      <td>198</td>\n",
       "      <td>1.0</td>\n",
       "      <td>1.0</td>\n",
       "      <td>3</td>\n",
       "      <td>1.0</td>\n",
       "      <td>0</td>\n",
       "      <td>5</td>\n",
       "      <td>1</td>\n",
       "      <td>146</td>\n",
       "      <td>1</td>\n",
       "      <td>2</td>\n",
       "      <td>18</td>\n",
       "      <td>50</td>\n",
       "      <td>0</td>\n",
       "      <td>107</td>\n",
       "      <td>37.759935</td>\n",
       "      <td>-122.420558</td>\n",
       "      <td>71</td>\n",
       "      <td>0</td>\n",
       "      <td>0</td>\n",
       "      <td>100.0</td>\n",
       "      <td>1</td>\n",
       "      <td>120</td>\n",
       "    </tr>\n",
       "    <tr>\n",
       "      <th>4</th>\n",
       "      <td>3</td>\n",
       "      <td>42</td>\n",
       "      <td>1.0</td>\n",
       "      <td>1.0</td>\n",
       "      <td>3</td>\n",
       "      <td>1.0</td>\n",
       "      <td>1</td>\n",
       "      <td>4</td>\n",
       "      <td>1</td>\n",
       "      <td>21</td>\n",
       "      <td>1</td>\n",
       "      <td>2</td>\n",
       "      <td>1</td>\n",
       "      <td>19</td>\n",
       "      <td>0</td>\n",
       "      <td>6</td>\n",
       "      <td>40.683363</td>\n",
       "      <td>-73.949490</td>\n",
       "      <td>4</td>\n",
       "      <td>16</td>\n",
       "      <td>0</td>\n",
       "      <td>99.0</td>\n",
       "      <td>0</td>\n",
       "      <td>50</td>\n",
       "    </tr>\n",
       "  </tbody>\n",
       "</table>\n",
       "</div>"
      ],
      "text/plain": [
       "   容纳人数  便利设施  洗手间数量  床的数量  床的类型  卧室数量  取消条款 所在城市  清洁费  首次评论日期  房主是否有个人资料图片  \\\n",
       "0     4    95    1.5   3.0     3   2.0     0    3    0      32            1   \n",
       "1     2   153    1.0   1.0     3   1.0     2    4    1      76            1   \n",
       "2     4    60    1.0   2.0     3   0.0     2    4    1     128            1   \n",
       "3     2   198    1.0   1.0     3   1.0     0    5    1     146            1   \n",
       "4     3    42    1.0   1.0     3   1.0     1    4    1      21            1   \n",
       "\n",
       "   房主身份是否验证  房主回复率  何时成为房主 是否支持随即预订  最近评论日期         维度          经度  民宿周边  \\\n",
       "0         2     18     104        0       9  34.109039 -118.273390    62   \n",
       "1         2     18       2        1      13  40.812897  -73.919163    73   \n",
       "2         1      1     184        1      71  40.737643  -73.953309    40   \n",
       "3         2     18      50        0     107  37.759935 -122.420558    71   \n",
       "4         2      1      19        0       6  40.683363  -73.949490     4   \n",
       "\n",
       "   评论个数 房产类型   民宿评分 房型   邮编  \n",
       "0    12   17   97.0  0   85  \n",
       "1     6    0   87.0  0   36  \n",
       "2     4    0   80.0  0   54  \n",
       "3     0    0  100.0  1  120  \n",
       "4    16    0   99.0  0   50  "
      ]
     },
     "execution_count": 30,
     "metadata": {},
     "output_type": "execute_result"
    }
   ],
   "source": [
    "pd.set_option('max_columns', 80)\n",
    "all_data.head()"
   ]
  },
  {
   "cell_type": "markdown",
   "metadata": {
    "id": "C943372E5E464EC893CB2B738A10C753",
    "jupyter": {},
    "mdEditEnable": false,
    "slideshow": {
     "slide_type": "slide"
    },
    "tags": []
   },
   "source": [
    "## 增加特征"
   ]
  },
  {
   "cell_type": "code",
   "execution_count": 31,
   "metadata": {
    "id": "ACC414E1F41E4A3AA2D1EFDEB14F152C",
    "jupyter": {},
    "scrolled": false,
    "slideshow": {
     "slide_type": "slide"
    },
    "tags": []
   },
   "outputs": [],
   "source": [
    "# all_data['TotalSF'] = all_data['TotalBsmtSF'] + all_data['1stFlrSF'] + all_data['2ndFlrSF']"
   ]
  },
  {
   "cell_type": "markdown",
   "metadata": {
    "id": "475D076B42494F2D88A4F58927BF50B1",
    "jupyter": {},
    "mdEditEnable": false,
    "slideshow": {
     "slide_type": "slide"
    },
    "tags": []
   },
   "source": [
    "## 倾斜特征"
   ]
  },
  {
   "cell_type": "code",
   "execution_count": 32,
   "metadata": {
    "id": "0B9FE2AF1BD645AAAB1242965868230C",
    "jupyter": {},
    "scrolled": false,
    "slideshow": {
     "slide_type": "slide"
    },
    "tags": []
   },
   "outputs": [
    {
     "data": {
      "text/plain": [
       "容纳人数        int64\n",
       "便利设施        int64\n",
       "洗手间数量     float64\n",
       "床的数量      float64\n",
       "床的类型        int64\n",
       "卧室数量      float64\n",
       "取消条款        int64\n",
       "所在城市       object\n",
       "清洁费         int64\n",
       "首次评论日期      int64\n",
       "dtype: object"
      ]
     },
     "execution_count": 32,
     "metadata": {},
     "output_type": "execute_result"
    }
   ],
   "source": [
    "all_data.dtypes.head(10)"
   ]
  },
  {
   "cell_type": "code",
   "execution_count": 33,
   "metadata": {
    "id": "F7031F3595D345948ED21F99BC712E15",
    "jupyter": {},
    "scrolled": false,
    "slideshow": {
     "slide_type": "slide"
    },
    "tags": []
   },
   "outputs": [
    {
     "data": {
      "text/plain": [
       "Index(['容纳人数', '便利设施', '洗手间数量', '床的数量', '床的类型', '卧室数量', '取消条款', '清洁费',\n",
       "       '首次评论日期', '房主是否有个人资料图片', '房主身份是否验证', '房主回复率', '何时成为房主', '最近评论日期', '维度',\n",
       "       '经度', '民宿周边', '评论个数', '民宿评分', '邮编'],\n",
       "      dtype='object')"
      ]
     },
     "execution_count": 33,
     "metadata": {},
     "output_type": "execute_result"
    }
   ],
   "source": [
    "all_data.dtypes[all_data.dtypes != 'object'].index"
   ]
  },
  {
   "cell_type": "code",
   "execution_count": 34,
   "metadata": {
    "id": "A8EB82F6A7584777893B5D6404B1C7B2",
    "jupyter": {},
    "scrolled": false,
    "slideshow": {
     "slide_type": "slide"
    },
    "tags": []
   },
   "outputs": [
    {
     "data": {
      "text/html": [
       "<div>\n",
       "<style scoped>\n",
       "    .dataframe tbody tr th:only-of-type {\n",
       "        vertical-align: middle;\n",
       "    }\n",
       "\n",
       "    .dataframe tbody tr th {\n",
       "        vertical-align: top;\n",
       "    }\n",
       "\n",
       "    .dataframe thead th {\n",
       "        text-align: right;\n",
       "    }\n",
       "</style>\n",
       "<table border=\"1\" class=\"dataframe\">\n",
       "  <thead>\n",
       "    <tr style=\"text-align: right;\">\n",
       "      <th></th>\n",
       "      <th>Skew</th>\n",
       "    </tr>\n",
       "  </thead>\n",
       "  <tbody>\n",
       "    <tr>\n",
       "      <th>洗手间数量</th>\n",
       "      <td>7.255824</td>\n",
       "    </tr>\n",
       "    <tr>\n",
       "      <th>床的数量</th>\n",
       "      <td>4.439281</td>\n",
       "    </tr>\n",
       "    <tr>\n",
       "      <th>评论个数</th>\n",
       "      <td>3.244753</td>\n",
       "    </tr>\n",
       "    <tr>\n",
       "      <th>容纳人数</th>\n",
       "      <td>2.804643</td>\n",
       "    </tr>\n",
       "    <tr>\n",
       "      <th>卧室数量</th>\n",
       "      <td>1.773802</td>\n",
       "    </tr>\n",
       "    <tr>\n",
       "      <th>房主回复率</th>\n",
       "      <td>0.867043</td>\n",
       "    </tr>\n",
       "    <tr>\n",
       "      <th>邮编</th>\n",
       "      <td>0.072467</td>\n",
       "    </tr>\n",
       "    <tr>\n",
       "      <th>便利设施</th>\n",
       "      <td>0.009655</td>\n",
       "    </tr>\n",
       "    <tr>\n",
       "      <th>何时成为房主</th>\n",
       "      <td>-0.013835</td>\n",
       "    </tr>\n",
       "    <tr>\n",
       "      <th>民宿周边</th>\n",
       "      <td>-0.083723</td>\n",
       "    </tr>\n",
       "    <tr>\n",
       "      <th>取消条款</th>\n",
       "      <td>-0.162947</td>\n",
       "    </tr>\n",
       "    <tr>\n",
       "      <th>首次评论日期</th>\n",
       "      <td>-0.295565</td>\n",
       "    </tr>\n",
       "    <tr>\n",
       "      <th>最近评论日期</th>\n",
       "      <td>-0.458917</td>\n",
       "    </tr>\n",
       "    <tr>\n",
       "      <th>经度</th>\n",
       "      <td>-0.510062</td>\n",
       "    </tr>\n",
       "    <tr>\n",
       "      <th>房主身份是否验证</th>\n",
       "      <td>-0.617379</td>\n",
       "    </tr>\n",
       "    <tr>\n",
       "      <th>维度</th>\n",
       "      <td>-0.662091</td>\n",
       "    </tr>\n",
       "    <tr>\n",
       "      <th>清洁费</th>\n",
       "      <td>-1.124211</td>\n",
       "    </tr>\n",
       "    <tr>\n",
       "      <th>民宿评分</th>\n",
       "      <td>-2.303836</td>\n",
       "    </tr>\n",
       "    <tr>\n",
       "      <th>床的类型</th>\n",
       "      <td>-7.964324</td>\n",
       "    </tr>\n",
       "    <tr>\n",
       "      <th>房主是否有个人资料图片</th>\n",
       "      <td>-14.035848</td>\n",
       "    </tr>\n",
       "  </tbody>\n",
       "</table>\n",
       "</div>"
      ],
      "text/plain": [
       "                  Skew\n",
       "洗手间数量         7.255824\n",
       "床的数量          4.439281\n",
       "评论个数          3.244753\n",
       "容纳人数          2.804643\n",
       "卧室数量          1.773802\n",
       "房主回复率         0.867043\n",
       "邮编            0.072467\n",
       "便利设施          0.009655\n",
       "何时成为房主       -0.013835\n",
       "民宿周边         -0.083723\n",
       "取消条款         -0.162947\n",
       "首次评论日期       -0.295565\n",
       "最近评论日期       -0.458917\n",
       "经度           -0.510062\n",
       "房主身份是否验证     -0.617379\n",
       "维度           -0.662091\n",
       "清洁费          -1.124211\n",
       "民宿评分         -2.303836\n",
       "床的类型         -7.964324\n",
       "房主是否有个人资料图片 -14.035848"
      ]
     },
     "execution_count": 34,
     "metadata": {},
     "output_type": "execute_result"
    }
   ],
   "source": [
    "# 计算特征偏度\n",
    "numeric_feats = all_data.dtypes[all_data.dtypes != 'object'].index\n",
    "skewed_feats = all_data[numeric_feats].apply(lambda x: skew(x.dropna())).sort_values(ascending=False)\n",
    "skewness = pd.DataFrame({'Skew':skewed_feats})\n",
    "skewness"
   ]
  },
  {
   "cell_type": "code",
   "execution_count": 35,
   "metadata": {
    "id": "E3C3EA637E3749CEB2E59F5EE6B61E5E",
    "jupyter": {},
    "notebookId": "60672462cbb4020018e42d1c",
    "scrolled": false,
    "slideshow": {
     "slide_type": "slide"
    },
    "tags": []
   },
   "outputs": [
    {
     "data": {
      "text/plain": [
       "容纳人数           0\n",
       "便利设施           0\n",
       "洗手间数量          0\n",
       "床的数量           0\n",
       "床的类型           0\n",
       "卧室数量           0\n",
       "取消条款           0\n",
       "所在城市           0\n",
       "清洁费            0\n",
       "首次评论日期         0\n",
       "房主是否有个人资料图片    0\n",
       "房主身份是否验证       0\n",
       "房主回复率          0\n",
       "何时成为房主         0\n",
       "是否支持随即预订       0\n",
       "最近评论日期         0\n",
       "维度             0\n",
       "经度             0\n",
       "民宿周边           0\n",
       "评论个数           0\n",
       "房产类型           0\n",
       "民宿评分           0\n",
       "房型             0\n",
       "邮编             0\n",
       "dtype: int64"
      ]
     },
     "execution_count": 35,
     "metadata": {},
     "output_type": "execute_result"
    }
   ],
   "source": [
    "all_data.isnull().sum()"
   ]
  },
  {
   "cell_type": "code",
   "execution_count": 36,
   "metadata": {
    "id": "D729A4DAE24744528A4EF27A39959512",
    "jupyter": {},
    "scrolled": false,
    "slideshow": {
     "slide_type": "slide"
    },
    "tags": []
   },
   "outputs": [
    {
     "name": "stdout",
     "output_type": "stream",
     "text": [
      "There are 10 skewed numerical features to Box Cox transform\n",
      "洗手间数量\n",
      "床的数量\n",
      "评论个数\n",
      "容纳人数\n",
      "卧室数量\n",
      "房主回复率\n",
      "清洁费\n",
      "民宿评分\n",
      "床的类型\n",
      "房主是否有个人资料图片\n"
     ]
    }
   ],
   "source": [
    "# 对偏态分布的数据进行标准化处理，使其更加服从正态分布\n",
    "skewness = skewness[abs(skewness.Skew) > 0.75]\n",
    "print('There are {} skewed numerical features to Box Cox transform'.format(skewness.shape[0]))\n",
    "# print(skewed_features)\n",
    "skewed_features = skewness.index\n",
    "lam = 0.15\n",
    "for feat in skewed_features:\n",
    "    print(feat)\n",
    "    all_data[feat] = boxcox1p(all_data[feat], lam)\n",
    "    \n",
    "# all_data[skewed_features] = np.log1p(all_data[skewed_features])"
   ]
  },
  {
   "cell_type": "code",
   "execution_count": 37,
   "metadata": {
    "id": "0BAE115798204FBA932A224C0FEDFD96",
    "jupyter": {},
    "notebookId": "60672462cbb4020018e42d1c",
    "scrolled": false,
    "slideshow": {
     "slide_type": "slide"
    },
    "tags": []
   },
   "outputs": [
    {
     "data": {
      "text/plain": [
       "容纳人数           0\n",
       "便利设施           0\n",
       "洗手间数量          0\n",
       "床的数量           0\n",
       "床的类型           0\n",
       "卧室数量           0\n",
       "取消条款           0\n",
       "所在城市           0\n",
       "清洁费            0\n",
       "首次评论日期         0\n",
       "房主是否有个人资料图片    0\n",
       "房主身份是否验证       0\n",
       "房主回复率          0\n",
       "何时成为房主         0\n",
       "是否支持随即预订       0\n",
       "最近评论日期         0\n",
       "维度             0\n",
       "经度             0\n",
       "民宿周边           0\n",
       "评论个数           0\n",
       "房产类型           0\n",
       "民宿评分           0\n",
       "房型             0\n",
       "邮编             0\n",
       "dtype: int64"
      ]
     },
     "execution_count": 37,
     "metadata": {},
     "output_type": "execute_result"
    }
   ],
   "source": [
    "all_data.isnull().sum()"
   ]
  },
  {
   "cell_type": "code",
   "execution_count": 38,
   "metadata": {
    "id": "6392FA3A7CAF454497E50AD6BA19A14E",
    "jupyter": {},
    "scrolled": false,
    "slideshow": {
     "slide_type": "slide"
    },
    "tags": []
   },
   "outputs": [
    {
     "data": {
      "text/html": [
       "<div>\n",
       "<style scoped>\n",
       "    .dataframe tbody tr th:only-of-type {\n",
       "        vertical-align: middle;\n",
       "    }\n",
       "\n",
       "    .dataframe tbody tr th {\n",
       "        vertical-align: top;\n",
       "    }\n",
       "\n",
       "    .dataframe thead th {\n",
       "        text-align: right;\n",
       "    }\n",
       "</style>\n",
       "<table border=\"1\" class=\"dataframe\">\n",
       "  <thead>\n",
       "    <tr style=\"text-align: right;\">\n",
       "      <th></th>\n",
       "      <th>容纳人数</th>\n",
       "      <th>便利设施</th>\n",
       "      <th>洗手间数量</th>\n",
       "      <th>床的数量</th>\n",
       "      <th>床的类型</th>\n",
       "      <th>卧室数量</th>\n",
       "      <th>取消条款</th>\n",
       "      <th>所在城市</th>\n",
       "      <th>清洁费</th>\n",
       "      <th>首次评论日期</th>\n",
       "      <th>房主是否有个人资料图片</th>\n",
       "      <th>房主身份是否验证</th>\n",
       "      <th>房主回复率</th>\n",
       "      <th>何时成为房主</th>\n",
       "      <th>是否支持随即预订</th>\n",
       "      <th>最近评论日期</th>\n",
       "      <th>维度</th>\n",
       "      <th>经度</th>\n",
       "      <th>民宿周边</th>\n",
       "      <th>评论个数</th>\n",
       "      <th>房产类型</th>\n",
       "      <th>民宿评分</th>\n",
       "      <th>房型</th>\n",
       "      <th>邮编</th>\n",
       "    </tr>\n",
       "  </thead>\n",
       "  <tbody>\n",
       "    <tr>\n",
       "      <th>0</th>\n",
       "      <td>1.820334</td>\n",
       "      <td>95</td>\n",
       "      <td>0.982247</td>\n",
       "      <td>1.540963</td>\n",
       "      <td>1.540963</td>\n",
       "      <td>1.194318</td>\n",
       "      <td>0</td>\n",
       "      <td>3</td>\n",
       "      <td>0.000000</td>\n",
       "      <td>32</td>\n",
       "      <td>0.730463</td>\n",
       "      <td>2</td>\n",
       "      <td>3.701973</td>\n",
       "      <td>104</td>\n",
       "      <td>0</td>\n",
       "      <td>9</td>\n",
       "      <td>34.109039</td>\n",
       "      <td>-118.273390</td>\n",
       "      <td>62</td>\n",
       "      <td>3.128239</td>\n",
       "      <td>17</td>\n",
       "      <td>6.594833</td>\n",
       "      <td>0</td>\n",
       "      <td>85</td>\n",
       "    </tr>\n",
       "    <tr>\n",
       "      <th>1</th>\n",
       "      <td>1.194318</td>\n",
       "      <td>153</td>\n",
       "      <td>0.730463</td>\n",
       "      <td>0.730463</td>\n",
       "      <td>1.540963</td>\n",
       "      <td>0.730463</td>\n",
       "      <td>2</td>\n",
       "      <td>4</td>\n",
       "      <td>0.730463</td>\n",
       "      <td>76</td>\n",
       "      <td>0.730463</td>\n",
       "      <td>2</td>\n",
       "      <td>3.701973</td>\n",
       "      <td>2</td>\n",
       "      <td>1</td>\n",
       "      <td>13</td>\n",
       "      <td>40.812897</td>\n",
       "      <td>-73.919163</td>\n",
       "      <td>73</td>\n",
       "      <td>2.259674</td>\n",
       "      <td>0</td>\n",
       "      <td>6.382451</td>\n",
       "      <td>0</td>\n",
       "      <td>36</td>\n",
       "    </tr>\n",
       "    <tr>\n",
       "      <th>2</th>\n",
       "      <td>1.820334</td>\n",
       "      <td>60</td>\n",
       "      <td>0.730463</td>\n",
       "      <td>1.194318</td>\n",
       "      <td>1.540963</td>\n",
       "      <td>0.000000</td>\n",
       "      <td>2</td>\n",
       "      <td>4</td>\n",
       "      <td>0.730463</td>\n",
       "      <td>128</td>\n",
       "      <td>0.730463</td>\n",
       "      <td>1</td>\n",
       "      <td>0.730463</td>\n",
       "      <td>184</td>\n",
       "      <td>1</td>\n",
       "      <td>71</td>\n",
       "      <td>40.737643</td>\n",
       "      <td>-73.953309</td>\n",
       "      <td>40</td>\n",
       "      <td>1.820334</td>\n",
       "      <td>0</td>\n",
       "      <td>6.221214</td>\n",
       "      <td>0</td>\n",
       "      <td>54</td>\n",
       "    </tr>\n",
       "    <tr>\n",
       "      <th>3</th>\n",
       "      <td>1.194318</td>\n",
       "      <td>198</td>\n",
       "      <td>0.730463</td>\n",
       "      <td>0.730463</td>\n",
       "      <td>1.540963</td>\n",
       "      <td>0.730463</td>\n",
       "      <td>0</td>\n",
       "      <td>5</td>\n",
       "      <td>0.730463</td>\n",
       "      <td>146</td>\n",
       "      <td>0.730463</td>\n",
       "      <td>2</td>\n",
       "      <td>3.701973</td>\n",
       "      <td>50</td>\n",
       "      <td>0</td>\n",
       "      <td>107</td>\n",
       "      <td>37.759935</td>\n",
       "      <td>-122.420558</td>\n",
       "      <td>71</td>\n",
       "      <td>0.000000</td>\n",
       "      <td>0</td>\n",
       "      <td>6.654950</td>\n",
       "      <td>1</td>\n",
       "      <td>120</td>\n",
       "    </tr>\n",
       "    <tr>\n",
       "      <th>4</th>\n",
       "      <td>1.540963</td>\n",
       "      <td>42</td>\n",
       "      <td>0.730463</td>\n",
       "      <td>0.730463</td>\n",
       "      <td>1.540963</td>\n",
       "      <td>0.730463</td>\n",
       "      <td>1</td>\n",
       "      <td>4</td>\n",
       "      <td>0.730463</td>\n",
       "      <td>21</td>\n",
       "      <td>0.730463</td>\n",
       "      <td>2</td>\n",
       "      <td>0.730463</td>\n",
       "      <td>19</td>\n",
       "      <td>0</td>\n",
       "      <td>6</td>\n",
       "      <td>40.683363</td>\n",
       "      <td>-73.949490</td>\n",
       "      <td>4</td>\n",
       "      <td>3.530419</td>\n",
       "      <td>0</td>\n",
       "      <td>6.635082</td>\n",
       "      <td>0</td>\n",
       "      <td>50</td>\n",
       "    </tr>\n",
       "  </tbody>\n",
       "</table>\n",
       "</div>"
      ],
      "text/plain": [
       "       容纳人数  便利设施     洗手间数量      床的数量      床的类型      卧室数量  取消条款 所在城市  \\\n",
       "0  1.820334    95  0.982247  1.540963  1.540963  1.194318     0    3   \n",
       "1  1.194318   153  0.730463  0.730463  1.540963  0.730463     2    4   \n",
       "2  1.820334    60  0.730463  1.194318  1.540963  0.000000     2    4   \n",
       "3  1.194318   198  0.730463  0.730463  1.540963  0.730463     0    5   \n",
       "4  1.540963    42  0.730463  0.730463  1.540963  0.730463     1    4   \n",
       "\n",
       "        清洁费  首次评论日期  房主是否有个人资料图片  房主身份是否验证     房主回复率  何时成为房主 是否支持随即预订  最近评论日期  \\\n",
       "0  0.000000      32     0.730463         2  3.701973     104        0       9   \n",
       "1  0.730463      76     0.730463         2  3.701973       2        1      13   \n",
       "2  0.730463     128     0.730463         1  0.730463     184        1      71   \n",
       "3  0.730463     146     0.730463         2  3.701973      50        0     107   \n",
       "4  0.730463      21     0.730463         2  0.730463      19        0       6   \n",
       "\n",
       "          维度          经度  民宿周边      评论个数 房产类型      民宿评分 房型   邮编  \n",
       "0  34.109039 -118.273390    62  3.128239   17  6.594833  0   85  \n",
       "1  40.812897  -73.919163    73  2.259674    0  6.382451  0   36  \n",
       "2  40.737643  -73.953309    40  1.820334    0  6.221214  0   54  \n",
       "3  37.759935 -122.420558    71  0.000000    0  6.654950  1  120  \n",
       "4  40.683363  -73.949490     4  3.530419    0  6.635082  0   50  "
      ]
     },
     "execution_count": 38,
     "metadata": {},
     "output_type": "execute_result"
    }
   ],
   "source": [
    "all_data.head()\n"
   ]
  },
  {
   "cell_type": "markdown",
   "metadata": {
    "id": "AE19CA5D680A4A3F9B83BBD6459DCA6E",
    "jupyter": {},
    "mdEditEnable": false,
    "slideshow": {
     "slide_type": "slide"
    },
    "tags": []
   },
   "source": [
    "## 独热编码"
   ]
  },
  {
   "cell_type": "code",
   "execution_count": 39,
   "metadata": {
    "id": "6B7090C9F3344CC587CBB9C2381EF974",
    "jupyter": {},
    "scrolled": false,
    "slideshow": {
     "slide_type": "slide"
    },
    "tags": []
   },
   "outputs": [
    {
     "data": {
      "text/html": [
       "<div>\n",
       "<style scoped>\n",
       "    .dataframe tbody tr th:only-of-type {\n",
       "        vertical-align: middle;\n",
       "    }\n",
       "\n",
       "    .dataframe tbody tr th {\n",
       "        vertical-align: top;\n",
       "    }\n",
       "\n",
       "    .dataframe thead th {\n",
       "        text-align: right;\n",
       "    }\n",
       "</style>\n",
       "<table border=\"1\" class=\"dataframe\">\n",
       "  <thead>\n",
       "    <tr style=\"text-align: right;\">\n",
       "      <th></th>\n",
       "      <th>容纳人数</th>\n",
       "      <th>便利设施</th>\n",
       "      <th>洗手间数量</th>\n",
       "      <th>床的数量</th>\n",
       "      <th>床的类型</th>\n",
       "      <th>卧室数量</th>\n",
       "      <th>取消条款</th>\n",
       "      <th>清洁费</th>\n",
       "      <th>首次评论日期</th>\n",
       "      <th>房主是否有个人资料图片</th>\n",
       "      <th>房主身份是否验证</th>\n",
       "      <th>房主回复率</th>\n",
       "      <th>何时成为房主</th>\n",
       "      <th>最近评论日期</th>\n",
       "      <th>维度</th>\n",
       "      <th>经度</th>\n",
       "      <th>民宿周边</th>\n",
       "      <th>评论个数</th>\n",
       "      <th>民宿评分</th>\n",
       "      <th>邮编</th>\n",
       "      <th>所在城市_0</th>\n",
       "      <th>所在城市_1</th>\n",
       "      <th>所在城市_2</th>\n",
       "      <th>所在城市_3</th>\n",
       "      <th>所在城市_4</th>\n",
       "      <th>所在城市_5</th>\n",
       "      <th>是否支持随即预订_0</th>\n",
       "      <th>是否支持随即预订_1</th>\n",
       "      <th>房产类型_0</th>\n",
       "      <th>房产类型_1</th>\n",
       "      <th>房产类型_11</th>\n",
       "      <th>房产类型_12</th>\n",
       "      <th>房产类型_15</th>\n",
       "      <th>房产类型_17</th>\n",
       "      <th>房产类型_22</th>\n",
       "      <th>房产类型_23</th>\n",
       "      <th>房产类型_29</th>\n",
       "      <th>房型_0</th>\n",
       "      <th>房型_1</th>\n",
       "      <th>房型_2</th>\n",
       "    </tr>\n",
       "  </thead>\n",
       "  <tbody>\n",
       "    <tr>\n",
       "      <th>0</th>\n",
       "      <td>1.820334</td>\n",
       "      <td>95</td>\n",
       "      <td>0.982247</td>\n",
       "      <td>1.540963</td>\n",
       "      <td>1.540963</td>\n",
       "      <td>1.194318</td>\n",
       "      <td>0</td>\n",
       "      <td>0.000000</td>\n",
       "      <td>32</td>\n",
       "      <td>0.730463</td>\n",
       "      <td>2</td>\n",
       "      <td>3.701973</td>\n",
       "      <td>104</td>\n",
       "      <td>9</td>\n",
       "      <td>34.109039</td>\n",
       "      <td>-118.273390</td>\n",
       "      <td>62</td>\n",
       "      <td>3.128239</td>\n",
       "      <td>6.594833</td>\n",
       "      <td>85</td>\n",
       "      <td>0</td>\n",
       "      <td>0</td>\n",
       "      <td>0</td>\n",
       "      <td>1</td>\n",
       "      <td>0</td>\n",
       "      <td>0</td>\n",
       "      <td>1</td>\n",
       "      <td>0</td>\n",
       "      <td>0</td>\n",
       "      <td>0</td>\n",
       "      <td>0</td>\n",
       "      <td>0</td>\n",
       "      <td>0</td>\n",
       "      <td>1</td>\n",
       "      <td>0</td>\n",
       "      <td>0</td>\n",
       "      <td>0</td>\n",
       "      <td>1</td>\n",
       "      <td>0</td>\n",
       "      <td>0</td>\n",
       "    </tr>\n",
       "    <tr>\n",
       "      <th>1</th>\n",
       "      <td>1.194318</td>\n",
       "      <td>153</td>\n",
       "      <td>0.730463</td>\n",
       "      <td>0.730463</td>\n",
       "      <td>1.540963</td>\n",
       "      <td>0.730463</td>\n",
       "      <td>2</td>\n",
       "      <td>0.730463</td>\n",
       "      <td>76</td>\n",
       "      <td>0.730463</td>\n",
       "      <td>2</td>\n",
       "      <td>3.701973</td>\n",
       "      <td>2</td>\n",
       "      <td>13</td>\n",
       "      <td>40.812897</td>\n",
       "      <td>-73.919163</td>\n",
       "      <td>73</td>\n",
       "      <td>2.259674</td>\n",
       "      <td>6.382451</td>\n",
       "      <td>36</td>\n",
       "      <td>0</td>\n",
       "      <td>0</td>\n",
       "      <td>0</td>\n",
       "      <td>0</td>\n",
       "      <td>1</td>\n",
       "      <td>0</td>\n",
       "      <td>0</td>\n",
       "      <td>1</td>\n",
       "      <td>1</td>\n",
       "      <td>0</td>\n",
       "      <td>0</td>\n",
       "      <td>0</td>\n",
       "      <td>0</td>\n",
       "      <td>0</td>\n",
       "      <td>0</td>\n",
       "      <td>0</td>\n",
       "      <td>0</td>\n",
       "      <td>1</td>\n",
       "      <td>0</td>\n",
       "      <td>0</td>\n",
       "    </tr>\n",
       "    <tr>\n",
       "      <th>2</th>\n",
       "      <td>1.820334</td>\n",
       "      <td>60</td>\n",
       "      <td>0.730463</td>\n",
       "      <td>1.194318</td>\n",
       "      <td>1.540963</td>\n",
       "      <td>0.000000</td>\n",
       "      <td>2</td>\n",
       "      <td>0.730463</td>\n",
       "      <td>128</td>\n",
       "      <td>0.730463</td>\n",
       "      <td>1</td>\n",
       "      <td>0.730463</td>\n",
       "      <td>184</td>\n",
       "      <td>71</td>\n",
       "      <td>40.737643</td>\n",
       "      <td>-73.953309</td>\n",
       "      <td>40</td>\n",
       "      <td>1.820334</td>\n",
       "      <td>6.221214</td>\n",
       "      <td>54</td>\n",
       "      <td>0</td>\n",
       "      <td>0</td>\n",
       "      <td>0</td>\n",
       "      <td>0</td>\n",
       "      <td>1</td>\n",
       "      <td>0</td>\n",
       "      <td>0</td>\n",
       "      <td>1</td>\n",
       "      <td>1</td>\n",
       "      <td>0</td>\n",
       "      <td>0</td>\n",
       "      <td>0</td>\n",
       "      <td>0</td>\n",
       "      <td>0</td>\n",
       "      <td>0</td>\n",
       "      <td>0</td>\n",
       "      <td>0</td>\n",
       "      <td>1</td>\n",
       "      <td>0</td>\n",
       "      <td>0</td>\n",
       "    </tr>\n",
       "    <tr>\n",
       "      <th>3</th>\n",
       "      <td>1.194318</td>\n",
       "      <td>198</td>\n",
       "      <td>0.730463</td>\n",
       "      <td>0.730463</td>\n",
       "      <td>1.540963</td>\n",
       "      <td>0.730463</td>\n",
       "      <td>0</td>\n",
       "      <td>0.730463</td>\n",
       "      <td>146</td>\n",
       "      <td>0.730463</td>\n",
       "      <td>2</td>\n",
       "      <td>3.701973</td>\n",
       "      <td>50</td>\n",
       "      <td>107</td>\n",
       "      <td>37.759935</td>\n",
       "      <td>-122.420558</td>\n",
       "      <td>71</td>\n",
       "      <td>0.000000</td>\n",
       "      <td>6.654950</td>\n",
       "      <td>120</td>\n",
       "      <td>0</td>\n",
       "      <td>0</td>\n",
       "      <td>0</td>\n",
       "      <td>0</td>\n",
       "      <td>0</td>\n",
       "      <td>1</td>\n",
       "      <td>1</td>\n",
       "      <td>0</td>\n",
       "      <td>1</td>\n",
       "      <td>0</td>\n",
       "      <td>0</td>\n",
       "      <td>0</td>\n",
       "      <td>0</td>\n",
       "      <td>0</td>\n",
       "      <td>0</td>\n",
       "      <td>0</td>\n",
       "      <td>0</td>\n",
       "      <td>0</td>\n",
       "      <td>1</td>\n",
       "      <td>0</td>\n",
       "    </tr>\n",
       "    <tr>\n",
       "      <th>4</th>\n",
       "      <td>1.540963</td>\n",
       "      <td>42</td>\n",
       "      <td>0.730463</td>\n",
       "      <td>0.730463</td>\n",
       "      <td>1.540963</td>\n",
       "      <td>0.730463</td>\n",
       "      <td>1</td>\n",
       "      <td>0.730463</td>\n",
       "      <td>21</td>\n",
       "      <td>0.730463</td>\n",
       "      <td>2</td>\n",
       "      <td>0.730463</td>\n",
       "      <td>19</td>\n",
       "      <td>6</td>\n",
       "      <td>40.683363</td>\n",
       "      <td>-73.949490</td>\n",
       "      <td>4</td>\n",
       "      <td>3.530419</td>\n",
       "      <td>6.635082</td>\n",
       "      <td>50</td>\n",
       "      <td>0</td>\n",
       "      <td>0</td>\n",
       "      <td>0</td>\n",
       "      <td>0</td>\n",
       "      <td>1</td>\n",
       "      <td>0</td>\n",
       "      <td>1</td>\n",
       "      <td>0</td>\n",
       "      <td>1</td>\n",
       "      <td>0</td>\n",
       "      <td>0</td>\n",
       "      <td>0</td>\n",
       "      <td>0</td>\n",
       "      <td>0</td>\n",
       "      <td>0</td>\n",
       "      <td>0</td>\n",
       "      <td>0</td>\n",
       "      <td>1</td>\n",
       "      <td>0</td>\n",
       "      <td>0</td>\n",
       "    </tr>\n",
       "  </tbody>\n",
       "</table>\n",
       "</div>"
      ],
      "text/plain": [
       "       容纳人数  便利设施     洗手间数量      床的数量      床的类型      卧室数量  取消条款       清洁费  \\\n",
       "0  1.820334    95  0.982247  1.540963  1.540963  1.194318     0  0.000000   \n",
       "1  1.194318   153  0.730463  0.730463  1.540963  0.730463     2  0.730463   \n",
       "2  1.820334    60  0.730463  1.194318  1.540963  0.000000     2  0.730463   \n",
       "3  1.194318   198  0.730463  0.730463  1.540963  0.730463     0  0.730463   \n",
       "4  1.540963    42  0.730463  0.730463  1.540963  0.730463     1  0.730463   \n",
       "\n",
       "   首次评论日期  房主是否有个人资料图片  房主身份是否验证     房主回复率  何时成为房主  最近评论日期         维度  \\\n",
       "0      32     0.730463         2  3.701973     104       9  34.109039   \n",
       "1      76     0.730463         2  3.701973       2      13  40.812897   \n",
       "2     128     0.730463         1  0.730463     184      71  40.737643   \n",
       "3     146     0.730463         2  3.701973      50     107  37.759935   \n",
       "4      21     0.730463         2  0.730463      19       6  40.683363   \n",
       "\n",
       "           经度  民宿周边      评论个数      民宿评分   邮编  所在城市_0  所在城市_1  所在城市_2  所在城市_3  \\\n",
       "0 -118.273390    62  3.128239  6.594833   85       0       0       0       1   \n",
       "1  -73.919163    73  2.259674  6.382451   36       0       0       0       0   \n",
       "2  -73.953309    40  1.820334  6.221214   54       0       0       0       0   \n",
       "3 -122.420558    71  0.000000  6.654950  120       0       0       0       0   \n",
       "4  -73.949490     4  3.530419  6.635082   50       0       0       0       0   \n",
       "\n",
       "   所在城市_4  所在城市_5  是否支持随即预订_0  是否支持随即预订_1  房产类型_0  房产类型_1  房产类型_11  房产类型_12  \\\n",
       "0       0       0           1           0       0       0        0        0   \n",
       "1       1       0           0           1       1       0        0        0   \n",
       "2       1       0           0           1       1       0        0        0   \n",
       "3       0       1           1           0       1       0        0        0   \n",
       "4       1       0           1           0       1       0        0        0   \n",
       "\n",
       "   房产类型_15  房产类型_17  房产类型_22  房产类型_23  房产类型_29  房型_0  房型_1  房型_2  \n",
       "0        0        1        0        0        0     1     0     0  \n",
       "1        0        0        0        0        0     1     0     0  \n",
       "2        0        0        0        0        0     1     0     0  \n",
       "3        0        0        0        0        0     0     1     0  \n",
       "4        0        0        0        0        0     1     0     0  "
      ]
     },
     "execution_count": 39,
     "metadata": {},
     "output_type": "execute_result"
    }
   ],
   "source": [
    "# 独热编码用来解决类别型数据的离散值问题\n",
    "all_data = pd.get_dummies(all_data)\n",
    "all_data.head()"
   ]
  },
  {
   "cell_type": "code",
   "execution_count": 40,
   "metadata": {
    "id": "4FD5A60E40234EC98759E567641C5B2B",
    "jupyter": {},
    "notebookId": "60672462cbb4020018e42d1c",
    "scrolled": false,
    "slideshow": {
     "slide_type": "slide"
    },
    "tags": []
   },
   "outputs": [
    {
     "data": {
      "text/plain": [
       "容纳人数           0\n",
       "便利设施           0\n",
       "洗手间数量          0\n",
       "床的数量           0\n",
       "床的类型           0\n",
       "卧室数量           0\n",
       "取消条款           0\n",
       "清洁费            0\n",
       "首次评论日期         0\n",
       "房主是否有个人资料图片    0\n",
       "房主身份是否验证       0\n",
       "房主回复率          0\n",
       "何时成为房主         0\n",
       "最近评论日期         0\n",
       "维度             0\n",
       "经度             0\n",
       "民宿周边           0\n",
       "评论个数           0\n",
       "民宿评分           0\n",
       "邮编             0\n",
       "所在城市_0         0\n",
       "所在城市_1         0\n",
       "所在城市_2         0\n",
       "所在城市_3         0\n",
       "所在城市_4         0\n",
       "所在城市_5         0\n",
       "是否支持随即预订_0     0\n",
       "是否支持随即预订_1     0\n",
       "房产类型_0         0\n",
       "房产类型_1         0\n",
       "房产类型_11        0\n",
       "房产类型_12        0\n",
       "房产类型_15        0\n",
       "房产类型_17        0\n",
       "房产类型_22        0\n",
       "房产类型_23        0\n",
       "房产类型_29        0\n",
       "房型_0           0\n",
       "房型_1           0\n",
       "房型_2           0\n",
       "dtype: int64"
      ]
     },
     "execution_count": 40,
     "metadata": {},
     "output_type": "execute_result"
    }
   ],
   "source": [
    "all_data.isnull().sum()"
   ]
  },
  {
   "cell_type": "markdown",
   "metadata": {
    "id": "82587665A117420E9A99BBABDEEEA81E",
    "jupyter": {},
    "mdEditEnable": false,
    "slideshow": {
     "slide_type": "slide"
    },
    "tags": []
   },
   "source": [
    "## 重新划分数据集"
   ]
  },
  {
   "cell_type": "code",
   "execution_count": 41,
   "metadata": {
    "id": "284E300A643A4E7CA99315D81406149B",
    "jupyter": {},
    "scrolled": false,
    "slideshow": {
     "slide_type": "slide"
    },
    "tags": []
   },
   "outputs": [],
   "source": [
    "# 将处理好的数据重新划分成训练集和测试集，为模型训练与测试做准备\n",
    "train = all_data[:ntrain]\n",
    "test = all_data[ntrain:]"
   ]
  },
  {
   "cell_type": "markdown",
   "metadata": {
    "id": "72236ED57A65490A9CBB08E0E88A8C22",
    "jupyter": {},
    "mdEditEnable": false,
    "slideshow": {
     "slide_type": "slide"
    },
    "tags": []
   },
   "source": [
    "## 特征重要性检测"
   ]
  },
  {
   "cell_type": "code",
   "execution_count": 42,
   "metadata": {
    "id": "7BBA9F6EF809435D98B08BE20B644C62",
    "jupyter": {},
    "scrolled": false,
    "slideshow": {
     "slide_type": "slide"
    },
    "tags": []
   },
   "outputs": [
    {
     "data": {
      "text/plain": [
       "Lasso(alpha=0.001)"
      ]
     },
     "execution_count": 42,
     "metadata": {},
     "output_type": "execute_result"
    }
   ],
   "source": [
    "lasso=Lasso(alpha=0.001)\n",
    "lasso.fit(train,y_train)"
   ]
  },
  {
   "cell_type": "code",
   "execution_count": 43,
   "metadata": {
    "id": "10B43F782CD3486C8284D4297FBECF88",
    "jupyter": {},
    "scrolled": false,
    "slideshow": {
     "slide_type": "slide"
    },
    "tags": []
   },
   "outputs": [
    {
     "data": {
      "text/html": [
       "<div>\n",
       "<style scoped>\n",
       "    .dataframe tbody tr th:only-of-type {\n",
       "        vertical-align: middle;\n",
       "    }\n",
       "\n",
       "    .dataframe tbody tr th {\n",
       "        vertical-align: top;\n",
       "    }\n",
       "\n",
       "    .dataframe thead th {\n",
       "        text-align: right;\n",
       "    }\n",
       "</style>\n",
       "<table border=\"1\" class=\"dataframe\">\n",
       "  <thead>\n",
       "    <tr style=\"text-align: right;\">\n",
       "      <th></th>\n",
       "      <th>Feature Importance</th>\n",
       "    </tr>\n",
       "  </thead>\n",
       "  <tbody>\n",
       "    <tr>\n",
       "      <th>房型_0</th>\n",
       "      <td>0.116088</td>\n",
       "    </tr>\n",
       "    <tr>\n",
       "      <th>所在城市_2</th>\n",
       "      <td>0.091672</td>\n",
       "    </tr>\n",
       "    <tr>\n",
       "      <th>容纳人数</th>\n",
       "      <td>0.072042</td>\n",
       "    </tr>\n",
       "    <tr>\n",
       "      <th>所在城市_5</th>\n",
       "      <td>0.038533</td>\n",
       "    </tr>\n",
       "    <tr>\n",
       "      <th>卧室数量</th>\n",
       "      <td>0.033717</td>\n",
       "    </tr>\n",
       "    <tr>\n",
       "      <th>是否支持随即预订_0</th>\n",
       "      <td>0.010533</td>\n",
       "    </tr>\n",
       "    <tr>\n",
       "      <th>房产类型_22</th>\n",
       "      <td>0.006100</td>\n",
       "    </tr>\n",
       "    <tr>\n",
       "      <th>房产类型_11</th>\n",
       "      <td>0.005262</td>\n",
       "    </tr>\n",
       "    <tr>\n",
       "      <th>取消条款</th>\n",
       "      <td>0.001886</td>\n",
       "    </tr>\n",
       "    <tr>\n",
       "      <th>最近评论日期</th>\n",
       "      <td>0.000477</td>\n",
       "    </tr>\n",
       "    <tr>\n",
       "      <th>便利设施</th>\n",
       "      <td>0.000077</td>\n",
       "    </tr>\n",
       "    <tr>\n",
       "      <th>民宿周边</th>\n",
       "      <td>0.000071</td>\n",
       "    </tr>\n",
       "    <tr>\n",
       "      <th>所在城市_1</th>\n",
       "      <td>-0.000000</td>\n",
       "    </tr>\n",
       "    <tr>\n",
       "      <th>房产类型_1</th>\n",
       "      <td>0.000000</td>\n",
       "    </tr>\n",
       "    <tr>\n",
       "      <th>房产类型_15</th>\n",
       "      <td>-0.000000</td>\n",
       "    </tr>\n",
       "    <tr>\n",
       "      <th>是否支持随即预订_1</th>\n",
       "      <td>-0.000000</td>\n",
       "    </tr>\n",
       "    <tr>\n",
       "      <th>房产类型_23</th>\n",
       "      <td>0.000000</td>\n",
       "    </tr>\n",
       "    <tr>\n",
       "      <th>房产类型_29</th>\n",
       "      <td>-0.000000</td>\n",
       "    </tr>\n",
       "    <tr>\n",
       "      <th>所在城市_4</th>\n",
       "      <td>0.000000</td>\n",
       "    </tr>\n",
       "    <tr>\n",
       "      <th>房型_1</th>\n",
       "      <td>-0.000000</td>\n",
       "    </tr>\n",
       "    <tr>\n",
       "      <th>房产类型_12</th>\n",
       "      <td>0.000000</td>\n",
       "    </tr>\n",
       "    <tr>\n",
       "      <th>所在城市_0</th>\n",
       "      <td>-0.000000</td>\n",
       "    </tr>\n",
       "    <tr>\n",
       "      <th>房型_2</th>\n",
       "      <td>-0.000000</td>\n",
       "    </tr>\n",
       "    <tr>\n",
       "      <th>房主是否有个人资料图片</th>\n",
       "      <td>-0.000000</td>\n",
       "    </tr>\n",
       "    <tr>\n",
       "      <th>民宿评分</th>\n",
       "      <td>0.000000</td>\n",
       "    </tr>\n",
       "    <tr>\n",
       "      <th>洗手间数量</th>\n",
       "      <td>0.000000</td>\n",
       "    </tr>\n",
       "    <tr>\n",
       "      <th>床的数量</th>\n",
       "      <td>0.000000</td>\n",
       "    </tr>\n",
       "    <tr>\n",
       "      <th>维度</th>\n",
       "      <td>0.000000</td>\n",
       "    </tr>\n",
       "    <tr>\n",
       "      <th>床的类型</th>\n",
       "      <td>-0.000000</td>\n",
       "    </tr>\n",
       "    <tr>\n",
       "      <th>何时成为房主</th>\n",
       "      <td>-0.000023</td>\n",
       "    </tr>\n",
       "    <tr>\n",
       "      <th>首次评论日期</th>\n",
       "      <td>-0.000233</td>\n",
       "    </tr>\n",
       "    <tr>\n",
       "      <th>邮编</th>\n",
       "      <td>-0.001473</td>\n",
       "    </tr>\n",
       "    <tr>\n",
       "      <th>房主回复率</th>\n",
       "      <td>-0.003292</td>\n",
       "    </tr>\n",
       "    <tr>\n",
       "      <th>经度</th>\n",
       "      <td>-0.004370</td>\n",
       "    </tr>\n",
       "    <tr>\n",
       "      <th>房产类型_17</th>\n",
       "      <td>-0.004611</td>\n",
       "    </tr>\n",
       "    <tr>\n",
       "      <th>评论个数</th>\n",
       "      <td>-0.005993</td>\n",
       "    </tr>\n",
       "    <tr>\n",
       "      <th>房主身份是否验证</th>\n",
       "      <td>-0.029187</td>\n",
       "    </tr>\n",
       "    <tr>\n",
       "      <th>房产类型_0</th>\n",
       "      <td>-0.036463</td>\n",
       "    </tr>\n",
       "    <tr>\n",
       "      <th>清洁费</th>\n",
       "      <td>-0.052654</td>\n",
       "    </tr>\n",
       "    <tr>\n",
       "      <th>所在城市_3</th>\n",
       "      <td>-0.110858</td>\n",
       "    </tr>\n",
       "  </tbody>\n",
       "</table>\n",
       "</div>"
      ],
      "text/plain": [
       "             Feature Importance\n",
       "房型_0                   0.116088\n",
       "所在城市_2                 0.091672\n",
       "容纳人数                   0.072042\n",
       "所在城市_5                 0.038533\n",
       "卧室数量                   0.033717\n",
       "是否支持随即预订_0             0.010533\n",
       "房产类型_22                0.006100\n",
       "房产类型_11                0.005262\n",
       "取消条款                   0.001886\n",
       "最近评论日期                 0.000477\n",
       "便利设施                   0.000077\n",
       "民宿周边                   0.000071\n",
       "所在城市_1                -0.000000\n",
       "房产类型_1                 0.000000\n",
       "房产类型_15               -0.000000\n",
       "是否支持随即预订_1            -0.000000\n",
       "房产类型_23                0.000000\n",
       "房产类型_29               -0.000000\n",
       "所在城市_4                 0.000000\n",
       "房型_1                  -0.000000\n",
       "房产类型_12                0.000000\n",
       "所在城市_0                -0.000000\n",
       "房型_2                  -0.000000\n",
       "房主是否有个人资料图片           -0.000000\n",
       "民宿评分                   0.000000\n",
       "洗手间数量                  0.000000\n",
       "床的数量                   0.000000\n",
       "维度                     0.000000\n",
       "床的类型                  -0.000000\n",
       "何时成为房主                -0.000023\n",
       "首次评论日期                -0.000233\n",
       "邮编                    -0.001473\n",
       "房主回复率                 -0.003292\n",
       "经度                    -0.004370\n",
       "房产类型_17               -0.004611\n",
       "评论个数                  -0.005993\n",
       "房主身份是否验证              -0.029187\n",
       "房产类型_0                -0.036463\n",
       "清洁费                   -0.052654\n",
       "所在城市_3                -0.110858"
      ]
     },
     "execution_count": 43,
     "metadata": {},
     "output_type": "execute_result"
    }
   ],
   "source": [
    "FI_lasso = pd.DataFrame({\"Feature Importance\":lasso.coef_}, index=train.columns)\n",
    "FI_lasso.sort_values(\"Feature Importance\",ascending=False)"
   ]
  },
  {
   "cell_type": "code",
   "execution_count": 44,
   "metadata": {
    "id": "73FBF694C00F44848C61FB37AA01736D",
    "jupyter": {},
    "scrolled": false,
    "slideshow": {
     "slide_type": "slide"
    },
    "tags": []
   },
   "outputs": [
    {
     "name": "stderr",
     "output_type": "stream",
     "text": [
      "D:\\anaconda\\envs\\nlp\\lib\\site-packages\\matplotlib\\backends\\backend_agg.py:238: RuntimeWarning: Glyph 25152 missing from current font.\n",
      "  font.set_text(s, 0.0, flags=flags)\n",
      "D:\\anaconda\\envs\\nlp\\lib\\site-packages\\matplotlib\\backends\\backend_agg.py:238: RuntimeWarning: Glyph 22312 missing from current font.\n",
      "  font.set_text(s, 0.0, flags=flags)\n",
      "D:\\anaconda\\envs\\nlp\\lib\\site-packages\\matplotlib\\backends\\backend_agg.py:238: RuntimeWarning: Glyph 22478 missing from current font.\n",
      "  font.set_text(s, 0.0, flags=flags)\n",
      "D:\\anaconda\\envs\\nlp\\lib\\site-packages\\matplotlib\\backends\\backend_agg.py:238: RuntimeWarning: Glyph 24066 missing from current font.\n",
      "  font.set_text(s, 0.0, flags=flags)\n",
      "D:\\anaconda\\envs\\nlp\\lib\\site-packages\\matplotlib\\backends\\backend_agg.py:238: RuntimeWarning: Glyph 28165 missing from current font.\n",
      "  font.set_text(s, 0.0, flags=flags)\n",
      "D:\\anaconda\\envs\\nlp\\lib\\site-packages\\matplotlib\\backends\\backend_agg.py:238: RuntimeWarning: Glyph 27905 missing from current font.\n",
      "  font.set_text(s, 0.0, flags=flags)\n",
      "D:\\anaconda\\envs\\nlp\\lib\\site-packages\\matplotlib\\backends\\backend_agg.py:238: RuntimeWarning: Glyph 36153 missing from current font.\n",
      "  font.set_text(s, 0.0, flags=flags)\n",
      "D:\\anaconda\\envs\\nlp\\lib\\site-packages\\matplotlib\\backends\\backend_agg.py:238: RuntimeWarning: Glyph 25151 missing from current font.\n",
      "  font.set_text(s, 0.0, flags=flags)\n",
      "D:\\anaconda\\envs\\nlp\\lib\\site-packages\\matplotlib\\backends\\backend_agg.py:238: RuntimeWarning: Glyph 20135 missing from current font.\n",
      "  font.set_text(s, 0.0, flags=flags)\n",
      "D:\\anaconda\\envs\\nlp\\lib\\site-packages\\matplotlib\\backends\\backend_agg.py:238: RuntimeWarning: Glyph 31867 missing from current font.\n",
      "  font.set_text(s, 0.0, flags=flags)\n",
      "D:\\anaconda\\envs\\nlp\\lib\\site-packages\\matplotlib\\backends\\backend_agg.py:238: RuntimeWarning: Glyph 22411 missing from current font.\n",
      "  font.set_text(s, 0.0, flags=flags)\n",
      "D:\\anaconda\\envs\\nlp\\lib\\site-packages\\matplotlib\\backends\\backend_agg.py:238: RuntimeWarning: Glyph 20027 missing from current font.\n",
      "  font.set_text(s, 0.0, flags=flags)\n",
      "D:\\anaconda\\envs\\nlp\\lib\\site-packages\\matplotlib\\backends\\backend_agg.py:238: RuntimeWarning: Glyph 36523 missing from current font.\n",
      "  font.set_text(s, 0.0, flags=flags)\n",
      "D:\\anaconda\\envs\\nlp\\lib\\site-packages\\matplotlib\\backends\\backend_agg.py:238: RuntimeWarning: Glyph 20221 missing from current font.\n",
      "  font.set_text(s, 0.0, flags=flags)\n",
      "D:\\anaconda\\envs\\nlp\\lib\\site-packages\\matplotlib\\backends\\backend_agg.py:238: RuntimeWarning: Glyph 26159 missing from current font.\n",
      "  font.set_text(s, 0.0, flags=flags)\n",
      "D:\\anaconda\\envs\\nlp\\lib\\site-packages\\matplotlib\\backends\\backend_agg.py:238: RuntimeWarning: Glyph 21542 missing from current font.\n",
      "  font.set_text(s, 0.0, flags=flags)\n",
      "D:\\anaconda\\envs\\nlp\\lib\\site-packages\\matplotlib\\backends\\backend_agg.py:238: RuntimeWarning: Glyph 39564 missing from current font.\n",
      "  font.set_text(s, 0.0, flags=flags)\n",
      "D:\\anaconda\\envs\\nlp\\lib\\site-packages\\matplotlib\\backends\\backend_agg.py:238: RuntimeWarning: Glyph 35777 missing from current font.\n",
      "  font.set_text(s, 0.0, flags=flags)\n",
      "D:\\anaconda\\envs\\nlp\\lib\\site-packages\\matplotlib\\backends\\backend_agg.py:238: RuntimeWarning: Glyph 35780 missing from current font.\n",
      "  font.set_text(s, 0.0, flags=flags)\n",
      "D:\\anaconda\\envs\\nlp\\lib\\site-packages\\matplotlib\\backends\\backend_agg.py:238: RuntimeWarning: Glyph 35770 missing from current font.\n",
      "  font.set_text(s, 0.0, flags=flags)\n",
      "D:\\anaconda\\envs\\nlp\\lib\\site-packages\\matplotlib\\backends\\backend_agg.py:238: RuntimeWarning: Glyph 20010 missing from current font.\n",
      "  font.set_text(s, 0.0, flags=flags)\n",
      "D:\\anaconda\\envs\\nlp\\lib\\site-packages\\matplotlib\\backends\\backend_agg.py:238: RuntimeWarning: Glyph 25968 missing from current font.\n",
      "  font.set_text(s, 0.0, flags=flags)\n",
      "D:\\anaconda\\envs\\nlp\\lib\\site-packages\\matplotlib\\backends\\backend_agg.py:238: RuntimeWarning: Glyph 32463 missing from current font.\n",
      "  font.set_text(s, 0.0, flags=flags)\n",
      "D:\\anaconda\\envs\\nlp\\lib\\site-packages\\matplotlib\\backends\\backend_agg.py:238: RuntimeWarning: Glyph 24230 missing from current font.\n",
      "  font.set_text(s, 0.0, flags=flags)\n",
      "D:\\anaconda\\envs\\nlp\\lib\\site-packages\\matplotlib\\backends\\backend_agg.py:238: RuntimeWarning: Glyph 22238 missing from current font.\n",
      "  font.set_text(s, 0.0, flags=flags)\n",
      "D:\\anaconda\\envs\\nlp\\lib\\site-packages\\matplotlib\\backends\\backend_agg.py:238: RuntimeWarning: Glyph 22797 missing from current font.\n",
      "  font.set_text(s, 0.0, flags=flags)\n",
      "D:\\anaconda\\envs\\nlp\\lib\\site-packages\\matplotlib\\backends\\backend_agg.py:238: RuntimeWarning: Glyph 29575 missing from current font.\n",
      "  font.set_text(s, 0.0, flags=flags)\n",
      "D:\\anaconda\\envs\\nlp\\lib\\site-packages\\matplotlib\\backends\\backend_agg.py:238: RuntimeWarning: Glyph 37038 missing from current font.\n",
      "  font.set_text(s, 0.0, flags=flags)\n",
      "D:\\anaconda\\envs\\nlp\\lib\\site-packages\\matplotlib\\backends\\backend_agg.py:238: RuntimeWarning: Glyph 32534 missing from current font.\n",
      "  font.set_text(s, 0.0, flags=flags)\n",
      "D:\\anaconda\\envs\\nlp\\lib\\site-packages\\matplotlib\\backends\\backend_agg.py:238: RuntimeWarning: Glyph 39318 missing from current font.\n",
      "  font.set_text(s, 0.0, flags=flags)\n",
      "D:\\anaconda\\envs\\nlp\\lib\\site-packages\\matplotlib\\backends\\backend_agg.py:238: RuntimeWarning: Glyph 27425 missing from current font.\n",
      "  font.set_text(s, 0.0, flags=flags)\n",
      "D:\\anaconda\\envs\\nlp\\lib\\site-packages\\matplotlib\\backends\\backend_agg.py:238: RuntimeWarning: Glyph 26085 missing from current font.\n",
      "  font.set_text(s, 0.0, flags=flags)\n",
      "D:\\anaconda\\envs\\nlp\\lib\\site-packages\\matplotlib\\backends\\backend_agg.py:238: RuntimeWarning: Glyph 26399 missing from current font.\n",
      "  font.set_text(s, 0.0, flags=flags)\n",
      "D:\\anaconda\\envs\\nlp\\lib\\site-packages\\matplotlib\\backends\\backend_agg.py:238: RuntimeWarning: Glyph 20309 missing from current font.\n",
      "  font.set_text(s, 0.0, flags=flags)\n",
      "D:\\anaconda\\envs\\nlp\\lib\\site-packages\\matplotlib\\backends\\backend_agg.py:238: RuntimeWarning: Glyph 26102 missing from current font.\n",
      "  font.set_text(s, 0.0, flags=flags)\n",
      "D:\\anaconda\\envs\\nlp\\lib\\site-packages\\matplotlib\\backends\\backend_agg.py:238: RuntimeWarning: Glyph 25104 missing from current font.\n",
      "  font.set_text(s, 0.0, flags=flags)\n",
      "D:\\anaconda\\envs\\nlp\\lib\\site-packages\\matplotlib\\backends\\backend_agg.py:238: RuntimeWarning: Glyph 20026 missing from current font.\n",
      "  font.set_text(s, 0.0, flags=flags)\n",
      "D:\\anaconda\\envs\\nlp\\lib\\site-packages\\matplotlib\\backends\\backend_agg.py:238: RuntimeWarning: Glyph 27665 missing from current font.\n",
      "  font.set_text(s, 0.0, flags=flags)\n",
      "D:\\anaconda\\envs\\nlp\\lib\\site-packages\\matplotlib\\backends\\backend_agg.py:238: RuntimeWarning: Glyph 23487 missing from current font.\n",
      "  font.set_text(s, 0.0, flags=flags)\n",
      "D:\\anaconda\\envs\\nlp\\lib\\site-packages\\matplotlib\\backends\\backend_agg.py:238: RuntimeWarning: Glyph 21608 missing from current font.\n",
      "  font.set_text(s, 0.0, flags=flags)\n",
      "D:\\anaconda\\envs\\nlp\\lib\\site-packages\\matplotlib\\backends\\backend_agg.py:238: RuntimeWarning: Glyph 36793 missing from current font.\n",
      "  font.set_text(s, 0.0, flags=flags)\n",
      "D:\\anaconda\\envs\\nlp\\lib\\site-packages\\matplotlib\\backends\\backend_agg.py:238: RuntimeWarning: Glyph 20415 missing from current font.\n",
      "  font.set_text(s, 0.0, flags=flags)\n",
      "D:\\anaconda\\envs\\nlp\\lib\\site-packages\\matplotlib\\backends\\backend_agg.py:238: RuntimeWarning: Glyph 21033 missing from current font.\n",
      "  font.set_text(s, 0.0, flags=flags)\n",
      "D:\\anaconda\\envs\\nlp\\lib\\site-packages\\matplotlib\\backends\\backend_agg.py:238: RuntimeWarning: Glyph 35774 missing from current font.\n",
      "  font.set_text(s, 0.0, flags=flags)\n",
      "D:\\anaconda\\envs\\nlp\\lib\\site-packages\\matplotlib\\backends\\backend_agg.py:238: RuntimeWarning: Glyph 26045 missing from current font.\n",
      "  font.set_text(s, 0.0, flags=flags)\n",
      "D:\\anaconda\\envs\\nlp\\lib\\site-packages\\matplotlib\\backends\\backend_agg.py:238: RuntimeWarning: Glyph 26368 missing from current font.\n",
      "  font.set_text(s, 0.0, flags=flags)\n",
      "D:\\anaconda\\envs\\nlp\\lib\\site-packages\\matplotlib\\backends\\backend_agg.py:238: RuntimeWarning: Glyph 36817 missing from current font.\n",
      "  font.set_text(s, 0.0, flags=flags)\n",
      "D:\\anaconda\\envs\\nlp\\lib\\site-packages\\matplotlib\\backends\\backend_agg.py:238: RuntimeWarning: Glyph 21462 missing from current font.\n",
      "  font.set_text(s, 0.0, flags=flags)\n",
      "D:\\anaconda\\envs\\nlp\\lib\\site-packages\\matplotlib\\backends\\backend_agg.py:238: RuntimeWarning: Glyph 28040 missing from current font.\n",
      "  font.set_text(s, 0.0, flags=flags)\n",
      "D:\\anaconda\\envs\\nlp\\lib\\site-packages\\matplotlib\\backends\\backend_agg.py:238: RuntimeWarning: Glyph 26465 missing from current font.\n",
      "  font.set_text(s, 0.0, flags=flags)\n",
      "D:\\anaconda\\envs\\nlp\\lib\\site-packages\\matplotlib\\backends\\backend_agg.py:238: RuntimeWarning: Glyph 27454 missing from current font.\n",
      "  font.set_text(s, 0.0, flags=flags)\n",
      "D:\\anaconda\\envs\\nlp\\lib\\site-packages\\matplotlib\\backends\\backend_agg.py:238: RuntimeWarning: Glyph 25903 missing from current font.\n",
      "  font.set_text(s, 0.0, flags=flags)\n",
      "D:\\anaconda\\envs\\nlp\\lib\\site-packages\\matplotlib\\backends\\backend_agg.py:238: RuntimeWarning: Glyph 25345 missing from current font.\n",
      "  font.set_text(s, 0.0, flags=flags)\n",
      "D:\\anaconda\\envs\\nlp\\lib\\site-packages\\matplotlib\\backends\\backend_agg.py:238: RuntimeWarning: Glyph 38543 missing from current font.\n",
      "  font.set_text(s, 0.0, flags=flags)\n",
      "D:\\anaconda\\envs\\nlp\\lib\\site-packages\\matplotlib\\backends\\backend_agg.py:238: RuntimeWarning: Glyph 21363 missing from current font.\n",
      "  font.set_text(s, 0.0, flags=flags)\n",
      "D:\\anaconda\\envs\\nlp\\lib\\site-packages\\matplotlib\\backends\\backend_agg.py:238: RuntimeWarning: Glyph 39044 missing from current font.\n",
      "  font.set_text(s, 0.0, flags=flags)\n",
      "D:\\anaconda\\envs\\nlp\\lib\\site-packages\\matplotlib\\backends\\backend_agg.py:238: RuntimeWarning: Glyph 35746 missing from current font.\n",
      "  font.set_text(s, 0.0, flags=flags)\n",
      "D:\\anaconda\\envs\\nlp\\lib\\site-packages\\matplotlib\\backends\\backend_agg.py:238: RuntimeWarning: Glyph 21351 missing from current font.\n",
      "  font.set_text(s, 0.0, flags=flags)\n",
      "D:\\anaconda\\envs\\nlp\\lib\\site-packages\\matplotlib\\backends\\backend_agg.py:238: RuntimeWarning: Glyph 23460 missing from current font.\n",
      "  font.set_text(s, 0.0, flags=flags)\n",
      "D:\\anaconda\\envs\\nlp\\lib\\site-packages\\matplotlib\\backends\\backend_agg.py:238: RuntimeWarning: Glyph 37327 missing from current font.\n",
      "  font.set_text(s, 0.0, flags=flags)\n",
      "D:\\anaconda\\envs\\nlp\\lib\\site-packages\\matplotlib\\backends\\backend_agg.py:238: RuntimeWarning: Glyph 23481 missing from current font.\n",
      "  font.set_text(s, 0.0, flags=flags)\n",
      "D:\\anaconda\\envs\\nlp\\lib\\site-packages\\matplotlib\\backends\\backend_agg.py:238: RuntimeWarning: Glyph 32435 missing from current font.\n",
      "  font.set_text(s, 0.0, flags=flags)\n",
      "D:\\anaconda\\envs\\nlp\\lib\\site-packages\\matplotlib\\backends\\backend_agg.py:238: RuntimeWarning: Glyph 20154 missing from current font.\n",
      "  font.set_text(s, 0.0, flags=flags)\n"
     ]
    },
    {
     "name": "stderr",
     "output_type": "stream",
     "text": [
      "D:\\anaconda\\envs\\nlp\\lib\\site-packages\\matplotlib\\backends\\backend_agg.py:201: RuntimeWarning: Glyph 25152 missing from current font.\n",
      "  font.set_text(s, 0, flags=flags)\n",
      "D:\\anaconda\\envs\\nlp\\lib\\site-packages\\matplotlib\\backends\\backend_agg.py:201: RuntimeWarning: Glyph 22312 missing from current font.\n",
      "  font.set_text(s, 0, flags=flags)\n",
      "D:\\anaconda\\envs\\nlp\\lib\\site-packages\\matplotlib\\backends\\backend_agg.py:201: RuntimeWarning: Glyph 22478 missing from current font.\n",
      "  font.set_text(s, 0, flags=flags)\n",
      "D:\\anaconda\\envs\\nlp\\lib\\site-packages\\matplotlib\\backends\\backend_agg.py:201: RuntimeWarning: Glyph 24066 missing from current font.\n",
      "  font.set_text(s, 0, flags=flags)\n",
      "D:\\anaconda\\envs\\nlp\\lib\\site-packages\\matplotlib\\backends\\backend_agg.py:201: RuntimeWarning: Glyph 28165 missing from current font.\n",
      "  font.set_text(s, 0, flags=flags)\n",
      "D:\\anaconda\\envs\\nlp\\lib\\site-packages\\matplotlib\\backends\\backend_agg.py:201: RuntimeWarning: Glyph 27905 missing from current font.\n",
      "  font.set_text(s, 0, flags=flags)\n",
      "D:\\anaconda\\envs\\nlp\\lib\\site-packages\\matplotlib\\backends\\backend_agg.py:201: RuntimeWarning: Glyph 36153 missing from current font.\n",
      "  font.set_text(s, 0, flags=flags)\n",
      "D:\\anaconda\\envs\\nlp\\lib\\site-packages\\matplotlib\\backends\\backend_agg.py:201: RuntimeWarning: Glyph 25151 missing from current font.\n",
      "  font.set_text(s, 0, flags=flags)\n",
      "D:\\anaconda\\envs\\nlp\\lib\\site-packages\\matplotlib\\backends\\backend_agg.py:201: RuntimeWarning: Glyph 20135 missing from current font.\n",
      "  font.set_text(s, 0, flags=flags)\n",
      "D:\\anaconda\\envs\\nlp\\lib\\site-packages\\matplotlib\\backends\\backend_agg.py:201: RuntimeWarning: Glyph 31867 missing from current font.\n",
      "  font.set_text(s, 0, flags=flags)\n",
      "D:\\anaconda\\envs\\nlp\\lib\\site-packages\\matplotlib\\backends\\backend_agg.py:201: RuntimeWarning: Glyph 22411 missing from current font.\n",
      "  font.set_text(s, 0, flags=flags)\n",
      "D:\\anaconda\\envs\\nlp\\lib\\site-packages\\matplotlib\\backends\\backend_agg.py:201: RuntimeWarning: Glyph 20027 missing from current font.\n",
      "  font.set_text(s, 0, flags=flags)\n",
      "D:\\anaconda\\envs\\nlp\\lib\\site-packages\\matplotlib\\backends\\backend_agg.py:201: RuntimeWarning: Glyph 36523 missing from current font.\n",
      "  font.set_text(s, 0, flags=flags)\n",
      "D:\\anaconda\\envs\\nlp\\lib\\site-packages\\matplotlib\\backends\\backend_agg.py:201: RuntimeWarning: Glyph 20221 missing from current font.\n",
      "  font.set_text(s, 0, flags=flags)\n",
      "D:\\anaconda\\envs\\nlp\\lib\\site-packages\\matplotlib\\backends\\backend_agg.py:201: RuntimeWarning: Glyph 26159 missing from current font.\n",
      "  font.set_text(s, 0, flags=flags)\n",
      "D:\\anaconda\\envs\\nlp\\lib\\site-packages\\matplotlib\\backends\\backend_agg.py:201: RuntimeWarning: Glyph 21542 missing from current font.\n",
      "  font.set_text(s, 0, flags=flags)\n",
      "D:\\anaconda\\envs\\nlp\\lib\\site-packages\\matplotlib\\backends\\backend_agg.py:201: RuntimeWarning: Glyph 39564 missing from current font.\n",
      "  font.set_text(s, 0, flags=flags)\n",
      "D:\\anaconda\\envs\\nlp\\lib\\site-packages\\matplotlib\\backends\\backend_agg.py:201: RuntimeWarning: Glyph 35777 missing from current font.\n",
      "  font.set_text(s, 0, flags=flags)\n",
      "D:\\anaconda\\envs\\nlp\\lib\\site-packages\\matplotlib\\backends\\backend_agg.py:201: RuntimeWarning: Glyph 35780 missing from current font.\n",
      "  font.set_text(s, 0, flags=flags)\n",
      "D:\\anaconda\\envs\\nlp\\lib\\site-packages\\matplotlib\\backends\\backend_agg.py:201: RuntimeWarning: Glyph 35770 missing from current font.\n",
      "  font.set_text(s, 0, flags=flags)\n",
      "D:\\anaconda\\envs\\nlp\\lib\\site-packages\\matplotlib\\backends\\backend_agg.py:201: RuntimeWarning: Glyph 20010 missing from current font.\n",
      "  font.set_text(s, 0, flags=flags)\n",
      "D:\\anaconda\\envs\\nlp\\lib\\site-packages\\matplotlib\\backends\\backend_agg.py:201: RuntimeWarning: Glyph 25968 missing from current font.\n",
      "  font.set_text(s, 0, flags=flags)\n",
      "D:\\anaconda\\envs\\nlp\\lib\\site-packages\\matplotlib\\backends\\backend_agg.py:201: RuntimeWarning: Glyph 32463 missing from current font.\n",
      "  font.set_text(s, 0, flags=flags)\n",
      "D:\\anaconda\\envs\\nlp\\lib\\site-packages\\matplotlib\\backends\\backend_agg.py:201: RuntimeWarning: Glyph 24230 missing from current font.\n",
      "  font.set_text(s, 0, flags=flags)\n",
      "D:\\anaconda\\envs\\nlp\\lib\\site-packages\\matplotlib\\backends\\backend_agg.py:201: RuntimeWarning: Glyph 22238 missing from current font.\n",
      "  font.set_text(s, 0, flags=flags)\n",
      "D:\\anaconda\\envs\\nlp\\lib\\site-packages\\matplotlib\\backends\\backend_agg.py:201: RuntimeWarning: Glyph 22797 missing from current font.\n",
      "  font.set_text(s, 0, flags=flags)\n",
      "D:\\anaconda\\envs\\nlp\\lib\\site-packages\\matplotlib\\backends\\backend_agg.py:201: RuntimeWarning: Glyph 29575 missing from current font.\n",
      "  font.set_text(s, 0, flags=flags)\n",
      "D:\\anaconda\\envs\\nlp\\lib\\site-packages\\matplotlib\\backends\\backend_agg.py:201: RuntimeWarning: Glyph 37038 missing from current font.\n",
      "  font.set_text(s, 0, flags=flags)\n",
      "D:\\anaconda\\envs\\nlp\\lib\\site-packages\\matplotlib\\backends\\backend_agg.py:201: RuntimeWarning: Glyph 32534 missing from current font.\n",
      "  font.set_text(s, 0, flags=flags)\n",
      "D:\\anaconda\\envs\\nlp\\lib\\site-packages\\matplotlib\\backends\\backend_agg.py:201: RuntimeWarning: Glyph 39318 missing from current font.\n",
      "  font.set_text(s, 0, flags=flags)\n",
      "D:\\anaconda\\envs\\nlp\\lib\\site-packages\\matplotlib\\backends\\backend_agg.py:201: RuntimeWarning: Glyph 27425 missing from current font.\n",
      "  font.set_text(s, 0, flags=flags)\n",
      "D:\\anaconda\\envs\\nlp\\lib\\site-packages\\matplotlib\\backends\\backend_agg.py:201: RuntimeWarning: Glyph 26085 missing from current font.\n",
      "  font.set_text(s, 0, flags=flags)\n",
      "D:\\anaconda\\envs\\nlp\\lib\\site-packages\\matplotlib\\backends\\backend_agg.py:201: RuntimeWarning: Glyph 26399 missing from current font.\n",
      "  font.set_text(s, 0, flags=flags)\n",
      "D:\\anaconda\\envs\\nlp\\lib\\site-packages\\matplotlib\\backends\\backend_agg.py:201: RuntimeWarning: Glyph 20309 missing from current font.\n",
      "  font.set_text(s, 0, flags=flags)\n",
      "D:\\anaconda\\envs\\nlp\\lib\\site-packages\\matplotlib\\backends\\backend_agg.py:201: RuntimeWarning: Glyph 26102 missing from current font.\n",
      "  font.set_text(s, 0, flags=flags)\n",
      "D:\\anaconda\\envs\\nlp\\lib\\site-packages\\matplotlib\\backends\\backend_agg.py:201: RuntimeWarning: Glyph 25104 missing from current font.\n",
      "  font.set_text(s, 0, flags=flags)\n",
      "D:\\anaconda\\envs\\nlp\\lib\\site-packages\\matplotlib\\backends\\backend_agg.py:201: RuntimeWarning: Glyph 20026 missing from current font.\n",
      "  font.set_text(s, 0, flags=flags)\n",
      "D:\\anaconda\\envs\\nlp\\lib\\site-packages\\matplotlib\\backends\\backend_agg.py:201: RuntimeWarning: Glyph 27665 missing from current font.\n",
      "  font.set_text(s, 0, flags=flags)\n",
      "D:\\anaconda\\envs\\nlp\\lib\\site-packages\\matplotlib\\backends\\backend_agg.py:201: RuntimeWarning: Glyph 23487 missing from current font.\n",
      "  font.set_text(s, 0, flags=flags)\n",
      "D:\\anaconda\\envs\\nlp\\lib\\site-packages\\matplotlib\\backends\\backend_agg.py:201: RuntimeWarning: Glyph 21608 missing from current font.\n",
      "  font.set_text(s, 0, flags=flags)\n",
      "D:\\anaconda\\envs\\nlp\\lib\\site-packages\\matplotlib\\backends\\backend_agg.py:201: RuntimeWarning: Glyph 36793 missing from current font.\n",
      "  font.set_text(s, 0, flags=flags)\n",
      "D:\\anaconda\\envs\\nlp\\lib\\site-packages\\matplotlib\\backends\\backend_agg.py:201: RuntimeWarning: Glyph 20415 missing from current font.\n",
      "  font.set_text(s, 0, flags=flags)\n",
      "D:\\anaconda\\envs\\nlp\\lib\\site-packages\\matplotlib\\backends\\backend_agg.py:201: RuntimeWarning: Glyph 21033 missing from current font.\n",
      "  font.set_text(s, 0, flags=flags)\n",
      "D:\\anaconda\\envs\\nlp\\lib\\site-packages\\matplotlib\\backends\\backend_agg.py:201: RuntimeWarning: Glyph 35774 missing from current font.\n",
      "  font.set_text(s, 0, flags=flags)\n",
      "D:\\anaconda\\envs\\nlp\\lib\\site-packages\\matplotlib\\backends\\backend_agg.py:201: RuntimeWarning: Glyph 26045 missing from current font.\n",
      "  font.set_text(s, 0, flags=flags)\n",
      "D:\\anaconda\\envs\\nlp\\lib\\site-packages\\matplotlib\\backends\\backend_agg.py:201: RuntimeWarning: Glyph 26368 missing from current font.\n",
      "  font.set_text(s, 0, flags=flags)\n",
      "D:\\anaconda\\envs\\nlp\\lib\\site-packages\\matplotlib\\backends\\backend_agg.py:201: RuntimeWarning: Glyph 36817 missing from current font.\n",
      "  font.set_text(s, 0, flags=flags)\n",
      "D:\\anaconda\\envs\\nlp\\lib\\site-packages\\matplotlib\\backends\\backend_agg.py:201: RuntimeWarning: Glyph 21462 missing from current font.\n",
      "  font.set_text(s, 0, flags=flags)\n",
      "D:\\anaconda\\envs\\nlp\\lib\\site-packages\\matplotlib\\backends\\backend_agg.py:201: RuntimeWarning: Glyph 28040 missing from current font.\n",
      "  font.set_text(s, 0, flags=flags)\n",
      "D:\\anaconda\\envs\\nlp\\lib\\site-packages\\matplotlib\\backends\\backend_agg.py:201: RuntimeWarning: Glyph 26465 missing from current font.\n",
      "  font.set_text(s, 0, flags=flags)\n",
      "D:\\anaconda\\envs\\nlp\\lib\\site-packages\\matplotlib\\backends\\backend_agg.py:201: RuntimeWarning: Glyph 27454 missing from current font.\n",
      "  font.set_text(s, 0, flags=flags)\n",
      "D:\\anaconda\\envs\\nlp\\lib\\site-packages\\matplotlib\\backends\\backend_agg.py:201: RuntimeWarning: Glyph 25903 missing from current font.\n",
      "  font.set_text(s, 0, flags=flags)\n",
      "D:\\anaconda\\envs\\nlp\\lib\\site-packages\\matplotlib\\backends\\backend_agg.py:201: RuntimeWarning: Glyph 25345 missing from current font.\n",
      "  font.set_text(s, 0, flags=flags)\n",
      "D:\\anaconda\\envs\\nlp\\lib\\site-packages\\matplotlib\\backends\\backend_agg.py:201: RuntimeWarning: Glyph 38543 missing from current font.\n",
      "  font.set_text(s, 0, flags=flags)\n",
      "D:\\anaconda\\envs\\nlp\\lib\\site-packages\\matplotlib\\backends\\backend_agg.py:201: RuntimeWarning: Glyph 21363 missing from current font.\n",
      "  font.set_text(s, 0, flags=flags)\n",
      "D:\\anaconda\\envs\\nlp\\lib\\site-packages\\matplotlib\\backends\\backend_agg.py:201: RuntimeWarning: Glyph 39044 missing from current font.\n",
      "  font.set_text(s, 0, flags=flags)\n",
      "D:\\anaconda\\envs\\nlp\\lib\\site-packages\\matplotlib\\backends\\backend_agg.py:201: RuntimeWarning: Glyph 35746 missing from current font.\n",
      "  font.set_text(s, 0, flags=flags)\n",
      "D:\\anaconda\\envs\\nlp\\lib\\site-packages\\matplotlib\\backends\\backend_agg.py:201: RuntimeWarning: Glyph 21351 missing from current font.\n",
      "  font.set_text(s, 0, flags=flags)\n",
      "D:\\anaconda\\envs\\nlp\\lib\\site-packages\\matplotlib\\backends\\backend_agg.py:201: RuntimeWarning: Glyph 23460 missing from current font.\n",
      "  font.set_text(s, 0, flags=flags)\n",
      "D:\\anaconda\\envs\\nlp\\lib\\site-packages\\matplotlib\\backends\\backend_agg.py:201: RuntimeWarning: Glyph 37327 missing from current font.\n",
      "  font.set_text(s, 0, flags=flags)\n",
      "D:\\anaconda\\envs\\nlp\\lib\\site-packages\\matplotlib\\backends\\backend_agg.py:201: RuntimeWarning: Glyph 23481 missing from current font.\n",
      "  font.set_text(s, 0, flags=flags)\n",
      "D:\\anaconda\\envs\\nlp\\lib\\site-packages\\matplotlib\\backends\\backend_agg.py:201: RuntimeWarning: Glyph 32435 missing from current font.\n",
      "  font.set_text(s, 0, flags=flags)\n",
      "D:\\anaconda\\envs\\nlp\\lib\\site-packages\\matplotlib\\backends\\backend_agg.py:201: RuntimeWarning: Glyph 20154 missing from current font.\n",
      "  font.set_text(s, 0, flags=flags)\n"
     ]
    },
    {
     "data": {
      "image/png": "[encoded data removed]",
      "text/plain": [
       "<Figure size 1080x1800 with 1 Axes>"
      ]
     },
     "metadata": {
      "needs_background": "light"
     },
     "output_type": "display_data"
    }
   ],
   "source": [
    "FI_lasso[FI_lasso[\"Feature Importance\"]!=0].sort_values(\"Feature Importance\").plot(kind=\"barh\",figsize=(15,25))\n",
    "plt.xticks(rotation=90)\n",
    "plt.show()"
   ]
  },
  {
   "cell_type": "markdown",
   "metadata": {
    "id": "CE37763199B440E88C039316652667F6",
    "jupyter": {},
    "mdEditEnable": false,
    "slideshow": {
     "slide_type": "slide"
    },
    "tags": []
   },
   "source": [
    "# 基础模型"
   ]
  },
  {
   "cell_type": "markdown",
   "metadata": {
    "id": "B43EEF690EEC4ABBAD2278335C871E86",
    "jupyter": {},
    "mdEditEnable": false,
    "slideshow": {
     "slide_type": "slide"
    },
    "tags": []
   },
   "source": [
    "## 定义交叉验证策略"
   ]
  },
  {
   "cell_type": "code",
   "execution_count": 45,
   "metadata": {
    "id": "9B204C1078B347C0BE526B6392A6CAE6",
    "jupyter": {},
    "scrolled": false,
    "slideshow": {
     "slide_type": "slide"
    },
    "tags": []
   },
   "outputs": [],
   "source": [
    "# cross_val_score默认使用K折交叉验证策略。此处先使用KFold的shuffle参数混洗数据\n",
    "# neg_mean_squared_error：负均方误差，是损失函数，优化目标是使其最小化\n",
    "n_splits = 5\n",
    "def nmse_cv(model):\n",
    "    kf = KFold(n_splits, shuffle=True, random_state=42).get_n_splits(train.values)\n",
    "    nmse = np.sqrt(-cross_val_score(model, train.values, y_train, scoring='neg_mean_squared_error', cv=kf))\n",
    "    return(nmse)"
   ]
  },
  {
   "cell_type": "markdown",
   "metadata": {
    "id": "B1F525EFBBA04DC785EF9C5C07BBD086",
    "jupyter": {},
    "mdEditEnable": false,
    "slideshow": {
     "slide_type": "slide"
    },
    "tags": []
   },
   "source": [
    "## 建立基础模型"
   ]
  },
  {
   "cell_type": "code",
   "execution_count": 46,
   "metadata": {
    "id": "AB63B46FABA44A45897A553600FD9EF8",
    "jupyter": {},
    "scrolled": false,
    "slideshow": {
     "slide_type": "slide"
    },
    "tags": []
   },
   "outputs": [],
   "source": [
    "# lasso/ElasticNet模型对异常值敏感，使用RobustScaler缩放有离群值的数据\n",
    "lasso = make_pipeline(RobustScaler(), Lasso(alpha=0.0005, random_state=1))\n",
    "ENet = make_pipeline(RobustScaler(), ElasticNet(alpha=0.0005, l1_ratio=.9, random_state=3))\n",
    "KRR = KernelRidge(alpha=0.6, kernel='polynomial', degree=2, coef0=0.25)\n",
    "GBoost = GradientBoostingRegressor(n_estimators=3000, learning_rate=0.05,\n",
    "                                   max_depth=4, max_features='sqrt',\n",
    "                                   min_samples_leaf=15, min_samples_split=10, \n",
    "                                   loss='huber', random_state =5)\n",
    "model_xgb = xgb.XGBRegressor(colsample_bytree=0.4603, gamma=0.0468, \n",
    "                             learning_rate=0.05, max_depth=3, \n",
    "                             min_child_weight=1.7817, n_estimators=2200,\n",
    "                             reg_alpha=0.4640, reg_lambda=0.8571,\n",
    "                             subsample=0.5213, silent=1,\n",
    "                             random_state =7, nthread = -1)\n",
    "model_lgb = lgb.LGBMRegressor(objective='regression',num_leaves=5,\n",
    "                              learning_rate=0.05, n_estimators=720,\n",
    "                              max_bin = 55, bagging_fraction = 0.8,\n",
    "                              bagging_freq = 5, feature_fraction = 0.2319,\n",
    "                              feature_fraction_seed=9, bagging_seed=9,\n",
    "                              min_data_in_leaf =6, min_sum_hessian_in_leaf = 11)"
   ]
  },
  {
   "cell_type": "markdown",
   "metadata": {
    "id": "08886559AB454D9A9F3E3A997D6562D9",
    "jupyter": {},
    "mdEditEnable": false,
    "slideshow": {
     "slide_type": "slide"
    },
    "tags": []
   },
   "source": [
    "## 基础模型分数"
   ]
  },
  {
   "cell_type": "code",
   "execution_count": 47,
   "metadata": {
    "id": "E0FEFC0B56D54B09801692C4343D7610",
    "jupyter": {},
    "scrolled": false,
    "slideshow": {
     "slide_type": "slide"
    },
    "tags": []
   },
   "outputs": [
    {
     "name": "stdout",
     "output_type": "stream",
     "text": [
      "Lasso score:0.0948 (0.0149) \n",
      "\n",
      "ELasticNet score:0.0951 (0.0150) \n",
      "\n",
      "KernelRidge score:0.2311 (0.0491) \n",
      "\n",
      "GradientBoosting score:0.0953 (0.0151) \n",
      "\n",
      "[11:33:50] WARNING: C:\\Users\\Administrator\\workspace\\xgboost-win64_release_1.2.0\\src\\learner.cc:516: \n",
      "Parameters: { silent } might not be used.\n",
      "\n",
      "  This may not be accurate due to some parameters are only used in language bindings but\n",
      "  passed down to XGBoost core.  Or some parameters are not used but slip through this\n",
      "  verification. Please open an issue if you find above cases.\n",
      "\n",
      "\n",
      "[11:33:50] WARNING: C:\\Users\\Administrator\\workspace\\xgboost-win64_release_1.2.0\\src\\learner.cc:516: \n",
      "Parameters: { silent } might not be used.\n",
      "\n",
      "  This may not be accurate due to some parameters are only used in language bindings but\n",
      "  passed down to XGBoost core.  Or some parameters are not used but slip through this\n",
      "  verification. Please open an issue if you find above cases.\n",
      "\n",
      "\n",
      "[11:33:51] WARNING: C:\\Users\\Administrator\\workspace\\xgboost-win64_release_1.2.0\\src\\learner.cc:516: \n",
      "Parameters: { silent } might not be used.\n",
      "\n",
      "  This may not be accurate due to some parameters are only used in language bindings but\n",
      "  passed down to XGBoost core.  Or some parameters are not used but slip through this\n",
      "  verification. Please open an issue if you find above cases.\n",
      "\n",
      "\n",
      "[11:33:51] WARNING: C:\\Users\\Administrator\\workspace\\xgboost-win64_release_1.2.0\\src\\learner.cc:516: \n",
      "Parameters: { silent } might not be used.\n",
      "\n",
      "  This may not be accurate due to some parameters are only used in language bindings but\n",
      "  passed down to XGBoost core.  Or some parameters are not used but slip through this\n",
      "  verification. Please open an issue if you find above cases.\n",
      "\n",
      "\n",
      "[11:33:52] WARNING: C:\\Users\\Administrator\\workspace\\xgboost-win64_release_1.2.0\\src\\learner.cc:516: \n",
      "Parameters: { silent } might not be used.\n",
      "\n",
      "  This may not be accurate due to some parameters are only used in language bindings but\n",
      "  passed down to XGBoost core.  Or some parameters are not used but slip through this\n",
      "  verification. Please open an issue if you find above cases.\n",
      "\n",
      "\n",
      "Xgboost score:0.0970 (0.0216) \n",
      "\n",
      "[LightGBM] [Warning] feature_fraction is set=0.2319, colsample_bytree=1.0 will be ignored. Current value: feature_fraction=0.2319\n",
      "[LightGBM] [Warning] min_data_in_leaf is set=6, min_child_samples=20 will be ignored. Current value: min_data_in_leaf=6\n",
      "[LightGBM] [Warning] min_sum_hessian_in_leaf is set=11, min_child_weight=0.001 will be ignored. Current value: min_sum_hessian_in_leaf=11\n",
      "[LightGBM] [Warning] bagging_fraction is set=0.8, subsample=1.0 will be ignored. Current value: bagging_fraction=0.8\n",
      "[LightGBM] [Warning] bagging_freq is set=5, subsample_freq=0 will be ignored. Current value: bagging_freq=5\n",
      "[LightGBM] [Warning] feature_fraction is set=0.2319, colsample_bytree=1.0 will be ignored. Current value: feature_fraction=0.2319\n",
      "[LightGBM] [Warning] min_data_in_leaf is set=6, min_child_samples=20 will be ignored. Current value: min_data_in_leaf=6\n",
      "[LightGBM] [Warning] min_sum_hessian_in_leaf is set=11, min_child_weight=0.001 will be ignored. Current value: min_sum_hessian_in_leaf=11\n",
      "[LightGBM] [Warning] bagging_fraction is set=0.8, subsample=1.0 will be ignored. Current value: bagging_fraction=0.8\n",
      "[LightGBM] [Warning] bagging_freq is set=5, subsample_freq=0 will be ignored. Current value: bagging_freq=5\n",
      "[LightGBM] [Warning] feature_fraction is set=0.2319, colsample_bytree=1.0 will be ignored. Current value: feature_fraction=0.2319\n",
      "[LightGBM] [Warning] min_data_in_leaf is set=6, min_child_samples=20 will be ignored. Current value: min_data_in_leaf=6\n",
      "[LightGBM] [Warning] min_sum_hessian_in_leaf is set=11, min_child_weight=0.001 will be ignored. Current value: min_sum_hessian_in_leaf=11\n",
      "[LightGBM] [Warning] bagging_fraction is set=0.8, subsample=1.0 will be ignored. Current value: bagging_fraction=0.8\n",
      "[LightGBM] [Warning] bagging_freq is set=5, subsample_freq=0 will be ignored. Current value: bagging_freq=5\n",
      "[LightGBM] [Warning] feature_fraction is set=0.2319, colsample_bytree=1.0 will be ignored. Current value: feature_fraction=0.2319\n",
      "[LightGBM] [Warning] min_data_in_leaf is set=6, min_child_samples=20 will be ignored. Current value: min_data_in_leaf=6\n",
      "[LightGBM] [Warning] min_sum_hessian_in_leaf is set=11, min_child_weight=0.001 will be ignored. Current value: min_sum_hessian_in_leaf=11\n",
      "[LightGBM] [Warning] bagging_fraction is set=0.8, subsample=1.0 will be ignored. Current value: bagging_fraction=0.8\n",
      "[LightGBM] [Warning] bagging_freq is set=5, subsample_freq=0 will be ignored. Current value: bagging_freq=5\n",
      "LGBM score:nan (nan) \n",
      "\n"
     ]
    },
    {
     "name": "stderr",
     "output_type": "stream",
     "text": [
      "D:\\anaconda\\envs\\nlp\\lib\\site-packages\\sklearn\\model_selection\\_validation.py:548: FitFailedWarning: Estimator fit failed. The score on this train-test partition for these parameters will be set to nan. Details: \n",
      "Traceback (most recent call last):\n",
      "  File \"D:\\anaconda\\envs\\nlp\\lib\\site-packages\\sklearn\\model_selection\\_validation.py\", line 531, in _fit_and_score\n",
      "    estimator.fit(X_train, y_train, **fit_params)\n",
      "  File \"D:\\anaconda\\envs\\nlp\\lib\\site-packages\\lightgbm\\sklearn.py\", line 770, in fit\n",
      "    super(LGBMRegressor, self).fit(X, y, sample_weight=sample_weight,\n",
      "  File \"D:\\anaconda\\envs\\nlp\\lib\\site-packages\\lightgbm\\sklearn.py\", line 612, in fit\n",
      "    self._Booster = train(params, train_set,\n",
      "  File \"D:\\anaconda\\envs\\nlp\\lib\\site-packages\\lightgbm\\engine.py\", line 252, in train\n",
      "    booster.update(fobj=fobj)\n",
      "  File \"D:\\anaconda\\envs\\nlp\\lib\\site-packages\\lightgbm\\basic.py\", line 2440, in update\n",
      "    _safe_call(_LIB.LGBM_BoosterUpdateOneIter(\n",
      "  File \"D:\\anaconda\\envs\\nlp\\lib\\site-packages\\lightgbm\\basic.py\", line 55, in _safe_call\n",
      "    raise LightGBMError(decode_string(_LIB.LGBM_GetLastError()))\n",
      "lightgbm.basic.LightGBMError: Check failed: (best_split_info.left_count) > (0) at D:\\a\\1\\s\\python-package\\compile\\src\\treelearner\\serial_tree_learner.cpp, line 651 .\n",
      "\n",
      "\n",
      "  warnings.warn(\"Estimator fit failed. The score on this train-test\"\n",
      "D:\\anaconda\\envs\\nlp\\lib\\site-packages\\sklearn\\model_selection\\_validation.py:548: FitFailedWarning: Estimator fit failed. The score on this train-test partition for these parameters will be set to nan. Details: \n",
      "Traceback (most recent call last):\n",
      "  File \"D:\\anaconda\\envs\\nlp\\lib\\site-packages\\sklearn\\model_selection\\_validation.py\", line 531, in _fit_and_score\n",
      "    estimator.fit(X_train, y_train, **fit_params)\n",
      "  File \"D:\\anaconda\\envs\\nlp\\lib\\site-packages\\lightgbm\\sklearn.py\", line 770, in fit\n",
      "    super(LGBMRegressor, self).fit(X, y, sample_weight=sample_weight,\n",
      "  File \"D:\\anaconda\\envs\\nlp\\lib\\site-packages\\lightgbm\\sklearn.py\", line 612, in fit\n",
      "    self._Booster = train(params, train_set,\n",
      "  File \"D:\\anaconda\\envs\\nlp\\lib\\site-packages\\lightgbm\\engine.py\", line 252, in train\n",
      "    booster.update(fobj=fobj)\n",
      "  File \"D:\\anaconda\\envs\\nlp\\lib\\site-packages\\lightgbm\\basic.py\", line 2440, in update\n",
      "    _safe_call(_LIB.LGBM_BoosterUpdateOneIter(\n",
      "  File \"D:\\anaconda\\envs\\nlp\\lib\\site-packages\\lightgbm\\basic.py\", line 55, in _safe_call\n",
      "    raise LightGBMError(decode_string(_LIB.LGBM_GetLastError()))\n",
      "lightgbm.basic.LightGBMError: Check failed: (best_split_info.left_count) > (0) at D:\\a\\1\\s\\python-package\\compile\\src\\treelearner\\serial_tree_learner.cpp, line 651 .\n",
      "\n",
      "\n",
      "  warnings.warn(\"Estimator fit failed. The score on this train-test\"\n"
     ]
    }
   ],
   "source": [
    "models = [lasso, ENet, KRR, GBoost, model_xgb, model_lgb]\n",
    "names = ['Lasso', 'ELasticNet', 'KernelRidge', 'GradientBoosting', 'Xgboost', 'LGBM']\n",
    "for model, name in zip(models, names):\n",
    "    score = nmse_cv(model)\n",
    "    # 验证结果返回5个分数，求均值和标准差\n",
    "    print('{} score:{:.4f} ({:.4f}) \\n'.format(name, score.mean(), score.std()))"
   ]
  },
  {
   "cell_type": "markdown",
   "metadata": {
    "id": "4B6E13076F2E40008341FA518BD295B9",
    "jupyter": {},
    "mdEditEnable": false,
    "slideshow": {
     "slide_type": "slide"
    },
    "tags": []
   },
   "source": [
    "# 模型融合"
   ]
  },
  {
   "cell_type": "markdown",
   "metadata": {
    "id": "845AA0D537894F5B9F4473F24F458D01",
    "jupyter": {},
    "mdEditEnable": false,
    "slideshow": {
     "slide_type": "slide"
    },
    "tags": []
   },
   "source": [
    "## 方法一：模型平均"
   ]
  },
  {
   "cell_type": "markdown",
   "metadata": {
    "id": "27A5888C4E364B49A8ACB6462DC0AFC0",
    "jupyter": {},
    "mdEditEnable": false,
    "slideshow": {
     "slide_type": "slide"
    },
    "tags": []
   },
   "source": [
    "### 模型平均类"
   ]
  },
  {
   "cell_type": "code",
   "execution_count": 251,
   "metadata": {
    "id": "1AA1B5F971B444418C93083555DA87EB",
    "jupyter": {},
    "scrolled": false,
    "slideshow": {
     "slide_type": "slide"
    },
    "tags": []
   },
   "outputs": [],
   "source": [
    "class AveragingModels(BaseEstimator, RegressorMixin, TransformerMixin):\n",
    "    \n",
    "    def __init__(self, models):\n",
    "        self.models = models\n",
    "        \n",
    "    def fit(self, X, y):\n",
    "        self.clone_models = [clone(x) for x in self.models]\n",
    "        for model in self.clone_models:\n",
    "            model.fit(X, y)\n",
    "        return self\n",
    "    \n",
    "    def predict(self, X):\n",
    "        predictions = np.column_stack([model.predict(X) for model in self.clone_models])\n",
    "        return np.mean(predictions, axis=1)"
   ]
  },
  {
   "cell_type": "markdown",
   "metadata": {
    "id": "00919427F56B40588C4EE3B9F34FE6AD",
    "jupyter": {},
    "mdEditEnable": false,
    "slideshow": {
     "slide_type": "slide"
    },
    "tags": []
   },
   "source": [
    "### 模型平均分数"
   ]
  },
  {
   "cell_type": "code",
   "execution_count": 252,
   "metadata": {
    "id": "265BB8B7DCCB4C0889DF7D852F14D4D7",
    "jupyter": {},
    "scrolled": false,
    "slideshow": {
     "slide_type": "slide"
    },
    "tags": []
   },
   "outputs": [
    {
     "name": "stdout",
     "output_type": "stream",
     "text": [
      "Averaged base models score: 0.1092 (0.0073) \n",
      "\n"
     ]
    }
   ],
   "source": [
    "averaged_models = AveragingModels(models = [ENet, GBoost, KRR, lasso])\n",
    "score = nmse_cv(averaged_models)\n",
    "print('Averaged base models score: {:.4f} ({:.4f}) \\n'.format(score.mean(), score.std()))"
   ]
  },
  {
   "cell_type": "code",
   "execution_count": 253,
   "metadata": {
    "id": "51AD3FB663474B50962A0DB542DECD3B",
    "jupyter": {},
    "scrolled": false,
    "slideshow": {
     "slide_type": "slide"
    },
    "tags": []
   },
   "outputs": [
    {
     "name": "stdout",
     "output_type": "stream",
     "text": [
      "Averaged base models score: 0.1089 (0.0072) \n",
      "\n"
     ]
    }
   ],
   "source": [
    "averaged_models = AveragingModels(models = [lasso, ENet, KRR, GBoost, model_xgb, model_lgb])\n",
    "score = nmse_cv(averaged_models)\n",
    "print('Averaged base models score: {:.4f} ({:.4f}) \\n'.format(score.mean(), score.std()))"
   ]
  },
  {
   "cell_type": "markdown",
   "metadata": {
    "id": "4F37C899CA8F4B488EB32EDBB7F10371",
    "jupyter": {},
    "mdEditEnable": false,
    "slideshow": {
     "slide_type": "slide"
    },
    "tags": []
   },
   "source": [
    "## 方法二：模型叠加"
   ]
  },
  {
   "cell_type": "markdown",
   "metadata": {
    "id": "625CEFAE2C9F419894EAA475F370DF10",
    "jupyter": {},
    "mdEditEnable": false,
    "slideshow": {
     "slide_type": "slide"
    },
    "tags": []
   },
   "source": [
    "### 模型叠加类"
   ]
  },
  {
   "cell_type": "code",
   "execution_count": 254,
   "metadata": {
    "id": "2F1F401F19EB46D0BAD4E3916B41616E",
    "jupyter": {},
    "scrolled": false,
    "slideshow": {
     "slide_type": "slide"
    },
    "tags": []
   },
   "outputs": [],
   "source": [
    "class StackingAveragedModels(BaseEstimator, RegressorMixin, TransformerMixin):\n",
    "    \n",
    "    def __init__(self, base_models, meta_model, n_folds=5):\n",
    "        self.base_models = base_models\n",
    "        self.meta_model = meta_model\n",
    "        self.n_folds = n_folds\n",
    "        \n",
    "    # 将原来的模型clone出来，并且实现fit功能    \n",
    "    def fit(self, X, y):\n",
    "        self.clone_base_models = [list() for x in self.base_models]\n",
    "        self.clone_meta_model = clone(self.meta_model)\n",
    "        kfold = KFold(n_splits=self.n_folds, shuffle=True, random_state=156)\n",
    "        out_of_fold_predictions = np.zeros((X.shape[0], len(self.base_models)))\n",
    "        \n",
    "        # 使用K-fold的方法来进行交叉验证，将每次验证的结果作为新的特征来进行处理\n",
    "        for i, model in enumerate(self.base_models):\n",
    "            for train_index, test_index in kfold.split(X, y):\n",
    "                instance = clone(model)\n",
    "                self.clone_base_models[i].append(instance)\n",
    "                instance.fit(X[train_index], y[train_index])\n",
    "                y_pred = instance.predict(X[test_index])\n",
    "                out_of_fold_predictions[test_index, i] = y_pred\n",
    "                \n",
    "        # 将交叉验证预测出的结果(标签)和训练集中的标签值用元模型进行训练\n",
    "        self.clone_meta_model.fit(out_of_fold_predictions, y)\n",
    "        return self\n",
    "        \n",
    "    def predict(self, X):\n",
    "        # 得到各模型预测结果平均值的二维数组\n",
    "        meta_features = np.column_stack([\n",
    "            np.column_stack([model.predict(X) for model in base_models]).mean(axis=1)\n",
    "            for base_models in self.clone_base_models\n",
    "        ])\n",
    "        return self.clone_meta_model.predict(meta_features)"
   ]
  },
  {
   "cell_type": "code",
   "execution_count": 255,
   "metadata": {
    "id": "C4CCAFFE49B94CBC829C683A3FC50220",
    "jupyter": {},
    "scrolled": false,
    "slideshow": {
     "slide_type": "slide"
    },
    "tags": []
   },
   "outputs": [
    {
     "data": {
      "text/plain": [
       "array([[1, 4],\n",
       "       [2, 5],\n",
       "       [3, 6]])"
      ]
     },
     "execution_count": 255,
     "metadata": {},
     "output_type": "execute_result"
    }
   ],
   "source": [
    "# 额外补充：举例理解column_stack\n",
    "\n",
    "# a,b代表各个模型预测结果\n",
    "a = np.array([1,2,3])\n",
    "b = np.array([4,5,6])\n",
    "# 将列排成二维数组，即将各个模型对每一个样本的预测结果分别组成一个数组，3行2列\n",
    "np.column_stack((a,b))"
   ]
  },
  {
   "cell_type": "code",
   "execution_count": 256,
   "metadata": {
    "id": "74C99F6D6D2F4F248BD3B7296F3B17A4",
    "jupyter": {},
    "scrolled": false,
    "slideshow": {
     "slide_type": "slide"
    },
    "tags": []
   },
   "outputs": [
    {
     "data": {
      "text/plain": [
       "array([2.5, 3.5, 4.5])"
      ]
     },
     "execution_count": 256,
     "metadata": {},
     "output_type": "execute_result"
    }
   ],
   "source": [
    "# 按列取平均值，即各样本预测结果的平均值，得到一维数组\n",
    "np.column_stack([a,b]).mean(axis=1)"
   ]
  },
  {
   "cell_type": "code",
   "execution_count": 257,
   "metadata": {
    "id": "1D2A1187467349B78DF849ED58420179",
    "jupyter": {},
    "scrolled": false,
    "slideshow": {
     "slide_type": "slide"
    },
    "tags": []
   },
   "outputs": [
    {
     "data": {
      "text/plain": [
       "array([[2.5],\n",
       "       [3.5],\n",
       "       [4.5]])"
      ]
     },
     "execution_count": 257,
     "metadata": {},
     "output_type": "execute_result"
    }
   ],
   "source": [
    "# 将一维数组转化为二维数组，3行1列\n",
    "np.column_stack([np.column_stack([a,b]).mean(axis=1)])"
   ]
  },
  {
   "cell_type": "markdown",
   "metadata": {
    "id": "FF086F83CF25479DB2E794D071C0AF4F",
    "jupyter": {},
    "mdEditEnable": false,
    "slideshow": {
     "slide_type": "slide"
    },
    "tags": []
   },
   "source": [
    "### 模型叠加分数"
   ]
  },
  {
   "cell_type": "code",
   "execution_count": 258,
   "metadata": {
    "id": "18D8E168B6F54A618CACF70589284FF3",
    "jupyter": {},
    "scrolled": false,
    "slideshow": {
     "slide_type": "slide"
    },
    "tags": []
   },
   "outputs": [
    {
     "name": "stdout",
     "output_type": "stream",
     "text": [
      "Stacking Averaged models score: 0.1084 (0.0073)\n"
     ]
    }
   ],
   "source": [
    "stacked_averaged_models = StackingAveragedModels(base_models=(ENet, GBoost, KRR), meta_model=lasso)\n",
    "score = nmse_cv(stacked_averaged_models)\n",
    "print('Stacking Averaged models score: {:.4f} ({:.4f})'.format(score.mean(), score.std()))\n",
    "# 结果模型叠加分数比模型平均分数更低，模型效果更好"
   ]
  },
  {
   "cell_type": "markdown",
   "metadata": {
    "id": "C56EC456D98747E79B2633796EF2D04D",
    "jupyter": {},
    "mdEditEnable": false,
    "slideshow": {
     "slide_type": "slide"
    },
    "tags": []
   },
   "source": [
    "# 模型训练与预测"
   ]
  },
  {
   "cell_type": "markdown",
   "metadata": {
    "id": "84134EABC1DF43F88E426911C3508AC5",
    "jupyter": {},
    "mdEditEnable": false,
    "slideshow": {
     "slide_type": "slide"
    },
    "tags": []
   },
   "source": [
    "## 定义评估函数"
   ]
  },
  {
   "cell_type": "code",
   "execution_count": 259,
   "metadata": {
    "id": "507018A538F0449F8C7E656998F6B0DB",
    "jupyter": {},
    "scrolled": false,
    "slideshow": {
     "slide_type": "slide"
    },
    "tags": []
   },
   "outputs": [],
   "source": [
    "# 均方差：MSE的值越小，预测模型具有更好的精确度\n",
    "def mse(y, y_pred):\n",
    "    return np.sqrt(mean_squared_error(y, y_pred))"
   ]
  },
  {
   "cell_type": "markdown",
   "metadata": {
    "id": "87A05A2AF9C34D77B341A004BA5B25C3",
    "jupyter": {},
    "mdEditEnable": false,
    "slideshow": {
     "slide_type": "slide"
    },
    "tags": []
   },
   "source": [
    "## 模型训练、预测、评估"
   ]
  },
  {
   "cell_type": "code",
   "execution_count": 261,
   "metadata": {
    "id": "F955363DFF0349EB86F15899BEF3B292",
    "jupyter": {},
    "scrolled": false,
    "slideshow": {
     "slide_type": "slide"
    },
    "tags": []
   },
   "outputs": [
    {
     "name": "stdout",
     "output_type": "stream",
     "text": [
      "0.07835268430261988\n"
     ]
    }
   ],
   "source": [
    "stacked_averaged_models.fit(train.values, y_train)\n",
    "stacked_train_pred = stacked_averaged_models.predict(train.values)\n",
    "# 前面用log1p函数转化使标签更加服从高斯分布，现用expm1将预测出的平滑数据进行还原\n",
    "stacked_pred = np.expm1(stacked_averaged_models.predict(test.values))\n",
    "print(mse(y_train, stacked_train_pred))"
   ]
  },
  {
   "cell_type": "code",
   "execution_count": 262,
   "metadata": {
    "id": "525C30818C074ED8B3E17262D9CA31B1",
    "jupyter": {},
    "scrolled": false,
    "slideshow": {
     "slide_type": "slide"
    },
    "tags": []
   },
   "outputs": [
    {
     "name": "stdout",
     "output_type": "stream",
     "text": [
      "0.0785165142425036\n"
     ]
    }
   ],
   "source": [
    "model_xgb.fit(train, y_train)\n",
    "xgb_train_pred = model_xgb.predict(train)\n",
    "xgb_pred = np.expm1(model_xgb.predict(test))\n",
    "print(mse(y_train, xgb_train_pred))"
   ]
  },
  {
   "cell_type": "code",
   "execution_count": 263,
   "metadata": {
    "id": "43D7854F0B9D4B7885ED9349D011EDC3",
    "jupyter": {},
    "scrolled": false,
    "slideshow": {
     "slide_type": "slide"
    },
    "tags": []
   },
   "outputs": [
    {
     "name": "stdout",
     "output_type": "stream",
     "text": [
      "0.07343743130986105\n"
     ]
    }
   ],
   "source": [
    "model_lgb.fit(train, y_train)\n",
    "lgb_train_pred = model_lgb.predict(train)\n",
    "lgb_pred = np.expm1(model_lgb.predict(test))\n",
    "print(mse(y_train, lgb_train_pred))"
   ]
  },
  {
   "cell_type": "code",
   "execution_count": 264,
   "metadata": {
    "id": "5C6B5DF1049243D1B536355FDFFE6DB6",
    "jupyter": {},
    "scrolled": false,
    "slideshow": {
     "slide_type": "slide"
    },
    "tags": []
   },
   "outputs": [
    {
     "name": "stdout",
     "output_type": "stream",
     "text": [
      "MSE score on train data:\n",
      "0.07558281617788487\n"
     ]
    }
   ],
   "source": [
    "# 基于交叉验证分数给出权重\n",
    "# Xgboost score:0.1161 (0.0079) \n",
    "# LGBM score:0.1167 (0.0072) \n",
    "# Stacking Averaged models score: 0.1084 (0.0073)\n",
    "print('MSE score on train data:')\n",
    "print(mse(y_train, stacked_train_pred*0.70 + xgb_train_pred*0.15 + lgb_train_pred*0.15))"
   ]
  },
  {
   "cell_type": "markdown",
   "metadata": {
    "id": "94B635B857FF469C9EAAB40A71556A0D",
    "jupyter": {},
    "mdEditEnable": false,
    "slideshow": {
     "slide_type": "slide"
    },
    "tags": []
   },
   "source": [
    "## 集成预测"
   ]
  },
  {
   "cell_type": "code",
   "execution_count": 265,
   "metadata": {
    "id": "EA0D006A0795403AB8E3A01F8CDDFBCF",
    "jupyter": {},
    "scrolled": false,
    "slideshow": {
     "slide_type": "slide"
    },
    "tags": []
   },
   "outputs": [
    {
     "data": {
      "text/plain": [
       "array([120570.39157779, 159044.24614346, 187561.78057202, ...,\n",
       "       167373.74269011, 116895.70968177, 221597.81084848])"
      ]
     },
     "execution_count": 265,
     "metadata": {},
     "output_type": "execute_result"
    }
   ],
   "source": [
    "ensemble = stacked_pred*0.70 + xgb_pred*0.15 + lgb_pred*0.15\n",
    "ensemble"
   ]
  },
  {
   "cell_type": "markdown",
   "metadata": {
    "id": "7D13209207004ADB9F281B51F0E927B4",
    "jupyter": {},
    "mdEditEnable": false,
    "slideshow": {
     "slide_type": "slide"
    },
    "tags": []
   },
   "source": [
    "## 生成结果文件"
   ]
  },
  {
   "cell_type": "code",
   "execution_count": 266,
   "metadata": {
    "id": "340C3EE343C44A8C8FCA92C7137836EB",
    "jupyter": {},
    "scrolled": false,
    "slideshow": {
     "slide_type": "slide"
    },
    "tags": []
   },
   "outputs": [],
   "source": [
    "sub = pd.DataFrame()\n",
    "sub['Id'] = test_Id\n",
    "sub['SalePrice'] = ensemble\n",
    "sub.to_csv('submit.csv', index=False)"
   ]
  }
 ],
 "metadata": {
  "kernelspec": {
   "display_name": "Python 3",
   "language": "python",
   "name": "python3"
  },
  "language_info": {
   "codemirror_mode": {
    "name": "ipython",
    "version": 3
   },
   "file_extension": ".py",
   "mimetype": "text/x-python",
   "name": "python",
   "nbconvert_exporter": "python",
   "pygments_lexer": "ipython3",
   "version": "3.8.5"
  }
 },
 "nbformat": 4,
 "nbformat_minor": 1
}
